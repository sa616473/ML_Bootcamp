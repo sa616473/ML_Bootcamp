{
 "cells": [
  {
   "cell_type": "markdown",
   "metadata": {},
   "source": [
    "<a href=\"https://www.pieriandata.com\"><img src=\"../Pierian_Data_Logo.PNG\"></a>\n",
    "<strong><center>Copyright by Pierian Data Inc.</center></strong> \n",
    "<strong><center>Created by Jose Marcial Portilla.</center></strong>"
   ]
  },
  {
   "cell_type": "markdown",
   "metadata": {},
   "source": [
    "# Tensorboard\n",
    "\n",
    "---\n",
    "---\n",
    "\n",
    "**NOTE: You must watch the corresponding video to understand this lecture. This notebook can't serve as a full guide. Please watch the video BEFORE posting questions to the QA forum.**\n",
    "\n",
    "---\n",
    "---\n",
    "\n",
    "Let's explore the built in data visualization capabilities that come with Tensorboard.\n",
    "\n",
    "Full official tutorial available here: https://www.tensorflow.org/tensorboard/get_started\n",
    "\n",
    "## Data"
   ]
  },
  {
   "cell_type": "code",
   "execution_count": 1,
   "metadata": {},
   "outputs": [],
   "source": [
    "import pandas as pd\n",
    "import numpy as np"
   ]
  },
  {
   "cell_type": "code",
   "execution_count": 2,
   "metadata": {},
   "outputs": [],
   "source": [
    "df = pd.read_csv('../DATA/cancer_classification.csv')"
   ]
  },
  {
   "cell_type": "markdown",
   "metadata": {},
   "source": [
    "### Train Test Split"
   ]
  },
  {
   "cell_type": "code",
   "execution_count": 3,
   "metadata": {},
   "outputs": [],
   "source": [
    "X = df.drop('benign_0__mal_1',axis=1).values\n",
    "y = df['benign_0__mal_1'].values"
   ]
  },
  {
   "cell_type": "code",
   "execution_count": 4,
   "metadata": {},
   "outputs": [],
   "source": [
    "from sklearn.model_selection import train_test_split"
   ]
  },
  {
   "cell_type": "code",
   "execution_count": 5,
   "metadata": {},
   "outputs": [],
   "source": [
    "X_train, X_test, y_train, y_test = train_test_split(X,y,test_size=0.25,random_state=101)"
   ]
  },
  {
   "cell_type": "markdown",
   "metadata": {},
   "source": [
    "\n",
    "### Scaling Data"
   ]
  },
  {
   "cell_type": "code",
   "execution_count": 6,
   "metadata": {},
   "outputs": [],
   "source": [
    "from sklearn.preprocessing import MinMaxScaler"
   ]
  },
  {
   "cell_type": "code",
   "execution_count": 7,
   "metadata": {},
   "outputs": [],
   "source": [
    "scaler = MinMaxScaler()"
   ]
  },
  {
   "cell_type": "code",
   "execution_count": 8,
   "metadata": {},
   "outputs": [
    {
     "data": {
      "text/plain": [
       "MinMaxScaler(copy=True, feature_range=(0, 1))"
      ]
     },
     "execution_count": 8,
     "metadata": {},
     "output_type": "execute_result"
    }
   ],
   "source": [
    "scaler.fit(X_train)"
   ]
  },
  {
   "cell_type": "code",
   "execution_count": 9,
   "metadata": {},
   "outputs": [],
   "source": [
    "X_train = scaler.transform(X_train)\n",
    "X_test = scaler.transform(X_test)"
   ]
  },
  {
   "cell_type": "markdown",
   "metadata": {},
   "source": [
    "## Creating the Model"
   ]
  },
  {
   "cell_type": "code",
   "execution_count": 10,
   "metadata": {},
   "outputs": [],
   "source": [
    "import tensorflow as tf\n",
    "from tensorflow.keras.models import Sequential\n",
    "from tensorflow.keras.layers import Dense, Activation,Dropout"
   ]
  },
  {
   "cell_type": "code",
   "execution_count": 11,
   "metadata": {},
   "outputs": [],
   "source": [
    "from tensorflow.keras.callbacks import EarlyStopping,TensorBoard"
   ]
  },
  {
   "cell_type": "code",
   "execution_count": 12,
   "metadata": {},
   "outputs": [],
   "source": [
    "early_stop = EarlyStopping(monitor='val_loss', mode='min', verbose=1, patience=25)"
   ]
  },
  {
   "cell_type": "code",
   "execution_count": 17,
   "metadata": {},
   "outputs": [
    {
     "data": {
      "text/plain": [
       "'C:\\\\Users\\\\saitejas\\\\Desktop\\\\PythonProg\\\\ML_Bootcamp\\\\machineLearning\\\\TensorFlow_FILES\\\\ANNs'"
      ]
     },
     "execution_count": 17,
     "metadata": {},
     "output_type": "execute_result"
    }
   ],
   "source": [
    "pwd"
   ]
  },
  {
   "cell_type": "code",
   "execution_count": 13,
   "metadata": {},
   "outputs": [
    {
     "name": "stdout",
     "output_type": "stream",
     "text": [
      "Requirement already satisfied: TensorBoard in c:\\users\\saitejas\\anaconda3\\lib\\site-packages (2.2.2)\n",
      "Requirement already satisfied: werkzeug>=0.11.15 in c:\\users\\saitejas\\anaconda3\\lib\\site-packages (from TensorBoard) (0.16.0)\n",
      "Requirement already satisfied: markdown>=2.6.8 in c:\\users\\saitejas\\anaconda3\\lib\\site-packages (from TensorBoard) (3.2.2)\n",
      "Requirement already satisfied: tensorboard-plugin-wit>=1.6.0 in c:\\users\\saitejas\\anaconda3\\lib\\site-packages (from TensorBoard) (1.6.0.post3)\n",
      "Requirement already satisfied: requests<3,>=2.21.0 in c:\\users\\saitejas\\anaconda3\\lib\\site-packages (from TensorBoard) (2.22.0)\n",
      "Requirement already satisfied: google-auth-oauthlib<0.5,>=0.4.1 in c:\\users\\saitejas\\anaconda3\\lib\\site-packages (from TensorBoard) (0.4.1)\n",
      "Requirement already satisfied: numpy>=1.12.0 in c:\\users\\saitejas\\anaconda3\\lib\\site-packages (from TensorBoard) (1.16.5)\n",
      "Requirement already satisfied: google-auth<2,>=1.6.3 in c:\\users\\saitejas\\anaconda3\\lib\\site-packages (from TensorBoard) (1.18.0)\n",
      "Requirement already satisfied: grpcio>=1.24.3 in c:\\users\\saitejas\\anaconda3\\lib\\site-packages (from TensorBoard) (1.30.0)\n",
      "Requirement already satisfied: absl-py>=0.4 in c:\\users\\saitejas\\anaconda3\\lib\\site-packages (from TensorBoard) (0.9.0)\n",
      "Requirement already satisfied: setuptools>=41.0.0 in c:\\users\\saitejas\\anaconda3\\lib\\site-packages (from TensorBoard) (41.4.0)\n",
      "Requirement already satisfied: wheel>=0.26; python_version >= \"3\" in c:\\users\\saitejas\\anaconda3\\lib\\site-packages (from TensorBoard) (0.33.6)\n",
      "Requirement already satisfied: six>=1.10.0 in c:\\users\\saitejas\\anaconda3\\lib\\site-packages (from TensorBoard) (1.12.0)\n",
      "Requirement already satisfied: protobuf>=3.6.0 in c:\\users\\saitejas\\anaconda3\\lib\\site-packages (from TensorBoard) (3.12.2)\n",
      "Requirement already satisfied: importlib-metadata; python_version < \"3.8\" in c:\\users\\saitejas\\anaconda3\\lib\\site-packages (from markdown>=2.6.8->TensorBoard) (0.23)\n",
      "Requirement already satisfied: chardet<3.1.0,>=3.0.2 in c:\\users\\saitejas\\anaconda3\\lib\\site-packages (from requests<3,>=2.21.0->TensorBoard) (3.0.4)\n",
      "Requirement already satisfied: idna<2.9,>=2.5 in c:\\users\\saitejas\\anaconda3\\lib\\site-packages (from requests<3,>=2.21.0->TensorBoard) (2.8)\n",
      "Requirement already satisfied: urllib3!=1.25.0,!=1.25.1,<1.26,>=1.21.1 in c:\\users\\saitejas\\anaconda3\\lib\\site-packages (from requests<3,>=2.21.0->TensorBoard) (1.24.2)\n",
      "Requirement already satisfied: certifi>=2017.4.17 in c:\\users\\saitejas\\anaconda3\\lib\\site-packages (from requests<3,>=2.21.0->TensorBoard) (2019.9.11)\n",
      "Requirement already satisfied: requests-oauthlib>=0.7.0 in c:\\users\\saitejas\\anaconda3\\lib\\site-packages (from google-auth-oauthlib<0.5,>=0.4.1->TensorBoard) (1.3.0)\n",
      "Requirement already satisfied: rsa<5,>=3.1.4; python_version >= \"3\" in c:\\users\\saitejas\\anaconda3\\lib\\site-packages (from google-auth<2,>=1.6.3->TensorBoard) (4.6)\n",
      "Requirement already satisfied: pyasn1-modules>=0.2.1 in c:\\users\\saitejas\\anaconda3\\lib\\site-packages (from google-auth<2,>=1.6.3->TensorBoard) (0.2.8)\n",
      "Requirement already satisfied: cachetools<5.0,>=2.0.0 in c:\\users\\saitejas\\anaconda3\\lib\\site-packages (from google-auth<2,>=1.6.3->TensorBoard) (4.1.0)\n",
      "Requirement already satisfied: zipp>=0.5 in c:\\users\\saitejas\\anaconda3\\lib\\site-packages (from importlib-metadata; python_version < \"3.8\"->markdown>=2.6.8->TensorBoard) (0.6.0)\n",
      "Requirement already satisfied: oauthlib>=3.0.0 in c:\\users\\saitejas\\anaconda3\\lib\\site-packages (from requests-oauthlib>=0.7.0->google-auth-oauthlib<0.5,>=0.4.1->TensorBoard) (3.1.0)\n",
      "Requirement already satisfied: pyasn1>=0.1.3 in c:\\users\\saitejas\\anaconda3\\lib\\site-packages (from rsa<5,>=3.1.4; python_version >= \"3\"->google-auth<2,>=1.6.3->TensorBoard) (0.4.8)\n",
      "Requirement already satisfied: more-itertools in c:\\users\\saitejas\\anaconda3\\lib\\site-packages (from zipp>=0.5->importlib-metadata; python_version < \"3.8\"->markdown>=2.6.8->TensorBoard) (7.2.0)\n"
     ]
    }
   ],
   "source": [
    "!pip install TensorBoard"
   ]
  },
  {
   "cell_type": "markdown",
   "metadata": {},
   "source": [
    "## Creating the Tensorboard Callback\n",
    "\n",
    "TensorBoard is a visualization tool provided with TensorFlow.\n",
    "\n",
    "This callback logs events for TensorBoard, including:\n",
    "* Metrics summary plots\n",
    "* Training graph visualization\n",
    "* Activation histograms\n",
    "* Sampled profiling\n",
    "\n",
    "If you have installed TensorFlow with pip, you should be able\n",
    "to launch TensorBoard from the command line:\n",
    "\n",
    "```sh\n",
    "tensorboard --logdir=path_to_your_logs\n",
    "```\n",
    "\n",
    "You can find more information about TensorBoard\n",
    "[here](https://www.tensorflow.org/tensorboard/).\n",
    "\n",
    "    Arguments:\n",
    "        log_dir: the path of the directory where to save the log files to be\n",
    "          parsed by TensorBoard.\n",
    "        histogram_freq: frequency (in epochs) at which to compute activation and\n",
    "          weight histograms for the layers of the model. If set to 0, histograms\n",
    "          won't be computed. Validation data (or split) must be specified for\n",
    "          histogram visualizations.\n",
    "        write_graph: whether to visualize the graph in TensorBoard. The log file\n",
    "          can become quite large when write_graph is set to True.\n",
    "        write_images: whether to write model weights to visualize as image in\n",
    "          TensorBoard.\n",
    "        update_freq: `'batch'` or `'epoch'` or integer. When using `'batch'`,\n",
    "          writes the losses and metrics to TensorBoard after each batch. The same\n",
    "          applies for `'epoch'`. If using an integer, let's say `1000`, the\n",
    "          callback will write the metrics and losses to TensorBoard every 1000\n",
    "          samples. Note that writing too frequently to TensorBoard can slow down\n",
    "          your training.\n",
    "        profile_batch: Profile the batch to sample compute characteristics. By\n",
    "          default, it will profile the second batch. Set profile_batch=0 to\n",
    "          disable profiling. Must run in TensorFlow eager mode.\n",
    "        embeddings_freq: frequency (in epochs) at which embedding layers will\n",
    "          be visualized. If set to 0, embeddings won't be visualized.\n",
    "       "
   ]
  },
  {
   "cell_type": "code",
   "execution_count": 14,
   "metadata": {},
   "outputs": [],
   "source": [
    "from datetime import datetime"
   ]
  },
  {
   "cell_type": "code",
   "execution_count": 15,
   "metadata": {},
   "outputs": [
    {
     "data": {
      "text/plain": [
       "'2020-07-01--1147'"
      ]
     },
     "execution_count": 15,
     "metadata": {},
     "output_type": "execute_result"
    }
   ],
   "source": [
    "datetime.now().strftime(\"%Y-%m-%d--%H%M\")"
   ]
  },
  {
   "cell_type": "code",
   "execution_count": 16,
   "metadata": {},
   "outputs": [],
   "source": [
    "# WINDOWS: Use \"logs\\\\fit\"\n",
    "# MACOS/LINUX: Use \"logs\\fit\"\n",
    "\n",
    "log_directory = 'logs\\\\fit'\n",
    "\n",
    "# OPTIONAL: ADD A TIMESTAMP FOR UNIQUE FOLDER\n",
    "# timestamp = datetime.now().strftime(\"%Y-%m-%d--%H%M\")\n",
    "# log_directory = log_directory + '\\\\' + timestamp\n",
    "\n",
    "\n",
    "board = TensorBoard(log_dir=log_directory,histogram_freq=1,\n",
    "    write_graph=True,\n",
    "    write_images=True,\n",
    "    update_freq='epoch',\n",
    "    profile_batch=2,\n",
    "    embeddings_freq=1)"
   ]
  },
  {
   "cell_type": "markdown",
   "metadata": {},
   "source": [
    "Now create the model layers:"
   ]
  },
  {
   "cell_type": "code",
   "execution_count": 18,
   "metadata": {},
   "outputs": [],
   "source": [
    "model = Sequential()\n",
    "model.add(Dense(units=30,activation='relu'))\n",
    "model.add(Dropout(0.5))\n",
    "model.add(Dense(units=15,activation='relu'))\n",
    "model.add(Dropout(0.5))\n",
    "model.add(Dense(units=1,activation='sigmoid'))\n",
    "model.compile(loss='binary_crossentropy', optimizer='adam')"
   ]
  },
  {
   "cell_type": "markdown",
   "metadata": {},
   "source": [
    "## Train the Model"
   ]
  },
  {
   "cell_type": "code",
   "execution_count": 19,
   "metadata": {},
   "outputs": [
    {
     "name": "stdout",
     "output_type": "stream",
     "text": [
      "Epoch 1/600\n",
      " 2/14 [===>..........................] - ETA: 4s - loss: 0.7122WARNING:tensorflow:Method (on_train_batch_end) is slow compared to the batch update (0.364890). Check your callbacks.\n",
      "14/14 [==============================] - 2s 137ms/step - loss: 0.7024 - val_loss: 0.6876\n",
      "Epoch 2/600\n",
      "14/14 [==============================] - 1s 41ms/step - loss: 0.6954 - val_loss: 0.6748\n",
      "Epoch 3/600\n",
      "14/14 [==============================] - 0s 31ms/step - loss: 0.6742 - val_loss: 0.6588\n",
      "Epoch 4/600\n",
      "14/14 [==============================] - 0s 28ms/step - loss: 0.6646 - val_loss: 0.6476\n",
      "Epoch 5/600\n",
      "14/14 [==============================] - 0s 34ms/step - loss: 0.6322 - val_loss: 0.6325\n",
      "Epoch 6/600\n",
      "14/14 [==============================] - 0s 31ms/step - loss: 0.6339 - val_loss: 0.6135\n",
      "Epoch 7/600\n",
      "14/14 [==============================] - 1s 45ms/step - loss: 0.6127 - val_loss: 0.5909\n",
      "Epoch 8/600\n",
      "14/14 [==============================] - 1s 46ms/step - loss: 0.5822 - val_loss: 0.5611\n",
      "Epoch 9/600\n",
      "14/14 [==============================] - 1s 41ms/step - loss: 0.5833 - val_loss: 0.5322\n",
      "Epoch 10/600\n",
      "14/14 [==============================] - 0s 33ms/step - loss: 0.5552 - val_loss: 0.4997\n",
      "Epoch 11/600\n",
      "14/14 [==============================] - 0s 34ms/step - loss: 0.5262 - val_loss: 0.4712\n",
      "Epoch 12/600\n",
      "14/14 [==============================] - 0s 25ms/step - loss: 0.4917 - val_loss: 0.4352\n",
      "Epoch 13/600\n",
      "14/14 [==============================] - 0s 30ms/step - loss: 0.5073 - val_loss: 0.4088\n",
      "Epoch 14/600\n",
      "14/14 [==============================] - 1s 47ms/step - loss: 0.4556 - val_loss: 0.3812\n",
      "Epoch 15/600\n",
      "14/14 [==============================] - 1s 37ms/step - loss: 0.4249 - val_loss: 0.3540\n",
      "Epoch 16/600\n",
      "14/14 [==============================] - 1s 37ms/step - loss: 0.4274 - val_loss: 0.3260\n",
      "Epoch 17/600\n",
      "14/14 [==============================] - 0s 25ms/step - loss: 0.4073 - val_loss: 0.3137\n",
      "Epoch 18/600\n",
      "14/14 [==============================] - 0s 31ms/step - loss: 0.3728 - val_loss: 0.2949\n",
      "Epoch 19/600\n",
      "14/14 [==============================] - 1s 42ms/step - loss: 0.3782 - val_loss: 0.2699\n",
      "Epoch 20/600\n",
      "14/14 [==============================] - 0s 31ms/step - loss: 0.3655 - val_loss: 0.2571\n",
      "Epoch 21/600\n",
      "14/14 [==============================] - 1s 36ms/step - loss: 0.3424 - val_loss: 0.2463\n",
      "Epoch 22/600\n",
      "14/14 [==============================] - 1s 44ms/step - loss: 0.3137 - val_loss: 0.2366\n",
      "Epoch 23/600\n",
      "14/14 [==============================] - 1s 39ms/step - loss: 0.3153 - val_loss: 0.2300\n",
      "Epoch 24/600\n",
      "14/14 [==============================] - 0s 27ms/step - loss: 0.2897 - val_loss: 0.2151\n",
      "Epoch 25/600\n",
      "14/14 [==============================] - 1s 44ms/step - loss: 0.2977 - val_loss: 0.2000\n",
      "Epoch 26/600\n",
      "14/14 [==============================] - 0s 29ms/step - loss: 0.2926 - val_loss: 0.2073\n",
      "Epoch 27/600\n",
      "14/14 [==============================] - 0s 27ms/step - loss: 0.2764 - val_loss: 0.1962\n",
      "Epoch 28/600\n",
      "14/14 [==============================] - 1s 37ms/step - loss: 0.2697 - val_loss: 0.1818\n",
      "Epoch 29/600\n",
      "14/14 [==============================] - 1s 39ms/step - loss: 0.2884 - val_loss: 0.1775\n",
      "Epoch 30/600\n",
      "14/14 [==============================] - 0s 31ms/step - loss: 0.2394 - val_loss: 0.1735\n",
      "Epoch 31/600\n",
      "14/14 [==============================] - 0s 32ms/step - loss: 0.2499 - val_loss: 0.1638\n",
      "Epoch 32/600\n",
      "14/14 [==============================] - 0s 30ms/step - loss: 0.2578 - val_loss: 0.1585\n",
      "Epoch 33/600\n",
      "14/14 [==============================] - 0s 27ms/step - loss: 0.2490 - val_loss: 0.1541\n",
      "Epoch 34/600\n",
      "14/14 [==============================] - 0s 21ms/step - loss: 0.2440 - val_loss: 0.1535\n",
      "Epoch 35/600\n",
      "14/14 [==============================] - 1s 39ms/step - loss: 0.2213 - val_loss: 0.1501\n",
      "Epoch 36/600\n",
      "14/14 [==============================] - 0s 28ms/step - loss: 0.2164 - val_loss: 0.1413\n",
      "Epoch 37/600\n",
      "14/14 [==============================] - 0s 30ms/step - loss: 0.2029 - val_loss: 0.1394\n",
      "Epoch 38/600\n",
      "14/14 [==============================] - 0s 31ms/step - loss: 0.2091 - val_loss: 0.1344\n",
      "Epoch 39/600\n",
      "14/14 [==============================] - 0s 23ms/step - loss: 0.2110 - val_loss: 0.1278\n",
      "Epoch 40/600\n",
      "14/14 [==============================] - 0s 33ms/step - loss: 0.2091 - val_loss: 0.1332\n",
      "Epoch 41/600\n",
      "14/14 [==============================] - 0s 25ms/step - loss: 0.1961 - val_loss: 0.1306\n",
      "Epoch 42/600\n",
      "14/14 [==============================] - 1s 42ms/step - loss: 0.1804 - val_loss: 0.1203\n",
      "Epoch 43/600\n",
      "14/14 [==============================] - 0s 33ms/step - loss: 0.1955 - val_loss: 0.1205\n",
      "Epoch 44/600\n",
      "14/14 [==============================] - 1s 39ms/step - loss: 0.1823 - val_loss: 0.1182\n",
      "Epoch 45/600\n",
      "14/14 [==============================] - 0s 29ms/step - loss: 0.1924 - val_loss: 0.1194\n",
      "Epoch 46/600\n",
      "14/14 [==============================] - 0s 24ms/step - loss: 0.1782 - val_loss: 0.1113\n",
      "Epoch 47/600\n",
      "14/14 [==============================] - 1s 38ms/step - loss: 0.1824 - val_loss: 0.1198\n",
      "Epoch 48/600\n",
      "14/14 [==============================] - 0s 24ms/step - loss: 0.1898 - val_loss: 0.1123\n",
      "Epoch 49/600\n",
      "14/14 [==============================] - 0s 25ms/step - loss: 0.1798 - val_loss: 0.1156\n",
      "Epoch 50/600\n",
      "14/14 [==============================] - 0s 26ms/step - loss: 0.1618 - val_loss: 0.1045\n",
      "Epoch 51/600\n",
      "14/14 [==============================] - 0s 30ms/step - loss: 0.1540 - val_loss: 0.1115\n",
      "Epoch 52/600\n",
      "14/14 [==============================] - 0s 31ms/step - loss: 0.1777 - val_loss: 0.1055\n",
      "Epoch 53/600\n",
      "14/14 [==============================] - 0s 26ms/step - loss: 0.1759 - val_loss: 0.1042\n",
      "Epoch 54/600\n",
      "14/14 [==============================] - 0s 34ms/step - loss: 0.1771 - val_loss: 0.1169\n",
      "Epoch 55/600\n",
      "14/14 [==============================] - 1s 40ms/step - loss: 0.1646 - val_loss: 0.1014\n",
      "Epoch 56/600\n",
      "14/14 [==============================] - 0s 26ms/step - loss: 0.1539 - val_loss: 0.1147\n",
      "Epoch 57/600\n",
      "14/14 [==============================] - 1s 36ms/step - loss: 0.1577 - val_loss: 0.1036\n",
      "Epoch 58/600\n",
      "14/14 [==============================] - 1s 40ms/step - loss: 0.1533 - val_loss: 0.1102\n",
      "Epoch 59/600\n",
      "14/14 [==============================] - 1s 39ms/step - loss: 0.1576 - val_loss: 0.0962\n",
      "Epoch 60/600\n",
      "14/14 [==============================] - 0s 35ms/step - loss: 0.1588 - val_loss: 0.0944\n",
      "Epoch 61/600\n",
      "14/14 [==============================] - 0s 26ms/step - loss: 0.1372 - val_loss: 0.1003\n",
      "Epoch 62/600\n",
      "14/14 [==============================] - 0s 26ms/step - loss: 0.1430 - val_loss: 0.1029\n",
      "Epoch 63/600\n",
      "14/14 [==============================] - 0s 27ms/step - loss: 0.1566 - val_loss: 0.1034\n",
      "Epoch 64/600\n",
      "14/14 [==============================] - 0s 28ms/step - loss: 0.1372 - val_loss: 0.0954\n",
      "Epoch 65/600\n",
      "14/14 [==============================] - 0s 27ms/step - loss: 0.1322 - val_loss: 0.0967\n",
      "Epoch 66/600\n",
      "14/14 [==============================] - 0s 33ms/step - loss: 0.1494 - val_loss: 0.0933\n",
      "Epoch 67/600\n",
      "14/14 [==============================] - 0s 24ms/step - loss: 0.1455 - val_loss: 0.0923\n",
      "Epoch 68/600\n",
      "14/14 [==============================] - 0s 27ms/step - loss: 0.1458 - val_loss: 0.1007\n",
      "Epoch 69/600\n",
      "14/14 [==============================] - 0s 33ms/step - loss: 0.1301 - val_loss: 0.0975\n",
      "Epoch 70/600\n",
      "14/14 [==============================] - 0s 21ms/step - loss: 0.1332 - val_loss: 0.0879\n",
      "Epoch 71/600\n",
      "14/14 [==============================] - 0s 28ms/step - loss: 0.1318 - val_loss: 0.0918\n",
      "Epoch 72/600\n",
      "14/14 [==============================] - 0s 29ms/step - loss: 0.1280 - val_loss: 0.1073\n",
      "Epoch 73/600\n",
      "14/14 [==============================] - 0s 30ms/step - loss: 0.1224 - val_loss: 0.0968\n",
      "Epoch 74/600\n",
      "14/14 [==============================] - 0s 35ms/step - loss: 0.1380 - val_loss: 0.0854\n",
      "Epoch 75/600\n",
      "14/14 [==============================] - 0s 35ms/step - loss: 0.1127 - val_loss: 0.0875\n",
      "Epoch 76/600\n",
      "14/14 [==============================] - 1s 39ms/step - loss: 0.1174 - val_loss: 0.0885\n",
      "Epoch 77/600\n",
      "14/14 [==============================] - 0s 32ms/step - loss: 0.1155 - val_loss: 0.0873\n",
      "Epoch 78/600\n",
      "14/14 [==============================] - 0s 24ms/step - loss: 0.1111 - val_loss: 0.0808\n",
      "Epoch 79/600\n",
      "14/14 [==============================] - 0s 26ms/step - loss: 0.1001 - val_loss: 0.0935\n",
      "Epoch 80/600\n"
     ]
    },
    {
     "name": "stdout",
     "output_type": "stream",
     "text": [
      "14/14 [==============================] - 0s 30ms/step - loss: 0.1253 - val_loss: 0.0918\n",
      "Epoch 81/600\n",
      "14/14 [==============================] - 1s 84ms/step - loss: 0.1256 - val_loss: 0.0870\n",
      "Epoch 82/600\n",
      "14/14 [==============================] - 0s 28ms/step - loss: 0.1105 - val_loss: 0.0980\n",
      "Epoch 83/600\n",
      "14/14 [==============================] - 0s 34ms/step - loss: 0.1167 - val_loss: 0.0913\n",
      "Epoch 84/600\n",
      "14/14 [==============================] - 0s 31ms/step - loss: 0.1143 - val_loss: 0.0815\n",
      "Epoch 85/600\n",
      "14/14 [==============================] - 0s 27ms/step - loss: 0.1070 - val_loss: 0.0971\n",
      "Epoch 86/600\n",
      "14/14 [==============================] - 0s 30ms/step - loss: 0.1206 - val_loss: 0.0846\n",
      "Epoch 87/600\n",
      "14/14 [==============================] - 0s 26ms/step - loss: 0.1061 - val_loss: 0.0823\n",
      "Epoch 88/600\n",
      "14/14 [==============================] - 1s 42ms/step - loss: 0.1100 - val_loss: 0.0813\n",
      "Epoch 89/600\n",
      "14/14 [==============================] - 1s 67ms/step - loss: 0.1052 - val_loss: 0.0803\n",
      "Epoch 90/600\n",
      "14/14 [==============================] - 1s 76ms/step - loss: 0.1143 - val_loss: 0.0925\n",
      "Epoch 91/600\n",
      "14/14 [==============================] - 0s 28ms/step - loss: 0.1166 - val_loss: 0.0821\n",
      "Epoch 92/600\n",
      "14/14 [==============================] - 0s 28ms/step - loss: 0.1135 - val_loss: 0.0838\n",
      "Epoch 93/600\n",
      "14/14 [==============================] - 0s 25ms/step - loss: 0.1245 - val_loss: 0.0800\n",
      "Epoch 94/600\n",
      "14/14 [==============================] - 0s 26ms/step - loss: 0.1125 - val_loss: 0.0831\n",
      "Epoch 95/600\n",
      "14/14 [==============================] - 0s 31ms/step - loss: 0.1157 - val_loss: 0.0861\n",
      "Epoch 96/600\n",
      "14/14 [==============================] - 0s 35ms/step - loss: 0.0959 - val_loss: 0.0840\n",
      "Epoch 97/600\n",
      "14/14 [==============================] - 0s 30ms/step - loss: 0.1104 - val_loss: 0.0817\n",
      "Epoch 98/600\n",
      "14/14 [==============================] - 0s 32ms/step - loss: 0.1142 - val_loss: 0.0869\n",
      "Epoch 99/600\n",
      "14/14 [==============================] - 0s 28ms/step - loss: 0.0896 - val_loss: 0.0879\n",
      "Epoch 100/600\n",
      "14/14 [==============================] - 0s 28ms/step - loss: 0.1065 - val_loss: 0.0834\n",
      "Epoch 101/600\n",
      "14/14 [==============================] - 0s 27ms/step - loss: 0.1048 - val_loss: 0.0958\n",
      "Epoch 102/600\n",
      "14/14 [==============================] - 0s 25ms/step - loss: 0.0840 - val_loss: 0.0807\n",
      "Epoch 103/600\n",
      "14/14 [==============================] - 0s 25ms/step - loss: 0.1143 - val_loss: 0.0741\n",
      "Epoch 104/600\n",
      "14/14 [==============================] - 0s 29ms/step - loss: 0.0981 - val_loss: 0.0881\n",
      "Epoch 105/600\n",
      "14/14 [==============================] - 0s 32ms/step - loss: 0.0963 - val_loss: 0.0837\n",
      "Epoch 106/600\n",
      "14/14 [==============================] - 1s 42ms/step - loss: 0.0873 - val_loss: 0.0754\n",
      "Epoch 107/600\n",
      "14/14 [==============================] - 0s 28ms/step - loss: 0.0706 - val_loss: 0.1016\n",
      "Epoch 108/600\n",
      "14/14 [==============================] - 0s 25ms/step - loss: 0.1048 - val_loss: 0.0746\n",
      "Epoch 109/600\n",
      "14/14 [==============================] - 0s 29ms/step - loss: 0.0864 - val_loss: 0.0781\n",
      "Epoch 110/600\n",
      "14/14 [==============================] - 1s 68ms/step - loss: 0.1147 - val_loss: 0.1040\n",
      "Epoch 111/600\n",
      "14/14 [==============================] - 0s 28ms/step - loss: 0.1093 - val_loss: 0.0737\n",
      "Epoch 112/600\n",
      "14/14 [==============================] - 0s 33ms/step - loss: 0.0911 - val_loss: 0.0960\n",
      "Epoch 113/600\n",
      "14/14 [==============================] - 0s 29ms/step - loss: 0.1007 - val_loss: 0.1046\n",
      "Epoch 114/600\n",
      "14/14 [==============================] - 0s 33ms/step - loss: 0.0887 - val_loss: 0.0833\n",
      "Epoch 115/600\n",
      "14/14 [==============================] - 0s 31ms/step - loss: 0.0925 - val_loss: 0.0787\n",
      "Epoch 116/600\n",
      "14/14 [==============================] - 0s 25ms/step - loss: 0.1085 - val_loss: 0.0754\n",
      "Epoch 117/600\n",
      "14/14 [==============================] - 0s 21ms/step - loss: 0.0989 - val_loss: 0.0950\n",
      "Epoch 118/600\n",
      "14/14 [==============================] - 0s 22ms/step - loss: 0.0890 - val_loss: 0.0848\n",
      "Epoch 119/600\n",
      "14/14 [==============================] - 0s 30ms/step - loss: 0.0989 - val_loss: 0.0745\n",
      "Epoch 120/600\n",
      "14/14 [==============================] - 0s 22ms/step - loss: 0.0840 - val_loss: 0.0804\n",
      "Epoch 121/600\n",
      "14/14 [==============================] - 1s 43ms/step - loss: 0.0945 - val_loss: 0.0904\n",
      "Epoch 122/600\n",
      "14/14 [==============================] - 0s 33ms/step - loss: 0.0844 - val_loss: 0.0817\n",
      "Epoch 123/600\n",
      "14/14 [==============================] - 0s 28ms/step - loss: 0.1034 - val_loss: 0.1110\n",
      "Epoch 124/600\n",
      "14/14 [==============================] - 0s 26ms/step - loss: 0.0963 - val_loss: 0.0886\n",
      "Epoch 125/600\n",
      "14/14 [==============================] - 0s 26ms/step - loss: 0.0873 - val_loss: 0.0831\n",
      "Epoch 126/600\n",
      "14/14 [==============================] - 0s 21ms/step - loss: 0.0878 - val_loss: 0.0894\n",
      "Epoch 127/600\n",
      "14/14 [==============================] - 0s 23ms/step - loss: 0.0954 - val_loss: 0.0765\n",
      "Epoch 128/600\n",
      "14/14 [==============================] - 0s 24ms/step - loss: 0.0903 - val_loss: 0.0816\n",
      "Epoch 129/600\n",
      "14/14 [==============================] - 0s 30ms/step - loss: 0.0786 - val_loss: 0.0806\n",
      "Epoch 130/600\n",
      "14/14 [==============================] - 0s 33ms/step - loss: 0.0791 - val_loss: 0.0858\n",
      "Epoch 131/600\n",
      "14/14 [==============================] - 1s 40ms/step - loss: 0.0983 - val_loss: 0.0784\n",
      "Epoch 132/600\n",
      "14/14 [==============================] - 1s 46ms/step - loss: 0.0777 - val_loss: 0.0931\n",
      "Epoch 133/600\n",
      "14/14 [==============================] - 1s 41ms/step - loss: 0.0779 - val_loss: 0.0769\n",
      "Epoch 134/600\n",
      "14/14 [==============================] - 0s 31ms/step - loss: 0.0852 - val_loss: 0.0760\n",
      "Epoch 135/600\n",
      "14/14 [==============================] - 0s 26ms/step - loss: 0.0738 - val_loss: 0.0702\n",
      "Epoch 136/600\n",
      "14/14 [==============================] - 0s 32ms/step - loss: 0.0811 - val_loss: 0.0727\n",
      "Epoch 137/600\n",
      "14/14 [==============================] - 0s 27ms/step - loss: 0.1044 - val_loss: 0.0882\n",
      "Epoch 138/600\n",
      "14/14 [==============================] - 1s 37ms/step - loss: 0.0943 - val_loss: 0.1092\n",
      "Epoch 139/600\n",
      "14/14 [==============================] - 0s 27ms/step - loss: 0.0817 - val_loss: 0.0718\n",
      "Epoch 140/600\n",
      "14/14 [==============================] - 0s 33ms/step - loss: 0.0797 - val_loss: 0.0874\n",
      "Epoch 141/600\n",
      "14/14 [==============================] - 1s 41ms/step - loss: 0.0856 - val_loss: 0.1059\n",
      "Epoch 142/600\n",
      "14/14 [==============================] - 0s 32ms/step - loss: 0.0765 - val_loss: 0.0791\n",
      "Epoch 143/600\n",
      "14/14 [==============================] - 0s 25ms/step - loss: 0.0808 - val_loss: 0.0880\n",
      "Epoch 144/600\n",
      "14/14 [==============================] - 0s 33ms/step - loss: 0.0903 - val_loss: 0.0817\n",
      "Epoch 145/600\n",
      "14/14 [==============================] - 0s 27ms/step - loss: 0.0700 - val_loss: 0.0908\n",
      "Epoch 146/600\n",
      "14/14 [==============================] - 0s 26ms/step - loss: 0.0886 - val_loss: 0.0826\n",
      "Epoch 147/600\n",
      "14/14 [==============================] - 1s 37ms/step - loss: 0.0935 - val_loss: 0.1013\n",
      "Epoch 148/600\n",
      "14/14 [==============================] - 0s 25ms/step - loss: 0.0636 - val_loss: 0.0862\n",
      "Epoch 149/600\n",
      "14/14 [==============================] - 0s 27ms/step - loss: 0.0857 - val_loss: 0.0771\n",
      "Epoch 150/600\n",
      "14/14 [==============================] - 0s 24ms/step - loss: 0.0695 - val_loss: 0.0817\n",
      "Epoch 151/600\n",
      "14/14 [==============================] - 0s 24ms/step - loss: 0.0832 - val_loss: 0.0763\n",
      "Epoch 152/600\n",
      "14/14 [==============================] - 0s 22ms/step - loss: 0.0824 - val_loss: 0.0773\n",
      "Epoch 153/600\n",
      "14/14 [==============================] - 0s 25ms/step - loss: 0.0792 - val_loss: 0.1088\n",
      "Epoch 154/600\n",
      "14/14 [==============================] - 0s 22ms/step - loss: 0.0949 - val_loss: 0.0725\n",
      "Epoch 155/600\n",
      "14/14 [==============================] - 0s 35ms/step - loss: 0.0744 - val_loss: 0.0879\n",
      "Epoch 156/600\n",
      "14/14 [==============================] - 0s 32ms/step - loss: 0.0809 - val_loss: 0.0785\n",
      "Epoch 157/600\n",
      "14/14 [==============================] - 0s 27ms/step - loss: 0.0746 - val_loss: 0.0874\n",
      "Epoch 158/600\n",
      "14/14 [==============================] - 0s 34ms/step - loss: 0.0826 - val_loss: 0.0824\n",
      "Epoch 159/600\n",
      "14/14 [==============================] - 0s 28ms/step - loss: 0.0759 - val_loss: 0.0857\n",
      "Epoch 160/600\n"
     ]
    },
    {
     "name": "stdout",
     "output_type": "stream",
     "text": [
      "14/14 [==============================] - 0s 26ms/step - loss: 0.0828 - val_loss: 0.0806\n",
      "Epoch 00160: early stopping\n"
     ]
    },
    {
     "data": {
      "text/plain": [
       "<tensorflow.python.keras.callbacks.History at 0x1b30772a988>"
      ]
     },
     "execution_count": 19,
     "metadata": {},
     "output_type": "execute_result"
    }
   ],
   "source": [
    "model.fit(x=X_train, \n",
    "          y=y_train, \n",
    "          epochs=600,\n",
    "          validation_data=(X_test, y_test), verbose=1,\n",
    "          callbacks=[early_stop,board]\n",
    "          )"
   ]
  },
  {
   "cell_type": "markdown",
   "metadata": {},
   "source": [
    "# Running Tensorboard\n"
   ]
  },
  {
   "cell_type": "markdown",
   "metadata": {},
   "source": [
    "## Running through the Command Line\n",
    "\n",
    "**Watch video to see how to run Tensorboard through a command line call.**"
   ]
  },
  {
   "cell_type": "markdown",
   "metadata": {},
   "source": [
    "Tensorboard will run locally in your browser at [http://localhost:6006/](http://localhost:6006/)\n"
   ]
  },
  {
   "cell_type": "code",
   "execution_count": 20,
   "metadata": {},
   "outputs": [
    {
     "name": "stdout",
     "output_type": "stream",
     "text": [
      "logs\\fit\n"
     ]
    }
   ],
   "source": [
    "print(log_directory)"
   ]
  },
  {
   "cell_type": "code",
   "execution_count": 21,
   "metadata": {},
   "outputs": [
    {
     "data": {
      "text/plain": [
       "'C:\\\\Users\\\\saitejas\\\\Desktop\\\\PythonProg\\\\ML_Bootcamp\\\\machineLearning\\\\TensorFlow_FILES\\\\ANNs'"
      ]
     },
     "execution_count": 21,
     "metadata": {},
     "output_type": "execute_result"
    }
   ],
   "source": [
    "pwd"
   ]
  },
  {
   "cell_type": "markdown",
   "metadata": {},
   "source": [
    "### Use cd at your command line to change directory to the file path reported back by pwd or your current .py file location.\n",
    "### Then run this code at your command line or terminal"
   ]
  },
  {
   "cell_type": "code",
   "execution_count": null,
   "metadata": {},
   "outputs": [],
   "source": [
    "!tensorboard --logdir logs\\fit "
   ]
  },
  {
   "cell_type": "code",
   "execution_count": null,
   "metadata": {},
   "outputs": [],
   "source": []
  }
 ],
 "metadata": {
  "kernelspec": {
   "display_name": "Python 3",
   "language": "python",
   "name": "python3"
  },
  "language_info": {
   "codemirror_mode": {
    "name": "ipython",
    "version": 3
   },
   "file_extension": ".py",
   "mimetype": "text/x-python",
   "name": "python",
   "nbconvert_exporter": "python",
   "pygments_lexer": "ipython3",
   "version": "3.7.4"
  }
 },
 "nbformat": 4,
 "nbformat_minor": 2
}
