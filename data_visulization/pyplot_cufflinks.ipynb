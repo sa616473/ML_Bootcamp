{
 "cells": [
  {
   "cell_type": "code",
   "execution_count": 12,
   "metadata": {
    "colab": {
     "base_uri": "https://localhost:8080/",
     "height": 92
    },
    "colab_type": "code",
    "id": "ACUkfNag_A8P",
    "outputId": "e4a19554-e9e7-4749-e457-bc37b2413d6e"
   },
   "outputs": [
    {
     "name": "stdout",
     "output_type": "stream",
     "text": [
      "Requirement already satisfied: plotly in c:\\users\\saitejas\\anaconda3\\lib\\site-packages (4.8.1)\n",
      "Requirement already satisfied: six in c:\\users\\saitejas\\anaconda3\\lib\\site-packages (from plotly) (1.12.0)\n",
      "Requirement already satisfied: retrying>=1.3.3 in c:\\users\\saitejas\\anaconda3\\lib\\site-packages (from plotly) (1.3.3)\n"
     ]
    }
   ],
   "source": [
    "import pandas as pd\n",
    "import numpy as np\n",
    "!pip install plotly"
   ]
  },
  {
   "cell_type": "code",
   "execution_count": 13,
   "metadata": {
    "colab": {
     "base_uri": "https://localhost:8080/",
     "height": 35
    },
    "colab_type": "code",
    "id": "I3TB4rUe_u6V",
    "outputId": "fd9921e2-33a3-4972-9f6b-36a1e2998e83"
   },
   "outputs": [
    {
     "name": "stdout",
     "output_type": "stream",
     "text": [
      "4.8.1\n"
     ]
    }
   ],
   "source": [
    "from plotly import __version__\n",
    "print (__version__)"
   ]
  },
  {
   "cell_type": "code",
   "execution_count": 14,
   "metadata": {
    "colab": {},
    "colab_type": "code",
    "id": "VG-f5epB_2TY"
   },
   "outputs": [
    {
     "name": "stdout",
     "output_type": "stream",
     "text": [
      "Collecting cufflinks\n",
      "  Downloading https://files.pythonhosted.org/packages/1a/18/4d32edaaf31ba4af9745dac676c4a28c48d3fc539000c29e855bd8db3b86/cufflinks-0.17.3.tar.gz (81kB)\n",
      "Requirement already satisfied: numpy>=1.9.2 in c:\\users\\saitejas\\anaconda3\\lib\\site-packages (from cufflinks) (1.16.5)\n",
      "Requirement already satisfied: pandas>=0.19.2 in c:\\users\\saitejas\\anaconda3\\lib\\site-packages (from cufflinks) (0.25.1)\n",
      "Requirement already satisfied: plotly>=4.1.1 in c:\\users\\saitejas\\anaconda3\\lib\\site-packages (from cufflinks) (4.8.1)\n",
      "Requirement already satisfied: six>=1.9.0 in c:\\users\\saitejas\\anaconda3\\lib\\site-packages (from cufflinks) (1.12.0)\n",
      "Collecting colorlover>=0.2.1 (from cufflinks)\n",
      "  Downloading https://files.pythonhosted.org/packages/9a/53/f696e4480b1d1de3b1523991dea71cf417c8b19fe70c704da164f3f90972/colorlover-0.3.0-py3-none-any.whl\n",
      "Requirement already satisfied: setuptools>=34.4.1 in c:\\users\\saitejas\\anaconda3\\lib\\site-packages (from cufflinks) (41.4.0)\n",
      "Requirement already satisfied: ipython>=5.3.0 in c:\\users\\saitejas\\anaconda3\\lib\\site-packages (from cufflinks) (7.8.0)\n",
      "Requirement already satisfied: ipywidgets>=7.0.0 in c:\\users\\saitejas\\anaconda3\\lib\\site-packages (from cufflinks) (7.5.1)\n",
      "Requirement already satisfied: pytz>=2017.2 in c:\\users\\saitejas\\anaconda3\\lib\\site-packages (from pandas>=0.19.2->cufflinks) (2019.3)\n",
      "Requirement already satisfied: python-dateutil>=2.6.1 in c:\\users\\saitejas\\anaconda3\\lib\\site-packages (from pandas>=0.19.2->cufflinks) (2.8.0)\n",
      "Requirement already satisfied: retrying>=1.3.3 in c:\\users\\saitejas\\anaconda3\\lib\\site-packages (from plotly>=4.1.1->cufflinks) (1.3.3)\n",
      "Requirement already satisfied: jedi>=0.10 in c:\\users\\saitejas\\anaconda3\\lib\\site-packages (from ipython>=5.3.0->cufflinks) (0.15.1)\n",
      "Requirement already satisfied: traitlets>=4.2 in c:\\users\\saitejas\\anaconda3\\lib\\site-packages (from ipython>=5.3.0->cufflinks) (4.3.3)\n",
      "Requirement already satisfied: pickleshare in c:\\users\\saitejas\\anaconda3\\lib\\site-packages (from ipython>=5.3.0->cufflinks) (0.7.5)\n",
      "Requirement already satisfied: prompt-toolkit<2.1.0,>=2.0.0 in c:\\users\\saitejas\\anaconda3\\lib\\site-packages (from ipython>=5.3.0->cufflinks) (2.0.10)\n",
      "Requirement already satisfied: pygments in c:\\users\\saitejas\\anaconda3\\lib\\site-packages (from ipython>=5.3.0->cufflinks) (2.4.2)\n",
      "Requirement already satisfied: backcall in c:\\users\\saitejas\\anaconda3\\lib\\site-packages (from ipython>=5.3.0->cufflinks) (0.1.0)\n",
      "Requirement already satisfied: decorator in c:\\users\\saitejas\\anaconda3\\lib\\site-packages (from ipython>=5.3.0->cufflinks) (4.4.0)\n",
      "Requirement already satisfied: colorama; sys_platform == \"win32\" in c:\\users\\saitejas\\anaconda3\\lib\\site-packages (from ipython>=5.3.0->cufflinks) (0.4.1)\n",
      "Requirement already satisfied: nbformat>=4.2.0 in c:\\users\\saitejas\\anaconda3\\lib\\site-packages (from ipywidgets>=7.0.0->cufflinks) (4.4.0)\n",
      "Requirement already satisfied: ipykernel>=4.5.1 in c:\\users\\saitejas\\anaconda3\\lib\\site-packages (from ipywidgets>=7.0.0->cufflinks) (5.1.2)\n",
      "Requirement already satisfied: widgetsnbextension~=3.5.0 in c:\\users\\saitejas\\anaconda3\\lib\\site-packages (from ipywidgets>=7.0.0->cufflinks) (3.5.1)\n",
      "Requirement already satisfied: parso>=0.5.0 in c:\\users\\saitejas\\anaconda3\\lib\\site-packages (from jedi>=0.10->ipython>=5.3.0->cufflinks) (0.5.1)\n",
      "Requirement already satisfied: ipython-genutils in c:\\users\\saitejas\\anaconda3\\lib\\site-packages (from traitlets>=4.2->ipython>=5.3.0->cufflinks) (0.2.0)\n",
      "Requirement already satisfied: wcwidth in c:\\users\\saitejas\\anaconda3\\lib\\site-packages (from prompt-toolkit<2.1.0,>=2.0.0->ipython>=5.3.0->cufflinks) (0.1.7)\n",
      "Requirement already satisfied: jupyter-core in c:\\users\\saitejas\\anaconda3\\lib\\site-packages (from nbformat>=4.2.0->ipywidgets>=7.0.0->cufflinks) (4.5.0)\n",
      "Requirement already satisfied: jsonschema!=2.5.0,>=2.4 in c:\\users\\saitejas\\anaconda3\\lib\\site-packages (from nbformat>=4.2.0->ipywidgets>=7.0.0->cufflinks) (3.0.2)\n",
      "Requirement already satisfied: tornado>=4.2 in c:\\users\\saitejas\\anaconda3\\lib\\site-packages (from ipykernel>=4.5.1->ipywidgets>=7.0.0->cufflinks) (6.0.3)\n",
      "Requirement already satisfied: jupyter-client in c:\\users\\saitejas\\anaconda3\\lib\\site-packages (from ipykernel>=4.5.1->ipywidgets>=7.0.0->cufflinks) (5.3.3)\n",
      "Requirement already satisfied: notebook>=4.4.1 in c:\\users\\saitejas\\anaconda3\\lib\\site-packages (from widgetsnbextension~=3.5.0->ipywidgets>=7.0.0->cufflinks) (6.0.1)\n",
      "Requirement already satisfied: pyrsistent>=0.14.0 in c:\\users\\saitejas\\anaconda3\\lib\\site-packages (from jsonschema!=2.5.0,>=2.4->nbformat>=4.2.0->ipywidgets>=7.0.0->cufflinks) (0.15.4)\n",
      "Requirement already satisfied: attrs>=17.4.0 in c:\\users\\saitejas\\anaconda3\\lib\\site-packages (from jsonschema!=2.5.0,>=2.4->nbformat>=4.2.0->ipywidgets>=7.0.0->cufflinks) (19.2.0)\n",
      "Requirement already satisfied: pywin32>=1.0; sys_platform == \"win32\" in c:\\users\\saitejas\\anaconda3\\lib\\site-packages (from jupyter-client->ipykernel>=4.5.1->ipywidgets>=7.0.0->cufflinks) (223)\n",
      "Requirement already satisfied: pyzmq>=13 in c:\\users\\saitejas\\anaconda3\\lib\\site-packages (from jupyter-client->ipykernel>=4.5.1->ipywidgets>=7.0.0->cufflinks) (18.1.0)\n",
      "Requirement already satisfied: terminado>=0.8.1 in c:\\users\\saitejas\\anaconda3\\lib\\site-packages (from notebook>=4.4.1->widgetsnbextension~=3.5.0->ipywidgets>=7.0.0->cufflinks) (0.8.2)\n",
      "Requirement already satisfied: jinja2 in c:\\users\\saitejas\\anaconda3\\lib\\site-packages (from notebook>=4.4.1->widgetsnbextension~=3.5.0->ipywidgets>=7.0.0->cufflinks) (2.10.3)\n",
      "Requirement already satisfied: nbconvert in c:\\users\\saitejas\\anaconda3\\lib\\site-packages (from notebook>=4.4.1->widgetsnbextension~=3.5.0->ipywidgets>=7.0.0->cufflinks) (5.6.0)\n",
      "Requirement already satisfied: Send2Trash in c:\\users\\saitejas\\anaconda3\\lib\\site-packages (from notebook>=4.4.1->widgetsnbextension~=3.5.0->ipywidgets>=7.0.0->cufflinks) (1.5.0)\n",
      "Requirement already satisfied: prometheus-client in c:\\users\\saitejas\\anaconda3\\lib\\site-packages (from notebook>=4.4.1->widgetsnbextension~=3.5.0->ipywidgets>=7.0.0->cufflinks) (0.7.1)\n",
      "Requirement already satisfied: MarkupSafe>=0.23 in c:\\users\\saitejas\\anaconda3\\lib\\site-packages (from jinja2->notebook>=4.4.1->widgetsnbextension~=3.5.0->ipywidgets>=7.0.0->cufflinks) (1.1.1)\n",
      "Requirement already satisfied: entrypoints>=0.2.2 in c:\\users\\saitejas\\anaconda3\\lib\\site-packages (from nbconvert->notebook>=4.4.1->widgetsnbextension~=3.5.0->ipywidgets>=7.0.0->cufflinks) (0.3)\n",
      "Requirement already satisfied: pandocfilters>=1.4.1 in c:\\users\\saitejas\\anaconda3\\lib\\site-packages (from nbconvert->notebook>=4.4.1->widgetsnbextension~=3.5.0->ipywidgets>=7.0.0->cufflinks) (1.4.2)\n",
      "Requirement already satisfied: testpath in c:\\users\\saitejas\\anaconda3\\lib\\site-packages (from nbconvert->notebook>=4.4.1->widgetsnbextension~=3.5.0->ipywidgets>=7.0.0->cufflinks) (0.4.2)\n",
      "Requirement already satisfied: bleach in c:\\users\\saitejas\\anaconda3\\lib\\site-packages (from nbconvert->notebook>=4.4.1->widgetsnbextension~=3.5.0->ipywidgets>=7.0.0->cufflinks) (3.1.0)\n",
      "Requirement already satisfied: defusedxml in c:\\users\\saitejas\\anaconda3\\lib\\site-packages (from nbconvert->notebook>=4.4.1->widgetsnbextension~=3.5.0->ipywidgets>=7.0.0->cufflinks) (0.6.0)\n",
      "Requirement already satisfied: mistune<2,>=0.8.1 in c:\\users\\saitejas\\anaconda3\\lib\\site-packages (from nbconvert->notebook>=4.4.1->widgetsnbextension~=3.5.0->ipywidgets>=7.0.0->cufflinks) (0.8.4)\n",
      "Requirement already satisfied: webencodings in c:\\users\\saitejas\\anaconda3\\lib\\site-packages (from bleach->nbconvert->notebook>=4.4.1->widgetsnbextension~=3.5.0->ipywidgets>=7.0.0->cufflinks) (0.5.1)\n",
      "Building wheels for collected packages: cufflinks\n",
      "  Building wheel for cufflinks (setup.py): started\n",
      "  Building wheel for cufflinks (setup.py): finished with status 'done'\n",
      "  Created wheel for cufflinks: filename=cufflinks-0.17.3-cp37-none-any.whl size=68730 sha256=8a930478f8337e861841553e6c90344254ffacc3151e7eb21cbc53b376a42344\n",
      "  Stored in directory: C:\\Users\\saitejas\\AppData\\Local\\pip\\Cache\\wheels\\7d\\ba\\8d\\38b672c3e40d8bd22dd60b8e6e29965b43f2b4be4d064e44d5\n",
      "Successfully built cufflinks\n",
      "Installing collected packages: colorlover, cufflinks\n",
      "Successfully installed colorlover-0.3.0 cufflinks-0.17.3\n"
     ]
    }
   ],
   "source": [
    "!pip install cufflinks\n",
    "import cufflinks as cf\n",
    "from plotly.offline import download_plotlyjs,init_notebook_mode,iplot\n",
    "import plotly.graph_objects as go\n",
    "%matplotlib inline"
   ]
  },
  {
   "cell_type": "code",
   "execution_count": 15,
   "metadata": {
    "colab": {
     "base_uri": "https://localhost:8080/",
     "height": 17
    },
    "colab_type": "code",
    "id": "KQaGUb-8AEpa",
    "outputId": "7607f25f-7855-4da3-c667-934bfaf3dddc"
   },
   "outputs": [
    {
     "data": {
      "text/html": [
       "        <script type=\"text/javascript\">\n",
       "        window.PlotlyConfig = {MathJaxConfig: 'local'};\n",
       "        if (window.MathJax) {MathJax.Hub.Config({SVG: {font: \"STIX-Web\"}});}\n",
       "        if (typeof require !== 'undefined') {\n",
       "        require.undef(\"plotly\");\n",
       "        requirejs.config({\n",
       "            paths: {\n",
       "                'plotly': ['https://cdn.plot.ly/plotly-latest.min']\n",
       "            }\n",
       "        });\n",
       "        require(['plotly'], function(Plotly) {\n",
       "            window._Plotly = Plotly;\n",
       "        });\n",
       "        }\n",
       "        </script>\n",
       "        "
      ]
     },
     "metadata": {},
     "output_type": "display_data"
    }
   ],
   "source": [
    "init_notebook_mode(connected=True)\n",
    "#This is going to connect it to javascript"
   ]
  },
  {
   "cell_type": "code",
   "execution_count": 16,
   "metadata": {
    "colab": {
     "base_uri": "https://localhost:8080/",
     "height": 17
    },
    "colab_type": "code",
    "id": "ZRB_5qc2AcFg",
    "outputId": "5a1fccd3-b8ad-4c5e-a306-a1acb5107d54"
   },
   "outputs": [
    {
     "data": {
      "text/html": [
       "        <script type=\"text/javascript\">\n",
       "        window.PlotlyConfig = {MathJaxConfig: 'local'};\n",
       "        if (window.MathJax) {MathJax.Hub.Config({SVG: {font: \"STIX-Web\"}});}\n",
       "        if (typeof require !== 'undefined') {\n",
       "        require.undef(\"plotly\");\n",
       "        requirejs.config({\n",
       "            paths: {\n",
       "                'plotly': ['https://cdn.plot.ly/plotly-latest.min']\n",
       "            }\n",
       "        });\n",
       "        require(['plotly'], function(Plotly) {\n",
       "            window._Plotly = Plotly;\n",
       "        });\n",
       "        }\n",
       "        </script>\n",
       "        "
      ]
     },
     "metadata": {},
     "output_type": "display_data"
    }
   ],
   "source": [
    "cf.go_offline()\n",
    "#cufflinks offline"
   ]
  },
  {
   "cell_type": "code",
   "execution_count": 17,
   "metadata": {
    "colab": {
     "base_uri": "https://localhost:8080/",
     "height": 206
    },
    "colab_type": "code",
    "id": "98f82TWDAgFG",
    "outputId": "44e25a2f-fc1f-47ac-a9d3-0644381f0887"
   },
   "outputs": [
    {
     "name": "stdout",
     "output_type": "stream",
     "text": [
      "          A         B         C         D\n",
      "0  1.578619 -0.909148 -1.197604 -1.236960\n",
      "1  0.538891  0.067809 -0.149679  1.595706\n",
      "2  1.078694 -0.374262  0.544408 -1.081652\n",
      "3  0.322451 -0.089341 -0.071530  2.200052\n",
      "4 -0.922373  0.378581 -0.117602  0.514325\n"
     ]
    }
   ],
   "source": [
    "#Data\n",
    "df = pd.DataFrame(np.random.randn(100,4), columns='A B C D'.split())\n",
    "print(df.head())"
   ]
  },
  {
   "cell_type": "code",
   "execution_count": 18,
   "metadata": {
    "colab": {
     "base_uri": "https://localhost:8080/",
     "height": 144
    },
    "colab_type": "code",
    "id": "CeVHDiDjA2jH",
    "outputId": "5154f694-c028-425c-e473-af4925e54e8b"
   },
   "outputs": [
    {
     "data": {
      "text/html": [
       "<div>\n",
       "<style scoped>\n",
       "    .dataframe tbody tr th:only-of-type {\n",
       "        vertical-align: middle;\n",
       "    }\n",
       "\n",
       "    .dataframe tbody tr th {\n",
       "        vertical-align: top;\n",
       "    }\n",
       "\n",
       "    .dataframe thead th {\n",
       "        text-align: right;\n",
       "    }\n",
       "</style>\n",
       "<table border=\"1\" class=\"dataframe\">\n",
       "  <thead>\n",
       "    <tr style=\"text-align: right;\">\n",
       "      <th></th>\n",
       "      <th>Category</th>\n",
       "      <th>values</th>\n",
       "    </tr>\n",
       "  </thead>\n",
       "  <tbody>\n",
       "    <tr>\n",
       "      <td>0</td>\n",
       "      <td>A</td>\n",
       "      <td>32</td>\n",
       "    </tr>\n",
       "    <tr>\n",
       "      <td>1</td>\n",
       "      <td>B</td>\n",
       "      <td>43</td>\n",
       "    </tr>\n",
       "    <tr>\n",
       "      <td>2</td>\n",
       "      <td>C</td>\n",
       "      <td>50</td>\n",
       "    </tr>\n",
       "  </tbody>\n",
       "</table>\n",
       "</div>"
      ],
      "text/plain": [
       "  Category values\n",
       "0        A     32\n",
       "1        B     43\n",
       "2        C     50"
      ]
     },
     "execution_count": 18,
     "metadata": {},
     "output_type": "execute_result"
    }
   ],
   "source": [
    "df2 = pd.DataFrame({'Category':['A', 'B', 'C'], 'values':['32','43','50']})\n",
    "df2"
   ]
  },
  {
   "cell_type": "code",
   "execution_count": 19,
   "metadata": {
    "colab": {
     "base_uri": "https://localhost:8080/",
     "height": 360
    },
    "colab_type": "code",
    "id": "JpKPW4FIBOqj",
    "outputId": "138a9d7b-a5ca-45c9-c73f-635317c32a23"
   },
   "outputs": [
    {
     "data": {
      "application/vnd.plotly.v1+json": {
       "config": {
        "linkText": "Export to plot.ly",
        "plotlyServerURL": "https://plot.ly",
        "showLink": true
       },
       "data": [
        {
         "line": {
          "color": "rgba(255, 153, 51, 1.0)",
          "dash": "solid",
          "shape": "linear",
          "width": 1.3
         },
         "mode": "lines",
         "name": "A",
         "text": "",
         "type": "scatter",
         "x": [
          0,
          1,
          2,
          3,
          4,
          5,
          6,
          7,
          8,
          9,
          10,
          11,
          12,
          13,
          14,
          15,
          16,
          17,
          18,
          19,
          20,
          21,
          22,
          23,
          24,
          25,
          26,
          27,
          28,
          29,
          30,
          31,
          32,
          33,
          34,
          35,
          36,
          37,
          38,
          39,
          40,
          41,
          42,
          43,
          44,
          45,
          46,
          47,
          48,
          49,
          50,
          51,
          52,
          53,
          54,
          55,
          56,
          57,
          58,
          59,
          60,
          61,
          62,
          63,
          64,
          65,
          66,
          67,
          68,
          69,
          70,
          71,
          72,
          73,
          74,
          75,
          76,
          77,
          78,
          79,
          80,
          81,
          82,
          83,
          84,
          85,
          86,
          87,
          88,
          89,
          90,
          91,
          92,
          93,
          94,
          95,
          96,
          97,
          98,
          99
         ],
         "y": [
          1.5786187229586952,
          0.5388907679893202,
          1.078694437802884,
          0.32245053629987225,
          -0.9223734597448511,
          0.6846853537469202,
          -0.45008481106597226,
          -0.3533505384946988,
          -2.8731498108221647,
          -0.7484971720768924,
          -0.36500273352880264,
          0.6067655573450121,
          -0.9095258614147902,
          -0.5916802031109333,
          -0.1286568103901193,
          1.7388296281606612,
          0.47239980869073794,
          -0.19232195914901176,
          2.229241629104578,
          0.9230532412325921,
          1.669864645835989,
          -0.048946795581749296,
          -1.1772689529385014,
          -1.507948452528026,
          0.24724840660536831,
          -0.5514672401858561,
          0.03940467306020378,
          1.101065497240953,
          -0.6740037548529809,
          -1.087435723169192,
          0.7956290688949827,
          1.3708984098787027,
          -2.5791584583768774,
          -0.22441070420898013,
          0.26205684531518003,
          -1.4562008931988613,
          1.4373764995136746,
          1.5882274462361048,
          -1.14297172147719,
          0.8557954035872387,
          -0.21393484405050417,
          -0.4561921999510943,
          -1.2399718899695817,
          -0.4894135182650713,
          -0.9339678649182176,
          1.1632061007301673,
          -0.5287445421017896,
          -0.7851686235869038,
          0.9047629487274184,
          0.4246297921895481,
          -0.7308639618574918,
          0.25594378026316994,
          0.18619445129129822,
          -0.000521841883759933,
          -0.0956855252854502,
          0.41568934719485845,
          2.3363430277107633,
          0.986313969490932,
          -2.2999979856947776,
          -0.988970346091432,
          -0.17387465651416092,
          1.1434523811225343,
          0.7142548633467558,
          1.0861935261444606,
          0.5326363331496747,
          0.24960608255715572,
          0.15224848216287823,
          -1.0379568391468894,
          0.40303463838925496,
          1.4745778622017471,
          0.5528359060224775,
          -0.4041364159267252,
          0.2958334397510018,
          -0.9587982415737354,
          2.411937340919393,
          -1.5457422218029453,
          0.349811580328209,
          -0.22414230333098373,
          -0.5952445750360521,
          -0.17328969929810023,
          -0.2544671869662989,
          0.38014899400462554,
          -0.8101198010890571,
          -0.14087644847276767,
          0.5011952118769845,
          -1.4466394766986472,
          -0.6101461012464322,
          0.25454424877028975,
          -0.6731734711992503,
          1.535518147828806,
          -1.8820650727715733,
          -0.08447236199084893,
          0.30272598868420986,
          1.279879939966949,
          -0.2801796132397617,
          1.1306796638342382,
          1.2908453116833694,
          -0.5089587024089931,
          0.12139023869349684,
          0.29123717194560733
         ]
        },
        {
         "line": {
          "color": "rgba(55, 128, 191, 1.0)",
          "dash": "solid",
          "shape": "linear",
          "width": 1.3
         },
         "mode": "lines",
         "name": "B",
         "text": "",
         "type": "scatter",
         "x": [
          0,
          1,
          2,
          3,
          4,
          5,
          6,
          7,
          8,
          9,
          10,
          11,
          12,
          13,
          14,
          15,
          16,
          17,
          18,
          19,
          20,
          21,
          22,
          23,
          24,
          25,
          26,
          27,
          28,
          29,
          30,
          31,
          32,
          33,
          34,
          35,
          36,
          37,
          38,
          39,
          40,
          41,
          42,
          43,
          44,
          45,
          46,
          47,
          48,
          49,
          50,
          51,
          52,
          53,
          54,
          55,
          56,
          57,
          58,
          59,
          60,
          61,
          62,
          63,
          64,
          65,
          66,
          67,
          68,
          69,
          70,
          71,
          72,
          73,
          74,
          75,
          76,
          77,
          78,
          79,
          80,
          81,
          82,
          83,
          84,
          85,
          86,
          87,
          88,
          89,
          90,
          91,
          92,
          93,
          94,
          95,
          96,
          97,
          98,
          99
         ],
         "y": [
          -0.9091481202776661,
          0.06780882273199226,
          -0.37426163102207805,
          -0.0893408716584356,
          0.3785809932478647,
          -0.1674663523925086,
          -1.8900779795166602,
          -0.3424626483864567,
          0.16169535711160646,
          0.0478377990035949,
          -0.05481689229587556,
          0.5533515341116935,
          1.813873713624411,
          0.4496238708250704,
          -0.7669842546794466,
          -0.5878357083218064,
          0.2371579630564443,
          -0.53799999065927,
          -1.928307767514013,
          0.778863457823434,
          -0.4660622969181952,
          0.21413796571596228,
          0.18163665667639722,
          -0.11279316160530298,
          -0.10135968035407887,
          1.1556132702741724,
          -1.4199345211591043,
          -1.1980119673035385,
          -0.403043648643454,
          -0.18535180459067813,
          -0.590798397804791,
          -0.3527904046359064,
          0.0521331226621967,
          1.532901799474751,
          0.5802094194992679,
          -0.010870242447072558,
          0.4642532142674884,
          -0.9660326232658625,
          1.9556195439245811,
          -0.05408068932375628,
          0.18235044092284422,
          -0.1051075040381056,
          0.16635592876305297,
          -1.6885493863487944,
          0.6763009103052485,
          -2.10897816221814,
          0.4405099968628592,
          0.6263658596754582,
          1.9604723414870466,
          1.06194614575976,
          0.6400773508424474,
          -0.5500867822309106,
          0.8307100882811101,
          0.0344633537188449,
          -1.330900477021943,
          2.4910631328577386,
          -1.7059464862818212,
          0.5955627767535996,
          0.07872829056054018,
          -0.7658543204305447,
          -1.0595414654093238,
          -0.4404871361336019,
          -0.4303288990356177,
          1.4977893567786902,
          -1.8584560116454625,
          0.28782599809848924,
          -0.5654122593952702,
          1.051391369391621,
          -0.9569865241042446,
          0.6768422848156005,
          -0.4150103635543724,
          1.9936289538054037,
          0.6034494063737481,
          -0.5042530167988375,
          -1.7769618298699321,
          0.2973685224675162,
          0.6357589463328186,
          -0.9239470626522018,
          0.389154509412879,
          -0.8314898251629631,
          1.1306355458935795,
          -0.13371758037286724,
          -0.9233531684251245,
          -1.482427845223228,
          -0.06425504201663151,
          1.8131487525802705,
          -1.3458155732931503,
          0.7107488739846166,
          0.5952788770646874,
          -0.18688980536139707,
          0.364839931718773,
          0.3702635516581097,
          -1.4292990764432627,
          -0.5328116959402388,
          0.11373726774497099,
          1.1744561982317403,
          0.9043388870333897,
          -0.5964606635103178,
          0.8775321308476934,
          0.4960320670502967
         ]
        },
        {
         "line": {
          "color": "rgba(50, 171, 96, 1.0)",
          "dash": "solid",
          "shape": "linear",
          "width": 1.3
         },
         "mode": "lines",
         "name": "C",
         "text": "",
         "type": "scatter",
         "x": [
          0,
          1,
          2,
          3,
          4,
          5,
          6,
          7,
          8,
          9,
          10,
          11,
          12,
          13,
          14,
          15,
          16,
          17,
          18,
          19,
          20,
          21,
          22,
          23,
          24,
          25,
          26,
          27,
          28,
          29,
          30,
          31,
          32,
          33,
          34,
          35,
          36,
          37,
          38,
          39,
          40,
          41,
          42,
          43,
          44,
          45,
          46,
          47,
          48,
          49,
          50,
          51,
          52,
          53,
          54,
          55,
          56,
          57,
          58,
          59,
          60,
          61,
          62,
          63,
          64,
          65,
          66,
          67,
          68,
          69,
          70,
          71,
          72,
          73,
          74,
          75,
          76,
          77,
          78,
          79,
          80,
          81,
          82,
          83,
          84,
          85,
          86,
          87,
          88,
          89,
          90,
          91,
          92,
          93,
          94,
          95,
          96,
          97,
          98,
          99
         ],
         "y": [
          -1.197603887322099,
          -0.14967919671293892,
          0.5444082636142232,
          -0.07152960472442545,
          -0.11760235423160066,
          -0.7152903793804544,
          0.4005045046255291,
          1.3518039524512873,
          -1.1243483736276993,
          -0.5009909117196343,
          -0.6356525293413666,
          0.2956388077628931,
          -0.7524320015200916,
          -1.0529801411888347,
          0.7071044525469407,
          -0.9284437462526892,
          -1.164603065805729,
          -0.6421343978188939,
          -0.8947566955109193,
          0.452194461157883,
          -1.670887483463763,
          1.0002966776604,
          1.8493638173924913,
          -1.652593256858235,
          0.5956196697561125,
          1.7477319863139726,
          -0.5083851338373848,
          0.07323737775396946,
          -0.5543647956471862,
          -0.7280928908030394,
          0.929444705638144,
          -1.1237235236519836,
          1.364897098191059,
          0.5478777880307599,
          -0.07518856217547684,
          -0.3973916275118296,
          -0.2522469404046494,
          -0.8371763884555629,
          -0.007728306192208445,
          1.037248310474221,
          2.0671129544998172,
          1.706815112917324,
          -0.08261281371724254,
          0.20644873959937096,
          0.6924770531326767,
          -1.5827261161381425,
          -0.7763239958108433,
          -0.3503803723749217,
          -1.9302490373390493,
          1.1641087222396087,
          0.5011120254621527,
          -0.5765128729674301,
          -0.572909190354357,
          0.7960288033317842,
          -0.4016600353267202,
          0.14155162583316797,
          0.538711537931317,
          0.09717978563857158,
          -0.15855920678036223,
          0.3817610314473487,
          -0.06345160415242983,
          -0.8949898403245102,
          -0.5922689806323262,
          0.059167966149032476,
          -0.9025951845322313,
          0.5561210474233387,
          0.18971421226487797,
          1.527466279236679,
          1.1553110119046823,
          -0.05142100171334006,
          -0.11104848011462413,
          0.45975838916078526,
          -1.0837658721120444,
          0.2603074791735487,
          0.2271357768750185,
          -0.6143912633154864,
          -0.19682027933217464,
          -0.0755922482911257,
          2.3624936077255865,
          1.061218366771381,
          -0.09187194218598727,
          1.5566403723088795,
          -0.5662785101994151,
          0.0871672917737875,
          -1.3130377206401151,
          -0.01629282610072284,
          -1.7130840368279885,
          -1.295689318319282,
          2.5175579928428995,
          1.377240242721176,
          -1.034680562490194,
          0.6531272679255921,
          -0.6879084568105988,
          -0.46116366918317875,
          -1.457596574037775,
          0.08248908322072915,
          -1.5267858011457618,
          0.7764265294878716,
          -1.0063240827148245,
          -1.5337039944830495
         ]
        },
        {
         "line": {
          "color": "rgba(128, 0, 128, 1.0)",
          "dash": "solid",
          "shape": "linear",
          "width": 1.3
         },
         "mode": "lines",
         "name": "D",
         "text": "",
         "type": "scatter",
         "x": [
          0,
          1,
          2,
          3,
          4,
          5,
          6,
          7,
          8,
          9,
          10,
          11,
          12,
          13,
          14,
          15,
          16,
          17,
          18,
          19,
          20,
          21,
          22,
          23,
          24,
          25,
          26,
          27,
          28,
          29,
          30,
          31,
          32,
          33,
          34,
          35,
          36,
          37,
          38,
          39,
          40,
          41,
          42,
          43,
          44,
          45,
          46,
          47,
          48,
          49,
          50,
          51,
          52,
          53,
          54,
          55,
          56,
          57,
          58,
          59,
          60,
          61,
          62,
          63,
          64,
          65,
          66,
          67,
          68,
          69,
          70,
          71,
          72,
          73,
          74,
          75,
          76,
          77,
          78,
          79,
          80,
          81,
          82,
          83,
          84,
          85,
          86,
          87,
          88,
          89,
          90,
          91,
          92,
          93,
          94,
          95,
          96,
          97,
          98,
          99
         ],
         "y": [
          -1.236960009175287,
          1.5957056827372886,
          -1.0816516780323115,
          2.200052015079462,
          0.5143247019771605,
          -1.298901901880776,
          0.17313645065214056,
          0.9674163566203784,
          -0.22153004406279606,
          -0.27206989956303956,
          0.3143012040259115,
          -0.569531152898254,
          0.08126478029389282,
          0.8559542227430773,
          -1.0175763939410853,
          -0.10680840976940756,
          0.04184890394958401,
          -0.18633903942760885,
          -0.442701902721548,
          0.25069835235750826,
          -0.15772123842472408,
          0.6055264194695906,
          -0.5231474640327842,
          -1.1483991602933603,
          -1.4315196534480366,
          -0.29110580637466676,
          -0.6148183294126481,
          1.0357269388691175,
          1.4325122264680905,
          0.047996524705700795,
          0.5257544940853995,
          0.5007092040776967,
          -1.0133788494833593,
          -0.17140111283027717,
          -1.6650623212197295,
          -0.38565297522022907,
          -1.0631154036221937,
          0.8936736895735256,
          0.6975017214985157,
          -0.6144869389303735,
          -2.1181687484974923,
          -0.6536309034282014,
          -0.48014587964671623,
          -1.945695231225604,
          -0.04551853151221338,
          -2.3961519073548403,
          1.5957981977390046,
          -0.3235433792385381,
          -1.0793595624540027,
          0.5839007832341924,
          1.0199613700952719,
          -0.3074901790252907,
          0.41799459014333507,
          -0.552158231869279,
          1.310697439208428,
          -2.6075287898130743,
          -1.8854654673649944,
          0.5002128868990016,
          -0.657663363118006,
          1.3178004735068567,
          0.3457488508580863,
          -0.04376132072741204,
          -2.8980843373751073,
          1.5859570858211414,
          0.07085088888886118,
          -0.061026509238509115,
          1.3615710585152017,
          -0.6397894357080812,
          -0.43859315104324653,
          0.8751237172338803,
          -0.31378903090234406,
          0.1980565609095691,
          -0.9598547525201483,
          0.03672553453537836,
          1.7192074964219954,
          1.0986428237582062,
          0.0025096167788204336,
          -1.181223803979235,
          -0.20377850730036687,
          -0.29447410738980206,
          -0.2878050343115418,
          -0.5626726711840615,
          2.1779338559988553,
          -1.0356971241275936,
          0.2652045833527526,
          -1.8230465662038575,
          -0.012118397896673763,
          -0.48752840176514556,
          0.3373036379938806,
          3.2348155942028587,
          -0.3686666049825805,
          -0.23124159952112106,
          1.722082627228278,
          0.8029339991881422,
          -0.422344772622117,
          -0.6850380502239866,
          0.8691707591440322,
          0.14220099266924224,
          -0.4567669970269884,
          2.9844915497962994
         ]
        }
       ],
       "layout": {
        "legend": {
         "bgcolor": "#F5F6F9",
         "font": {
          "color": "#4D5663"
         }
        },
        "paper_bgcolor": "#F5F6F9",
        "plot_bgcolor": "#F5F6F9",
        "template": {
         "data": {
          "bar": [
           {
            "error_x": {
             "color": "#2a3f5f"
            },
            "error_y": {
             "color": "#2a3f5f"
            },
            "marker": {
             "line": {
              "color": "#E5ECF6",
              "width": 0.5
             }
            },
            "type": "bar"
           }
          ],
          "barpolar": [
           {
            "marker": {
             "line": {
              "color": "#E5ECF6",
              "width": 0.5
             }
            },
            "type": "barpolar"
           }
          ],
          "carpet": [
           {
            "aaxis": {
             "endlinecolor": "#2a3f5f",
             "gridcolor": "white",
             "linecolor": "white",
             "minorgridcolor": "white",
             "startlinecolor": "#2a3f5f"
            },
            "baxis": {
             "endlinecolor": "#2a3f5f",
             "gridcolor": "white",
             "linecolor": "white",
             "minorgridcolor": "white",
             "startlinecolor": "#2a3f5f"
            },
            "type": "carpet"
           }
          ],
          "choropleth": [
           {
            "colorbar": {
             "outlinewidth": 0,
             "ticks": ""
            },
            "type": "choropleth"
           }
          ],
          "contour": [
           {
            "colorbar": {
             "outlinewidth": 0,
             "ticks": ""
            },
            "colorscale": [
             [
              0,
              "#0d0887"
             ],
             [
              0.1111111111111111,
              "#46039f"
             ],
             [
              0.2222222222222222,
              "#7201a8"
             ],
             [
              0.3333333333333333,
              "#9c179e"
             ],
             [
              0.4444444444444444,
              "#bd3786"
             ],
             [
              0.5555555555555556,
              "#d8576b"
             ],
             [
              0.6666666666666666,
              "#ed7953"
             ],
             [
              0.7777777777777778,
              "#fb9f3a"
             ],
             [
              0.8888888888888888,
              "#fdca26"
             ],
             [
              1,
              "#f0f921"
             ]
            ],
            "type": "contour"
           }
          ],
          "contourcarpet": [
           {
            "colorbar": {
             "outlinewidth": 0,
             "ticks": ""
            },
            "type": "contourcarpet"
           }
          ],
          "heatmap": [
           {
            "colorbar": {
             "outlinewidth": 0,
             "ticks": ""
            },
            "colorscale": [
             [
              0,
              "#0d0887"
             ],
             [
              0.1111111111111111,
              "#46039f"
             ],
             [
              0.2222222222222222,
              "#7201a8"
             ],
             [
              0.3333333333333333,
              "#9c179e"
             ],
             [
              0.4444444444444444,
              "#bd3786"
             ],
             [
              0.5555555555555556,
              "#d8576b"
             ],
             [
              0.6666666666666666,
              "#ed7953"
             ],
             [
              0.7777777777777778,
              "#fb9f3a"
             ],
             [
              0.8888888888888888,
              "#fdca26"
             ],
             [
              1,
              "#f0f921"
             ]
            ],
            "type": "heatmap"
           }
          ],
          "heatmapgl": [
           {
            "colorbar": {
             "outlinewidth": 0,
             "ticks": ""
            },
            "colorscale": [
             [
              0,
              "#0d0887"
             ],
             [
              0.1111111111111111,
              "#46039f"
             ],
             [
              0.2222222222222222,
              "#7201a8"
             ],
             [
              0.3333333333333333,
              "#9c179e"
             ],
             [
              0.4444444444444444,
              "#bd3786"
             ],
             [
              0.5555555555555556,
              "#d8576b"
             ],
             [
              0.6666666666666666,
              "#ed7953"
             ],
             [
              0.7777777777777778,
              "#fb9f3a"
             ],
             [
              0.8888888888888888,
              "#fdca26"
             ],
             [
              1,
              "#f0f921"
             ]
            ],
            "type": "heatmapgl"
           }
          ],
          "histogram": [
           {
            "marker": {
             "colorbar": {
              "outlinewidth": 0,
              "ticks": ""
             }
            },
            "type": "histogram"
           }
          ],
          "histogram2d": [
           {
            "colorbar": {
             "outlinewidth": 0,
             "ticks": ""
            },
            "colorscale": [
             [
              0,
              "#0d0887"
             ],
             [
              0.1111111111111111,
              "#46039f"
             ],
             [
              0.2222222222222222,
              "#7201a8"
             ],
             [
              0.3333333333333333,
              "#9c179e"
             ],
             [
              0.4444444444444444,
              "#bd3786"
             ],
             [
              0.5555555555555556,
              "#d8576b"
             ],
             [
              0.6666666666666666,
              "#ed7953"
             ],
             [
              0.7777777777777778,
              "#fb9f3a"
             ],
             [
              0.8888888888888888,
              "#fdca26"
             ],
             [
              1,
              "#f0f921"
             ]
            ],
            "type": "histogram2d"
           }
          ],
          "histogram2dcontour": [
           {
            "colorbar": {
             "outlinewidth": 0,
             "ticks": ""
            },
            "colorscale": [
             [
              0,
              "#0d0887"
             ],
             [
              0.1111111111111111,
              "#46039f"
             ],
             [
              0.2222222222222222,
              "#7201a8"
             ],
             [
              0.3333333333333333,
              "#9c179e"
             ],
             [
              0.4444444444444444,
              "#bd3786"
             ],
             [
              0.5555555555555556,
              "#d8576b"
             ],
             [
              0.6666666666666666,
              "#ed7953"
             ],
             [
              0.7777777777777778,
              "#fb9f3a"
             ],
             [
              0.8888888888888888,
              "#fdca26"
             ],
             [
              1,
              "#f0f921"
             ]
            ],
            "type": "histogram2dcontour"
           }
          ],
          "mesh3d": [
           {
            "colorbar": {
             "outlinewidth": 0,
             "ticks": ""
            },
            "type": "mesh3d"
           }
          ],
          "parcoords": [
           {
            "line": {
             "colorbar": {
              "outlinewidth": 0,
              "ticks": ""
             }
            },
            "type": "parcoords"
           }
          ],
          "pie": [
           {
            "automargin": true,
            "type": "pie"
           }
          ],
          "scatter": [
           {
            "marker": {
             "colorbar": {
              "outlinewidth": 0,
              "ticks": ""
             }
            },
            "type": "scatter"
           }
          ],
          "scatter3d": [
           {
            "line": {
             "colorbar": {
              "outlinewidth": 0,
              "ticks": ""
             }
            },
            "marker": {
             "colorbar": {
              "outlinewidth": 0,
              "ticks": ""
             }
            },
            "type": "scatter3d"
           }
          ],
          "scattercarpet": [
           {
            "marker": {
             "colorbar": {
              "outlinewidth": 0,
              "ticks": ""
             }
            },
            "type": "scattercarpet"
           }
          ],
          "scattergeo": [
           {
            "marker": {
             "colorbar": {
              "outlinewidth": 0,
              "ticks": ""
             }
            },
            "type": "scattergeo"
           }
          ],
          "scattergl": [
           {
            "marker": {
             "colorbar": {
              "outlinewidth": 0,
              "ticks": ""
             }
            },
            "type": "scattergl"
           }
          ],
          "scattermapbox": [
           {
            "marker": {
             "colorbar": {
              "outlinewidth": 0,
              "ticks": ""
             }
            },
            "type": "scattermapbox"
           }
          ],
          "scatterpolar": [
           {
            "marker": {
             "colorbar": {
              "outlinewidth": 0,
              "ticks": ""
             }
            },
            "type": "scatterpolar"
           }
          ],
          "scatterpolargl": [
           {
            "marker": {
             "colorbar": {
              "outlinewidth": 0,
              "ticks": ""
             }
            },
            "type": "scatterpolargl"
           }
          ],
          "scatterternary": [
           {
            "marker": {
             "colorbar": {
              "outlinewidth": 0,
              "ticks": ""
             }
            },
            "type": "scatterternary"
           }
          ],
          "surface": [
           {
            "colorbar": {
             "outlinewidth": 0,
             "ticks": ""
            },
            "colorscale": [
             [
              0,
              "#0d0887"
             ],
             [
              0.1111111111111111,
              "#46039f"
             ],
             [
              0.2222222222222222,
              "#7201a8"
             ],
             [
              0.3333333333333333,
              "#9c179e"
             ],
             [
              0.4444444444444444,
              "#bd3786"
             ],
             [
              0.5555555555555556,
              "#d8576b"
             ],
             [
              0.6666666666666666,
              "#ed7953"
             ],
             [
              0.7777777777777778,
              "#fb9f3a"
             ],
             [
              0.8888888888888888,
              "#fdca26"
             ],
             [
              1,
              "#f0f921"
             ]
            ],
            "type": "surface"
           }
          ],
          "table": [
           {
            "cells": {
             "fill": {
              "color": "#EBF0F8"
             },
             "line": {
              "color": "white"
             }
            },
            "header": {
             "fill": {
              "color": "#C8D4E3"
             },
             "line": {
              "color": "white"
             }
            },
            "type": "table"
           }
          ]
         },
         "layout": {
          "annotationdefaults": {
           "arrowcolor": "#2a3f5f",
           "arrowhead": 0,
           "arrowwidth": 1
          },
          "coloraxis": {
           "colorbar": {
            "outlinewidth": 0,
            "ticks": ""
           }
          },
          "colorscale": {
           "diverging": [
            [
             0,
             "#8e0152"
            ],
            [
             0.1,
             "#c51b7d"
            ],
            [
             0.2,
             "#de77ae"
            ],
            [
             0.3,
             "#f1b6da"
            ],
            [
             0.4,
             "#fde0ef"
            ],
            [
             0.5,
             "#f7f7f7"
            ],
            [
             0.6,
             "#e6f5d0"
            ],
            [
             0.7,
             "#b8e186"
            ],
            [
             0.8,
             "#7fbc41"
            ],
            [
             0.9,
             "#4d9221"
            ],
            [
             1,
             "#276419"
            ]
           ],
           "sequential": [
            [
             0,
             "#0d0887"
            ],
            [
             0.1111111111111111,
             "#46039f"
            ],
            [
             0.2222222222222222,
             "#7201a8"
            ],
            [
             0.3333333333333333,
             "#9c179e"
            ],
            [
             0.4444444444444444,
             "#bd3786"
            ],
            [
             0.5555555555555556,
             "#d8576b"
            ],
            [
             0.6666666666666666,
             "#ed7953"
            ],
            [
             0.7777777777777778,
             "#fb9f3a"
            ],
            [
             0.8888888888888888,
             "#fdca26"
            ],
            [
             1,
             "#f0f921"
            ]
           ],
           "sequentialminus": [
            [
             0,
             "#0d0887"
            ],
            [
             0.1111111111111111,
             "#46039f"
            ],
            [
             0.2222222222222222,
             "#7201a8"
            ],
            [
             0.3333333333333333,
             "#9c179e"
            ],
            [
             0.4444444444444444,
             "#bd3786"
            ],
            [
             0.5555555555555556,
             "#d8576b"
            ],
            [
             0.6666666666666666,
             "#ed7953"
            ],
            [
             0.7777777777777778,
             "#fb9f3a"
            ],
            [
             0.8888888888888888,
             "#fdca26"
            ],
            [
             1,
             "#f0f921"
            ]
           ]
          },
          "colorway": [
           "#636efa",
           "#EF553B",
           "#00cc96",
           "#ab63fa",
           "#FFA15A",
           "#19d3f3",
           "#FF6692",
           "#B6E880",
           "#FF97FF",
           "#FECB52"
          ],
          "font": {
           "color": "#2a3f5f"
          },
          "geo": {
           "bgcolor": "white",
           "lakecolor": "white",
           "landcolor": "#E5ECF6",
           "showlakes": true,
           "showland": true,
           "subunitcolor": "white"
          },
          "hoverlabel": {
           "align": "left"
          },
          "hovermode": "closest",
          "mapbox": {
           "style": "light"
          },
          "paper_bgcolor": "white",
          "plot_bgcolor": "#E5ECF6",
          "polar": {
           "angularaxis": {
            "gridcolor": "white",
            "linecolor": "white",
            "ticks": ""
           },
           "bgcolor": "#E5ECF6",
           "radialaxis": {
            "gridcolor": "white",
            "linecolor": "white",
            "ticks": ""
           }
          },
          "scene": {
           "xaxis": {
            "backgroundcolor": "#E5ECF6",
            "gridcolor": "white",
            "gridwidth": 2,
            "linecolor": "white",
            "showbackground": true,
            "ticks": "",
            "zerolinecolor": "white"
           },
           "yaxis": {
            "backgroundcolor": "#E5ECF6",
            "gridcolor": "white",
            "gridwidth": 2,
            "linecolor": "white",
            "showbackground": true,
            "ticks": "",
            "zerolinecolor": "white"
           },
           "zaxis": {
            "backgroundcolor": "#E5ECF6",
            "gridcolor": "white",
            "gridwidth": 2,
            "linecolor": "white",
            "showbackground": true,
            "ticks": "",
            "zerolinecolor": "white"
           }
          },
          "shapedefaults": {
           "line": {
            "color": "#2a3f5f"
           }
          },
          "ternary": {
           "aaxis": {
            "gridcolor": "white",
            "linecolor": "white",
            "ticks": ""
           },
           "baxis": {
            "gridcolor": "white",
            "linecolor": "white",
            "ticks": ""
           },
           "bgcolor": "#E5ECF6",
           "caxis": {
            "gridcolor": "white",
            "linecolor": "white",
            "ticks": ""
           }
          },
          "title": {
           "x": 0.05
          },
          "xaxis": {
           "automargin": true,
           "gridcolor": "white",
           "linecolor": "white",
           "ticks": "",
           "title": {
            "standoff": 15
           },
           "zerolinecolor": "white",
           "zerolinewidth": 2
          },
          "yaxis": {
           "automargin": true,
           "gridcolor": "white",
           "linecolor": "white",
           "ticks": "",
           "title": {
            "standoff": 15
           },
           "zerolinecolor": "white",
           "zerolinewidth": 2
          }
         }
        },
        "title": {
         "font": {
          "color": "#4D5663"
         }
        },
        "xaxis": {
         "gridcolor": "#E1E5ED",
         "showgrid": true,
         "tickfont": {
          "color": "#4D5663"
         },
         "title": {
          "font": {
           "color": "#4D5663"
          },
          "text": ""
         },
         "zerolinecolor": "#E1E5ED"
        },
        "yaxis": {
         "gridcolor": "#E1E5ED",
         "showgrid": true,
         "tickfont": {
          "color": "#4D5663"
         },
         "title": {
          "font": {
           "color": "#4D5663"
          },
          "text": ""
         },
         "zerolinecolor": "#E1E5ED"
        }
       }
      },
      "text/html": [
       "<div>\n",
       "        \n",
       "        \n",
       "            <div id=\"5ad17123-c4f1-4a51-afa2-c4863350ba33\" class=\"plotly-graph-div\" style=\"height:525px; width:100%;\"></div>\n",
       "            <script type=\"text/javascript\">\n",
       "                require([\"plotly\"], function(Plotly) {\n",
       "                    window.PLOTLYENV=window.PLOTLYENV || {};\n",
       "                    window.PLOTLYENV.BASE_URL='https://plot.ly';\n",
       "                    \n",
       "                if (document.getElementById(\"5ad17123-c4f1-4a51-afa2-c4863350ba33\")) {\n",
       "                    Plotly.newPlot(\n",
       "                        '5ad17123-c4f1-4a51-afa2-c4863350ba33',\n",
       "                        [{\"line\": {\"color\": \"rgba(255, 153, 51, 1.0)\", \"dash\": \"solid\", \"shape\": \"linear\", \"width\": 1.3}, \"mode\": \"lines\", \"name\": \"A\", \"text\": \"\", \"type\": \"scatter\", \"x\": [0, 1, 2, 3, 4, 5, 6, 7, 8, 9, 10, 11, 12, 13, 14, 15, 16, 17, 18, 19, 20, 21, 22, 23, 24, 25, 26, 27, 28, 29, 30, 31, 32, 33, 34, 35, 36, 37, 38, 39, 40, 41, 42, 43, 44, 45, 46, 47, 48, 49, 50, 51, 52, 53, 54, 55, 56, 57, 58, 59, 60, 61, 62, 63, 64, 65, 66, 67, 68, 69, 70, 71, 72, 73, 74, 75, 76, 77, 78, 79, 80, 81, 82, 83, 84, 85, 86, 87, 88, 89, 90, 91, 92, 93, 94, 95, 96, 97, 98, 99], \"y\": [1.5786187229586952, 0.5388907679893202, 1.078694437802884, 0.32245053629987225, -0.9223734597448511, 0.6846853537469202, -0.45008481106597226, -0.3533505384946988, -2.8731498108221647, -0.7484971720768924, -0.36500273352880264, 0.6067655573450121, -0.9095258614147902, -0.5916802031109333, -0.1286568103901193, 1.7388296281606612, 0.47239980869073794, -0.19232195914901176, 2.229241629104578, 0.9230532412325921, 1.669864645835989, -0.048946795581749296, -1.1772689529385014, -1.507948452528026, 0.24724840660536831, -0.5514672401858561, 0.03940467306020378, 1.101065497240953, -0.6740037548529809, -1.087435723169192, 0.7956290688949827, 1.3708984098787027, -2.5791584583768774, -0.22441070420898013, 0.26205684531518003, -1.4562008931988613, 1.4373764995136746, 1.5882274462361048, -1.14297172147719, 0.8557954035872387, -0.21393484405050417, -0.4561921999510943, -1.2399718899695817, -0.4894135182650713, -0.9339678649182176, 1.1632061007301673, -0.5287445421017896, -0.7851686235869038, 0.9047629487274184, 0.4246297921895481, -0.7308639618574918, 0.25594378026316994, 0.18619445129129822, -0.000521841883759933, -0.0956855252854502, 0.41568934719485845, 2.3363430277107633, 0.986313969490932, -2.2999979856947776, -0.988970346091432, -0.17387465651416092, 1.1434523811225343, 0.7142548633467558, 1.0861935261444606, 0.5326363331496747, 0.24960608255715572, 0.15224848216287823, -1.0379568391468894, 0.40303463838925496, 1.4745778622017471, 0.5528359060224775, -0.4041364159267252, 0.2958334397510018, -0.9587982415737354, 2.411937340919393, -1.5457422218029453, 0.349811580328209, -0.22414230333098373, -0.5952445750360521, -0.17328969929810023, -0.2544671869662989, 0.38014899400462554, -0.8101198010890571, -0.14087644847276767, 0.5011952118769845, -1.4466394766986472, -0.6101461012464322, 0.25454424877028975, -0.6731734711992503, 1.535518147828806, -1.8820650727715733, -0.08447236199084893, 0.30272598868420986, 1.279879939966949, -0.2801796132397617, 1.1306796638342382, 1.2908453116833694, -0.5089587024089931, 0.12139023869349684, 0.29123717194560733]}, {\"line\": {\"color\": \"rgba(55, 128, 191, 1.0)\", \"dash\": \"solid\", \"shape\": \"linear\", \"width\": 1.3}, \"mode\": \"lines\", \"name\": \"B\", \"text\": \"\", \"type\": \"scatter\", \"x\": [0, 1, 2, 3, 4, 5, 6, 7, 8, 9, 10, 11, 12, 13, 14, 15, 16, 17, 18, 19, 20, 21, 22, 23, 24, 25, 26, 27, 28, 29, 30, 31, 32, 33, 34, 35, 36, 37, 38, 39, 40, 41, 42, 43, 44, 45, 46, 47, 48, 49, 50, 51, 52, 53, 54, 55, 56, 57, 58, 59, 60, 61, 62, 63, 64, 65, 66, 67, 68, 69, 70, 71, 72, 73, 74, 75, 76, 77, 78, 79, 80, 81, 82, 83, 84, 85, 86, 87, 88, 89, 90, 91, 92, 93, 94, 95, 96, 97, 98, 99], \"y\": [-0.9091481202776661, 0.06780882273199226, -0.37426163102207805, -0.0893408716584356, 0.3785809932478647, -0.1674663523925086, -1.8900779795166602, -0.3424626483864567, 0.16169535711160646, 0.0478377990035949, -0.05481689229587556, 0.5533515341116935, 1.813873713624411, 0.4496238708250704, -0.7669842546794466, -0.5878357083218064, 0.2371579630564443, -0.53799999065927, -1.928307767514013, 0.778863457823434, -0.4660622969181952, 0.21413796571596228, 0.18163665667639722, -0.11279316160530298, -0.10135968035407887, 1.1556132702741724, -1.4199345211591043, -1.1980119673035385, -0.403043648643454, -0.18535180459067813, -0.590798397804791, -0.3527904046359064, 0.0521331226621967, 1.532901799474751, 0.5802094194992679, -0.010870242447072558, 0.4642532142674884, -0.9660326232658625, 1.9556195439245811, -0.05408068932375628, 0.18235044092284422, -0.1051075040381056, 0.16635592876305297, -1.6885493863487944, 0.6763009103052485, -2.10897816221814, 0.4405099968628592, 0.6263658596754582, 1.9604723414870466, 1.06194614575976, 0.6400773508424474, -0.5500867822309106, 0.8307100882811101, 0.0344633537188449, -1.330900477021943, 2.4910631328577386, -1.7059464862818212, 0.5955627767535996, 0.07872829056054018, -0.7658543204305447, -1.0595414654093238, -0.4404871361336019, -0.4303288990356177, 1.4977893567786902, -1.8584560116454625, 0.28782599809848924, -0.5654122593952702, 1.051391369391621, -0.9569865241042446, 0.6768422848156005, -0.4150103635543724, 1.9936289538054037, 0.6034494063737481, -0.5042530167988375, -1.7769618298699321, 0.2973685224675162, 0.6357589463328186, -0.9239470626522018, 0.389154509412879, -0.8314898251629631, 1.1306355458935795, -0.13371758037286724, -0.9233531684251245, -1.482427845223228, -0.06425504201663151, 1.8131487525802705, -1.3458155732931503, 0.7107488739846166, 0.5952788770646874, -0.18688980536139707, 0.364839931718773, 0.3702635516581097, -1.4292990764432627, -0.5328116959402388, 0.11373726774497099, 1.1744561982317403, 0.9043388870333897, -0.5964606635103178, 0.8775321308476934, 0.4960320670502967]}, {\"line\": {\"color\": \"rgba(50, 171, 96, 1.0)\", \"dash\": \"solid\", \"shape\": \"linear\", \"width\": 1.3}, \"mode\": \"lines\", \"name\": \"C\", \"text\": \"\", \"type\": \"scatter\", \"x\": [0, 1, 2, 3, 4, 5, 6, 7, 8, 9, 10, 11, 12, 13, 14, 15, 16, 17, 18, 19, 20, 21, 22, 23, 24, 25, 26, 27, 28, 29, 30, 31, 32, 33, 34, 35, 36, 37, 38, 39, 40, 41, 42, 43, 44, 45, 46, 47, 48, 49, 50, 51, 52, 53, 54, 55, 56, 57, 58, 59, 60, 61, 62, 63, 64, 65, 66, 67, 68, 69, 70, 71, 72, 73, 74, 75, 76, 77, 78, 79, 80, 81, 82, 83, 84, 85, 86, 87, 88, 89, 90, 91, 92, 93, 94, 95, 96, 97, 98, 99], \"y\": [-1.197603887322099, -0.14967919671293892, 0.5444082636142232, -0.07152960472442545, -0.11760235423160066, -0.7152903793804544, 0.4005045046255291, 1.3518039524512873, -1.1243483736276993, -0.5009909117196343, -0.6356525293413666, 0.2956388077628931, -0.7524320015200916, -1.0529801411888347, 0.7071044525469407, -0.9284437462526892, -1.164603065805729, -0.6421343978188939, -0.8947566955109193, 0.452194461157883, -1.670887483463763, 1.0002966776604, 1.8493638173924913, -1.652593256858235, 0.5956196697561125, 1.7477319863139726, -0.5083851338373848, 0.07323737775396946, -0.5543647956471862, -0.7280928908030394, 0.929444705638144, -1.1237235236519836, 1.364897098191059, 0.5478777880307599, -0.07518856217547684, -0.3973916275118296, -0.2522469404046494, -0.8371763884555629, -0.007728306192208445, 1.037248310474221, 2.0671129544998172, 1.706815112917324, -0.08261281371724254, 0.20644873959937096, 0.6924770531326767, -1.5827261161381425, -0.7763239958108433, -0.3503803723749217, -1.9302490373390493, 1.1641087222396087, 0.5011120254621527, -0.5765128729674301, -0.572909190354357, 0.7960288033317842, -0.4016600353267202, 0.14155162583316797, 0.538711537931317, 0.09717978563857158, -0.15855920678036223, 0.3817610314473487, -0.06345160415242983, -0.8949898403245102, -0.5922689806323262, 0.059167966149032476, -0.9025951845322313, 0.5561210474233387, 0.18971421226487797, 1.527466279236679, 1.1553110119046823, -0.05142100171334006, -0.11104848011462413, 0.45975838916078526, -1.0837658721120444, 0.2603074791735487, 0.2271357768750185, -0.6143912633154864, -0.19682027933217464, -0.0755922482911257, 2.3624936077255865, 1.061218366771381, -0.09187194218598727, 1.5566403723088795, -0.5662785101994151, 0.0871672917737875, -1.3130377206401151, -0.01629282610072284, -1.7130840368279885, -1.295689318319282, 2.5175579928428995, 1.377240242721176, -1.034680562490194, 0.6531272679255921, -0.6879084568105988, -0.46116366918317875, -1.457596574037775, 0.08248908322072915, -1.5267858011457618, 0.7764265294878716, -1.0063240827148245, -1.5337039944830495]}, {\"line\": {\"color\": \"rgba(128, 0, 128, 1.0)\", \"dash\": \"solid\", \"shape\": \"linear\", \"width\": 1.3}, \"mode\": \"lines\", \"name\": \"D\", \"text\": \"\", \"type\": \"scatter\", \"x\": [0, 1, 2, 3, 4, 5, 6, 7, 8, 9, 10, 11, 12, 13, 14, 15, 16, 17, 18, 19, 20, 21, 22, 23, 24, 25, 26, 27, 28, 29, 30, 31, 32, 33, 34, 35, 36, 37, 38, 39, 40, 41, 42, 43, 44, 45, 46, 47, 48, 49, 50, 51, 52, 53, 54, 55, 56, 57, 58, 59, 60, 61, 62, 63, 64, 65, 66, 67, 68, 69, 70, 71, 72, 73, 74, 75, 76, 77, 78, 79, 80, 81, 82, 83, 84, 85, 86, 87, 88, 89, 90, 91, 92, 93, 94, 95, 96, 97, 98, 99], \"y\": [-1.236960009175287, 1.5957056827372886, -1.0816516780323115, 2.200052015079462, 0.5143247019771605, -1.298901901880776, 0.17313645065214056, 0.9674163566203784, -0.22153004406279606, -0.27206989956303956, 0.3143012040259115, -0.569531152898254, 0.08126478029389282, 0.8559542227430773, -1.0175763939410853, -0.10680840976940756, 0.04184890394958401, -0.18633903942760885, -0.442701902721548, 0.25069835235750826, -0.15772123842472408, 0.6055264194695906, -0.5231474640327842, -1.1483991602933603, -1.4315196534480366, -0.29110580637466676, -0.6148183294126481, 1.0357269388691175, 1.4325122264680905, 0.047996524705700795, 0.5257544940853995, 0.5007092040776967, -1.0133788494833593, -0.17140111283027717, -1.6650623212197295, -0.38565297522022907, -1.0631154036221937, 0.8936736895735256, 0.6975017214985157, -0.6144869389303735, -2.1181687484974923, -0.6536309034282014, -0.48014587964671623, -1.945695231225604, -0.04551853151221338, -2.3961519073548403, 1.5957981977390046, -0.3235433792385381, -1.0793595624540027, 0.5839007832341924, 1.0199613700952719, -0.3074901790252907, 0.41799459014333507, -0.552158231869279, 1.310697439208428, -2.6075287898130743, -1.8854654673649944, 0.5002128868990016, -0.657663363118006, 1.3178004735068567, 0.3457488508580863, -0.04376132072741204, -2.8980843373751073, 1.5859570858211414, 0.07085088888886118, -0.061026509238509115, 1.3615710585152017, -0.6397894357080812, -0.43859315104324653, 0.8751237172338803, -0.31378903090234406, 0.1980565609095691, -0.9598547525201483, 0.03672553453537836, 1.7192074964219954, 1.0986428237582062, 0.0025096167788204336, -1.181223803979235, -0.20377850730036687, -0.29447410738980206, -0.2878050343115418, -0.5626726711840615, 2.1779338559988553, -1.0356971241275936, 0.2652045833527526, -1.8230465662038575, -0.012118397896673763, -0.48752840176514556, 0.3373036379938806, 3.2348155942028587, -0.3686666049825805, -0.23124159952112106, 1.722082627228278, 0.8029339991881422, -0.422344772622117, -0.6850380502239866, 0.8691707591440322, 0.14220099266924224, -0.4567669970269884, 2.9844915497962994]}],\n",
       "                        {\"legend\": {\"bgcolor\": \"#F5F6F9\", \"font\": {\"color\": \"#4D5663\"}}, \"paper_bgcolor\": \"#F5F6F9\", \"plot_bgcolor\": \"#F5F6F9\", \"template\": {\"data\": {\"bar\": [{\"error_x\": {\"color\": \"#2a3f5f\"}, \"error_y\": {\"color\": \"#2a3f5f\"}, \"marker\": {\"line\": {\"color\": \"#E5ECF6\", \"width\": 0.5}}, \"type\": \"bar\"}], \"barpolar\": [{\"marker\": {\"line\": {\"color\": \"#E5ECF6\", \"width\": 0.5}}, \"type\": \"barpolar\"}], \"carpet\": [{\"aaxis\": {\"endlinecolor\": \"#2a3f5f\", \"gridcolor\": \"white\", \"linecolor\": \"white\", \"minorgridcolor\": \"white\", \"startlinecolor\": \"#2a3f5f\"}, \"baxis\": {\"endlinecolor\": \"#2a3f5f\", \"gridcolor\": \"white\", \"linecolor\": \"white\", \"minorgridcolor\": \"white\", \"startlinecolor\": \"#2a3f5f\"}, \"type\": \"carpet\"}], \"choropleth\": [{\"colorbar\": {\"outlinewidth\": 0, \"ticks\": \"\"}, \"type\": \"choropleth\"}], \"contour\": [{\"colorbar\": {\"outlinewidth\": 0, \"ticks\": \"\"}, \"colorscale\": [[0.0, \"#0d0887\"], [0.1111111111111111, \"#46039f\"], [0.2222222222222222, \"#7201a8\"], [0.3333333333333333, \"#9c179e\"], [0.4444444444444444, \"#bd3786\"], [0.5555555555555556, \"#d8576b\"], [0.6666666666666666, \"#ed7953\"], [0.7777777777777778, \"#fb9f3a\"], [0.8888888888888888, \"#fdca26\"], [1.0, \"#f0f921\"]], \"type\": \"contour\"}], \"contourcarpet\": [{\"colorbar\": {\"outlinewidth\": 0, \"ticks\": \"\"}, \"type\": \"contourcarpet\"}], \"heatmap\": [{\"colorbar\": {\"outlinewidth\": 0, \"ticks\": \"\"}, \"colorscale\": [[0.0, \"#0d0887\"], [0.1111111111111111, \"#46039f\"], [0.2222222222222222, \"#7201a8\"], [0.3333333333333333, \"#9c179e\"], [0.4444444444444444, \"#bd3786\"], [0.5555555555555556, \"#d8576b\"], [0.6666666666666666, \"#ed7953\"], [0.7777777777777778, \"#fb9f3a\"], [0.8888888888888888, \"#fdca26\"], [1.0, \"#f0f921\"]], \"type\": \"heatmap\"}], \"heatmapgl\": [{\"colorbar\": {\"outlinewidth\": 0, \"ticks\": \"\"}, \"colorscale\": [[0.0, \"#0d0887\"], [0.1111111111111111, \"#46039f\"], [0.2222222222222222, \"#7201a8\"], [0.3333333333333333, \"#9c179e\"], [0.4444444444444444, \"#bd3786\"], [0.5555555555555556, \"#d8576b\"], [0.6666666666666666, \"#ed7953\"], [0.7777777777777778, \"#fb9f3a\"], [0.8888888888888888, \"#fdca26\"], [1.0, \"#f0f921\"]], \"type\": \"heatmapgl\"}], \"histogram\": [{\"marker\": {\"colorbar\": {\"outlinewidth\": 0, \"ticks\": \"\"}}, \"type\": \"histogram\"}], \"histogram2d\": [{\"colorbar\": {\"outlinewidth\": 0, \"ticks\": \"\"}, \"colorscale\": [[0.0, \"#0d0887\"], [0.1111111111111111, \"#46039f\"], [0.2222222222222222, \"#7201a8\"], [0.3333333333333333, \"#9c179e\"], [0.4444444444444444, \"#bd3786\"], [0.5555555555555556, \"#d8576b\"], [0.6666666666666666, \"#ed7953\"], [0.7777777777777778, \"#fb9f3a\"], [0.8888888888888888, \"#fdca26\"], [1.0, \"#f0f921\"]], \"type\": \"histogram2d\"}], \"histogram2dcontour\": [{\"colorbar\": {\"outlinewidth\": 0, \"ticks\": \"\"}, \"colorscale\": [[0.0, \"#0d0887\"], [0.1111111111111111, \"#46039f\"], [0.2222222222222222, \"#7201a8\"], [0.3333333333333333, \"#9c179e\"], [0.4444444444444444, \"#bd3786\"], [0.5555555555555556, \"#d8576b\"], [0.6666666666666666, \"#ed7953\"], [0.7777777777777778, \"#fb9f3a\"], [0.8888888888888888, \"#fdca26\"], [1.0, \"#f0f921\"]], \"type\": \"histogram2dcontour\"}], \"mesh3d\": [{\"colorbar\": {\"outlinewidth\": 0, \"ticks\": \"\"}, \"type\": \"mesh3d\"}], \"parcoords\": [{\"line\": {\"colorbar\": {\"outlinewidth\": 0, \"ticks\": \"\"}}, \"type\": \"parcoords\"}], \"pie\": [{\"automargin\": true, \"type\": \"pie\"}], \"scatter\": [{\"marker\": {\"colorbar\": {\"outlinewidth\": 0, \"ticks\": \"\"}}, \"type\": \"scatter\"}], \"scatter3d\": [{\"line\": {\"colorbar\": {\"outlinewidth\": 0, \"ticks\": \"\"}}, \"marker\": {\"colorbar\": {\"outlinewidth\": 0, \"ticks\": \"\"}}, \"type\": \"scatter3d\"}], \"scattercarpet\": [{\"marker\": {\"colorbar\": {\"outlinewidth\": 0, \"ticks\": \"\"}}, \"type\": \"scattercarpet\"}], \"scattergeo\": [{\"marker\": {\"colorbar\": {\"outlinewidth\": 0, \"ticks\": \"\"}}, \"type\": \"scattergeo\"}], \"scattergl\": [{\"marker\": {\"colorbar\": {\"outlinewidth\": 0, \"ticks\": \"\"}}, \"type\": \"scattergl\"}], \"scattermapbox\": [{\"marker\": {\"colorbar\": {\"outlinewidth\": 0, \"ticks\": \"\"}}, \"type\": \"scattermapbox\"}], \"scatterpolar\": [{\"marker\": {\"colorbar\": {\"outlinewidth\": 0, \"ticks\": \"\"}}, \"type\": \"scatterpolar\"}], \"scatterpolargl\": [{\"marker\": {\"colorbar\": {\"outlinewidth\": 0, \"ticks\": \"\"}}, \"type\": \"scatterpolargl\"}], \"scatterternary\": [{\"marker\": {\"colorbar\": {\"outlinewidth\": 0, \"ticks\": \"\"}}, \"type\": \"scatterternary\"}], \"surface\": [{\"colorbar\": {\"outlinewidth\": 0, \"ticks\": \"\"}, \"colorscale\": [[0.0, \"#0d0887\"], [0.1111111111111111, \"#46039f\"], [0.2222222222222222, \"#7201a8\"], [0.3333333333333333, \"#9c179e\"], [0.4444444444444444, \"#bd3786\"], [0.5555555555555556, \"#d8576b\"], [0.6666666666666666, \"#ed7953\"], [0.7777777777777778, \"#fb9f3a\"], [0.8888888888888888, \"#fdca26\"], [1.0, \"#f0f921\"]], \"type\": \"surface\"}], \"table\": [{\"cells\": {\"fill\": {\"color\": \"#EBF0F8\"}, \"line\": {\"color\": \"white\"}}, \"header\": {\"fill\": {\"color\": \"#C8D4E3\"}, \"line\": {\"color\": \"white\"}}, \"type\": \"table\"}]}, \"layout\": {\"annotationdefaults\": {\"arrowcolor\": \"#2a3f5f\", \"arrowhead\": 0, \"arrowwidth\": 1}, \"coloraxis\": {\"colorbar\": {\"outlinewidth\": 0, \"ticks\": \"\"}}, \"colorscale\": {\"diverging\": [[0, \"#8e0152\"], [0.1, \"#c51b7d\"], [0.2, \"#de77ae\"], [0.3, \"#f1b6da\"], [0.4, \"#fde0ef\"], [0.5, \"#f7f7f7\"], [0.6, \"#e6f5d0\"], [0.7, \"#b8e186\"], [0.8, \"#7fbc41\"], [0.9, \"#4d9221\"], [1, \"#276419\"]], \"sequential\": [[0.0, \"#0d0887\"], [0.1111111111111111, \"#46039f\"], [0.2222222222222222, \"#7201a8\"], [0.3333333333333333, \"#9c179e\"], [0.4444444444444444, \"#bd3786\"], [0.5555555555555556, \"#d8576b\"], [0.6666666666666666, \"#ed7953\"], [0.7777777777777778, \"#fb9f3a\"], [0.8888888888888888, \"#fdca26\"], [1.0, \"#f0f921\"]], \"sequentialminus\": [[0.0, \"#0d0887\"], [0.1111111111111111, \"#46039f\"], [0.2222222222222222, \"#7201a8\"], [0.3333333333333333, \"#9c179e\"], [0.4444444444444444, \"#bd3786\"], [0.5555555555555556, \"#d8576b\"], [0.6666666666666666, \"#ed7953\"], [0.7777777777777778, \"#fb9f3a\"], [0.8888888888888888, \"#fdca26\"], [1.0, \"#f0f921\"]]}, \"colorway\": [\"#636efa\", \"#EF553B\", \"#00cc96\", \"#ab63fa\", \"#FFA15A\", \"#19d3f3\", \"#FF6692\", \"#B6E880\", \"#FF97FF\", \"#FECB52\"], \"font\": {\"color\": \"#2a3f5f\"}, \"geo\": {\"bgcolor\": \"white\", \"lakecolor\": \"white\", \"landcolor\": \"#E5ECF6\", \"showlakes\": true, \"showland\": true, \"subunitcolor\": \"white\"}, \"hoverlabel\": {\"align\": \"left\"}, \"hovermode\": \"closest\", \"mapbox\": {\"style\": \"light\"}, \"paper_bgcolor\": \"white\", \"plot_bgcolor\": \"#E5ECF6\", \"polar\": {\"angularaxis\": {\"gridcolor\": \"white\", \"linecolor\": \"white\", \"ticks\": \"\"}, \"bgcolor\": \"#E5ECF6\", \"radialaxis\": {\"gridcolor\": \"white\", \"linecolor\": \"white\", \"ticks\": \"\"}}, \"scene\": {\"xaxis\": {\"backgroundcolor\": \"#E5ECF6\", \"gridcolor\": \"white\", \"gridwidth\": 2, \"linecolor\": \"white\", \"showbackground\": true, \"ticks\": \"\", \"zerolinecolor\": \"white\"}, \"yaxis\": {\"backgroundcolor\": \"#E5ECF6\", \"gridcolor\": \"white\", \"gridwidth\": 2, \"linecolor\": \"white\", \"showbackground\": true, \"ticks\": \"\", \"zerolinecolor\": \"white\"}, \"zaxis\": {\"backgroundcolor\": \"#E5ECF6\", \"gridcolor\": \"white\", \"gridwidth\": 2, \"linecolor\": \"white\", \"showbackground\": true, \"ticks\": \"\", \"zerolinecolor\": \"white\"}}, \"shapedefaults\": {\"line\": {\"color\": \"#2a3f5f\"}}, \"ternary\": {\"aaxis\": {\"gridcolor\": \"white\", \"linecolor\": \"white\", \"ticks\": \"\"}, \"baxis\": {\"gridcolor\": \"white\", \"linecolor\": \"white\", \"ticks\": \"\"}, \"bgcolor\": \"#E5ECF6\", \"caxis\": {\"gridcolor\": \"white\", \"linecolor\": \"white\", \"ticks\": \"\"}}, \"title\": {\"x\": 0.05}, \"xaxis\": {\"automargin\": true, \"gridcolor\": \"white\", \"linecolor\": \"white\", \"ticks\": \"\", \"title\": {\"standoff\": 15}, \"zerolinecolor\": \"white\", \"zerolinewidth\": 2}, \"yaxis\": {\"automargin\": true, \"gridcolor\": \"white\", \"linecolor\": \"white\", \"ticks\": \"\", \"title\": {\"standoff\": 15}, \"zerolinecolor\": \"white\", \"zerolinewidth\": 2}}}, \"title\": {\"font\": {\"color\": \"#4D5663\"}}, \"xaxis\": {\"gridcolor\": \"#E1E5ED\", \"showgrid\": true, \"tickfont\": {\"color\": \"#4D5663\"}, \"title\": {\"font\": {\"color\": \"#4D5663\"}, \"text\": \"\"}, \"zerolinecolor\": \"#E1E5ED\"}, \"yaxis\": {\"gridcolor\": \"#E1E5ED\", \"showgrid\": true, \"tickfont\": {\"color\": \"#4D5663\"}, \"title\": {\"font\": {\"color\": \"#4D5663\"}, \"text\": \"\"}, \"zerolinecolor\": \"#E1E5ED\"}},\n",
       "                        {\"showLink\": true, \"linkText\": \"Export to plot.ly\", \"plotlyServerURL\": \"https://plot.ly\", \"responsive\": true}\n",
       "                    ).then(function(){\n",
       "                            \n",
       "var gd = document.getElementById('5ad17123-c4f1-4a51-afa2-c4863350ba33');\n",
       "var x = new MutationObserver(function (mutations, observer) {{\n",
       "        var display = window.getComputedStyle(gd).display;\n",
       "        if (!display || display === 'none') {{\n",
       "            console.log([gd, 'removed!']);\n",
       "            Plotly.purge(gd);\n",
       "            observer.disconnect();\n",
       "        }}\n",
       "}});\n",
       "\n",
       "// Listen for the removal of the full notebook cells\n",
       "var notebookContainer = gd.closest('#notebook-container');\n",
       "if (notebookContainer) {{\n",
       "    x.observe(notebookContainer, {childList: true});\n",
       "}}\n",
       "\n",
       "// Listen for the clearing of the current output cell\n",
       "var outputEl = gd.closest('.output');\n",
       "if (outputEl) {{\n",
       "    x.observe(outputEl, {childList: true});\n",
       "}}\n",
       "\n",
       "                        })\n",
       "                };\n",
       "                });\n",
       "            </script>\n",
       "        </div>"
      ]
     },
     "metadata": {},
     "output_type": "display_data"
    }
   ],
   "source": [
    "df.iplot()"
   ]
  },
  {
   "cell_type": "code",
   "execution_count": 20,
   "metadata": {
    "colab": {},
    "colab_type": "code",
    "id": "qjl6JuNjBUVY"
   },
   "outputs": [
    {
     "data": {
      "application/vnd.plotly.v1+json": {
       "config": {
        "linkText": "Export to plot.ly",
        "plotlyServerURL": "https://plot.ly",
        "showLink": true
       },
       "data": [
        {
         "line": {
          "color": "rgba(255, 153, 51, 1.0)",
          "dash": "solid",
          "shape": "linear",
          "width": 1.3
         },
         "marker": {
          "size": 20,
          "symbol": "circle"
         },
         "mode": "markers",
         "name": "B",
         "text": "",
         "type": "scatter",
         "x": [
          1.5786187229586952,
          0.5388907679893202,
          1.078694437802884,
          0.32245053629987225,
          -0.9223734597448511,
          0.6846853537469202,
          -0.45008481106597226,
          -0.3533505384946988,
          -2.8731498108221647,
          -0.7484971720768924,
          -0.36500273352880264,
          0.6067655573450121,
          -0.9095258614147902,
          -0.5916802031109333,
          -0.1286568103901193,
          1.7388296281606612,
          0.47239980869073794,
          -0.19232195914901176,
          2.229241629104578,
          0.9230532412325921,
          1.669864645835989,
          -0.048946795581749296,
          -1.1772689529385014,
          -1.507948452528026,
          0.24724840660536831,
          -0.5514672401858561,
          0.03940467306020378,
          1.101065497240953,
          -0.6740037548529809,
          -1.087435723169192,
          0.7956290688949827,
          1.3708984098787027,
          -2.5791584583768774,
          -0.22441070420898013,
          0.26205684531518003,
          -1.4562008931988613,
          1.4373764995136746,
          1.5882274462361048,
          -1.14297172147719,
          0.8557954035872387,
          -0.21393484405050417,
          -0.4561921999510943,
          -1.2399718899695817,
          -0.4894135182650713,
          -0.9339678649182176,
          1.1632061007301673,
          -0.5287445421017896,
          -0.7851686235869038,
          0.9047629487274184,
          0.4246297921895481,
          -0.7308639618574918,
          0.25594378026316994,
          0.18619445129129822,
          -0.000521841883759933,
          -0.0956855252854502,
          0.41568934719485845,
          2.3363430277107633,
          0.986313969490932,
          -2.2999979856947776,
          -0.988970346091432,
          -0.17387465651416092,
          1.1434523811225343,
          0.7142548633467558,
          1.0861935261444606,
          0.5326363331496747,
          0.24960608255715572,
          0.15224848216287823,
          -1.0379568391468894,
          0.40303463838925496,
          1.4745778622017471,
          0.5528359060224775,
          -0.4041364159267252,
          0.2958334397510018,
          -0.9587982415737354,
          2.411937340919393,
          -1.5457422218029453,
          0.349811580328209,
          -0.22414230333098373,
          -0.5952445750360521,
          -0.17328969929810023,
          -0.2544671869662989,
          0.38014899400462554,
          -0.8101198010890571,
          -0.14087644847276767,
          0.5011952118769845,
          -1.4466394766986472,
          -0.6101461012464322,
          0.25454424877028975,
          -0.6731734711992503,
          1.535518147828806,
          -1.8820650727715733,
          -0.08447236199084893,
          0.30272598868420986,
          1.279879939966949,
          -0.2801796132397617,
          1.1306796638342382,
          1.2908453116833694,
          -0.5089587024089931,
          0.12139023869349684,
          0.29123717194560733
         ],
         "y": [
          -0.9091481202776661,
          0.06780882273199226,
          -0.37426163102207805,
          -0.0893408716584356,
          0.3785809932478647,
          -0.1674663523925086,
          -1.8900779795166602,
          -0.3424626483864567,
          0.16169535711160646,
          0.0478377990035949,
          -0.05481689229587556,
          0.5533515341116935,
          1.813873713624411,
          0.4496238708250704,
          -0.7669842546794466,
          -0.5878357083218064,
          0.2371579630564443,
          -0.53799999065927,
          -1.928307767514013,
          0.778863457823434,
          -0.4660622969181952,
          0.21413796571596228,
          0.18163665667639722,
          -0.11279316160530298,
          -0.10135968035407887,
          1.1556132702741724,
          -1.4199345211591043,
          -1.1980119673035385,
          -0.403043648643454,
          -0.18535180459067813,
          -0.590798397804791,
          -0.3527904046359064,
          0.0521331226621967,
          1.532901799474751,
          0.5802094194992679,
          -0.010870242447072558,
          0.4642532142674884,
          -0.9660326232658625,
          1.9556195439245811,
          -0.05408068932375628,
          0.18235044092284422,
          -0.1051075040381056,
          0.16635592876305297,
          -1.6885493863487944,
          0.6763009103052485,
          -2.10897816221814,
          0.4405099968628592,
          0.6263658596754582,
          1.9604723414870466,
          1.06194614575976,
          0.6400773508424474,
          -0.5500867822309106,
          0.8307100882811101,
          0.0344633537188449,
          -1.330900477021943,
          2.4910631328577386,
          -1.7059464862818212,
          0.5955627767535996,
          0.07872829056054018,
          -0.7658543204305447,
          -1.0595414654093238,
          -0.4404871361336019,
          -0.4303288990356177,
          1.4977893567786902,
          -1.8584560116454625,
          0.28782599809848924,
          -0.5654122593952702,
          1.051391369391621,
          -0.9569865241042446,
          0.6768422848156005,
          -0.4150103635543724,
          1.9936289538054037,
          0.6034494063737481,
          -0.5042530167988375,
          -1.7769618298699321,
          0.2973685224675162,
          0.6357589463328186,
          -0.9239470626522018,
          0.389154509412879,
          -0.8314898251629631,
          1.1306355458935795,
          -0.13371758037286724,
          -0.9233531684251245,
          -1.482427845223228,
          -0.06425504201663151,
          1.8131487525802705,
          -1.3458155732931503,
          0.7107488739846166,
          0.5952788770646874,
          -0.18688980536139707,
          0.364839931718773,
          0.3702635516581097,
          -1.4292990764432627,
          -0.5328116959402388,
          0.11373726774497099,
          1.1744561982317403,
          0.9043388870333897,
          -0.5964606635103178,
          0.8775321308476934,
          0.4960320670502967
         ]
        }
       ],
       "layout": {
        "legend": {
         "bgcolor": "#F5F6F9",
         "font": {
          "color": "#4D5663"
         }
        },
        "paper_bgcolor": "#F5F6F9",
        "plot_bgcolor": "#F5F6F9",
        "template": {
         "data": {
          "bar": [
           {
            "error_x": {
             "color": "#2a3f5f"
            },
            "error_y": {
             "color": "#2a3f5f"
            },
            "marker": {
             "line": {
              "color": "#E5ECF6",
              "width": 0.5
             }
            },
            "type": "bar"
           }
          ],
          "barpolar": [
           {
            "marker": {
             "line": {
              "color": "#E5ECF6",
              "width": 0.5
             }
            },
            "type": "barpolar"
           }
          ],
          "carpet": [
           {
            "aaxis": {
             "endlinecolor": "#2a3f5f",
             "gridcolor": "white",
             "linecolor": "white",
             "minorgridcolor": "white",
             "startlinecolor": "#2a3f5f"
            },
            "baxis": {
             "endlinecolor": "#2a3f5f",
             "gridcolor": "white",
             "linecolor": "white",
             "minorgridcolor": "white",
             "startlinecolor": "#2a3f5f"
            },
            "type": "carpet"
           }
          ],
          "choropleth": [
           {
            "colorbar": {
             "outlinewidth": 0,
             "ticks": ""
            },
            "type": "choropleth"
           }
          ],
          "contour": [
           {
            "colorbar": {
             "outlinewidth": 0,
             "ticks": ""
            },
            "colorscale": [
             [
              0,
              "#0d0887"
             ],
             [
              0.1111111111111111,
              "#46039f"
             ],
             [
              0.2222222222222222,
              "#7201a8"
             ],
             [
              0.3333333333333333,
              "#9c179e"
             ],
             [
              0.4444444444444444,
              "#bd3786"
             ],
             [
              0.5555555555555556,
              "#d8576b"
             ],
             [
              0.6666666666666666,
              "#ed7953"
             ],
             [
              0.7777777777777778,
              "#fb9f3a"
             ],
             [
              0.8888888888888888,
              "#fdca26"
             ],
             [
              1,
              "#f0f921"
             ]
            ],
            "type": "contour"
           }
          ],
          "contourcarpet": [
           {
            "colorbar": {
             "outlinewidth": 0,
             "ticks": ""
            },
            "type": "contourcarpet"
           }
          ],
          "heatmap": [
           {
            "colorbar": {
             "outlinewidth": 0,
             "ticks": ""
            },
            "colorscale": [
             [
              0,
              "#0d0887"
             ],
             [
              0.1111111111111111,
              "#46039f"
             ],
             [
              0.2222222222222222,
              "#7201a8"
             ],
             [
              0.3333333333333333,
              "#9c179e"
             ],
             [
              0.4444444444444444,
              "#bd3786"
             ],
             [
              0.5555555555555556,
              "#d8576b"
             ],
             [
              0.6666666666666666,
              "#ed7953"
             ],
             [
              0.7777777777777778,
              "#fb9f3a"
             ],
             [
              0.8888888888888888,
              "#fdca26"
             ],
             [
              1,
              "#f0f921"
             ]
            ],
            "type": "heatmap"
           }
          ],
          "heatmapgl": [
           {
            "colorbar": {
             "outlinewidth": 0,
             "ticks": ""
            },
            "colorscale": [
             [
              0,
              "#0d0887"
             ],
             [
              0.1111111111111111,
              "#46039f"
             ],
             [
              0.2222222222222222,
              "#7201a8"
             ],
             [
              0.3333333333333333,
              "#9c179e"
             ],
             [
              0.4444444444444444,
              "#bd3786"
             ],
             [
              0.5555555555555556,
              "#d8576b"
             ],
             [
              0.6666666666666666,
              "#ed7953"
             ],
             [
              0.7777777777777778,
              "#fb9f3a"
             ],
             [
              0.8888888888888888,
              "#fdca26"
             ],
             [
              1,
              "#f0f921"
             ]
            ],
            "type": "heatmapgl"
           }
          ],
          "histogram": [
           {
            "marker": {
             "colorbar": {
              "outlinewidth": 0,
              "ticks": ""
             }
            },
            "type": "histogram"
           }
          ],
          "histogram2d": [
           {
            "colorbar": {
             "outlinewidth": 0,
             "ticks": ""
            },
            "colorscale": [
             [
              0,
              "#0d0887"
             ],
             [
              0.1111111111111111,
              "#46039f"
             ],
             [
              0.2222222222222222,
              "#7201a8"
             ],
             [
              0.3333333333333333,
              "#9c179e"
             ],
             [
              0.4444444444444444,
              "#bd3786"
             ],
             [
              0.5555555555555556,
              "#d8576b"
             ],
             [
              0.6666666666666666,
              "#ed7953"
             ],
             [
              0.7777777777777778,
              "#fb9f3a"
             ],
             [
              0.8888888888888888,
              "#fdca26"
             ],
             [
              1,
              "#f0f921"
             ]
            ],
            "type": "histogram2d"
           }
          ],
          "histogram2dcontour": [
           {
            "colorbar": {
             "outlinewidth": 0,
             "ticks": ""
            },
            "colorscale": [
             [
              0,
              "#0d0887"
             ],
             [
              0.1111111111111111,
              "#46039f"
             ],
             [
              0.2222222222222222,
              "#7201a8"
             ],
             [
              0.3333333333333333,
              "#9c179e"
             ],
             [
              0.4444444444444444,
              "#bd3786"
             ],
             [
              0.5555555555555556,
              "#d8576b"
             ],
             [
              0.6666666666666666,
              "#ed7953"
             ],
             [
              0.7777777777777778,
              "#fb9f3a"
             ],
             [
              0.8888888888888888,
              "#fdca26"
             ],
             [
              1,
              "#f0f921"
             ]
            ],
            "type": "histogram2dcontour"
           }
          ],
          "mesh3d": [
           {
            "colorbar": {
             "outlinewidth": 0,
             "ticks": ""
            },
            "type": "mesh3d"
           }
          ],
          "parcoords": [
           {
            "line": {
             "colorbar": {
              "outlinewidth": 0,
              "ticks": ""
             }
            },
            "type": "parcoords"
           }
          ],
          "pie": [
           {
            "automargin": true,
            "type": "pie"
           }
          ],
          "scatter": [
           {
            "marker": {
             "colorbar": {
              "outlinewidth": 0,
              "ticks": ""
             }
            },
            "type": "scatter"
           }
          ],
          "scatter3d": [
           {
            "line": {
             "colorbar": {
              "outlinewidth": 0,
              "ticks": ""
             }
            },
            "marker": {
             "colorbar": {
              "outlinewidth": 0,
              "ticks": ""
             }
            },
            "type": "scatter3d"
           }
          ],
          "scattercarpet": [
           {
            "marker": {
             "colorbar": {
              "outlinewidth": 0,
              "ticks": ""
             }
            },
            "type": "scattercarpet"
           }
          ],
          "scattergeo": [
           {
            "marker": {
             "colorbar": {
              "outlinewidth": 0,
              "ticks": ""
             }
            },
            "type": "scattergeo"
           }
          ],
          "scattergl": [
           {
            "marker": {
             "colorbar": {
              "outlinewidth": 0,
              "ticks": ""
             }
            },
            "type": "scattergl"
           }
          ],
          "scattermapbox": [
           {
            "marker": {
             "colorbar": {
              "outlinewidth": 0,
              "ticks": ""
             }
            },
            "type": "scattermapbox"
           }
          ],
          "scatterpolar": [
           {
            "marker": {
             "colorbar": {
              "outlinewidth": 0,
              "ticks": ""
             }
            },
            "type": "scatterpolar"
           }
          ],
          "scatterpolargl": [
           {
            "marker": {
             "colorbar": {
              "outlinewidth": 0,
              "ticks": ""
             }
            },
            "type": "scatterpolargl"
           }
          ],
          "scatterternary": [
           {
            "marker": {
             "colorbar": {
              "outlinewidth": 0,
              "ticks": ""
             }
            },
            "type": "scatterternary"
           }
          ],
          "surface": [
           {
            "colorbar": {
             "outlinewidth": 0,
             "ticks": ""
            },
            "colorscale": [
             [
              0,
              "#0d0887"
             ],
             [
              0.1111111111111111,
              "#46039f"
             ],
             [
              0.2222222222222222,
              "#7201a8"
             ],
             [
              0.3333333333333333,
              "#9c179e"
             ],
             [
              0.4444444444444444,
              "#bd3786"
             ],
             [
              0.5555555555555556,
              "#d8576b"
             ],
             [
              0.6666666666666666,
              "#ed7953"
             ],
             [
              0.7777777777777778,
              "#fb9f3a"
             ],
             [
              0.8888888888888888,
              "#fdca26"
             ],
             [
              1,
              "#f0f921"
             ]
            ],
            "type": "surface"
           }
          ],
          "table": [
           {
            "cells": {
             "fill": {
              "color": "#EBF0F8"
             },
             "line": {
              "color": "white"
             }
            },
            "header": {
             "fill": {
              "color": "#C8D4E3"
             },
             "line": {
              "color": "white"
             }
            },
            "type": "table"
           }
          ]
         },
         "layout": {
          "annotationdefaults": {
           "arrowcolor": "#2a3f5f",
           "arrowhead": 0,
           "arrowwidth": 1
          },
          "coloraxis": {
           "colorbar": {
            "outlinewidth": 0,
            "ticks": ""
           }
          },
          "colorscale": {
           "diverging": [
            [
             0,
             "#8e0152"
            ],
            [
             0.1,
             "#c51b7d"
            ],
            [
             0.2,
             "#de77ae"
            ],
            [
             0.3,
             "#f1b6da"
            ],
            [
             0.4,
             "#fde0ef"
            ],
            [
             0.5,
             "#f7f7f7"
            ],
            [
             0.6,
             "#e6f5d0"
            ],
            [
             0.7,
             "#b8e186"
            ],
            [
             0.8,
             "#7fbc41"
            ],
            [
             0.9,
             "#4d9221"
            ],
            [
             1,
             "#276419"
            ]
           ],
           "sequential": [
            [
             0,
             "#0d0887"
            ],
            [
             0.1111111111111111,
             "#46039f"
            ],
            [
             0.2222222222222222,
             "#7201a8"
            ],
            [
             0.3333333333333333,
             "#9c179e"
            ],
            [
             0.4444444444444444,
             "#bd3786"
            ],
            [
             0.5555555555555556,
             "#d8576b"
            ],
            [
             0.6666666666666666,
             "#ed7953"
            ],
            [
             0.7777777777777778,
             "#fb9f3a"
            ],
            [
             0.8888888888888888,
             "#fdca26"
            ],
            [
             1,
             "#f0f921"
            ]
           ],
           "sequentialminus": [
            [
             0,
             "#0d0887"
            ],
            [
             0.1111111111111111,
             "#46039f"
            ],
            [
             0.2222222222222222,
             "#7201a8"
            ],
            [
             0.3333333333333333,
             "#9c179e"
            ],
            [
             0.4444444444444444,
             "#bd3786"
            ],
            [
             0.5555555555555556,
             "#d8576b"
            ],
            [
             0.6666666666666666,
             "#ed7953"
            ],
            [
             0.7777777777777778,
             "#fb9f3a"
            ],
            [
             0.8888888888888888,
             "#fdca26"
            ],
            [
             1,
             "#f0f921"
            ]
           ]
          },
          "colorway": [
           "#636efa",
           "#EF553B",
           "#00cc96",
           "#ab63fa",
           "#FFA15A",
           "#19d3f3",
           "#FF6692",
           "#B6E880",
           "#FF97FF",
           "#FECB52"
          ],
          "font": {
           "color": "#2a3f5f"
          },
          "geo": {
           "bgcolor": "white",
           "lakecolor": "white",
           "landcolor": "#E5ECF6",
           "showlakes": true,
           "showland": true,
           "subunitcolor": "white"
          },
          "hoverlabel": {
           "align": "left"
          },
          "hovermode": "closest",
          "mapbox": {
           "style": "light"
          },
          "paper_bgcolor": "white",
          "plot_bgcolor": "#E5ECF6",
          "polar": {
           "angularaxis": {
            "gridcolor": "white",
            "linecolor": "white",
            "ticks": ""
           },
           "bgcolor": "#E5ECF6",
           "radialaxis": {
            "gridcolor": "white",
            "linecolor": "white",
            "ticks": ""
           }
          },
          "scene": {
           "xaxis": {
            "backgroundcolor": "#E5ECF6",
            "gridcolor": "white",
            "gridwidth": 2,
            "linecolor": "white",
            "showbackground": true,
            "ticks": "",
            "zerolinecolor": "white"
           },
           "yaxis": {
            "backgroundcolor": "#E5ECF6",
            "gridcolor": "white",
            "gridwidth": 2,
            "linecolor": "white",
            "showbackground": true,
            "ticks": "",
            "zerolinecolor": "white"
           },
           "zaxis": {
            "backgroundcolor": "#E5ECF6",
            "gridcolor": "white",
            "gridwidth": 2,
            "linecolor": "white",
            "showbackground": true,
            "ticks": "",
            "zerolinecolor": "white"
           }
          },
          "shapedefaults": {
           "line": {
            "color": "#2a3f5f"
           }
          },
          "ternary": {
           "aaxis": {
            "gridcolor": "white",
            "linecolor": "white",
            "ticks": ""
           },
           "baxis": {
            "gridcolor": "white",
            "linecolor": "white",
            "ticks": ""
           },
           "bgcolor": "#E5ECF6",
           "caxis": {
            "gridcolor": "white",
            "linecolor": "white",
            "ticks": ""
           }
          },
          "title": {
           "x": 0.05
          },
          "xaxis": {
           "automargin": true,
           "gridcolor": "white",
           "linecolor": "white",
           "ticks": "",
           "title": {
            "standoff": 15
           },
           "zerolinecolor": "white",
           "zerolinewidth": 2
          },
          "yaxis": {
           "automargin": true,
           "gridcolor": "white",
           "linecolor": "white",
           "ticks": "",
           "title": {
            "standoff": 15
           },
           "zerolinecolor": "white",
           "zerolinewidth": 2
          }
         }
        },
        "title": {
         "font": {
          "color": "#4D5663"
         }
        },
        "xaxis": {
         "gridcolor": "#E1E5ED",
         "showgrid": true,
         "tickfont": {
          "color": "#4D5663"
         },
         "title": {
          "font": {
           "color": "#4D5663"
          },
          "text": ""
         },
         "zerolinecolor": "#E1E5ED"
        },
        "yaxis": {
         "gridcolor": "#E1E5ED",
         "showgrid": true,
         "tickfont": {
          "color": "#4D5663"
         },
         "title": {
          "font": {
           "color": "#4D5663"
          },
          "text": ""
         },
         "zerolinecolor": "#E1E5ED"
        }
       }
      },
      "text/html": [
       "<div>\n",
       "        \n",
       "        \n",
       "            <div id=\"c24b0ee6-80ca-4f20-a4af-f871c1045cd5\" class=\"plotly-graph-div\" style=\"height:525px; width:100%;\"></div>\n",
       "            <script type=\"text/javascript\">\n",
       "                require([\"plotly\"], function(Plotly) {\n",
       "                    window.PLOTLYENV=window.PLOTLYENV || {};\n",
       "                    window.PLOTLYENV.BASE_URL='https://plot.ly';\n",
       "                    \n",
       "                if (document.getElementById(\"c24b0ee6-80ca-4f20-a4af-f871c1045cd5\")) {\n",
       "                    Plotly.newPlot(\n",
       "                        'c24b0ee6-80ca-4f20-a4af-f871c1045cd5',\n",
       "                        [{\"line\": {\"color\": \"rgba(255, 153, 51, 1.0)\", \"dash\": \"solid\", \"shape\": \"linear\", \"width\": 1.3}, \"marker\": {\"size\": 20, \"symbol\": \"circle\"}, \"mode\": \"markers\", \"name\": \"B\", \"text\": \"\", \"type\": \"scatter\", \"x\": [1.5786187229586952, 0.5388907679893202, 1.078694437802884, 0.32245053629987225, -0.9223734597448511, 0.6846853537469202, -0.45008481106597226, -0.3533505384946988, -2.8731498108221647, -0.7484971720768924, -0.36500273352880264, 0.6067655573450121, -0.9095258614147902, -0.5916802031109333, -0.1286568103901193, 1.7388296281606612, 0.47239980869073794, -0.19232195914901176, 2.229241629104578, 0.9230532412325921, 1.669864645835989, -0.048946795581749296, -1.1772689529385014, -1.507948452528026, 0.24724840660536831, -0.5514672401858561, 0.03940467306020378, 1.101065497240953, -0.6740037548529809, -1.087435723169192, 0.7956290688949827, 1.3708984098787027, -2.5791584583768774, -0.22441070420898013, 0.26205684531518003, -1.4562008931988613, 1.4373764995136746, 1.5882274462361048, -1.14297172147719, 0.8557954035872387, -0.21393484405050417, -0.4561921999510943, -1.2399718899695817, -0.4894135182650713, -0.9339678649182176, 1.1632061007301673, -0.5287445421017896, -0.7851686235869038, 0.9047629487274184, 0.4246297921895481, -0.7308639618574918, 0.25594378026316994, 0.18619445129129822, -0.000521841883759933, -0.0956855252854502, 0.41568934719485845, 2.3363430277107633, 0.986313969490932, -2.2999979856947776, -0.988970346091432, -0.17387465651416092, 1.1434523811225343, 0.7142548633467558, 1.0861935261444606, 0.5326363331496747, 0.24960608255715572, 0.15224848216287823, -1.0379568391468894, 0.40303463838925496, 1.4745778622017471, 0.5528359060224775, -0.4041364159267252, 0.2958334397510018, -0.9587982415737354, 2.411937340919393, -1.5457422218029453, 0.349811580328209, -0.22414230333098373, -0.5952445750360521, -0.17328969929810023, -0.2544671869662989, 0.38014899400462554, -0.8101198010890571, -0.14087644847276767, 0.5011952118769845, -1.4466394766986472, -0.6101461012464322, 0.25454424877028975, -0.6731734711992503, 1.535518147828806, -1.8820650727715733, -0.08447236199084893, 0.30272598868420986, 1.279879939966949, -0.2801796132397617, 1.1306796638342382, 1.2908453116833694, -0.5089587024089931, 0.12139023869349684, 0.29123717194560733], \"y\": [-0.9091481202776661, 0.06780882273199226, -0.37426163102207805, -0.0893408716584356, 0.3785809932478647, -0.1674663523925086, -1.8900779795166602, -0.3424626483864567, 0.16169535711160646, 0.0478377990035949, -0.05481689229587556, 0.5533515341116935, 1.813873713624411, 0.4496238708250704, -0.7669842546794466, -0.5878357083218064, 0.2371579630564443, -0.53799999065927, -1.928307767514013, 0.778863457823434, -0.4660622969181952, 0.21413796571596228, 0.18163665667639722, -0.11279316160530298, -0.10135968035407887, 1.1556132702741724, -1.4199345211591043, -1.1980119673035385, -0.403043648643454, -0.18535180459067813, -0.590798397804791, -0.3527904046359064, 0.0521331226621967, 1.532901799474751, 0.5802094194992679, -0.010870242447072558, 0.4642532142674884, -0.9660326232658625, 1.9556195439245811, -0.05408068932375628, 0.18235044092284422, -0.1051075040381056, 0.16635592876305297, -1.6885493863487944, 0.6763009103052485, -2.10897816221814, 0.4405099968628592, 0.6263658596754582, 1.9604723414870466, 1.06194614575976, 0.6400773508424474, -0.5500867822309106, 0.8307100882811101, 0.0344633537188449, -1.330900477021943, 2.4910631328577386, -1.7059464862818212, 0.5955627767535996, 0.07872829056054018, -0.7658543204305447, -1.0595414654093238, -0.4404871361336019, -0.4303288990356177, 1.4977893567786902, -1.8584560116454625, 0.28782599809848924, -0.5654122593952702, 1.051391369391621, -0.9569865241042446, 0.6768422848156005, -0.4150103635543724, 1.9936289538054037, 0.6034494063737481, -0.5042530167988375, -1.7769618298699321, 0.2973685224675162, 0.6357589463328186, -0.9239470626522018, 0.389154509412879, -0.8314898251629631, 1.1306355458935795, -0.13371758037286724, -0.9233531684251245, -1.482427845223228, -0.06425504201663151, 1.8131487525802705, -1.3458155732931503, 0.7107488739846166, 0.5952788770646874, -0.18688980536139707, 0.364839931718773, 0.3702635516581097, -1.4292990764432627, -0.5328116959402388, 0.11373726774497099, 1.1744561982317403, 0.9043388870333897, -0.5964606635103178, 0.8775321308476934, 0.4960320670502967]}],\n",
       "                        {\"legend\": {\"bgcolor\": \"#F5F6F9\", \"font\": {\"color\": \"#4D5663\"}}, \"paper_bgcolor\": \"#F5F6F9\", \"plot_bgcolor\": \"#F5F6F9\", \"template\": {\"data\": {\"bar\": [{\"error_x\": {\"color\": \"#2a3f5f\"}, \"error_y\": {\"color\": \"#2a3f5f\"}, \"marker\": {\"line\": {\"color\": \"#E5ECF6\", \"width\": 0.5}}, \"type\": \"bar\"}], \"barpolar\": [{\"marker\": {\"line\": {\"color\": \"#E5ECF6\", \"width\": 0.5}}, \"type\": \"barpolar\"}], \"carpet\": [{\"aaxis\": {\"endlinecolor\": \"#2a3f5f\", \"gridcolor\": \"white\", \"linecolor\": \"white\", \"minorgridcolor\": \"white\", \"startlinecolor\": \"#2a3f5f\"}, \"baxis\": {\"endlinecolor\": \"#2a3f5f\", \"gridcolor\": \"white\", \"linecolor\": \"white\", \"minorgridcolor\": \"white\", \"startlinecolor\": \"#2a3f5f\"}, \"type\": \"carpet\"}], \"choropleth\": [{\"colorbar\": {\"outlinewidth\": 0, \"ticks\": \"\"}, \"type\": \"choropleth\"}], \"contour\": [{\"colorbar\": {\"outlinewidth\": 0, \"ticks\": \"\"}, \"colorscale\": [[0.0, \"#0d0887\"], [0.1111111111111111, \"#46039f\"], [0.2222222222222222, \"#7201a8\"], [0.3333333333333333, \"#9c179e\"], [0.4444444444444444, \"#bd3786\"], [0.5555555555555556, \"#d8576b\"], [0.6666666666666666, \"#ed7953\"], [0.7777777777777778, \"#fb9f3a\"], [0.8888888888888888, \"#fdca26\"], [1.0, \"#f0f921\"]], \"type\": \"contour\"}], \"contourcarpet\": [{\"colorbar\": {\"outlinewidth\": 0, \"ticks\": \"\"}, \"type\": \"contourcarpet\"}], \"heatmap\": [{\"colorbar\": {\"outlinewidth\": 0, \"ticks\": \"\"}, \"colorscale\": [[0.0, \"#0d0887\"], [0.1111111111111111, \"#46039f\"], [0.2222222222222222, \"#7201a8\"], [0.3333333333333333, \"#9c179e\"], [0.4444444444444444, \"#bd3786\"], [0.5555555555555556, \"#d8576b\"], [0.6666666666666666, \"#ed7953\"], [0.7777777777777778, \"#fb9f3a\"], [0.8888888888888888, \"#fdca26\"], [1.0, \"#f0f921\"]], \"type\": \"heatmap\"}], \"heatmapgl\": [{\"colorbar\": {\"outlinewidth\": 0, \"ticks\": \"\"}, \"colorscale\": [[0.0, \"#0d0887\"], [0.1111111111111111, \"#46039f\"], [0.2222222222222222, \"#7201a8\"], [0.3333333333333333, \"#9c179e\"], [0.4444444444444444, \"#bd3786\"], [0.5555555555555556, \"#d8576b\"], [0.6666666666666666, \"#ed7953\"], [0.7777777777777778, \"#fb9f3a\"], [0.8888888888888888, \"#fdca26\"], [1.0, \"#f0f921\"]], \"type\": \"heatmapgl\"}], \"histogram\": [{\"marker\": {\"colorbar\": {\"outlinewidth\": 0, \"ticks\": \"\"}}, \"type\": \"histogram\"}], \"histogram2d\": [{\"colorbar\": {\"outlinewidth\": 0, \"ticks\": \"\"}, \"colorscale\": [[0.0, \"#0d0887\"], [0.1111111111111111, \"#46039f\"], [0.2222222222222222, \"#7201a8\"], [0.3333333333333333, \"#9c179e\"], [0.4444444444444444, \"#bd3786\"], [0.5555555555555556, \"#d8576b\"], [0.6666666666666666, \"#ed7953\"], [0.7777777777777778, \"#fb9f3a\"], [0.8888888888888888, \"#fdca26\"], [1.0, \"#f0f921\"]], \"type\": \"histogram2d\"}], \"histogram2dcontour\": [{\"colorbar\": {\"outlinewidth\": 0, \"ticks\": \"\"}, \"colorscale\": [[0.0, \"#0d0887\"], [0.1111111111111111, \"#46039f\"], [0.2222222222222222, \"#7201a8\"], [0.3333333333333333, \"#9c179e\"], [0.4444444444444444, \"#bd3786\"], [0.5555555555555556, \"#d8576b\"], [0.6666666666666666, \"#ed7953\"], [0.7777777777777778, \"#fb9f3a\"], [0.8888888888888888, \"#fdca26\"], [1.0, \"#f0f921\"]], \"type\": \"histogram2dcontour\"}], \"mesh3d\": [{\"colorbar\": {\"outlinewidth\": 0, \"ticks\": \"\"}, \"type\": \"mesh3d\"}], \"parcoords\": [{\"line\": {\"colorbar\": {\"outlinewidth\": 0, \"ticks\": \"\"}}, \"type\": \"parcoords\"}], \"pie\": [{\"automargin\": true, \"type\": \"pie\"}], \"scatter\": [{\"marker\": {\"colorbar\": {\"outlinewidth\": 0, \"ticks\": \"\"}}, \"type\": \"scatter\"}], \"scatter3d\": [{\"line\": {\"colorbar\": {\"outlinewidth\": 0, \"ticks\": \"\"}}, \"marker\": {\"colorbar\": {\"outlinewidth\": 0, \"ticks\": \"\"}}, \"type\": \"scatter3d\"}], \"scattercarpet\": [{\"marker\": {\"colorbar\": {\"outlinewidth\": 0, \"ticks\": \"\"}}, \"type\": \"scattercarpet\"}], \"scattergeo\": [{\"marker\": {\"colorbar\": {\"outlinewidth\": 0, \"ticks\": \"\"}}, \"type\": \"scattergeo\"}], \"scattergl\": [{\"marker\": {\"colorbar\": {\"outlinewidth\": 0, \"ticks\": \"\"}}, \"type\": \"scattergl\"}], \"scattermapbox\": [{\"marker\": {\"colorbar\": {\"outlinewidth\": 0, \"ticks\": \"\"}}, \"type\": \"scattermapbox\"}], \"scatterpolar\": [{\"marker\": {\"colorbar\": {\"outlinewidth\": 0, \"ticks\": \"\"}}, \"type\": \"scatterpolar\"}], \"scatterpolargl\": [{\"marker\": {\"colorbar\": {\"outlinewidth\": 0, \"ticks\": \"\"}}, \"type\": \"scatterpolargl\"}], \"scatterternary\": [{\"marker\": {\"colorbar\": {\"outlinewidth\": 0, \"ticks\": \"\"}}, \"type\": \"scatterternary\"}], \"surface\": [{\"colorbar\": {\"outlinewidth\": 0, \"ticks\": \"\"}, \"colorscale\": [[0.0, \"#0d0887\"], [0.1111111111111111, \"#46039f\"], [0.2222222222222222, \"#7201a8\"], [0.3333333333333333, \"#9c179e\"], [0.4444444444444444, \"#bd3786\"], [0.5555555555555556, \"#d8576b\"], [0.6666666666666666, \"#ed7953\"], [0.7777777777777778, \"#fb9f3a\"], [0.8888888888888888, \"#fdca26\"], [1.0, \"#f0f921\"]], \"type\": \"surface\"}], \"table\": [{\"cells\": {\"fill\": {\"color\": \"#EBF0F8\"}, \"line\": {\"color\": \"white\"}}, \"header\": {\"fill\": {\"color\": \"#C8D4E3\"}, \"line\": {\"color\": \"white\"}}, \"type\": \"table\"}]}, \"layout\": {\"annotationdefaults\": {\"arrowcolor\": \"#2a3f5f\", \"arrowhead\": 0, \"arrowwidth\": 1}, \"coloraxis\": {\"colorbar\": {\"outlinewidth\": 0, \"ticks\": \"\"}}, \"colorscale\": {\"diverging\": [[0, \"#8e0152\"], [0.1, \"#c51b7d\"], [0.2, \"#de77ae\"], [0.3, \"#f1b6da\"], [0.4, \"#fde0ef\"], [0.5, \"#f7f7f7\"], [0.6, \"#e6f5d0\"], [0.7, \"#b8e186\"], [0.8, \"#7fbc41\"], [0.9, \"#4d9221\"], [1, \"#276419\"]], \"sequential\": [[0.0, \"#0d0887\"], [0.1111111111111111, \"#46039f\"], [0.2222222222222222, \"#7201a8\"], [0.3333333333333333, \"#9c179e\"], [0.4444444444444444, \"#bd3786\"], [0.5555555555555556, \"#d8576b\"], [0.6666666666666666, \"#ed7953\"], [0.7777777777777778, \"#fb9f3a\"], [0.8888888888888888, \"#fdca26\"], [1.0, \"#f0f921\"]], \"sequentialminus\": [[0.0, \"#0d0887\"], [0.1111111111111111, \"#46039f\"], [0.2222222222222222, \"#7201a8\"], [0.3333333333333333, \"#9c179e\"], [0.4444444444444444, \"#bd3786\"], [0.5555555555555556, \"#d8576b\"], [0.6666666666666666, \"#ed7953\"], [0.7777777777777778, \"#fb9f3a\"], [0.8888888888888888, \"#fdca26\"], [1.0, \"#f0f921\"]]}, \"colorway\": [\"#636efa\", \"#EF553B\", \"#00cc96\", \"#ab63fa\", \"#FFA15A\", \"#19d3f3\", \"#FF6692\", \"#B6E880\", \"#FF97FF\", \"#FECB52\"], \"font\": {\"color\": \"#2a3f5f\"}, \"geo\": {\"bgcolor\": \"white\", \"lakecolor\": \"white\", \"landcolor\": \"#E5ECF6\", \"showlakes\": true, \"showland\": true, \"subunitcolor\": \"white\"}, \"hoverlabel\": {\"align\": \"left\"}, \"hovermode\": \"closest\", \"mapbox\": {\"style\": \"light\"}, \"paper_bgcolor\": \"white\", \"plot_bgcolor\": \"#E5ECF6\", \"polar\": {\"angularaxis\": {\"gridcolor\": \"white\", \"linecolor\": \"white\", \"ticks\": \"\"}, \"bgcolor\": \"#E5ECF6\", \"radialaxis\": {\"gridcolor\": \"white\", \"linecolor\": \"white\", \"ticks\": \"\"}}, \"scene\": {\"xaxis\": {\"backgroundcolor\": \"#E5ECF6\", \"gridcolor\": \"white\", \"gridwidth\": 2, \"linecolor\": \"white\", \"showbackground\": true, \"ticks\": \"\", \"zerolinecolor\": \"white\"}, \"yaxis\": {\"backgroundcolor\": \"#E5ECF6\", \"gridcolor\": \"white\", \"gridwidth\": 2, \"linecolor\": \"white\", \"showbackground\": true, \"ticks\": \"\", \"zerolinecolor\": \"white\"}, \"zaxis\": {\"backgroundcolor\": \"#E5ECF6\", \"gridcolor\": \"white\", \"gridwidth\": 2, \"linecolor\": \"white\", \"showbackground\": true, \"ticks\": \"\", \"zerolinecolor\": \"white\"}}, \"shapedefaults\": {\"line\": {\"color\": \"#2a3f5f\"}}, \"ternary\": {\"aaxis\": {\"gridcolor\": \"white\", \"linecolor\": \"white\", \"ticks\": \"\"}, \"baxis\": {\"gridcolor\": \"white\", \"linecolor\": \"white\", \"ticks\": \"\"}, \"bgcolor\": \"#E5ECF6\", \"caxis\": {\"gridcolor\": \"white\", \"linecolor\": \"white\", \"ticks\": \"\"}}, \"title\": {\"x\": 0.05}, \"xaxis\": {\"automargin\": true, \"gridcolor\": \"white\", \"linecolor\": \"white\", \"ticks\": \"\", \"title\": {\"standoff\": 15}, \"zerolinecolor\": \"white\", \"zerolinewidth\": 2}, \"yaxis\": {\"automargin\": true, \"gridcolor\": \"white\", \"linecolor\": \"white\", \"ticks\": \"\", \"title\": {\"standoff\": 15}, \"zerolinecolor\": \"white\", \"zerolinewidth\": 2}}}, \"title\": {\"font\": {\"color\": \"#4D5663\"}}, \"xaxis\": {\"gridcolor\": \"#E1E5ED\", \"showgrid\": true, \"tickfont\": {\"color\": \"#4D5663\"}, \"title\": {\"font\": {\"color\": \"#4D5663\"}, \"text\": \"\"}, \"zerolinecolor\": \"#E1E5ED\"}, \"yaxis\": {\"gridcolor\": \"#E1E5ED\", \"showgrid\": true, \"tickfont\": {\"color\": \"#4D5663\"}, \"title\": {\"font\": {\"color\": \"#4D5663\"}, \"text\": \"\"}, \"zerolinecolor\": \"#E1E5ED\"}},\n",
       "                        {\"showLink\": true, \"linkText\": \"Export to plot.ly\", \"plotlyServerURL\": \"https://plot.ly\", \"responsive\": true}\n",
       "                    ).then(function(){\n",
       "                            \n",
       "var gd = document.getElementById('c24b0ee6-80ca-4f20-a4af-f871c1045cd5');\n",
       "var x = new MutationObserver(function (mutations, observer) {{\n",
       "        var display = window.getComputedStyle(gd).display;\n",
       "        if (!display || display === 'none') {{\n",
       "            console.log([gd, 'removed!']);\n",
       "            Plotly.purge(gd);\n",
       "            observer.disconnect();\n",
       "        }}\n",
       "}});\n",
       "\n",
       "// Listen for the removal of the full notebook cells\n",
       "var notebookContainer = gd.closest('#notebook-container');\n",
       "if (notebookContainer) {{\n",
       "    x.observe(notebookContainer, {childList: true});\n",
       "}}\n",
       "\n",
       "// Listen for the clearing of the current output cell\n",
       "var outputEl = gd.closest('.output');\n",
       "if (outputEl) {{\n",
       "    x.observe(outputEl, {childList: true});\n",
       "}}\n",
       "\n",
       "                        })\n",
       "                };\n",
       "                });\n",
       "            </script>\n",
       "        </div>"
      ]
     },
     "metadata": {},
     "output_type": "display_data"
    }
   ],
   "source": [
    "df.iplot(kind='scatter', x='A', y='B', mode='markers', size=20)"
   ]
  },
  {
   "cell_type": "code",
   "execution_count": 24,
   "metadata": {},
   "outputs": [
    {
     "data": {
      "application/vnd.plotly.v1+json": {
       "config": {
        "linkText": "Export to plot.ly",
        "plotlyServerURL": "https://plot.ly",
        "showLink": true
       },
       "data": [
        {
         "marker": {
          "color": "rgba(255, 153, 51, 0.6)",
          "line": {
           "color": "rgba(255, 153, 51, 1.0)",
           "width": 1
          }
         },
         "name": "values",
         "orientation": "v",
         "text": "",
         "type": "bar",
         "x": [
          "A",
          "B",
          "C"
         ],
         "y": [
          "32",
          "43",
          "50"
         ]
        }
       ],
       "layout": {
        "legend": {
         "bgcolor": "#F5F6F9",
         "font": {
          "color": "#4D5663"
         }
        },
        "paper_bgcolor": "#F5F6F9",
        "plot_bgcolor": "#F5F6F9",
        "template": {
         "data": {
          "bar": [
           {
            "error_x": {
             "color": "#2a3f5f"
            },
            "error_y": {
             "color": "#2a3f5f"
            },
            "marker": {
             "line": {
              "color": "#E5ECF6",
              "width": 0.5
             }
            },
            "type": "bar"
           }
          ],
          "barpolar": [
           {
            "marker": {
             "line": {
              "color": "#E5ECF6",
              "width": 0.5
             }
            },
            "type": "barpolar"
           }
          ],
          "carpet": [
           {
            "aaxis": {
             "endlinecolor": "#2a3f5f",
             "gridcolor": "white",
             "linecolor": "white",
             "minorgridcolor": "white",
             "startlinecolor": "#2a3f5f"
            },
            "baxis": {
             "endlinecolor": "#2a3f5f",
             "gridcolor": "white",
             "linecolor": "white",
             "minorgridcolor": "white",
             "startlinecolor": "#2a3f5f"
            },
            "type": "carpet"
           }
          ],
          "choropleth": [
           {
            "colorbar": {
             "outlinewidth": 0,
             "ticks": ""
            },
            "type": "choropleth"
           }
          ],
          "contour": [
           {
            "colorbar": {
             "outlinewidth": 0,
             "ticks": ""
            },
            "colorscale": [
             [
              0,
              "#0d0887"
             ],
             [
              0.1111111111111111,
              "#46039f"
             ],
             [
              0.2222222222222222,
              "#7201a8"
             ],
             [
              0.3333333333333333,
              "#9c179e"
             ],
             [
              0.4444444444444444,
              "#bd3786"
             ],
             [
              0.5555555555555556,
              "#d8576b"
             ],
             [
              0.6666666666666666,
              "#ed7953"
             ],
             [
              0.7777777777777778,
              "#fb9f3a"
             ],
             [
              0.8888888888888888,
              "#fdca26"
             ],
             [
              1,
              "#f0f921"
             ]
            ],
            "type": "contour"
           }
          ],
          "contourcarpet": [
           {
            "colorbar": {
             "outlinewidth": 0,
             "ticks": ""
            },
            "type": "contourcarpet"
           }
          ],
          "heatmap": [
           {
            "colorbar": {
             "outlinewidth": 0,
             "ticks": ""
            },
            "colorscale": [
             [
              0,
              "#0d0887"
             ],
             [
              0.1111111111111111,
              "#46039f"
             ],
             [
              0.2222222222222222,
              "#7201a8"
             ],
             [
              0.3333333333333333,
              "#9c179e"
             ],
             [
              0.4444444444444444,
              "#bd3786"
             ],
             [
              0.5555555555555556,
              "#d8576b"
             ],
             [
              0.6666666666666666,
              "#ed7953"
             ],
             [
              0.7777777777777778,
              "#fb9f3a"
             ],
             [
              0.8888888888888888,
              "#fdca26"
             ],
             [
              1,
              "#f0f921"
             ]
            ],
            "type": "heatmap"
           }
          ],
          "heatmapgl": [
           {
            "colorbar": {
             "outlinewidth": 0,
             "ticks": ""
            },
            "colorscale": [
             [
              0,
              "#0d0887"
             ],
             [
              0.1111111111111111,
              "#46039f"
             ],
             [
              0.2222222222222222,
              "#7201a8"
             ],
             [
              0.3333333333333333,
              "#9c179e"
             ],
             [
              0.4444444444444444,
              "#bd3786"
             ],
             [
              0.5555555555555556,
              "#d8576b"
             ],
             [
              0.6666666666666666,
              "#ed7953"
             ],
             [
              0.7777777777777778,
              "#fb9f3a"
             ],
             [
              0.8888888888888888,
              "#fdca26"
             ],
             [
              1,
              "#f0f921"
             ]
            ],
            "type": "heatmapgl"
           }
          ],
          "histogram": [
           {
            "marker": {
             "colorbar": {
              "outlinewidth": 0,
              "ticks": ""
             }
            },
            "type": "histogram"
           }
          ],
          "histogram2d": [
           {
            "colorbar": {
             "outlinewidth": 0,
             "ticks": ""
            },
            "colorscale": [
             [
              0,
              "#0d0887"
             ],
             [
              0.1111111111111111,
              "#46039f"
             ],
             [
              0.2222222222222222,
              "#7201a8"
             ],
             [
              0.3333333333333333,
              "#9c179e"
             ],
             [
              0.4444444444444444,
              "#bd3786"
             ],
             [
              0.5555555555555556,
              "#d8576b"
             ],
             [
              0.6666666666666666,
              "#ed7953"
             ],
             [
              0.7777777777777778,
              "#fb9f3a"
             ],
             [
              0.8888888888888888,
              "#fdca26"
             ],
             [
              1,
              "#f0f921"
             ]
            ],
            "type": "histogram2d"
           }
          ],
          "histogram2dcontour": [
           {
            "colorbar": {
             "outlinewidth": 0,
             "ticks": ""
            },
            "colorscale": [
             [
              0,
              "#0d0887"
             ],
             [
              0.1111111111111111,
              "#46039f"
             ],
             [
              0.2222222222222222,
              "#7201a8"
             ],
             [
              0.3333333333333333,
              "#9c179e"
             ],
             [
              0.4444444444444444,
              "#bd3786"
             ],
             [
              0.5555555555555556,
              "#d8576b"
             ],
             [
              0.6666666666666666,
              "#ed7953"
             ],
             [
              0.7777777777777778,
              "#fb9f3a"
             ],
             [
              0.8888888888888888,
              "#fdca26"
             ],
             [
              1,
              "#f0f921"
             ]
            ],
            "type": "histogram2dcontour"
           }
          ],
          "mesh3d": [
           {
            "colorbar": {
             "outlinewidth": 0,
             "ticks": ""
            },
            "type": "mesh3d"
           }
          ],
          "parcoords": [
           {
            "line": {
             "colorbar": {
              "outlinewidth": 0,
              "ticks": ""
             }
            },
            "type": "parcoords"
           }
          ],
          "pie": [
           {
            "automargin": true,
            "type": "pie"
           }
          ],
          "scatter": [
           {
            "marker": {
             "colorbar": {
              "outlinewidth": 0,
              "ticks": ""
             }
            },
            "type": "scatter"
           }
          ],
          "scatter3d": [
           {
            "line": {
             "colorbar": {
              "outlinewidth": 0,
              "ticks": ""
             }
            },
            "marker": {
             "colorbar": {
              "outlinewidth": 0,
              "ticks": ""
             }
            },
            "type": "scatter3d"
           }
          ],
          "scattercarpet": [
           {
            "marker": {
             "colorbar": {
              "outlinewidth": 0,
              "ticks": ""
             }
            },
            "type": "scattercarpet"
           }
          ],
          "scattergeo": [
           {
            "marker": {
             "colorbar": {
              "outlinewidth": 0,
              "ticks": ""
             }
            },
            "type": "scattergeo"
           }
          ],
          "scattergl": [
           {
            "marker": {
             "colorbar": {
              "outlinewidth": 0,
              "ticks": ""
             }
            },
            "type": "scattergl"
           }
          ],
          "scattermapbox": [
           {
            "marker": {
             "colorbar": {
              "outlinewidth": 0,
              "ticks": ""
             }
            },
            "type": "scattermapbox"
           }
          ],
          "scatterpolar": [
           {
            "marker": {
             "colorbar": {
              "outlinewidth": 0,
              "ticks": ""
             }
            },
            "type": "scatterpolar"
           }
          ],
          "scatterpolargl": [
           {
            "marker": {
             "colorbar": {
              "outlinewidth": 0,
              "ticks": ""
             }
            },
            "type": "scatterpolargl"
           }
          ],
          "scatterternary": [
           {
            "marker": {
             "colorbar": {
              "outlinewidth": 0,
              "ticks": ""
             }
            },
            "type": "scatterternary"
           }
          ],
          "surface": [
           {
            "colorbar": {
             "outlinewidth": 0,
             "ticks": ""
            },
            "colorscale": [
             [
              0,
              "#0d0887"
             ],
             [
              0.1111111111111111,
              "#46039f"
             ],
             [
              0.2222222222222222,
              "#7201a8"
             ],
             [
              0.3333333333333333,
              "#9c179e"
             ],
             [
              0.4444444444444444,
              "#bd3786"
             ],
             [
              0.5555555555555556,
              "#d8576b"
             ],
             [
              0.6666666666666666,
              "#ed7953"
             ],
             [
              0.7777777777777778,
              "#fb9f3a"
             ],
             [
              0.8888888888888888,
              "#fdca26"
             ],
             [
              1,
              "#f0f921"
             ]
            ],
            "type": "surface"
           }
          ],
          "table": [
           {
            "cells": {
             "fill": {
              "color": "#EBF0F8"
             },
             "line": {
              "color": "white"
             }
            },
            "header": {
             "fill": {
              "color": "#C8D4E3"
             },
             "line": {
              "color": "white"
             }
            },
            "type": "table"
           }
          ]
         },
         "layout": {
          "annotationdefaults": {
           "arrowcolor": "#2a3f5f",
           "arrowhead": 0,
           "arrowwidth": 1
          },
          "coloraxis": {
           "colorbar": {
            "outlinewidth": 0,
            "ticks": ""
           }
          },
          "colorscale": {
           "diverging": [
            [
             0,
             "#8e0152"
            ],
            [
             0.1,
             "#c51b7d"
            ],
            [
             0.2,
             "#de77ae"
            ],
            [
             0.3,
             "#f1b6da"
            ],
            [
             0.4,
             "#fde0ef"
            ],
            [
             0.5,
             "#f7f7f7"
            ],
            [
             0.6,
             "#e6f5d0"
            ],
            [
             0.7,
             "#b8e186"
            ],
            [
             0.8,
             "#7fbc41"
            ],
            [
             0.9,
             "#4d9221"
            ],
            [
             1,
             "#276419"
            ]
           ],
           "sequential": [
            [
             0,
             "#0d0887"
            ],
            [
             0.1111111111111111,
             "#46039f"
            ],
            [
             0.2222222222222222,
             "#7201a8"
            ],
            [
             0.3333333333333333,
             "#9c179e"
            ],
            [
             0.4444444444444444,
             "#bd3786"
            ],
            [
             0.5555555555555556,
             "#d8576b"
            ],
            [
             0.6666666666666666,
             "#ed7953"
            ],
            [
             0.7777777777777778,
             "#fb9f3a"
            ],
            [
             0.8888888888888888,
             "#fdca26"
            ],
            [
             1,
             "#f0f921"
            ]
           ],
           "sequentialminus": [
            [
             0,
             "#0d0887"
            ],
            [
             0.1111111111111111,
             "#46039f"
            ],
            [
             0.2222222222222222,
             "#7201a8"
            ],
            [
             0.3333333333333333,
             "#9c179e"
            ],
            [
             0.4444444444444444,
             "#bd3786"
            ],
            [
             0.5555555555555556,
             "#d8576b"
            ],
            [
             0.6666666666666666,
             "#ed7953"
            ],
            [
             0.7777777777777778,
             "#fb9f3a"
            ],
            [
             0.8888888888888888,
             "#fdca26"
            ],
            [
             1,
             "#f0f921"
            ]
           ]
          },
          "colorway": [
           "#636efa",
           "#EF553B",
           "#00cc96",
           "#ab63fa",
           "#FFA15A",
           "#19d3f3",
           "#FF6692",
           "#B6E880",
           "#FF97FF",
           "#FECB52"
          ],
          "font": {
           "color": "#2a3f5f"
          },
          "geo": {
           "bgcolor": "white",
           "lakecolor": "white",
           "landcolor": "#E5ECF6",
           "showlakes": true,
           "showland": true,
           "subunitcolor": "white"
          },
          "hoverlabel": {
           "align": "left"
          },
          "hovermode": "closest",
          "mapbox": {
           "style": "light"
          },
          "paper_bgcolor": "white",
          "plot_bgcolor": "#E5ECF6",
          "polar": {
           "angularaxis": {
            "gridcolor": "white",
            "linecolor": "white",
            "ticks": ""
           },
           "bgcolor": "#E5ECF6",
           "radialaxis": {
            "gridcolor": "white",
            "linecolor": "white",
            "ticks": ""
           }
          },
          "scene": {
           "xaxis": {
            "backgroundcolor": "#E5ECF6",
            "gridcolor": "white",
            "gridwidth": 2,
            "linecolor": "white",
            "showbackground": true,
            "ticks": "",
            "zerolinecolor": "white"
           },
           "yaxis": {
            "backgroundcolor": "#E5ECF6",
            "gridcolor": "white",
            "gridwidth": 2,
            "linecolor": "white",
            "showbackground": true,
            "ticks": "",
            "zerolinecolor": "white"
           },
           "zaxis": {
            "backgroundcolor": "#E5ECF6",
            "gridcolor": "white",
            "gridwidth": 2,
            "linecolor": "white",
            "showbackground": true,
            "ticks": "",
            "zerolinecolor": "white"
           }
          },
          "shapedefaults": {
           "line": {
            "color": "#2a3f5f"
           }
          },
          "ternary": {
           "aaxis": {
            "gridcolor": "white",
            "linecolor": "white",
            "ticks": ""
           },
           "baxis": {
            "gridcolor": "white",
            "linecolor": "white",
            "ticks": ""
           },
           "bgcolor": "#E5ECF6",
           "caxis": {
            "gridcolor": "white",
            "linecolor": "white",
            "ticks": ""
           }
          },
          "title": {
           "x": 0.05
          },
          "xaxis": {
           "automargin": true,
           "gridcolor": "white",
           "linecolor": "white",
           "ticks": "",
           "title": {
            "standoff": 15
           },
           "zerolinecolor": "white",
           "zerolinewidth": 2
          },
          "yaxis": {
           "automargin": true,
           "gridcolor": "white",
           "linecolor": "white",
           "ticks": "",
           "title": {
            "standoff": 15
           },
           "zerolinecolor": "white",
           "zerolinewidth": 2
          }
         }
        },
        "title": {
         "font": {
          "color": "#4D5663"
         }
        },
        "xaxis": {
         "gridcolor": "#E1E5ED",
         "showgrid": true,
         "tickfont": {
          "color": "#4D5663"
         },
         "title": {
          "font": {
           "color": "#4D5663"
          },
          "text": ""
         },
         "zerolinecolor": "#E1E5ED"
        },
        "yaxis": {
         "gridcolor": "#E1E5ED",
         "showgrid": true,
         "tickfont": {
          "color": "#4D5663"
         },
         "title": {
          "font": {
           "color": "#4D5663"
          },
          "text": ""
         },
         "zerolinecolor": "#E1E5ED"
        }
       }
      },
      "text/html": [
       "<div>\n",
       "        \n",
       "        \n",
       "            <div id=\"553f2607-7877-4b2d-b462-9499308d11f5\" class=\"plotly-graph-div\" style=\"height:525px; width:100%;\"></div>\n",
       "            <script type=\"text/javascript\">\n",
       "                require([\"plotly\"], function(Plotly) {\n",
       "                    window.PLOTLYENV=window.PLOTLYENV || {};\n",
       "                    window.PLOTLYENV.BASE_URL='https://plot.ly';\n",
       "                    \n",
       "                if (document.getElementById(\"553f2607-7877-4b2d-b462-9499308d11f5\")) {\n",
       "                    Plotly.newPlot(\n",
       "                        '553f2607-7877-4b2d-b462-9499308d11f5',\n",
       "                        [{\"marker\": {\"color\": \"rgba(255, 153, 51, 0.6)\", \"line\": {\"color\": \"rgba(255, 153, 51, 1.0)\", \"width\": 1}}, \"name\": \"values\", \"orientation\": \"v\", \"text\": \"\", \"type\": \"bar\", \"x\": [\"A\", \"B\", \"C\"], \"y\": [\"32\", \"43\", \"50\"]}],\n",
       "                        {\"legend\": {\"bgcolor\": \"#F5F6F9\", \"font\": {\"color\": \"#4D5663\"}}, \"paper_bgcolor\": \"#F5F6F9\", \"plot_bgcolor\": \"#F5F6F9\", \"template\": {\"data\": {\"bar\": [{\"error_x\": {\"color\": \"#2a3f5f\"}, \"error_y\": {\"color\": \"#2a3f5f\"}, \"marker\": {\"line\": {\"color\": \"#E5ECF6\", \"width\": 0.5}}, \"type\": \"bar\"}], \"barpolar\": [{\"marker\": {\"line\": {\"color\": \"#E5ECF6\", \"width\": 0.5}}, \"type\": \"barpolar\"}], \"carpet\": [{\"aaxis\": {\"endlinecolor\": \"#2a3f5f\", \"gridcolor\": \"white\", \"linecolor\": \"white\", \"minorgridcolor\": \"white\", \"startlinecolor\": \"#2a3f5f\"}, \"baxis\": {\"endlinecolor\": \"#2a3f5f\", \"gridcolor\": \"white\", \"linecolor\": \"white\", \"minorgridcolor\": \"white\", \"startlinecolor\": \"#2a3f5f\"}, \"type\": \"carpet\"}], \"choropleth\": [{\"colorbar\": {\"outlinewidth\": 0, \"ticks\": \"\"}, \"type\": \"choropleth\"}], \"contour\": [{\"colorbar\": {\"outlinewidth\": 0, \"ticks\": \"\"}, \"colorscale\": [[0.0, \"#0d0887\"], [0.1111111111111111, \"#46039f\"], [0.2222222222222222, \"#7201a8\"], [0.3333333333333333, \"#9c179e\"], [0.4444444444444444, \"#bd3786\"], [0.5555555555555556, \"#d8576b\"], [0.6666666666666666, \"#ed7953\"], [0.7777777777777778, \"#fb9f3a\"], [0.8888888888888888, \"#fdca26\"], [1.0, \"#f0f921\"]], \"type\": \"contour\"}], \"contourcarpet\": [{\"colorbar\": {\"outlinewidth\": 0, \"ticks\": \"\"}, \"type\": \"contourcarpet\"}], \"heatmap\": [{\"colorbar\": {\"outlinewidth\": 0, \"ticks\": \"\"}, \"colorscale\": [[0.0, \"#0d0887\"], [0.1111111111111111, \"#46039f\"], [0.2222222222222222, \"#7201a8\"], [0.3333333333333333, \"#9c179e\"], [0.4444444444444444, \"#bd3786\"], [0.5555555555555556, \"#d8576b\"], [0.6666666666666666, \"#ed7953\"], [0.7777777777777778, \"#fb9f3a\"], [0.8888888888888888, \"#fdca26\"], [1.0, \"#f0f921\"]], \"type\": \"heatmap\"}], \"heatmapgl\": [{\"colorbar\": {\"outlinewidth\": 0, \"ticks\": \"\"}, \"colorscale\": [[0.0, \"#0d0887\"], [0.1111111111111111, \"#46039f\"], [0.2222222222222222, \"#7201a8\"], [0.3333333333333333, \"#9c179e\"], [0.4444444444444444, \"#bd3786\"], [0.5555555555555556, \"#d8576b\"], [0.6666666666666666, \"#ed7953\"], [0.7777777777777778, \"#fb9f3a\"], [0.8888888888888888, \"#fdca26\"], [1.0, \"#f0f921\"]], \"type\": \"heatmapgl\"}], \"histogram\": [{\"marker\": {\"colorbar\": {\"outlinewidth\": 0, \"ticks\": \"\"}}, \"type\": \"histogram\"}], \"histogram2d\": [{\"colorbar\": {\"outlinewidth\": 0, \"ticks\": \"\"}, \"colorscale\": [[0.0, \"#0d0887\"], [0.1111111111111111, \"#46039f\"], [0.2222222222222222, \"#7201a8\"], [0.3333333333333333, \"#9c179e\"], [0.4444444444444444, \"#bd3786\"], [0.5555555555555556, \"#d8576b\"], [0.6666666666666666, \"#ed7953\"], [0.7777777777777778, \"#fb9f3a\"], [0.8888888888888888, \"#fdca26\"], [1.0, \"#f0f921\"]], \"type\": \"histogram2d\"}], \"histogram2dcontour\": [{\"colorbar\": {\"outlinewidth\": 0, \"ticks\": \"\"}, \"colorscale\": [[0.0, \"#0d0887\"], [0.1111111111111111, \"#46039f\"], [0.2222222222222222, \"#7201a8\"], [0.3333333333333333, \"#9c179e\"], [0.4444444444444444, \"#bd3786\"], [0.5555555555555556, \"#d8576b\"], [0.6666666666666666, \"#ed7953\"], [0.7777777777777778, \"#fb9f3a\"], [0.8888888888888888, \"#fdca26\"], [1.0, \"#f0f921\"]], \"type\": \"histogram2dcontour\"}], \"mesh3d\": [{\"colorbar\": {\"outlinewidth\": 0, \"ticks\": \"\"}, \"type\": \"mesh3d\"}], \"parcoords\": [{\"line\": {\"colorbar\": {\"outlinewidth\": 0, \"ticks\": \"\"}}, \"type\": \"parcoords\"}], \"pie\": [{\"automargin\": true, \"type\": \"pie\"}], \"scatter\": [{\"marker\": {\"colorbar\": {\"outlinewidth\": 0, \"ticks\": \"\"}}, \"type\": \"scatter\"}], \"scatter3d\": [{\"line\": {\"colorbar\": {\"outlinewidth\": 0, \"ticks\": \"\"}}, \"marker\": {\"colorbar\": {\"outlinewidth\": 0, \"ticks\": \"\"}}, \"type\": \"scatter3d\"}], \"scattercarpet\": [{\"marker\": {\"colorbar\": {\"outlinewidth\": 0, \"ticks\": \"\"}}, \"type\": \"scattercarpet\"}], \"scattergeo\": [{\"marker\": {\"colorbar\": {\"outlinewidth\": 0, \"ticks\": \"\"}}, \"type\": \"scattergeo\"}], \"scattergl\": [{\"marker\": {\"colorbar\": {\"outlinewidth\": 0, \"ticks\": \"\"}}, \"type\": \"scattergl\"}], \"scattermapbox\": [{\"marker\": {\"colorbar\": {\"outlinewidth\": 0, \"ticks\": \"\"}}, \"type\": \"scattermapbox\"}], \"scatterpolar\": [{\"marker\": {\"colorbar\": {\"outlinewidth\": 0, \"ticks\": \"\"}}, \"type\": \"scatterpolar\"}], \"scatterpolargl\": [{\"marker\": {\"colorbar\": {\"outlinewidth\": 0, \"ticks\": \"\"}}, \"type\": \"scatterpolargl\"}], \"scatterternary\": [{\"marker\": {\"colorbar\": {\"outlinewidth\": 0, \"ticks\": \"\"}}, \"type\": \"scatterternary\"}], \"surface\": [{\"colorbar\": {\"outlinewidth\": 0, \"ticks\": \"\"}, \"colorscale\": [[0.0, \"#0d0887\"], [0.1111111111111111, \"#46039f\"], [0.2222222222222222, \"#7201a8\"], [0.3333333333333333, \"#9c179e\"], [0.4444444444444444, \"#bd3786\"], [0.5555555555555556, \"#d8576b\"], [0.6666666666666666, \"#ed7953\"], [0.7777777777777778, \"#fb9f3a\"], [0.8888888888888888, \"#fdca26\"], [1.0, \"#f0f921\"]], \"type\": \"surface\"}], \"table\": [{\"cells\": {\"fill\": {\"color\": \"#EBF0F8\"}, \"line\": {\"color\": \"white\"}}, \"header\": {\"fill\": {\"color\": \"#C8D4E3\"}, \"line\": {\"color\": \"white\"}}, \"type\": \"table\"}]}, \"layout\": {\"annotationdefaults\": {\"arrowcolor\": \"#2a3f5f\", \"arrowhead\": 0, \"arrowwidth\": 1}, \"coloraxis\": {\"colorbar\": {\"outlinewidth\": 0, \"ticks\": \"\"}}, \"colorscale\": {\"diverging\": [[0, \"#8e0152\"], [0.1, \"#c51b7d\"], [0.2, \"#de77ae\"], [0.3, \"#f1b6da\"], [0.4, \"#fde0ef\"], [0.5, \"#f7f7f7\"], [0.6, \"#e6f5d0\"], [0.7, \"#b8e186\"], [0.8, \"#7fbc41\"], [0.9, \"#4d9221\"], [1, \"#276419\"]], \"sequential\": [[0.0, \"#0d0887\"], [0.1111111111111111, \"#46039f\"], [0.2222222222222222, \"#7201a8\"], [0.3333333333333333, \"#9c179e\"], [0.4444444444444444, \"#bd3786\"], [0.5555555555555556, \"#d8576b\"], [0.6666666666666666, \"#ed7953\"], [0.7777777777777778, \"#fb9f3a\"], [0.8888888888888888, \"#fdca26\"], [1.0, \"#f0f921\"]], \"sequentialminus\": [[0.0, \"#0d0887\"], [0.1111111111111111, \"#46039f\"], [0.2222222222222222, \"#7201a8\"], [0.3333333333333333, \"#9c179e\"], [0.4444444444444444, \"#bd3786\"], [0.5555555555555556, \"#d8576b\"], [0.6666666666666666, \"#ed7953\"], [0.7777777777777778, \"#fb9f3a\"], [0.8888888888888888, \"#fdca26\"], [1.0, \"#f0f921\"]]}, \"colorway\": [\"#636efa\", \"#EF553B\", \"#00cc96\", \"#ab63fa\", \"#FFA15A\", \"#19d3f3\", \"#FF6692\", \"#B6E880\", \"#FF97FF\", \"#FECB52\"], \"font\": {\"color\": \"#2a3f5f\"}, \"geo\": {\"bgcolor\": \"white\", \"lakecolor\": \"white\", \"landcolor\": \"#E5ECF6\", \"showlakes\": true, \"showland\": true, \"subunitcolor\": \"white\"}, \"hoverlabel\": {\"align\": \"left\"}, \"hovermode\": \"closest\", \"mapbox\": {\"style\": \"light\"}, \"paper_bgcolor\": \"white\", \"plot_bgcolor\": \"#E5ECF6\", \"polar\": {\"angularaxis\": {\"gridcolor\": \"white\", \"linecolor\": \"white\", \"ticks\": \"\"}, \"bgcolor\": \"#E5ECF6\", \"radialaxis\": {\"gridcolor\": \"white\", \"linecolor\": \"white\", \"ticks\": \"\"}}, \"scene\": {\"xaxis\": {\"backgroundcolor\": \"#E5ECF6\", \"gridcolor\": \"white\", \"gridwidth\": 2, \"linecolor\": \"white\", \"showbackground\": true, \"ticks\": \"\", \"zerolinecolor\": \"white\"}, \"yaxis\": {\"backgroundcolor\": \"#E5ECF6\", \"gridcolor\": \"white\", \"gridwidth\": 2, \"linecolor\": \"white\", \"showbackground\": true, \"ticks\": \"\", \"zerolinecolor\": \"white\"}, \"zaxis\": {\"backgroundcolor\": \"#E5ECF6\", \"gridcolor\": \"white\", \"gridwidth\": 2, \"linecolor\": \"white\", \"showbackground\": true, \"ticks\": \"\", \"zerolinecolor\": \"white\"}}, \"shapedefaults\": {\"line\": {\"color\": \"#2a3f5f\"}}, \"ternary\": {\"aaxis\": {\"gridcolor\": \"white\", \"linecolor\": \"white\", \"ticks\": \"\"}, \"baxis\": {\"gridcolor\": \"white\", \"linecolor\": \"white\", \"ticks\": \"\"}, \"bgcolor\": \"#E5ECF6\", \"caxis\": {\"gridcolor\": \"white\", \"linecolor\": \"white\", \"ticks\": \"\"}}, \"title\": {\"x\": 0.05}, \"xaxis\": {\"automargin\": true, \"gridcolor\": \"white\", \"linecolor\": \"white\", \"ticks\": \"\", \"title\": {\"standoff\": 15}, \"zerolinecolor\": \"white\", \"zerolinewidth\": 2}, \"yaxis\": {\"automargin\": true, \"gridcolor\": \"white\", \"linecolor\": \"white\", \"ticks\": \"\", \"title\": {\"standoff\": 15}, \"zerolinecolor\": \"white\", \"zerolinewidth\": 2}}}, \"title\": {\"font\": {\"color\": \"#4D5663\"}}, \"xaxis\": {\"gridcolor\": \"#E1E5ED\", \"showgrid\": true, \"tickfont\": {\"color\": \"#4D5663\"}, \"title\": {\"font\": {\"color\": \"#4D5663\"}, \"text\": \"\"}, \"zerolinecolor\": \"#E1E5ED\"}, \"yaxis\": {\"gridcolor\": \"#E1E5ED\", \"showgrid\": true, \"tickfont\": {\"color\": \"#4D5663\"}, \"title\": {\"font\": {\"color\": \"#4D5663\"}, \"text\": \"\"}, \"zerolinecolor\": \"#E1E5ED\"}},\n",
       "                        {\"showLink\": true, \"linkText\": \"Export to plot.ly\", \"plotlyServerURL\": \"https://plot.ly\", \"responsive\": true}\n",
       "                    ).then(function(){\n",
       "                            \n",
       "var gd = document.getElementById('553f2607-7877-4b2d-b462-9499308d11f5');\n",
       "var x = new MutationObserver(function (mutations, observer) {{\n",
       "        var display = window.getComputedStyle(gd).display;\n",
       "        if (!display || display === 'none') {{\n",
       "            console.log([gd, 'removed!']);\n",
       "            Plotly.purge(gd);\n",
       "            observer.disconnect();\n",
       "        }}\n",
       "}});\n",
       "\n",
       "// Listen for the removal of the full notebook cells\n",
       "var notebookContainer = gd.closest('#notebook-container');\n",
       "if (notebookContainer) {{\n",
       "    x.observe(notebookContainer, {childList: true});\n",
       "}}\n",
       "\n",
       "// Listen for the clearing of the current output cell\n",
       "var outputEl = gd.closest('.output');\n",
       "if (outputEl) {{\n",
       "    x.observe(outputEl, {childList: true});\n",
       "}}\n",
       "\n",
       "                        })\n",
       "                };\n",
       "                });\n",
       "            </script>\n",
       "        </div>"
      ]
     },
     "metadata": {},
     "output_type": "display_data"
    }
   ],
   "source": [
    "df2.iplot(kind='bar', x='Category', y='values')"
   ]
  },
  {
   "cell_type": "code",
   "execution_count": 27,
   "metadata": {},
   "outputs": [
    {
     "data": {
      "application/vnd.plotly.v1+json": {
       "config": {
        "linkText": "Export to plot.ly",
        "plotlyServerURL": "https://plot.ly",
        "showLink": true
       },
       "data": [
        {
         "marker": {
          "color": "rgba(255, 153, 51, 0.6)",
          "line": {
           "color": "rgba(255, 153, 51, 1.0)",
           "width": 1
          }
         },
         "name": "None",
         "orientation": "v",
         "text": "",
         "type": "bar",
         "x": [
          "A",
          "B",
          "C",
          "D"
         ],
         "y": [
          4.1166949617962,
          -1.8287330655878875,
          -5.378499902258061,
          -4.662700172057057
         ]
        }
       ],
       "layout": {
        "legend": {
         "bgcolor": "#F5F6F9",
         "font": {
          "color": "#4D5663"
         }
        },
        "paper_bgcolor": "#F5F6F9",
        "plot_bgcolor": "#F5F6F9",
        "template": {
         "data": {
          "bar": [
           {
            "error_x": {
             "color": "#2a3f5f"
            },
            "error_y": {
             "color": "#2a3f5f"
            },
            "marker": {
             "line": {
              "color": "#E5ECF6",
              "width": 0.5
             }
            },
            "type": "bar"
           }
          ],
          "barpolar": [
           {
            "marker": {
             "line": {
              "color": "#E5ECF6",
              "width": 0.5
             }
            },
            "type": "barpolar"
           }
          ],
          "carpet": [
           {
            "aaxis": {
             "endlinecolor": "#2a3f5f",
             "gridcolor": "white",
             "linecolor": "white",
             "minorgridcolor": "white",
             "startlinecolor": "#2a3f5f"
            },
            "baxis": {
             "endlinecolor": "#2a3f5f",
             "gridcolor": "white",
             "linecolor": "white",
             "minorgridcolor": "white",
             "startlinecolor": "#2a3f5f"
            },
            "type": "carpet"
           }
          ],
          "choropleth": [
           {
            "colorbar": {
             "outlinewidth": 0,
             "ticks": ""
            },
            "type": "choropleth"
           }
          ],
          "contour": [
           {
            "colorbar": {
             "outlinewidth": 0,
             "ticks": ""
            },
            "colorscale": [
             [
              0,
              "#0d0887"
             ],
             [
              0.1111111111111111,
              "#46039f"
             ],
             [
              0.2222222222222222,
              "#7201a8"
             ],
             [
              0.3333333333333333,
              "#9c179e"
             ],
             [
              0.4444444444444444,
              "#bd3786"
             ],
             [
              0.5555555555555556,
              "#d8576b"
             ],
             [
              0.6666666666666666,
              "#ed7953"
             ],
             [
              0.7777777777777778,
              "#fb9f3a"
             ],
             [
              0.8888888888888888,
              "#fdca26"
             ],
             [
              1,
              "#f0f921"
             ]
            ],
            "type": "contour"
           }
          ],
          "contourcarpet": [
           {
            "colorbar": {
             "outlinewidth": 0,
             "ticks": ""
            },
            "type": "contourcarpet"
           }
          ],
          "heatmap": [
           {
            "colorbar": {
             "outlinewidth": 0,
             "ticks": ""
            },
            "colorscale": [
             [
              0,
              "#0d0887"
             ],
             [
              0.1111111111111111,
              "#46039f"
             ],
             [
              0.2222222222222222,
              "#7201a8"
             ],
             [
              0.3333333333333333,
              "#9c179e"
             ],
             [
              0.4444444444444444,
              "#bd3786"
             ],
             [
              0.5555555555555556,
              "#d8576b"
             ],
             [
              0.6666666666666666,
              "#ed7953"
             ],
             [
              0.7777777777777778,
              "#fb9f3a"
             ],
             [
              0.8888888888888888,
              "#fdca26"
             ],
             [
              1,
              "#f0f921"
             ]
            ],
            "type": "heatmap"
           }
          ],
          "heatmapgl": [
           {
            "colorbar": {
             "outlinewidth": 0,
             "ticks": ""
            },
            "colorscale": [
             [
              0,
              "#0d0887"
             ],
             [
              0.1111111111111111,
              "#46039f"
             ],
             [
              0.2222222222222222,
              "#7201a8"
             ],
             [
              0.3333333333333333,
              "#9c179e"
             ],
             [
              0.4444444444444444,
              "#bd3786"
             ],
             [
              0.5555555555555556,
              "#d8576b"
             ],
             [
              0.6666666666666666,
              "#ed7953"
             ],
             [
              0.7777777777777778,
              "#fb9f3a"
             ],
             [
              0.8888888888888888,
              "#fdca26"
             ],
             [
              1,
              "#f0f921"
             ]
            ],
            "type": "heatmapgl"
           }
          ],
          "histogram": [
           {
            "marker": {
             "colorbar": {
              "outlinewidth": 0,
              "ticks": ""
             }
            },
            "type": "histogram"
           }
          ],
          "histogram2d": [
           {
            "colorbar": {
             "outlinewidth": 0,
             "ticks": ""
            },
            "colorscale": [
             [
              0,
              "#0d0887"
             ],
             [
              0.1111111111111111,
              "#46039f"
             ],
             [
              0.2222222222222222,
              "#7201a8"
             ],
             [
              0.3333333333333333,
              "#9c179e"
             ],
             [
              0.4444444444444444,
              "#bd3786"
             ],
             [
              0.5555555555555556,
              "#d8576b"
             ],
             [
              0.6666666666666666,
              "#ed7953"
             ],
             [
              0.7777777777777778,
              "#fb9f3a"
             ],
             [
              0.8888888888888888,
              "#fdca26"
             ],
             [
              1,
              "#f0f921"
             ]
            ],
            "type": "histogram2d"
           }
          ],
          "histogram2dcontour": [
           {
            "colorbar": {
             "outlinewidth": 0,
             "ticks": ""
            },
            "colorscale": [
             [
              0,
              "#0d0887"
             ],
             [
              0.1111111111111111,
              "#46039f"
             ],
             [
              0.2222222222222222,
              "#7201a8"
             ],
             [
              0.3333333333333333,
              "#9c179e"
             ],
             [
              0.4444444444444444,
              "#bd3786"
             ],
             [
              0.5555555555555556,
              "#d8576b"
             ],
             [
              0.6666666666666666,
              "#ed7953"
             ],
             [
              0.7777777777777778,
              "#fb9f3a"
             ],
             [
              0.8888888888888888,
              "#fdca26"
             ],
             [
              1,
              "#f0f921"
             ]
            ],
            "type": "histogram2dcontour"
           }
          ],
          "mesh3d": [
           {
            "colorbar": {
             "outlinewidth": 0,
             "ticks": ""
            },
            "type": "mesh3d"
           }
          ],
          "parcoords": [
           {
            "line": {
             "colorbar": {
              "outlinewidth": 0,
              "ticks": ""
             }
            },
            "type": "parcoords"
           }
          ],
          "pie": [
           {
            "automargin": true,
            "type": "pie"
           }
          ],
          "scatter": [
           {
            "marker": {
             "colorbar": {
              "outlinewidth": 0,
              "ticks": ""
             }
            },
            "type": "scatter"
           }
          ],
          "scatter3d": [
           {
            "line": {
             "colorbar": {
              "outlinewidth": 0,
              "ticks": ""
             }
            },
            "marker": {
             "colorbar": {
              "outlinewidth": 0,
              "ticks": ""
             }
            },
            "type": "scatter3d"
           }
          ],
          "scattercarpet": [
           {
            "marker": {
             "colorbar": {
              "outlinewidth": 0,
              "ticks": ""
             }
            },
            "type": "scattercarpet"
           }
          ],
          "scattergeo": [
           {
            "marker": {
             "colorbar": {
              "outlinewidth": 0,
              "ticks": ""
             }
            },
            "type": "scattergeo"
           }
          ],
          "scattergl": [
           {
            "marker": {
             "colorbar": {
              "outlinewidth": 0,
              "ticks": ""
             }
            },
            "type": "scattergl"
           }
          ],
          "scattermapbox": [
           {
            "marker": {
             "colorbar": {
              "outlinewidth": 0,
              "ticks": ""
             }
            },
            "type": "scattermapbox"
           }
          ],
          "scatterpolar": [
           {
            "marker": {
             "colorbar": {
              "outlinewidth": 0,
              "ticks": ""
             }
            },
            "type": "scatterpolar"
           }
          ],
          "scatterpolargl": [
           {
            "marker": {
             "colorbar": {
              "outlinewidth": 0,
              "ticks": ""
             }
            },
            "type": "scatterpolargl"
           }
          ],
          "scatterternary": [
           {
            "marker": {
             "colorbar": {
              "outlinewidth": 0,
              "ticks": ""
             }
            },
            "type": "scatterternary"
           }
          ],
          "surface": [
           {
            "colorbar": {
             "outlinewidth": 0,
             "ticks": ""
            },
            "colorscale": [
             [
              0,
              "#0d0887"
             ],
             [
              0.1111111111111111,
              "#46039f"
             ],
             [
              0.2222222222222222,
              "#7201a8"
             ],
             [
              0.3333333333333333,
              "#9c179e"
             ],
             [
              0.4444444444444444,
              "#bd3786"
             ],
             [
              0.5555555555555556,
              "#d8576b"
             ],
             [
              0.6666666666666666,
              "#ed7953"
             ],
             [
              0.7777777777777778,
              "#fb9f3a"
             ],
             [
              0.8888888888888888,
              "#fdca26"
             ],
             [
              1,
              "#f0f921"
             ]
            ],
            "type": "surface"
           }
          ],
          "table": [
           {
            "cells": {
             "fill": {
              "color": "#EBF0F8"
             },
             "line": {
              "color": "white"
             }
            },
            "header": {
             "fill": {
              "color": "#C8D4E3"
             },
             "line": {
              "color": "white"
             }
            },
            "type": "table"
           }
          ]
         },
         "layout": {
          "annotationdefaults": {
           "arrowcolor": "#2a3f5f",
           "arrowhead": 0,
           "arrowwidth": 1
          },
          "coloraxis": {
           "colorbar": {
            "outlinewidth": 0,
            "ticks": ""
           }
          },
          "colorscale": {
           "diverging": [
            [
             0,
             "#8e0152"
            ],
            [
             0.1,
             "#c51b7d"
            ],
            [
             0.2,
             "#de77ae"
            ],
            [
             0.3,
             "#f1b6da"
            ],
            [
             0.4,
             "#fde0ef"
            ],
            [
             0.5,
             "#f7f7f7"
            ],
            [
             0.6,
             "#e6f5d0"
            ],
            [
             0.7,
             "#b8e186"
            ],
            [
             0.8,
             "#7fbc41"
            ],
            [
             0.9,
             "#4d9221"
            ],
            [
             1,
             "#276419"
            ]
           ],
           "sequential": [
            [
             0,
             "#0d0887"
            ],
            [
             0.1111111111111111,
             "#46039f"
            ],
            [
             0.2222222222222222,
             "#7201a8"
            ],
            [
             0.3333333333333333,
             "#9c179e"
            ],
            [
             0.4444444444444444,
             "#bd3786"
            ],
            [
             0.5555555555555556,
             "#d8576b"
            ],
            [
             0.6666666666666666,
             "#ed7953"
            ],
            [
             0.7777777777777778,
             "#fb9f3a"
            ],
            [
             0.8888888888888888,
             "#fdca26"
            ],
            [
             1,
             "#f0f921"
            ]
           ],
           "sequentialminus": [
            [
             0,
             "#0d0887"
            ],
            [
             0.1111111111111111,
             "#46039f"
            ],
            [
             0.2222222222222222,
             "#7201a8"
            ],
            [
             0.3333333333333333,
             "#9c179e"
            ],
            [
             0.4444444444444444,
             "#bd3786"
            ],
            [
             0.5555555555555556,
             "#d8576b"
            ],
            [
             0.6666666666666666,
             "#ed7953"
            ],
            [
             0.7777777777777778,
             "#fb9f3a"
            ],
            [
             0.8888888888888888,
             "#fdca26"
            ],
            [
             1,
             "#f0f921"
            ]
           ]
          },
          "colorway": [
           "#636efa",
           "#EF553B",
           "#00cc96",
           "#ab63fa",
           "#FFA15A",
           "#19d3f3",
           "#FF6692",
           "#B6E880",
           "#FF97FF",
           "#FECB52"
          ],
          "font": {
           "color": "#2a3f5f"
          },
          "geo": {
           "bgcolor": "white",
           "lakecolor": "white",
           "landcolor": "#E5ECF6",
           "showlakes": true,
           "showland": true,
           "subunitcolor": "white"
          },
          "hoverlabel": {
           "align": "left"
          },
          "hovermode": "closest",
          "mapbox": {
           "style": "light"
          },
          "paper_bgcolor": "white",
          "plot_bgcolor": "#E5ECF6",
          "polar": {
           "angularaxis": {
            "gridcolor": "white",
            "linecolor": "white",
            "ticks": ""
           },
           "bgcolor": "#E5ECF6",
           "radialaxis": {
            "gridcolor": "white",
            "linecolor": "white",
            "ticks": ""
           }
          },
          "scene": {
           "xaxis": {
            "backgroundcolor": "#E5ECF6",
            "gridcolor": "white",
            "gridwidth": 2,
            "linecolor": "white",
            "showbackground": true,
            "ticks": "",
            "zerolinecolor": "white"
           },
           "yaxis": {
            "backgroundcolor": "#E5ECF6",
            "gridcolor": "white",
            "gridwidth": 2,
            "linecolor": "white",
            "showbackground": true,
            "ticks": "",
            "zerolinecolor": "white"
           },
           "zaxis": {
            "backgroundcolor": "#E5ECF6",
            "gridcolor": "white",
            "gridwidth": 2,
            "linecolor": "white",
            "showbackground": true,
            "ticks": "",
            "zerolinecolor": "white"
           }
          },
          "shapedefaults": {
           "line": {
            "color": "#2a3f5f"
           }
          },
          "ternary": {
           "aaxis": {
            "gridcolor": "white",
            "linecolor": "white",
            "ticks": ""
           },
           "baxis": {
            "gridcolor": "white",
            "linecolor": "white",
            "ticks": ""
           },
           "bgcolor": "#E5ECF6",
           "caxis": {
            "gridcolor": "white",
            "linecolor": "white",
            "ticks": ""
           }
          },
          "title": {
           "x": 0.05
          },
          "xaxis": {
           "automargin": true,
           "gridcolor": "white",
           "linecolor": "white",
           "ticks": "",
           "title": {
            "standoff": 15
           },
           "zerolinecolor": "white",
           "zerolinewidth": 2
          },
          "yaxis": {
           "automargin": true,
           "gridcolor": "white",
           "linecolor": "white",
           "ticks": "",
           "title": {
            "standoff": 15
           },
           "zerolinecolor": "white",
           "zerolinewidth": 2
          }
         }
        },
        "title": {
         "font": {
          "color": "#4D5663"
         }
        },
        "xaxis": {
         "gridcolor": "#E1E5ED",
         "showgrid": true,
         "tickfont": {
          "color": "#4D5663"
         },
         "title": {
          "font": {
           "color": "#4D5663"
          },
          "text": ""
         },
         "zerolinecolor": "#E1E5ED"
        },
        "yaxis": {
         "gridcolor": "#E1E5ED",
         "showgrid": true,
         "tickfont": {
          "color": "#4D5663"
         },
         "title": {
          "font": {
           "color": "#4D5663"
          },
          "text": ""
         },
         "zerolinecolor": "#E1E5ED"
        }
       }
      },
      "text/html": [
       "<div>\n",
       "        \n",
       "        \n",
       "            <div id=\"a073ef85-eb70-4976-bb52-77da33287a23\" class=\"plotly-graph-div\" style=\"height:525px; width:100%;\"></div>\n",
       "            <script type=\"text/javascript\">\n",
       "                require([\"plotly\"], function(Plotly) {\n",
       "                    window.PLOTLYENV=window.PLOTLYENV || {};\n",
       "                    window.PLOTLYENV.BASE_URL='https://plot.ly';\n",
       "                    \n",
       "                if (document.getElementById(\"a073ef85-eb70-4976-bb52-77da33287a23\")) {\n",
       "                    Plotly.newPlot(\n",
       "                        'a073ef85-eb70-4976-bb52-77da33287a23',\n",
       "                        [{\"marker\": {\"color\": \"rgba(255, 153, 51, 0.6)\", \"line\": {\"color\": \"rgba(255, 153, 51, 1.0)\", \"width\": 1}}, \"name\": \"None\", \"orientation\": \"v\", \"text\": \"\", \"type\": \"bar\", \"x\": [\"A\", \"B\", \"C\", \"D\"], \"y\": [4.1166949617962, -1.8287330655878875, -5.378499902258061, -4.662700172057057]}],\n",
       "                        {\"legend\": {\"bgcolor\": \"#F5F6F9\", \"font\": {\"color\": \"#4D5663\"}}, \"paper_bgcolor\": \"#F5F6F9\", \"plot_bgcolor\": \"#F5F6F9\", \"template\": {\"data\": {\"bar\": [{\"error_x\": {\"color\": \"#2a3f5f\"}, \"error_y\": {\"color\": \"#2a3f5f\"}, \"marker\": {\"line\": {\"color\": \"#E5ECF6\", \"width\": 0.5}}, \"type\": \"bar\"}], \"barpolar\": [{\"marker\": {\"line\": {\"color\": \"#E5ECF6\", \"width\": 0.5}}, \"type\": \"barpolar\"}], \"carpet\": [{\"aaxis\": {\"endlinecolor\": \"#2a3f5f\", \"gridcolor\": \"white\", \"linecolor\": \"white\", \"minorgridcolor\": \"white\", \"startlinecolor\": \"#2a3f5f\"}, \"baxis\": {\"endlinecolor\": \"#2a3f5f\", \"gridcolor\": \"white\", \"linecolor\": \"white\", \"minorgridcolor\": \"white\", \"startlinecolor\": \"#2a3f5f\"}, \"type\": \"carpet\"}], \"choropleth\": [{\"colorbar\": {\"outlinewidth\": 0, \"ticks\": \"\"}, \"type\": \"choropleth\"}], \"contour\": [{\"colorbar\": {\"outlinewidth\": 0, \"ticks\": \"\"}, \"colorscale\": [[0.0, \"#0d0887\"], [0.1111111111111111, \"#46039f\"], [0.2222222222222222, \"#7201a8\"], [0.3333333333333333, \"#9c179e\"], [0.4444444444444444, \"#bd3786\"], [0.5555555555555556, \"#d8576b\"], [0.6666666666666666, \"#ed7953\"], [0.7777777777777778, \"#fb9f3a\"], [0.8888888888888888, \"#fdca26\"], [1.0, \"#f0f921\"]], \"type\": \"contour\"}], \"contourcarpet\": [{\"colorbar\": {\"outlinewidth\": 0, \"ticks\": \"\"}, \"type\": \"contourcarpet\"}], \"heatmap\": [{\"colorbar\": {\"outlinewidth\": 0, \"ticks\": \"\"}, \"colorscale\": [[0.0, \"#0d0887\"], [0.1111111111111111, \"#46039f\"], [0.2222222222222222, \"#7201a8\"], [0.3333333333333333, \"#9c179e\"], [0.4444444444444444, \"#bd3786\"], [0.5555555555555556, \"#d8576b\"], [0.6666666666666666, \"#ed7953\"], [0.7777777777777778, \"#fb9f3a\"], [0.8888888888888888, \"#fdca26\"], [1.0, \"#f0f921\"]], \"type\": \"heatmap\"}], \"heatmapgl\": [{\"colorbar\": {\"outlinewidth\": 0, \"ticks\": \"\"}, \"colorscale\": [[0.0, \"#0d0887\"], [0.1111111111111111, \"#46039f\"], [0.2222222222222222, \"#7201a8\"], [0.3333333333333333, \"#9c179e\"], [0.4444444444444444, \"#bd3786\"], [0.5555555555555556, \"#d8576b\"], [0.6666666666666666, \"#ed7953\"], [0.7777777777777778, \"#fb9f3a\"], [0.8888888888888888, \"#fdca26\"], [1.0, \"#f0f921\"]], \"type\": \"heatmapgl\"}], \"histogram\": [{\"marker\": {\"colorbar\": {\"outlinewidth\": 0, \"ticks\": \"\"}}, \"type\": \"histogram\"}], \"histogram2d\": [{\"colorbar\": {\"outlinewidth\": 0, \"ticks\": \"\"}, \"colorscale\": [[0.0, \"#0d0887\"], [0.1111111111111111, \"#46039f\"], [0.2222222222222222, \"#7201a8\"], [0.3333333333333333, \"#9c179e\"], [0.4444444444444444, \"#bd3786\"], [0.5555555555555556, \"#d8576b\"], [0.6666666666666666, \"#ed7953\"], [0.7777777777777778, \"#fb9f3a\"], [0.8888888888888888, \"#fdca26\"], [1.0, \"#f0f921\"]], \"type\": \"histogram2d\"}], \"histogram2dcontour\": [{\"colorbar\": {\"outlinewidth\": 0, \"ticks\": \"\"}, \"colorscale\": [[0.0, \"#0d0887\"], [0.1111111111111111, \"#46039f\"], [0.2222222222222222, \"#7201a8\"], [0.3333333333333333, \"#9c179e\"], [0.4444444444444444, \"#bd3786\"], [0.5555555555555556, \"#d8576b\"], [0.6666666666666666, \"#ed7953\"], [0.7777777777777778, \"#fb9f3a\"], [0.8888888888888888, \"#fdca26\"], [1.0, \"#f0f921\"]], \"type\": \"histogram2dcontour\"}], \"mesh3d\": [{\"colorbar\": {\"outlinewidth\": 0, \"ticks\": \"\"}, \"type\": \"mesh3d\"}], \"parcoords\": [{\"line\": {\"colorbar\": {\"outlinewidth\": 0, \"ticks\": \"\"}}, \"type\": \"parcoords\"}], \"pie\": [{\"automargin\": true, \"type\": \"pie\"}], \"scatter\": [{\"marker\": {\"colorbar\": {\"outlinewidth\": 0, \"ticks\": \"\"}}, \"type\": \"scatter\"}], \"scatter3d\": [{\"line\": {\"colorbar\": {\"outlinewidth\": 0, \"ticks\": \"\"}}, \"marker\": {\"colorbar\": {\"outlinewidth\": 0, \"ticks\": \"\"}}, \"type\": \"scatter3d\"}], \"scattercarpet\": [{\"marker\": {\"colorbar\": {\"outlinewidth\": 0, \"ticks\": \"\"}}, \"type\": \"scattercarpet\"}], \"scattergeo\": [{\"marker\": {\"colorbar\": {\"outlinewidth\": 0, \"ticks\": \"\"}}, \"type\": \"scattergeo\"}], \"scattergl\": [{\"marker\": {\"colorbar\": {\"outlinewidth\": 0, \"ticks\": \"\"}}, \"type\": \"scattergl\"}], \"scattermapbox\": [{\"marker\": {\"colorbar\": {\"outlinewidth\": 0, \"ticks\": \"\"}}, \"type\": \"scattermapbox\"}], \"scatterpolar\": [{\"marker\": {\"colorbar\": {\"outlinewidth\": 0, \"ticks\": \"\"}}, \"type\": \"scatterpolar\"}], \"scatterpolargl\": [{\"marker\": {\"colorbar\": {\"outlinewidth\": 0, \"ticks\": \"\"}}, \"type\": \"scatterpolargl\"}], \"scatterternary\": [{\"marker\": {\"colorbar\": {\"outlinewidth\": 0, \"ticks\": \"\"}}, \"type\": \"scatterternary\"}], \"surface\": [{\"colorbar\": {\"outlinewidth\": 0, \"ticks\": \"\"}, \"colorscale\": [[0.0, \"#0d0887\"], [0.1111111111111111, \"#46039f\"], [0.2222222222222222, \"#7201a8\"], [0.3333333333333333, \"#9c179e\"], [0.4444444444444444, \"#bd3786\"], [0.5555555555555556, \"#d8576b\"], [0.6666666666666666, \"#ed7953\"], [0.7777777777777778, \"#fb9f3a\"], [0.8888888888888888, \"#fdca26\"], [1.0, \"#f0f921\"]], \"type\": \"surface\"}], \"table\": [{\"cells\": {\"fill\": {\"color\": \"#EBF0F8\"}, \"line\": {\"color\": \"white\"}}, \"header\": {\"fill\": {\"color\": \"#C8D4E3\"}, \"line\": {\"color\": \"white\"}}, \"type\": \"table\"}]}, \"layout\": {\"annotationdefaults\": {\"arrowcolor\": \"#2a3f5f\", \"arrowhead\": 0, \"arrowwidth\": 1}, \"coloraxis\": {\"colorbar\": {\"outlinewidth\": 0, \"ticks\": \"\"}}, \"colorscale\": {\"diverging\": [[0, \"#8e0152\"], [0.1, \"#c51b7d\"], [0.2, \"#de77ae\"], [0.3, \"#f1b6da\"], [0.4, \"#fde0ef\"], [0.5, \"#f7f7f7\"], [0.6, \"#e6f5d0\"], [0.7, \"#b8e186\"], [0.8, \"#7fbc41\"], [0.9, \"#4d9221\"], [1, \"#276419\"]], \"sequential\": [[0.0, \"#0d0887\"], [0.1111111111111111, \"#46039f\"], [0.2222222222222222, \"#7201a8\"], [0.3333333333333333, \"#9c179e\"], [0.4444444444444444, \"#bd3786\"], [0.5555555555555556, \"#d8576b\"], [0.6666666666666666, \"#ed7953\"], [0.7777777777777778, \"#fb9f3a\"], [0.8888888888888888, \"#fdca26\"], [1.0, \"#f0f921\"]], \"sequentialminus\": [[0.0, \"#0d0887\"], [0.1111111111111111, \"#46039f\"], [0.2222222222222222, \"#7201a8\"], [0.3333333333333333, \"#9c179e\"], [0.4444444444444444, \"#bd3786\"], [0.5555555555555556, \"#d8576b\"], [0.6666666666666666, \"#ed7953\"], [0.7777777777777778, \"#fb9f3a\"], [0.8888888888888888, \"#fdca26\"], [1.0, \"#f0f921\"]]}, \"colorway\": [\"#636efa\", \"#EF553B\", \"#00cc96\", \"#ab63fa\", \"#FFA15A\", \"#19d3f3\", \"#FF6692\", \"#B6E880\", \"#FF97FF\", \"#FECB52\"], \"font\": {\"color\": \"#2a3f5f\"}, \"geo\": {\"bgcolor\": \"white\", \"lakecolor\": \"white\", \"landcolor\": \"#E5ECF6\", \"showlakes\": true, \"showland\": true, \"subunitcolor\": \"white\"}, \"hoverlabel\": {\"align\": \"left\"}, \"hovermode\": \"closest\", \"mapbox\": {\"style\": \"light\"}, \"paper_bgcolor\": \"white\", \"plot_bgcolor\": \"#E5ECF6\", \"polar\": {\"angularaxis\": {\"gridcolor\": \"white\", \"linecolor\": \"white\", \"ticks\": \"\"}, \"bgcolor\": \"#E5ECF6\", \"radialaxis\": {\"gridcolor\": \"white\", \"linecolor\": \"white\", \"ticks\": \"\"}}, \"scene\": {\"xaxis\": {\"backgroundcolor\": \"#E5ECF6\", \"gridcolor\": \"white\", \"gridwidth\": 2, \"linecolor\": \"white\", \"showbackground\": true, \"ticks\": \"\", \"zerolinecolor\": \"white\"}, \"yaxis\": {\"backgroundcolor\": \"#E5ECF6\", \"gridcolor\": \"white\", \"gridwidth\": 2, \"linecolor\": \"white\", \"showbackground\": true, \"ticks\": \"\", \"zerolinecolor\": \"white\"}, \"zaxis\": {\"backgroundcolor\": \"#E5ECF6\", \"gridcolor\": \"white\", \"gridwidth\": 2, \"linecolor\": \"white\", \"showbackground\": true, \"ticks\": \"\", \"zerolinecolor\": \"white\"}}, \"shapedefaults\": {\"line\": {\"color\": \"#2a3f5f\"}}, \"ternary\": {\"aaxis\": {\"gridcolor\": \"white\", \"linecolor\": \"white\", \"ticks\": \"\"}, \"baxis\": {\"gridcolor\": \"white\", \"linecolor\": \"white\", \"ticks\": \"\"}, \"bgcolor\": \"#E5ECF6\", \"caxis\": {\"gridcolor\": \"white\", \"linecolor\": \"white\", \"ticks\": \"\"}}, \"title\": {\"x\": 0.05}, \"xaxis\": {\"automargin\": true, \"gridcolor\": \"white\", \"linecolor\": \"white\", \"ticks\": \"\", \"title\": {\"standoff\": 15}, \"zerolinecolor\": \"white\", \"zerolinewidth\": 2}, \"yaxis\": {\"automargin\": true, \"gridcolor\": \"white\", \"linecolor\": \"white\", \"ticks\": \"\", \"title\": {\"standoff\": 15}, \"zerolinecolor\": \"white\", \"zerolinewidth\": 2}}}, \"title\": {\"font\": {\"color\": \"#4D5663\"}}, \"xaxis\": {\"gridcolor\": \"#E1E5ED\", \"showgrid\": true, \"tickfont\": {\"color\": \"#4D5663\"}, \"title\": {\"font\": {\"color\": \"#4D5663\"}, \"text\": \"\"}, \"zerolinecolor\": \"#E1E5ED\"}, \"yaxis\": {\"gridcolor\": \"#E1E5ED\", \"showgrid\": true, \"tickfont\": {\"color\": \"#4D5663\"}, \"title\": {\"font\": {\"color\": \"#4D5663\"}, \"text\": \"\"}, \"zerolinecolor\": \"#E1E5ED\"}},\n",
       "                        {\"showLink\": true, \"linkText\": \"Export to plot.ly\", \"plotlyServerURL\": \"https://plot.ly\", \"responsive\": true}\n",
       "                    ).then(function(){\n",
       "                            \n",
       "var gd = document.getElementById('a073ef85-eb70-4976-bb52-77da33287a23');\n",
       "var x = new MutationObserver(function (mutations, observer) {{\n",
       "        var display = window.getComputedStyle(gd).display;\n",
       "        if (!display || display === 'none') {{\n",
       "            console.log([gd, 'removed!']);\n",
       "            Plotly.purge(gd);\n",
       "            observer.disconnect();\n",
       "        }}\n",
       "}});\n",
       "\n",
       "// Listen for the removal of the full notebook cells\n",
       "var notebookContainer = gd.closest('#notebook-container');\n",
       "if (notebookContainer) {{\n",
       "    x.observe(notebookContainer, {childList: true});\n",
       "}}\n",
       "\n",
       "// Listen for the clearing of the current output cell\n",
       "var outputEl = gd.closest('.output');\n",
       "if (outputEl) {{\n",
       "    x.observe(outputEl, {childList: true});\n",
       "}}\n",
       "\n",
       "                        })\n",
       "                };\n",
       "                });\n",
       "            </script>\n",
       "        </div>"
      ]
     },
     "metadata": {},
     "output_type": "display_data"
    }
   ],
   "source": [
    "df.sum().iplot(kind='bar')"
   ]
  },
  {
   "cell_type": "code",
   "execution_count": 28,
   "metadata": {},
   "outputs": [
    {
     "data": {
      "application/vnd.plotly.v1+json": {
       "config": {
        "linkText": "Export to plot.ly",
        "plotlyServerURL": "https://plot.ly",
        "showLink": true
       },
       "data": [
        {
         "boxpoints": false,
         "line": {
          "width": 1.3
         },
         "marker": {
          "color": "rgba(255, 153, 51, 1.0)"
         },
         "name": "A",
         "orientation": "v",
         "type": "box",
         "y": [
          1.5786187229586952,
          0.5388907679893202,
          1.078694437802884,
          0.32245053629987225,
          -0.9223734597448511,
          0.6846853537469202,
          -0.45008481106597226,
          -0.3533505384946988,
          -2.8731498108221647,
          -0.7484971720768924,
          -0.36500273352880264,
          0.6067655573450121,
          -0.9095258614147902,
          -0.5916802031109333,
          -0.1286568103901193,
          1.7388296281606612,
          0.47239980869073794,
          -0.19232195914901176,
          2.229241629104578,
          0.9230532412325921,
          1.669864645835989,
          -0.048946795581749296,
          -1.1772689529385014,
          -1.507948452528026,
          0.24724840660536831,
          -0.5514672401858561,
          0.03940467306020378,
          1.101065497240953,
          -0.6740037548529809,
          -1.087435723169192,
          0.7956290688949827,
          1.3708984098787027,
          -2.5791584583768774,
          -0.22441070420898013,
          0.26205684531518003,
          -1.4562008931988613,
          1.4373764995136746,
          1.5882274462361048,
          -1.14297172147719,
          0.8557954035872387,
          -0.21393484405050417,
          -0.4561921999510943,
          -1.2399718899695817,
          -0.4894135182650713,
          -0.9339678649182176,
          1.1632061007301673,
          -0.5287445421017896,
          -0.7851686235869038,
          0.9047629487274184,
          0.4246297921895481,
          -0.7308639618574918,
          0.25594378026316994,
          0.18619445129129822,
          -0.000521841883759933,
          -0.0956855252854502,
          0.41568934719485845,
          2.3363430277107633,
          0.986313969490932,
          -2.2999979856947776,
          -0.988970346091432,
          -0.17387465651416092,
          1.1434523811225343,
          0.7142548633467558,
          1.0861935261444606,
          0.5326363331496747,
          0.24960608255715572,
          0.15224848216287823,
          -1.0379568391468894,
          0.40303463838925496,
          1.4745778622017471,
          0.5528359060224775,
          -0.4041364159267252,
          0.2958334397510018,
          -0.9587982415737354,
          2.411937340919393,
          -1.5457422218029453,
          0.349811580328209,
          -0.22414230333098373,
          -0.5952445750360521,
          -0.17328969929810023,
          -0.2544671869662989,
          0.38014899400462554,
          -0.8101198010890571,
          -0.14087644847276767,
          0.5011952118769845,
          -1.4466394766986472,
          -0.6101461012464322,
          0.25454424877028975,
          -0.6731734711992503,
          1.535518147828806,
          -1.8820650727715733,
          -0.08447236199084893,
          0.30272598868420986,
          1.279879939966949,
          -0.2801796132397617,
          1.1306796638342382,
          1.2908453116833694,
          -0.5089587024089931,
          0.12139023869349684,
          0.29123717194560733
         ]
        },
        {
         "boxpoints": false,
         "line": {
          "width": 1.3
         },
         "marker": {
          "color": "rgba(55, 128, 191, 1.0)"
         },
         "name": "B",
         "orientation": "v",
         "type": "box",
         "y": [
          -0.9091481202776661,
          0.06780882273199226,
          -0.37426163102207805,
          -0.0893408716584356,
          0.3785809932478647,
          -0.1674663523925086,
          -1.8900779795166602,
          -0.3424626483864567,
          0.16169535711160646,
          0.0478377990035949,
          -0.05481689229587556,
          0.5533515341116935,
          1.813873713624411,
          0.4496238708250704,
          -0.7669842546794466,
          -0.5878357083218064,
          0.2371579630564443,
          -0.53799999065927,
          -1.928307767514013,
          0.778863457823434,
          -0.4660622969181952,
          0.21413796571596228,
          0.18163665667639722,
          -0.11279316160530298,
          -0.10135968035407887,
          1.1556132702741724,
          -1.4199345211591043,
          -1.1980119673035385,
          -0.403043648643454,
          -0.18535180459067813,
          -0.590798397804791,
          -0.3527904046359064,
          0.0521331226621967,
          1.532901799474751,
          0.5802094194992679,
          -0.010870242447072558,
          0.4642532142674884,
          -0.9660326232658625,
          1.9556195439245811,
          -0.05408068932375628,
          0.18235044092284422,
          -0.1051075040381056,
          0.16635592876305297,
          -1.6885493863487944,
          0.6763009103052485,
          -2.10897816221814,
          0.4405099968628592,
          0.6263658596754582,
          1.9604723414870466,
          1.06194614575976,
          0.6400773508424474,
          -0.5500867822309106,
          0.8307100882811101,
          0.0344633537188449,
          -1.330900477021943,
          2.4910631328577386,
          -1.7059464862818212,
          0.5955627767535996,
          0.07872829056054018,
          -0.7658543204305447,
          -1.0595414654093238,
          -0.4404871361336019,
          -0.4303288990356177,
          1.4977893567786902,
          -1.8584560116454625,
          0.28782599809848924,
          -0.5654122593952702,
          1.051391369391621,
          -0.9569865241042446,
          0.6768422848156005,
          -0.4150103635543724,
          1.9936289538054037,
          0.6034494063737481,
          -0.5042530167988375,
          -1.7769618298699321,
          0.2973685224675162,
          0.6357589463328186,
          -0.9239470626522018,
          0.389154509412879,
          -0.8314898251629631,
          1.1306355458935795,
          -0.13371758037286724,
          -0.9233531684251245,
          -1.482427845223228,
          -0.06425504201663151,
          1.8131487525802705,
          -1.3458155732931503,
          0.7107488739846166,
          0.5952788770646874,
          -0.18688980536139707,
          0.364839931718773,
          0.3702635516581097,
          -1.4292990764432627,
          -0.5328116959402388,
          0.11373726774497099,
          1.1744561982317403,
          0.9043388870333897,
          -0.5964606635103178,
          0.8775321308476934,
          0.4960320670502967
         ]
        },
        {
         "boxpoints": false,
         "line": {
          "width": 1.3
         },
         "marker": {
          "color": "rgba(50, 171, 96, 1.0)"
         },
         "name": "C",
         "orientation": "v",
         "type": "box",
         "y": [
          -1.197603887322099,
          -0.14967919671293892,
          0.5444082636142232,
          -0.07152960472442545,
          -0.11760235423160066,
          -0.7152903793804544,
          0.4005045046255291,
          1.3518039524512873,
          -1.1243483736276993,
          -0.5009909117196343,
          -0.6356525293413666,
          0.2956388077628931,
          -0.7524320015200916,
          -1.0529801411888347,
          0.7071044525469407,
          -0.9284437462526892,
          -1.164603065805729,
          -0.6421343978188939,
          -0.8947566955109193,
          0.452194461157883,
          -1.670887483463763,
          1.0002966776604,
          1.8493638173924913,
          -1.652593256858235,
          0.5956196697561125,
          1.7477319863139726,
          -0.5083851338373848,
          0.07323737775396946,
          -0.5543647956471862,
          -0.7280928908030394,
          0.929444705638144,
          -1.1237235236519836,
          1.364897098191059,
          0.5478777880307599,
          -0.07518856217547684,
          -0.3973916275118296,
          -0.2522469404046494,
          -0.8371763884555629,
          -0.007728306192208445,
          1.037248310474221,
          2.0671129544998172,
          1.706815112917324,
          -0.08261281371724254,
          0.20644873959937096,
          0.6924770531326767,
          -1.5827261161381425,
          -0.7763239958108433,
          -0.3503803723749217,
          -1.9302490373390493,
          1.1641087222396087,
          0.5011120254621527,
          -0.5765128729674301,
          -0.572909190354357,
          0.7960288033317842,
          -0.4016600353267202,
          0.14155162583316797,
          0.538711537931317,
          0.09717978563857158,
          -0.15855920678036223,
          0.3817610314473487,
          -0.06345160415242983,
          -0.8949898403245102,
          -0.5922689806323262,
          0.059167966149032476,
          -0.9025951845322313,
          0.5561210474233387,
          0.18971421226487797,
          1.527466279236679,
          1.1553110119046823,
          -0.05142100171334006,
          -0.11104848011462413,
          0.45975838916078526,
          -1.0837658721120444,
          0.2603074791735487,
          0.2271357768750185,
          -0.6143912633154864,
          -0.19682027933217464,
          -0.0755922482911257,
          2.3624936077255865,
          1.061218366771381,
          -0.09187194218598727,
          1.5566403723088795,
          -0.5662785101994151,
          0.0871672917737875,
          -1.3130377206401151,
          -0.01629282610072284,
          -1.7130840368279885,
          -1.295689318319282,
          2.5175579928428995,
          1.377240242721176,
          -1.034680562490194,
          0.6531272679255921,
          -0.6879084568105988,
          -0.46116366918317875,
          -1.457596574037775,
          0.08248908322072915,
          -1.5267858011457618,
          0.7764265294878716,
          -1.0063240827148245,
          -1.5337039944830495
         ]
        },
        {
         "boxpoints": false,
         "line": {
          "width": 1.3
         },
         "marker": {
          "color": "rgba(128, 0, 128, 1.0)"
         },
         "name": "D",
         "orientation": "v",
         "type": "box",
         "y": [
          -1.236960009175287,
          1.5957056827372886,
          -1.0816516780323115,
          2.200052015079462,
          0.5143247019771605,
          -1.298901901880776,
          0.17313645065214056,
          0.9674163566203784,
          -0.22153004406279606,
          -0.27206989956303956,
          0.3143012040259115,
          -0.569531152898254,
          0.08126478029389282,
          0.8559542227430773,
          -1.0175763939410853,
          -0.10680840976940756,
          0.04184890394958401,
          -0.18633903942760885,
          -0.442701902721548,
          0.25069835235750826,
          -0.15772123842472408,
          0.6055264194695906,
          -0.5231474640327842,
          -1.1483991602933603,
          -1.4315196534480366,
          -0.29110580637466676,
          -0.6148183294126481,
          1.0357269388691175,
          1.4325122264680905,
          0.047996524705700795,
          0.5257544940853995,
          0.5007092040776967,
          -1.0133788494833593,
          -0.17140111283027717,
          -1.6650623212197295,
          -0.38565297522022907,
          -1.0631154036221937,
          0.8936736895735256,
          0.6975017214985157,
          -0.6144869389303735,
          -2.1181687484974923,
          -0.6536309034282014,
          -0.48014587964671623,
          -1.945695231225604,
          -0.04551853151221338,
          -2.3961519073548403,
          1.5957981977390046,
          -0.3235433792385381,
          -1.0793595624540027,
          0.5839007832341924,
          1.0199613700952719,
          -0.3074901790252907,
          0.41799459014333507,
          -0.552158231869279,
          1.310697439208428,
          -2.6075287898130743,
          -1.8854654673649944,
          0.5002128868990016,
          -0.657663363118006,
          1.3178004735068567,
          0.3457488508580863,
          -0.04376132072741204,
          -2.8980843373751073,
          1.5859570858211414,
          0.07085088888886118,
          -0.061026509238509115,
          1.3615710585152017,
          -0.6397894357080812,
          -0.43859315104324653,
          0.8751237172338803,
          -0.31378903090234406,
          0.1980565609095691,
          -0.9598547525201483,
          0.03672553453537836,
          1.7192074964219954,
          1.0986428237582062,
          0.0025096167788204336,
          -1.181223803979235,
          -0.20377850730036687,
          -0.29447410738980206,
          -0.2878050343115418,
          -0.5626726711840615,
          2.1779338559988553,
          -1.0356971241275936,
          0.2652045833527526,
          -1.8230465662038575,
          -0.012118397896673763,
          -0.48752840176514556,
          0.3373036379938806,
          3.2348155942028587,
          -0.3686666049825805,
          -0.23124159952112106,
          1.722082627228278,
          0.8029339991881422,
          -0.422344772622117,
          -0.6850380502239866,
          0.8691707591440322,
          0.14220099266924224,
          -0.4567669970269884,
          2.9844915497962994
         ]
        }
       ],
       "layout": {
        "legend": {
         "bgcolor": "#F5F6F9",
         "font": {
          "color": "#4D5663"
         }
        },
        "paper_bgcolor": "#F5F6F9",
        "plot_bgcolor": "#F5F6F9",
        "template": {
         "data": {
          "bar": [
           {
            "error_x": {
             "color": "#2a3f5f"
            },
            "error_y": {
             "color": "#2a3f5f"
            },
            "marker": {
             "line": {
              "color": "#E5ECF6",
              "width": 0.5
             }
            },
            "type": "bar"
           }
          ],
          "barpolar": [
           {
            "marker": {
             "line": {
              "color": "#E5ECF6",
              "width": 0.5
             }
            },
            "type": "barpolar"
           }
          ],
          "carpet": [
           {
            "aaxis": {
             "endlinecolor": "#2a3f5f",
             "gridcolor": "white",
             "linecolor": "white",
             "minorgridcolor": "white",
             "startlinecolor": "#2a3f5f"
            },
            "baxis": {
             "endlinecolor": "#2a3f5f",
             "gridcolor": "white",
             "linecolor": "white",
             "minorgridcolor": "white",
             "startlinecolor": "#2a3f5f"
            },
            "type": "carpet"
           }
          ],
          "choropleth": [
           {
            "colorbar": {
             "outlinewidth": 0,
             "ticks": ""
            },
            "type": "choropleth"
           }
          ],
          "contour": [
           {
            "colorbar": {
             "outlinewidth": 0,
             "ticks": ""
            },
            "colorscale": [
             [
              0,
              "#0d0887"
             ],
             [
              0.1111111111111111,
              "#46039f"
             ],
             [
              0.2222222222222222,
              "#7201a8"
             ],
             [
              0.3333333333333333,
              "#9c179e"
             ],
             [
              0.4444444444444444,
              "#bd3786"
             ],
             [
              0.5555555555555556,
              "#d8576b"
             ],
             [
              0.6666666666666666,
              "#ed7953"
             ],
             [
              0.7777777777777778,
              "#fb9f3a"
             ],
             [
              0.8888888888888888,
              "#fdca26"
             ],
             [
              1,
              "#f0f921"
             ]
            ],
            "type": "contour"
           }
          ],
          "contourcarpet": [
           {
            "colorbar": {
             "outlinewidth": 0,
             "ticks": ""
            },
            "type": "contourcarpet"
           }
          ],
          "heatmap": [
           {
            "colorbar": {
             "outlinewidth": 0,
             "ticks": ""
            },
            "colorscale": [
             [
              0,
              "#0d0887"
             ],
             [
              0.1111111111111111,
              "#46039f"
             ],
             [
              0.2222222222222222,
              "#7201a8"
             ],
             [
              0.3333333333333333,
              "#9c179e"
             ],
             [
              0.4444444444444444,
              "#bd3786"
             ],
             [
              0.5555555555555556,
              "#d8576b"
             ],
             [
              0.6666666666666666,
              "#ed7953"
             ],
             [
              0.7777777777777778,
              "#fb9f3a"
             ],
             [
              0.8888888888888888,
              "#fdca26"
             ],
             [
              1,
              "#f0f921"
             ]
            ],
            "type": "heatmap"
           }
          ],
          "heatmapgl": [
           {
            "colorbar": {
             "outlinewidth": 0,
             "ticks": ""
            },
            "colorscale": [
             [
              0,
              "#0d0887"
             ],
             [
              0.1111111111111111,
              "#46039f"
             ],
             [
              0.2222222222222222,
              "#7201a8"
             ],
             [
              0.3333333333333333,
              "#9c179e"
             ],
             [
              0.4444444444444444,
              "#bd3786"
             ],
             [
              0.5555555555555556,
              "#d8576b"
             ],
             [
              0.6666666666666666,
              "#ed7953"
             ],
             [
              0.7777777777777778,
              "#fb9f3a"
             ],
             [
              0.8888888888888888,
              "#fdca26"
             ],
             [
              1,
              "#f0f921"
             ]
            ],
            "type": "heatmapgl"
           }
          ],
          "histogram": [
           {
            "marker": {
             "colorbar": {
              "outlinewidth": 0,
              "ticks": ""
             }
            },
            "type": "histogram"
           }
          ],
          "histogram2d": [
           {
            "colorbar": {
             "outlinewidth": 0,
             "ticks": ""
            },
            "colorscale": [
             [
              0,
              "#0d0887"
             ],
             [
              0.1111111111111111,
              "#46039f"
             ],
             [
              0.2222222222222222,
              "#7201a8"
             ],
             [
              0.3333333333333333,
              "#9c179e"
             ],
             [
              0.4444444444444444,
              "#bd3786"
             ],
             [
              0.5555555555555556,
              "#d8576b"
             ],
             [
              0.6666666666666666,
              "#ed7953"
             ],
             [
              0.7777777777777778,
              "#fb9f3a"
             ],
             [
              0.8888888888888888,
              "#fdca26"
             ],
             [
              1,
              "#f0f921"
             ]
            ],
            "type": "histogram2d"
           }
          ],
          "histogram2dcontour": [
           {
            "colorbar": {
             "outlinewidth": 0,
             "ticks": ""
            },
            "colorscale": [
             [
              0,
              "#0d0887"
             ],
             [
              0.1111111111111111,
              "#46039f"
             ],
             [
              0.2222222222222222,
              "#7201a8"
             ],
             [
              0.3333333333333333,
              "#9c179e"
             ],
             [
              0.4444444444444444,
              "#bd3786"
             ],
             [
              0.5555555555555556,
              "#d8576b"
             ],
             [
              0.6666666666666666,
              "#ed7953"
             ],
             [
              0.7777777777777778,
              "#fb9f3a"
             ],
             [
              0.8888888888888888,
              "#fdca26"
             ],
             [
              1,
              "#f0f921"
             ]
            ],
            "type": "histogram2dcontour"
           }
          ],
          "mesh3d": [
           {
            "colorbar": {
             "outlinewidth": 0,
             "ticks": ""
            },
            "type": "mesh3d"
           }
          ],
          "parcoords": [
           {
            "line": {
             "colorbar": {
              "outlinewidth": 0,
              "ticks": ""
             }
            },
            "type": "parcoords"
           }
          ],
          "pie": [
           {
            "automargin": true,
            "type": "pie"
           }
          ],
          "scatter": [
           {
            "marker": {
             "colorbar": {
              "outlinewidth": 0,
              "ticks": ""
             }
            },
            "type": "scatter"
           }
          ],
          "scatter3d": [
           {
            "line": {
             "colorbar": {
              "outlinewidth": 0,
              "ticks": ""
             }
            },
            "marker": {
             "colorbar": {
              "outlinewidth": 0,
              "ticks": ""
             }
            },
            "type": "scatter3d"
           }
          ],
          "scattercarpet": [
           {
            "marker": {
             "colorbar": {
              "outlinewidth": 0,
              "ticks": ""
             }
            },
            "type": "scattercarpet"
           }
          ],
          "scattergeo": [
           {
            "marker": {
             "colorbar": {
              "outlinewidth": 0,
              "ticks": ""
             }
            },
            "type": "scattergeo"
           }
          ],
          "scattergl": [
           {
            "marker": {
             "colorbar": {
              "outlinewidth": 0,
              "ticks": ""
             }
            },
            "type": "scattergl"
           }
          ],
          "scattermapbox": [
           {
            "marker": {
             "colorbar": {
              "outlinewidth": 0,
              "ticks": ""
             }
            },
            "type": "scattermapbox"
           }
          ],
          "scatterpolar": [
           {
            "marker": {
             "colorbar": {
              "outlinewidth": 0,
              "ticks": ""
             }
            },
            "type": "scatterpolar"
           }
          ],
          "scatterpolargl": [
           {
            "marker": {
             "colorbar": {
              "outlinewidth": 0,
              "ticks": ""
             }
            },
            "type": "scatterpolargl"
           }
          ],
          "scatterternary": [
           {
            "marker": {
             "colorbar": {
              "outlinewidth": 0,
              "ticks": ""
             }
            },
            "type": "scatterternary"
           }
          ],
          "surface": [
           {
            "colorbar": {
             "outlinewidth": 0,
             "ticks": ""
            },
            "colorscale": [
             [
              0,
              "#0d0887"
             ],
             [
              0.1111111111111111,
              "#46039f"
             ],
             [
              0.2222222222222222,
              "#7201a8"
             ],
             [
              0.3333333333333333,
              "#9c179e"
             ],
             [
              0.4444444444444444,
              "#bd3786"
             ],
             [
              0.5555555555555556,
              "#d8576b"
             ],
             [
              0.6666666666666666,
              "#ed7953"
             ],
             [
              0.7777777777777778,
              "#fb9f3a"
             ],
             [
              0.8888888888888888,
              "#fdca26"
             ],
             [
              1,
              "#f0f921"
             ]
            ],
            "type": "surface"
           }
          ],
          "table": [
           {
            "cells": {
             "fill": {
              "color": "#EBF0F8"
             },
             "line": {
              "color": "white"
             }
            },
            "header": {
             "fill": {
              "color": "#C8D4E3"
             },
             "line": {
              "color": "white"
             }
            },
            "type": "table"
           }
          ]
         },
         "layout": {
          "annotationdefaults": {
           "arrowcolor": "#2a3f5f",
           "arrowhead": 0,
           "arrowwidth": 1
          },
          "coloraxis": {
           "colorbar": {
            "outlinewidth": 0,
            "ticks": ""
           }
          },
          "colorscale": {
           "diverging": [
            [
             0,
             "#8e0152"
            ],
            [
             0.1,
             "#c51b7d"
            ],
            [
             0.2,
             "#de77ae"
            ],
            [
             0.3,
             "#f1b6da"
            ],
            [
             0.4,
             "#fde0ef"
            ],
            [
             0.5,
             "#f7f7f7"
            ],
            [
             0.6,
             "#e6f5d0"
            ],
            [
             0.7,
             "#b8e186"
            ],
            [
             0.8,
             "#7fbc41"
            ],
            [
             0.9,
             "#4d9221"
            ],
            [
             1,
             "#276419"
            ]
           ],
           "sequential": [
            [
             0,
             "#0d0887"
            ],
            [
             0.1111111111111111,
             "#46039f"
            ],
            [
             0.2222222222222222,
             "#7201a8"
            ],
            [
             0.3333333333333333,
             "#9c179e"
            ],
            [
             0.4444444444444444,
             "#bd3786"
            ],
            [
             0.5555555555555556,
             "#d8576b"
            ],
            [
             0.6666666666666666,
             "#ed7953"
            ],
            [
             0.7777777777777778,
             "#fb9f3a"
            ],
            [
             0.8888888888888888,
             "#fdca26"
            ],
            [
             1,
             "#f0f921"
            ]
           ],
           "sequentialminus": [
            [
             0,
             "#0d0887"
            ],
            [
             0.1111111111111111,
             "#46039f"
            ],
            [
             0.2222222222222222,
             "#7201a8"
            ],
            [
             0.3333333333333333,
             "#9c179e"
            ],
            [
             0.4444444444444444,
             "#bd3786"
            ],
            [
             0.5555555555555556,
             "#d8576b"
            ],
            [
             0.6666666666666666,
             "#ed7953"
            ],
            [
             0.7777777777777778,
             "#fb9f3a"
            ],
            [
             0.8888888888888888,
             "#fdca26"
            ],
            [
             1,
             "#f0f921"
            ]
           ]
          },
          "colorway": [
           "#636efa",
           "#EF553B",
           "#00cc96",
           "#ab63fa",
           "#FFA15A",
           "#19d3f3",
           "#FF6692",
           "#B6E880",
           "#FF97FF",
           "#FECB52"
          ],
          "font": {
           "color": "#2a3f5f"
          },
          "geo": {
           "bgcolor": "white",
           "lakecolor": "white",
           "landcolor": "#E5ECF6",
           "showlakes": true,
           "showland": true,
           "subunitcolor": "white"
          },
          "hoverlabel": {
           "align": "left"
          },
          "hovermode": "closest",
          "mapbox": {
           "style": "light"
          },
          "paper_bgcolor": "white",
          "plot_bgcolor": "#E5ECF6",
          "polar": {
           "angularaxis": {
            "gridcolor": "white",
            "linecolor": "white",
            "ticks": ""
           },
           "bgcolor": "#E5ECF6",
           "radialaxis": {
            "gridcolor": "white",
            "linecolor": "white",
            "ticks": ""
           }
          },
          "scene": {
           "xaxis": {
            "backgroundcolor": "#E5ECF6",
            "gridcolor": "white",
            "gridwidth": 2,
            "linecolor": "white",
            "showbackground": true,
            "ticks": "",
            "zerolinecolor": "white"
           },
           "yaxis": {
            "backgroundcolor": "#E5ECF6",
            "gridcolor": "white",
            "gridwidth": 2,
            "linecolor": "white",
            "showbackground": true,
            "ticks": "",
            "zerolinecolor": "white"
           },
           "zaxis": {
            "backgroundcolor": "#E5ECF6",
            "gridcolor": "white",
            "gridwidth": 2,
            "linecolor": "white",
            "showbackground": true,
            "ticks": "",
            "zerolinecolor": "white"
           }
          },
          "shapedefaults": {
           "line": {
            "color": "#2a3f5f"
           }
          },
          "ternary": {
           "aaxis": {
            "gridcolor": "white",
            "linecolor": "white",
            "ticks": ""
           },
           "baxis": {
            "gridcolor": "white",
            "linecolor": "white",
            "ticks": ""
           },
           "bgcolor": "#E5ECF6",
           "caxis": {
            "gridcolor": "white",
            "linecolor": "white",
            "ticks": ""
           }
          },
          "title": {
           "x": 0.05
          },
          "xaxis": {
           "automargin": true,
           "gridcolor": "white",
           "linecolor": "white",
           "ticks": "",
           "title": {
            "standoff": 15
           },
           "zerolinecolor": "white",
           "zerolinewidth": 2
          },
          "yaxis": {
           "automargin": true,
           "gridcolor": "white",
           "linecolor": "white",
           "ticks": "",
           "title": {
            "standoff": 15
           },
           "zerolinecolor": "white",
           "zerolinewidth": 2
          }
         }
        },
        "title": {
         "font": {
          "color": "#4D5663"
         }
        },
        "xaxis": {
         "gridcolor": "#E1E5ED",
         "showgrid": true,
         "tickfont": {
          "color": "#4D5663"
         },
         "title": {
          "font": {
           "color": "#4D5663"
          },
          "text": ""
         },
         "zerolinecolor": "#E1E5ED"
        },
        "yaxis": {
         "gridcolor": "#E1E5ED",
         "showgrid": true,
         "tickfont": {
          "color": "#4D5663"
         },
         "title": {
          "font": {
           "color": "#4D5663"
          },
          "text": ""
         },
         "zerolinecolor": "#E1E5ED"
        }
       }
      },
      "text/html": [
       "<div>\n",
       "        \n",
       "        \n",
       "            <div id=\"b5d776d5-9fc8-4b4b-8060-40a860aa3c65\" class=\"plotly-graph-div\" style=\"height:525px; width:100%;\"></div>\n",
       "            <script type=\"text/javascript\">\n",
       "                require([\"plotly\"], function(Plotly) {\n",
       "                    window.PLOTLYENV=window.PLOTLYENV || {};\n",
       "                    window.PLOTLYENV.BASE_URL='https://plot.ly';\n",
       "                    \n",
       "                if (document.getElementById(\"b5d776d5-9fc8-4b4b-8060-40a860aa3c65\")) {\n",
       "                    Plotly.newPlot(\n",
       "                        'b5d776d5-9fc8-4b4b-8060-40a860aa3c65',\n",
       "                        [{\"boxpoints\": false, \"line\": {\"width\": 1.3}, \"marker\": {\"color\": \"rgba(255, 153, 51, 1.0)\"}, \"name\": \"A\", \"orientation\": \"v\", \"type\": \"box\", \"y\": [1.5786187229586952, 0.5388907679893202, 1.078694437802884, 0.32245053629987225, -0.9223734597448511, 0.6846853537469202, -0.45008481106597226, -0.3533505384946988, -2.8731498108221647, -0.7484971720768924, -0.36500273352880264, 0.6067655573450121, -0.9095258614147902, -0.5916802031109333, -0.1286568103901193, 1.7388296281606612, 0.47239980869073794, -0.19232195914901176, 2.229241629104578, 0.9230532412325921, 1.669864645835989, -0.048946795581749296, -1.1772689529385014, -1.507948452528026, 0.24724840660536831, -0.5514672401858561, 0.03940467306020378, 1.101065497240953, -0.6740037548529809, -1.087435723169192, 0.7956290688949827, 1.3708984098787027, -2.5791584583768774, -0.22441070420898013, 0.26205684531518003, -1.4562008931988613, 1.4373764995136746, 1.5882274462361048, -1.14297172147719, 0.8557954035872387, -0.21393484405050417, -0.4561921999510943, -1.2399718899695817, -0.4894135182650713, -0.9339678649182176, 1.1632061007301673, -0.5287445421017896, -0.7851686235869038, 0.9047629487274184, 0.4246297921895481, -0.7308639618574918, 0.25594378026316994, 0.18619445129129822, -0.000521841883759933, -0.0956855252854502, 0.41568934719485845, 2.3363430277107633, 0.986313969490932, -2.2999979856947776, -0.988970346091432, -0.17387465651416092, 1.1434523811225343, 0.7142548633467558, 1.0861935261444606, 0.5326363331496747, 0.24960608255715572, 0.15224848216287823, -1.0379568391468894, 0.40303463838925496, 1.4745778622017471, 0.5528359060224775, -0.4041364159267252, 0.2958334397510018, -0.9587982415737354, 2.411937340919393, -1.5457422218029453, 0.349811580328209, -0.22414230333098373, -0.5952445750360521, -0.17328969929810023, -0.2544671869662989, 0.38014899400462554, -0.8101198010890571, -0.14087644847276767, 0.5011952118769845, -1.4466394766986472, -0.6101461012464322, 0.25454424877028975, -0.6731734711992503, 1.535518147828806, -1.8820650727715733, -0.08447236199084893, 0.30272598868420986, 1.279879939966949, -0.2801796132397617, 1.1306796638342382, 1.2908453116833694, -0.5089587024089931, 0.12139023869349684, 0.29123717194560733]}, {\"boxpoints\": false, \"line\": {\"width\": 1.3}, \"marker\": {\"color\": \"rgba(55, 128, 191, 1.0)\"}, \"name\": \"B\", \"orientation\": \"v\", \"type\": \"box\", \"y\": [-0.9091481202776661, 0.06780882273199226, -0.37426163102207805, -0.0893408716584356, 0.3785809932478647, -0.1674663523925086, -1.8900779795166602, -0.3424626483864567, 0.16169535711160646, 0.0478377990035949, -0.05481689229587556, 0.5533515341116935, 1.813873713624411, 0.4496238708250704, -0.7669842546794466, -0.5878357083218064, 0.2371579630564443, -0.53799999065927, -1.928307767514013, 0.778863457823434, -0.4660622969181952, 0.21413796571596228, 0.18163665667639722, -0.11279316160530298, -0.10135968035407887, 1.1556132702741724, -1.4199345211591043, -1.1980119673035385, -0.403043648643454, -0.18535180459067813, -0.590798397804791, -0.3527904046359064, 0.0521331226621967, 1.532901799474751, 0.5802094194992679, -0.010870242447072558, 0.4642532142674884, -0.9660326232658625, 1.9556195439245811, -0.05408068932375628, 0.18235044092284422, -0.1051075040381056, 0.16635592876305297, -1.6885493863487944, 0.6763009103052485, -2.10897816221814, 0.4405099968628592, 0.6263658596754582, 1.9604723414870466, 1.06194614575976, 0.6400773508424474, -0.5500867822309106, 0.8307100882811101, 0.0344633537188449, -1.330900477021943, 2.4910631328577386, -1.7059464862818212, 0.5955627767535996, 0.07872829056054018, -0.7658543204305447, -1.0595414654093238, -0.4404871361336019, -0.4303288990356177, 1.4977893567786902, -1.8584560116454625, 0.28782599809848924, -0.5654122593952702, 1.051391369391621, -0.9569865241042446, 0.6768422848156005, -0.4150103635543724, 1.9936289538054037, 0.6034494063737481, -0.5042530167988375, -1.7769618298699321, 0.2973685224675162, 0.6357589463328186, -0.9239470626522018, 0.389154509412879, -0.8314898251629631, 1.1306355458935795, -0.13371758037286724, -0.9233531684251245, -1.482427845223228, -0.06425504201663151, 1.8131487525802705, -1.3458155732931503, 0.7107488739846166, 0.5952788770646874, -0.18688980536139707, 0.364839931718773, 0.3702635516581097, -1.4292990764432627, -0.5328116959402388, 0.11373726774497099, 1.1744561982317403, 0.9043388870333897, -0.5964606635103178, 0.8775321308476934, 0.4960320670502967]}, {\"boxpoints\": false, \"line\": {\"width\": 1.3}, \"marker\": {\"color\": \"rgba(50, 171, 96, 1.0)\"}, \"name\": \"C\", \"orientation\": \"v\", \"type\": \"box\", \"y\": [-1.197603887322099, -0.14967919671293892, 0.5444082636142232, -0.07152960472442545, -0.11760235423160066, -0.7152903793804544, 0.4005045046255291, 1.3518039524512873, -1.1243483736276993, -0.5009909117196343, -0.6356525293413666, 0.2956388077628931, -0.7524320015200916, -1.0529801411888347, 0.7071044525469407, -0.9284437462526892, -1.164603065805729, -0.6421343978188939, -0.8947566955109193, 0.452194461157883, -1.670887483463763, 1.0002966776604, 1.8493638173924913, -1.652593256858235, 0.5956196697561125, 1.7477319863139726, -0.5083851338373848, 0.07323737775396946, -0.5543647956471862, -0.7280928908030394, 0.929444705638144, -1.1237235236519836, 1.364897098191059, 0.5478777880307599, -0.07518856217547684, -0.3973916275118296, -0.2522469404046494, -0.8371763884555629, -0.007728306192208445, 1.037248310474221, 2.0671129544998172, 1.706815112917324, -0.08261281371724254, 0.20644873959937096, 0.6924770531326767, -1.5827261161381425, -0.7763239958108433, -0.3503803723749217, -1.9302490373390493, 1.1641087222396087, 0.5011120254621527, -0.5765128729674301, -0.572909190354357, 0.7960288033317842, -0.4016600353267202, 0.14155162583316797, 0.538711537931317, 0.09717978563857158, -0.15855920678036223, 0.3817610314473487, -0.06345160415242983, -0.8949898403245102, -0.5922689806323262, 0.059167966149032476, -0.9025951845322313, 0.5561210474233387, 0.18971421226487797, 1.527466279236679, 1.1553110119046823, -0.05142100171334006, -0.11104848011462413, 0.45975838916078526, -1.0837658721120444, 0.2603074791735487, 0.2271357768750185, -0.6143912633154864, -0.19682027933217464, -0.0755922482911257, 2.3624936077255865, 1.061218366771381, -0.09187194218598727, 1.5566403723088795, -0.5662785101994151, 0.0871672917737875, -1.3130377206401151, -0.01629282610072284, -1.7130840368279885, -1.295689318319282, 2.5175579928428995, 1.377240242721176, -1.034680562490194, 0.6531272679255921, -0.6879084568105988, -0.46116366918317875, -1.457596574037775, 0.08248908322072915, -1.5267858011457618, 0.7764265294878716, -1.0063240827148245, -1.5337039944830495]}, {\"boxpoints\": false, \"line\": {\"width\": 1.3}, \"marker\": {\"color\": \"rgba(128, 0, 128, 1.0)\"}, \"name\": \"D\", \"orientation\": \"v\", \"type\": \"box\", \"y\": [-1.236960009175287, 1.5957056827372886, -1.0816516780323115, 2.200052015079462, 0.5143247019771605, -1.298901901880776, 0.17313645065214056, 0.9674163566203784, -0.22153004406279606, -0.27206989956303956, 0.3143012040259115, -0.569531152898254, 0.08126478029389282, 0.8559542227430773, -1.0175763939410853, -0.10680840976940756, 0.04184890394958401, -0.18633903942760885, -0.442701902721548, 0.25069835235750826, -0.15772123842472408, 0.6055264194695906, -0.5231474640327842, -1.1483991602933603, -1.4315196534480366, -0.29110580637466676, -0.6148183294126481, 1.0357269388691175, 1.4325122264680905, 0.047996524705700795, 0.5257544940853995, 0.5007092040776967, -1.0133788494833593, -0.17140111283027717, -1.6650623212197295, -0.38565297522022907, -1.0631154036221937, 0.8936736895735256, 0.6975017214985157, -0.6144869389303735, -2.1181687484974923, -0.6536309034282014, -0.48014587964671623, -1.945695231225604, -0.04551853151221338, -2.3961519073548403, 1.5957981977390046, -0.3235433792385381, -1.0793595624540027, 0.5839007832341924, 1.0199613700952719, -0.3074901790252907, 0.41799459014333507, -0.552158231869279, 1.310697439208428, -2.6075287898130743, -1.8854654673649944, 0.5002128868990016, -0.657663363118006, 1.3178004735068567, 0.3457488508580863, -0.04376132072741204, -2.8980843373751073, 1.5859570858211414, 0.07085088888886118, -0.061026509238509115, 1.3615710585152017, -0.6397894357080812, -0.43859315104324653, 0.8751237172338803, -0.31378903090234406, 0.1980565609095691, -0.9598547525201483, 0.03672553453537836, 1.7192074964219954, 1.0986428237582062, 0.0025096167788204336, -1.181223803979235, -0.20377850730036687, -0.29447410738980206, -0.2878050343115418, -0.5626726711840615, 2.1779338559988553, -1.0356971241275936, 0.2652045833527526, -1.8230465662038575, -0.012118397896673763, -0.48752840176514556, 0.3373036379938806, 3.2348155942028587, -0.3686666049825805, -0.23124159952112106, 1.722082627228278, 0.8029339991881422, -0.422344772622117, -0.6850380502239866, 0.8691707591440322, 0.14220099266924224, -0.4567669970269884, 2.9844915497962994]}],\n",
       "                        {\"legend\": {\"bgcolor\": \"#F5F6F9\", \"font\": {\"color\": \"#4D5663\"}}, \"paper_bgcolor\": \"#F5F6F9\", \"plot_bgcolor\": \"#F5F6F9\", \"template\": {\"data\": {\"bar\": [{\"error_x\": {\"color\": \"#2a3f5f\"}, \"error_y\": {\"color\": \"#2a3f5f\"}, \"marker\": {\"line\": {\"color\": \"#E5ECF6\", \"width\": 0.5}}, \"type\": \"bar\"}], \"barpolar\": [{\"marker\": {\"line\": {\"color\": \"#E5ECF6\", \"width\": 0.5}}, \"type\": \"barpolar\"}], \"carpet\": [{\"aaxis\": {\"endlinecolor\": \"#2a3f5f\", \"gridcolor\": \"white\", \"linecolor\": \"white\", \"minorgridcolor\": \"white\", \"startlinecolor\": \"#2a3f5f\"}, \"baxis\": {\"endlinecolor\": \"#2a3f5f\", \"gridcolor\": \"white\", \"linecolor\": \"white\", \"minorgridcolor\": \"white\", \"startlinecolor\": \"#2a3f5f\"}, \"type\": \"carpet\"}], \"choropleth\": [{\"colorbar\": {\"outlinewidth\": 0, \"ticks\": \"\"}, \"type\": \"choropleth\"}], \"contour\": [{\"colorbar\": {\"outlinewidth\": 0, \"ticks\": \"\"}, \"colorscale\": [[0.0, \"#0d0887\"], [0.1111111111111111, \"#46039f\"], [0.2222222222222222, \"#7201a8\"], [0.3333333333333333, \"#9c179e\"], [0.4444444444444444, \"#bd3786\"], [0.5555555555555556, \"#d8576b\"], [0.6666666666666666, \"#ed7953\"], [0.7777777777777778, \"#fb9f3a\"], [0.8888888888888888, \"#fdca26\"], [1.0, \"#f0f921\"]], \"type\": \"contour\"}], \"contourcarpet\": [{\"colorbar\": {\"outlinewidth\": 0, \"ticks\": \"\"}, \"type\": \"contourcarpet\"}], \"heatmap\": [{\"colorbar\": {\"outlinewidth\": 0, \"ticks\": \"\"}, \"colorscale\": [[0.0, \"#0d0887\"], [0.1111111111111111, \"#46039f\"], [0.2222222222222222, \"#7201a8\"], [0.3333333333333333, \"#9c179e\"], [0.4444444444444444, \"#bd3786\"], [0.5555555555555556, \"#d8576b\"], [0.6666666666666666, \"#ed7953\"], [0.7777777777777778, \"#fb9f3a\"], [0.8888888888888888, \"#fdca26\"], [1.0, \"#f0f921\"]], \"type\": \"heatmap\"}], \"heatmapgl\": [{\"colorbar\": {\"outlinewidth\": 0, \"ticks\": \"\"}, \"colorscale\": [[0.0, \"#0d0887\"], [0.1111111111111111, \"#46039f\"], [0.2222222222222222, \"#7201a8\"], [0.3333333333333333, \"#9c179e\"], [0.4444444444444444, \"#bd3786\"], [0.5555555555555556, \"#d8576b\"], [0.6666666666666666, \"#ed7953\"], [0.7777777777777778, \"#fb9f3a\"], [0.8888888888888888, \"#fdca26\"], [1.0, \"#f0f921\"]], \"type\": \"heatmapgl\"}], \"histogram\": [{\"marker\": {\"colorbar\": {\"outlinewidth\": 0, \"ticks\": \"\"}}, \"type\": \"histogram\"}], \"histogram2d\": [{\"colorbar\": {\"outlinewidth\": 0, \"ticks\": \"\"}, \"colorscale\": [[0.0, \"#0d0887\"], [0.1111111111111111, \"#46039f\"], [0.2222222222222222, \"#7201a8\"], [0.3333333333333333, \"#9c179e\"], [0.4444444444444444, \"#bd3786\"], [0.5555555555555556, \"#d8576b\"], [0.6666666666666666, \"#ed7953\"], [0.7777777777777778, \"#fb9f3a\"], [0.8888888888888888, \"#fdca26\"], [1.0, \"#f0f921\"]], \"type\": \"histogram2d\"}], \"histogram2dcontour\": [{\"colorbar\": {\"outlinewidth\": 0, \"ticks\": \"\"}, \"colorscale\": [[0.0, \"#0d0887\"], [0.1111111111111111, \"#46039f\"], [0.2222222222222222, \"#7201a8\"], [0.3333333333333333, \"#9c179e\"], [0.4444444444444444, \"#bd3786\"], [0.5555555555555556, \"#d8576b\"], [0.6666666666666666, \"#ed7953\"], [0.7777777777777778, \"#fb9f3a\"], [0.8888888888888888, \"#fdca26\"], [1.0, \"#f0f921\"]], \"type\": \"histogram2dcontour\"}], \"mesh3d\": [{\"colorbar\": {\"outlinewidth\": 0, \"ticks\": \"\"}, \"type\": \"mesh3d\"}], \"parcoords\": [{\"line\": {\"colorbar\": {\"outlinewidth\": 0, \"ticks\": \"\"}}, \"type\": \"parcoords\"}], \"pie\": [{\"automargin\": true, \"type\": \"pie\"}], \"scatter\": [{\"marker\": {\"colorbar\": {\"outlinewidth\": 0, \"ticks\": \"\"}}, \"type\": \"scatter\"}], \"scatter3d\": [{\"line\": {\"colorbar\": {\"outlinewidth\": 0, \"ticks\": \"\"}}, \"marker\": {\"colorbar\": {\"outlinewidth\": 0, \"ticks\": \"\"}}, \"type\": \"scatter3d\"}], \"scattercarpet\": [{\"marker\": {\"colorbar\": {\"outlinewidth\": 0, \"ticks\": \"\"}}, \"type\": \"scattercarpet\"}], \"scattergeo\": [{\"marker\": {\"colorbar\": {\"outlinewidth\": 0, \"ticks\": \"\"}}, \"type\": \"scattergeo\"}], \"scattergl\": [{\"marker\": {\"colorbar\": {\"outlinewidth\": 0, \"ticks\": \"\"}}, \"type\": \"scattergl\"}], \"scattermapbox\": [{\"marker\": {\"colorbar\": {\"outlinewidth\": 0, \"ticks\": \"\"}}, \"type\": \"scattermapbox\"}], \"scatterpolar\": [{\"marker\": {\"colorbar\": {\"outlinewidth\": 0, \"ticks\": \"\"}}, \"type\": \"scatterpolar\"}], \"scatterpolargl\": [{\"marker\": {\"colorbar\": {\"outlinewidth\": 0, \"ticks\": \"\"}}, \"type\": \"scatterpolargl\"}], \"scatterternary\": [{\"marker\": {\"colorbar\": {\"outlinewidth\": 0, \"ticks\": \"\"}}, \"type\": \"scatterternary\"}], \"surface\": [{\"colorbar\": {\"outlinewidth\": 0, \"ticks\": \"\"}, \"colorscale\": [[0.0, \"#0d0887\"], [0.1111111111111111, \"#46039f\"], [0.2222222222222222, \"#7201a8\"], [0.3333333333333333, \"#9c179e\"], [0.4444444444444444, \"#bd3786\"], [0.5555555555555556, \"#d8576b\"], [0.6666666666666666, \"#ed7953\"], [0.7777777777777778, \"#fb9f3a\"], [0.8888888888888888, \"#fdca26\"], [1.0, \"#f0f921\"]], \"type\": \"surface\"}], \"table\": [{\"cells\": {\"fill\": {\"color\": \"#EBF0F8\"}, \"line\": {\"color\": \"white\"}}, \"header\": {\"fill\": {\"color\": \"#C8D4E3\"}, \"line\": {\"color\": \"white\"}}, \"type\": \"table\"}]}, \"layout\": {\"annotationdefaults\": {\"arrowcolor\": \"#2a3f5f\", \"arrowhead\": 0, \"arrowwidth\": 1}, \"coloraxis\": {\"colorbar\": {\"outlinewidth\": 0, \"ticks\": \"\"}}, \"colorscale\": {\"diverging\": [[0, \"#8e0152\"], [0.1, \"#c51b7d\"], [0.2, \"#de77ae\"], [0.3, \"#f1b6da\"], [0.4, \"#fde0ef\"], [0.5, \"#f7f7f7\"], [0.6, \"#e6f5d0\"], [0.7, \"#b8e186\"], [0.8, \"#7fbc41\"], [0.9, \"#4d9221\"], [1, \"#276419\"]], \"sequential\": [[0.0, \"#0d0887\"], [0.1111111111111111, \"#46039f\"], [0.2222222222222222, \"#7201a8\"], [0.3333333333333333, \"#9c179e\"], [0.4444444444444444, \"#bd3786\"], [0.5555555555555556, \"#d8576b\"], [0.6666666666666666, \"#ed7953\"], [0.7777777777777778, \"#fb9f3a\"], [0.8888888888888888, \"#fdca26\"], [1.0, \"#f0f921\"]], \"sequentialminus\": [[0.0, \"#0d0887\"], [0.1111111111111111, \"#46039f\"], [0.2222222222222222, \"#7201a8\"], [0.3333333333333333, \"#9c179e\"], [0.4444444444444444, \"#bd3786\"], [0.5555555555555556, \"#d8576b\"], [0.6666666666666666, \"#ed7953\"], [0.7777777777777778, \"#fb9f3a\"], [0.8888888888888888, \"#fdca26\"], [1.0, \"#f0f921\"]]}, \"colorway\": [\"#636efa\", \"#EF553B\", \"#00cc96\", \"#ab63fa\", \"#FFA15A\", \"#19d3f3\", \"#FF6692\", \"#B6E880\", \"#FF97FF\", \"#FECB52\"], \"font\": {\"color\": \"#2a3f5f\"}, \"geo\": {\"bgcolor\": \"white\", \"lakecolor\": \"white\", \"landcolor\": \"#E5ECF6\", \"showlakes\": true, \"showland\": true, \"subunitcolor\": \"white\"}, \"hoverlabel\": {\"align\": \"left\"}, \"hovermode\": \"closest\", \"mapbox\": {\"style\": \"light\"}, \"paper_bgcolor\": \"white\", \"plot_bgcolor\": \"#E5ECF6\", \"polar\": {\"angularaxis\": {\"gridcolor\": \"white\", \"linecolor\": \"white\", \"ticks\": \"\"}, \"bgcolor\": \"#E5ECF6\", \"radialaxis\": {\"gridcolor\": \"white\", \"linecolor\": \"white\", \"ticks\": \"\"}}, \"scene\": {\"xaxis\": {\"backgroundcolor\": \"#E5ECF6\", \"gridcolor\": \"white\", \"gridwidth\": 2, \"linecolor\": \"white\", \"showbackground\": true, \"ticks\": \"\", \"zerolinecolor\": \"white\"}, \"yaxis\": {\"backgroundcolor\": \"#E5ECF6\", \"gridcolor\": \"white\", \"gridwidth\": 2, \"linecolor\": \"white\", \"showbackground\": true, \"ticks\": \"\", \"zerolinecolor\": \"white\"}, \"zaxis\": {\"backgroundcolor\": \"#E5ECF6\", \"gridcolor\": \"white\", \"gridwidth\": 2, \"linecolor\": \"white\", \"showbackground\": true, \"ticks\": \"\", \"zerolinecolor\": \"white\"}}, \"shapedefaults\": {\"line\": {\"color\": \"#2a3f5f\"}}, \"ternary\": {\"aaxis\": {\"gridcolor\": \"white\", \"linecolor\": \"white\", \"ticks\": \"\"}, \"baxis\": {\"gridcolor\": \"white\", \"linecolor\": \"white\", \"ticks\": \"\"}, \"bgcolor\": \"#E5ECF6\", \"caxis\": {\"gridcolor\": \"white\", \"linecolor\": \"white\", \"ticks\": \"\"}}, \"title\": {\"x\": 0.05}, \"xaxis\": {\"automargin\": true, \"gridcolor\": \"white\", \"linecolor\": \"white\", \"ticks\": \"\", \"title\": {\"standoff\": 15}, \"zerolinecolor\": \"white\", \"zerolinewidth\": 2}, \"yaxis\": {\"automargin\": true, \"gridcolor\": \"white\", \"linecolor\": \"white\", \"ticks\": \"\", \"title\": {\"standoff\": 15}, \"zerolinecolor\": \"white\", \"zerolinewidth\": 2}}}, \"title\": {\"font\": {\"color\": \"#4D5663\"}}, \"xaxis\": {\"gridcolor\": \"#E1E5ED\", \"showgrid\": true, \"tickfont\": {\"color\": \"#4D5663\"}, \"title\": {\"font\": {\"color\": \"#4D5663\"}, \"text\": \"\"}, \"zerolinecolor\": \"#E1E5ED\"}, \"yaxis\": {\"gridcolor\": \"#E1E5ED\", \"showgrid\": true, \"tickfont\": {\"color\": \"#4D5663\"}, \"title\": {\"font\": {\"color\": \"#4D5663\"}, \"text\": \"\"}, \"zerolinecolor\": \"#E1E5ED\"}},\n",
       "                        {\"showLink\": true, \"linkText\": \"Export to plot.ly\", \"plotlyServerURL\": \"https://plot.ly\", \"responsive\": true}\n",
       "                    ).then(function(){\n",
       "                            \n",
       "var gd = document.getElementById('b5d776d5-9fc8-4b4b-8060-40a860aa3c65');\n",
       "var x = new MutationObserver(function (mutations, observer) {{\n",
       "        var display = window.getComputedStyle(gd).display;\n",
       "        if (!display || display === 'none') {{\n",
       "            console.log([gd, 'removed!']);\n",
       "            Plotly.purge(gd);\n",
       "            observer.disconnect();\n",
       "        }}\n",
       "}});\n",
       "\n",
       "// Listen for the removal of the full notebook cells\n",
       "var notebookContainer = gd.closest('#notebook-container');\n",
       "if (notebookContainer) {{\n",
       "    x.observe(notebookContainer, {childList: true});\n",
       "}}\n",
       "\n",
       "// Listen for the clearing of the current output cell\n",
       "var outputEl = gd.closest('.output');\n",
       "if (outputEl) {{\n",
       "    x.observe(outputEl, {childList: true});\n",
       "}}\n",
       "\n",
       "                        })\n",
       "                };\n",
       "                });\n",
       "            </script>\n",
       "        </div>"
      ]
     },
     "metadata": {},
     "output_type": "display_data"
    }
   ],
   "source": [
    "df.iplot(kind=\"box\")"
   ]
  },
  {
   "cell_type": "code",
   "execution_count": 30,
   "metadata": {},
   "outputs": [
    {
     "data": {
      "application/vnd.plotly.v1+json": {
       "config": {
        "linkText": "Export to plot.ly",
        "plotlyServerURL": "https://plot.ly",
        "showLink": true
       },
       "data": [
        {
         "colorscale": [
          [
           0,
           "rgb(255, 153, 51)"
          ],
          [
           0.1111111111111111,
           "rgb(55, 128, 191)"
          ],
          [
           0.2222222222222222,
           "rgb(50, 171, 96)"
          ],
          [
           0.3333333333333333,
           "rgb(128, 0, 128)"
          ],
          [
           0.4444444444444444,
           "rgb(219, 64, 82)"
          ],
          [
           0.5555555555555556,
           "rgb(0, 128, 128)"
          ],
          [
           0.6666666666666666,
           "rgb(255, 255, 51)"
          ],
          [
           0.7777777777777778,
           "rgb(128, 128, 0)"
          ],
          [
           0.8888888888888888,
           "rgb(251, 128, 114)"
          ],
          [
           1,
           "rgb(128, 177, 211)"
          ]
         ],
         "type": "surface",
         "x": [
          0,
          1,
          2,
          3,
          4
         ],
         "y": [
          "x",
          "y",
          "z"
         ],
         "z": [
          [
           1,
           2,
           2,
           4,
           5
          ],
          [
           10,
           20,
           30,
           40,
           10
          ],
          [
           100,
           500,
           650,
           750,
           45
          ]
         ]
        }
       ],
       "layout": {
        "legend": {
         "bgcolor": "#F5F6F9",
         "font": {
          "color": "#4D5663"
         }
        },
        "paper_bgcolor": "#F5F6F9",
        "plot_bgcolor": "#F5F6F9",
        "template": {
         "data": {
          "bar": [
           {
            "error_x": {
             "color": "#2a3f5f"
            },
            "error_y": {
             "color": "#2a3f5f"
            },
            "marker": {
             "line": {
              "color": "#E5ECF6",
              "width": 0.5
             }
            },
            "type": "bar"
           }
          ],
          "barpolar": [
           {
            "marker": {
             "line": {
              "color": "#E5ECF6",
              "width": 0.5
             }
            },
            "type": "barpolar"
           }
          ],
          "carpet": [
           {
            "aaxis": {
             "endlinecolor": "#2a3f5f",
             "gridcolor": "white",
             "linecolor": "white",
             "minorgridcolor": "white",
             "startlinecolor": "#2a3f5f"
            },
            "baxis": {
             "endlinecolor": "#2a3f5f",
             "gridcolor": "white",
             "linecolor": "white",
             "minorgridcolor": "white",
             "startlinecolor": "#2a3f5f"
            },
            "type": "carpet"
           }
          ],
          "choropleth": [
           {
            "colorbar": {
             "outlinewidth": 0,
             "ticks": ""
            },
            "type": "choropleth"
           }
          ],
          "contour": [
           {
            "colorbar": {
             "outlinewidth": 0,
             "ticks": ""
            },
            "colorscale": [
             [
              0,
              "#0d0887"
             ],
             [
              0.1111111111111111,
              "#46039f"
             ],
             [
              0.2222222222222222,
              "#7201a8"
             ],
             [
              0.3333333333333333,
              "#9c179e"
             ],
             [
              0.4444444444444444,
              "#bd3786"
             ],
             [
              0.5555555555555556,
              "#d8576b"
             ],
             [
              0.6666666666666666,
              "#ed7953"
             ],
             [
              0.7777777777777778,
              "#fb9f3a"
             ],
             [
              0.8888888888888888,
              "#fdca26"
             ],
             [
              1,
              "#f0f921"
             ]
            ],
            "type": "contour"
           }
          ],
          "contourcarpet": [
           {
            "colorbar": {
             "outlinewidth": 0,
             "ticks": ""
            },
            "type": "contourcarpet"
           }
          ],
          "heatmap": [
           {
            "colorbar": {
             "outlinewidth": 0,
             "ticks": ""
            },
            "colorscale": [
             [
              0,
              "#0d0887"
             ],
             [
              0.1111111111111111,
              "#46039f"
             ],
             [
              0.2222222222222222,
              "#7201a8"
             ],
             [
              0.3333333333333333,
              "#9c179e"
             ],
             [
              0.4444444444444444,
              "#bd3786"
             ],
             [
              0.5555555555555556,
              "#d8576b"
             ],
             [
              0.6666666666666666,
              "#ed7953"
             ],
             [
              0.7777777777777778,
              "#fb9f3a"
             ],
             [
              0.8888888888888888,
              "#fdca26"
             ],
             [
              1,
              "#f0f921"
             ]
            ],
            "type": "heatmap"
           }
          ],
          "heatmapgl": [
           {
            "colorbar": {
             "outlinewidth": 0,
             "ticks": ""
            },
            "colorscale": [
             [
              0,
              "#0d0887"
             ],
             [
              0.1111111111111111,
              "#46039f"
             ],
             [
              0.2222222222222222,
              "#7201a8"
             ],
             [
              0.3333333333333333,
              "#9c179e"
             ],
             [
              0.4444444444444444,
              "#bd3786"
             ],
             [
              0.5555555555555556,
              "#d8576b"
             ],
             [
              0.6666666666666666,
              "#ed7953"
             ],
             [
              0.7777777777777778,
              "#fb9f3a"
             ],
             [
              0.8888888888888888,
              "#fdca26"
             ],
             [
              1,
              "#f0f921"
             ]
            ],
            "type": "heatmapgl"
           }
          ],
          "histogram": [
           {
            "marker": {
             "colorbar": {
              "outlinewidth": 0,
              "ticks": ""
             }
            },
            "type": "histogram"
           }
          ],
          "histogram2d": [
           {
            "colorbar": {
             "outlinewidth": 0,
             "ticks": ""
            },
            "colorscale": [
             [
              0,
              "#0d0887"
             ],
             [
              0.1111111111111111,
              "#46039f"
             ],
             [
              0.2222222222222222,
              "#7201a8"
             ],
             [
              0.3333333333333333,
              "#9c179e"
             ],
             [
              0.4444444444444444,
              "#bd3786"
             ],
             [
              0.5555555555555556,
              "#d8576b"
             ],
             [
              0.6666666666666666,
              "#ed7953"
             ],
             [
              0.7777777777777778,
              "#fb9f3a"
             ],
             [
              0.8888888888888888,
              "#fdca26"
             ],
             [
              1,
              "#f0f921"
             ]
            ],
            "type": "histogram2d"
           }
          ],
          "histogram2dcontour": [
           {
            "colorbar": {
             "outlinewidth": 0,
             "ticks": ""
            },
            "colorscale": [
             [
              0,
              "#0d0887"
             ],
             [
              0.1111111111111111,
              "#46039f"
             ],
             [
              0.2222222222222222,
              "#7201a8"
             ],
             [
              0.3333333333333333,
              "#9c179e"
             ],
             [
              0.4444444444444444,
              "#bd3786"
             ],
             [
              0.5555555555555556,
              "#d8576b"
             ],
             [
              0.6666666666666666,
              "#ed7953"
             ],
             [
              0.7777777777777778,
              "#fb9f3a"
             ],
             [
              0.8888888888888888,
              "#fdca26"
             ],
             [
              1,
              "#f0f921"
             ]
            ],
            "type": "histogram2dcontour"
           }
          ],
          "mesh3d": [
           {
            "colorbar": {
             "outlinewidth": 0,
             "ticks": ""
            },
            "type": "mesh3d"
           }
          ],
          "parcoords": [
           {
            "line": {
             "colorbar": {
              "outlinewidth": 0,
              "ticks": ""
             }
            },
            "type": "parcoords"
           }
          ],
          "pie": [
           {
            "automargin": true,
            "type": "pie"
           }
          ],
          "scatter": [
           {
            "marker": {
             "colorbar": {
              "outlinewidth": 0,
              "ticks": ""
             }
            },
            "type": "scatter"
           }
          ],
          "scatter3d": [
           {
            "line": {
             "colorbar": {
              "outlinewidth": 0,
              "ticks": ""
             }
            },
            "marker": {
             "colorbar": {
              "outlinewidth": 0,
              "ticks": ""
             }
            },
            "type": "scatter3d"
           }
          ],
          "scattercarpet": [
           {
            "marker": {
             "colorbar": {
              "outlinewidth": 0,
              "ticks": ""
             }
            },
            "type": "scattercarpet"
           }
          ],
          "scattergeo": [
           {
            "marker": {
             "colorbar": {
              "outlinewidth": 0,
              "ticks": ""
             }
            },
            "type": "scattergeo"
           }
          ],
          "scattergl": [
           {
            "marker": {
             "colorbar": {
              "outlinewidth": 0,
              "ticks": ""
             }
            },
            "type": "scattergl"
           }
          ],
          "scattermapbox": [
           {
            "marker": {
             "colorbar": {
              "outlinewidth": 0,
              "ticks": ""
             }
            },
            "type": "scattermapbox"
           }
          ],
          "scatterpolar": [
           {
            "marker": {
             "colorbar": {
              "outlinewidth": 0,
              "ticks": ""
             }
            },
            "type": "scatterpolar"
           }
          ],
          "scatterpolargl": [
           {
            "marker": {
             "colorbar": {
              "outlinewidth": 0,
              "ticks": ""
             }
            },
            "type": "scatterpolargl"
           }
          ],
          "scatterternary": [
           {
            "marker": {
             "colorbar": {
              "outlinewidth": 0,
              "ticks": ""
             }
            },
            "type": "scatterternary"
           }
          ],
          "surface": [
           {
            "colorbar": {
             "outlinewidth": 0,
             "ticks": ""
            },
            "colorscale": [
             [
              0,
              "#0d0887"
             ],
             [
              0.1111111111111111,
              "#46039f"
             ],
             [
              0.2222222222222222,
              "#7201a8"
             ],
             [
              0.3333333333333333,
              "#9c179e"
             ],
             [
              0.4444444444444444,
              "#bd3786"
             ],
             [
              0.5555555555555556,
              "#d8576b"
             ],
             [
              0.6666666666666666,
              "#ed7953"
             ],
             [
              0.7777777777777778,
              "#fb9f3a"
             ],
             [
              0.8888888888888888,
              "#fdca26"
             ],
             [
              1,
              "#f0f921"
             ]
            ],
            "type": "surface"
           }
          ],
          "table": [
           {
            "cells": {
             "fill": {
              "color": "#EBF0F8"
             },
             "line": {
              "color": "white"
             }
            },
            "header": {
             "fill": {
              "color": "#C8D4E3"
             },
             "line": {
              "color": "white"
             }
            },
            "type": "table"
           }
          ]
         },
         "layout": {
          "annotationdefaults": {
           "arrowcolor": "#2a3f5f",
           "arrowhead": 0,
           "arrowwidth": 1
          },
          "coloraxis": {
           "colorbar": {
            "outlinewidth": 0,
            "ticks": ""
           }
          },
          "colorscale": {
           "diverging": [
            [
             0,
             "#8e0152"
            ],
            [
             0.1,
             "#c51b7d"
            ],
            [
             0.2,
             "#de77ae"
            ],
            [
             0.3,
             "#f1b6da"
            ],
            [
             0.4,
             "#fde0ef"
            ],
            [
             0.5,
             "#f7f7f7"
            ],
            [
             0.6,
             "#e6f5d0"
            ],
            [
             0.7,
             "#b8e186"
            ],
            [
             0.8,
             "#7fbc41"
            ],
            [
             0.9,
             "#4d9221"
            ],
            [
             1,
             "#276419"
            ]
           ],
           "sequential": [
            [
             0,
             "#0d0887"
            ],
            [
             0.1111111111111111,
             "#46039f"
            ],
            [
             0.2222222222222222,
             "#7201a8"
            ],
            [
             0.3333333333333333,
             "#9c179e"
            ],
            [
             0.4444444444444444,
             "#bd3786"
            ],
            [
             0.5555555555555556,
             "#d8576b"
            ],
            [
             0.6666666666666666,
             "#ed7953"
            ],
            [
             0.7777777777777778,
             "#fb9f3a"
            ],
            [
             0.8888888888888888,
             "#fdca26"
            ],
            [
             1,
             "#f0f921"
            ]
           ],
           "sequentialminus": [
            [
             0,
             "#0d0887"
            ],
            [
             0.1111111111111111,
             "#46039f"
            ],
            [
             0.2222222222222222,
             "#7201a8"
            ],
            [
             0.3333333333333333,
             "#9c179e"
            ],
            [
             0.4444444444444444,
             "#bd3786"
            ],
            [
             0.5555555555555556,
             "#d8576b"
            ],
            [
             0.6666666666666666,
             "#ed7953"
            ],
            [
             0.7777777777777778,
             "#fb9f3a"
            ],
            [
             0.8888888888888888,
             "#fdca26"
            ],
            [
             1,
             "#f0f921"
            ]
           ]
          },
          "colorway": [
           "#636efa",
           "#EF553B",
           "#00cc96",
           "#ab63fa",
           "#FFA15A",
           "#19d3f3",
           "#FF6692",
           "#B6E880",
           "#FF97FF",
           "#FECB52"
          ],
          "font": {
           "color": "#2a3f5f"
          },
          "geo": {
           "bgcolor": "white",
           "lakecolor": "white",
           "landcolor": "#E5ECF6",
           "showlakes": true,
           "showland": true,
           "subunitcolor": "white"
          },
          "hoverlabel": {
           "align": "left"
          },
          "hovermode": "closest",
          "mapbox": {
           "style": "light"
          },
          "paper_bgcolor": "white",
          "plot_bgcolor": "#E5ECF6",
          "polar": {
           "angularaxis": {
            "gridcolor": "white",
            "linecolor": "white",
            "ticks": ""
           },
           "bgcolor": "#E5ECF6",
           "radialaxis": {
            "gridcolor": "white",
            "linecolor": "white",
            "ticks": ""
           }
          },
          "scene": {
           "xaxis": {
            "backgroundcolor": "#E5ECF6",
            "gridcolor": "white",
            "gridwidth": 2,
            "linecolor": "white",
            "showbackground": true,
            "ticks": "",
            "zerolinecolor": "white"
           },
           "yaxis": {
            "backgroundcolor": "#E5ECF6",
            "gridcolor": "white",
            "gridwidth": 2,
            "linecolor": "white",
            "showbackground": true,
            "ticks": "",
            "zerolinecolor": "white"
           },
           "zaxis": {
            "backgroundcolor": "#E5ECF6",
            "gridcolor": "white",
            "gridwidth": 2,
            "linecolor": "white",
            "showbackground": true,
            "ticks": "",
            "zerolinecolor": "white"
           }
          },
          "shapedefaults": {
           "line": {
            "color": "#2a3f5f"
           }
          },
          "ternary": {
           "aaxis": {
            "gridcolor": "white",
            "linecolor": "white",
            "ticks": ""
           },
           "baxis": {
            "gridcolor": "white",
            "linecolor": "white",
            "ticks": ""
           },
           "bgcolor": "#E5ECF6",
           "caxis": {
            "gridcolor": "white",
            "linecolor": "white",
            "ticks": ""
           }
          },
          "title": {
           "x": 0.05
          },
          "xaxis": {
           "automargin": true,
           "gridcolor": "white",
           "linecolor": "white",
           "ticks": "",
           "title": {
            "standoff": 15
           },
           "zerolinecolor": "white",
           "zerolinewidth": 2
          },
          "yaxis": {
           "automargin": true,
           "gridcolor": "white",
           "linecolor": "white",
           "ticks": "",
           "title": {
            "standoff": 15
           },
           "zerolinecolor": "white",
           "zerolinewidth": 2
          }
         }
        },
        "title": {
         "font": {
          "color": "#4D5663"
         }
        },
        "xaxis": {
         "gridcolor": "#E1E5ED",
         "showgrid": true,
         "tickfont": {
          "color": "#4D5663"
         },
         "title": {
          "font": {
           "color": "#4D5663"
          },
          "text": ""
         },
         "zerolinecolor": "#E1E5ED"
        },
        "yaxis": {
         "gridcolor": "#E1E5ED",
         "showgrid": true,
         "tickfont": {
          "color": "#4D5663"
         },
         "title": {
          "font": {
           "color": "#4D5663"
          },
          "text": ""
         },
         "zerolinecolor": "#E1E5ED"
        }
       }
      },
      "text/html": [
       "<div>\n",
       "        \n",
       "        \n",
       "            <div id=\"1e38b158-cfd8-463f-aa59-577cc397d5c7\" class=\"plotly-graph-div\" style=\"height:525px; width:100%;\"></div>\n",
       "            <script type=\"text/javascript\">\n",
       "                require([\"plotly\"], function(Plotly) {\n",
       "                    window.PLOTLYENV=window.PLOTLYENV || {};\n",
       "                    window.PLOTLYENV.BASE_URL='https://plot.ly';\n",
       "                    \n",
       "                if (document.getElementById(\"1e38b158-cfd8-463f-aa59-577cc397d5c7\")) {\n",
       "                    Plotly.newPlot(\n",
       "                        '1e38b158-cfd8-463f-aa59-577cc397d5c7',\n",
       "                        [{\"colorscale\": [[0.0, \"rgb(255, 153, 51)\"], [0.1111111111111111, \"rgb(55, 128, 191)\"], [0.2222222222222222, \"rgb(50, 171, 96)\"], [0.3333333333333333, \"rgb(128, 0, 128)\"], [0.4444444444444444, \"rgb(219, 64, 82)\"], [0.5555555555555556, \"rgb(0, 128, 128)\"], [0.6666666666666666, \"rgb(255, 255, 51)\"], [0.7777777777777778, \"rgb(128, 128, 0)\"], [0.8888888888888888, \"rgb(251, 128, 114)\"], [1.0, \"rgb(128, 177, 211)\"]], \"type\": \"surface\", \"x\": [0, 1, 2, 3, 4], \"y\": [\"x\", \"y\", \"z\"], \"z\": [[1, 2, 2, 4, 5], [10, 20, 30, 40, 10], [100, 500, 650, 750, 45]]}],\n",
       "                        {\"legend\": {\"bgcolor\": \"#F5F6F9\", \"font\": {\"color\": \"#4D5663\"}}, \"paper_bgcolor\": \"#F5F6F9\", \"plot_bgcolor\": \"#F5F6F9\", \"template\": {\"data\": {\"bar\": [{\"error_x\": {\"color\": \"#2a3f5f\"}, \"error_y\": {\"color\": \"#2a3f5f\"}, \"marker\": {\"line\": {\"color\": \"#E5ECF6\", \"width\": 0.5}}, \"type\": \"bar\"}], \"barpolar\": [{\"marker\": {\"line\": {\"color\": \"#E5ECF6\", \"width\": 0.5}}, \"type\": \"barpolar\"}], \"carpet\": [{\"aaxis\": {\"endlinecolor\": \"#2a3f5f\", \"gridcolor\": \"white\", \"linecolor\": \"white\", \"minorgridcolor\": \"white\", \"startlinecolor\": \"#2a3f5f\"}, \"baxis\": {\"endlinecolor\": \"#2a3f5f\", \"gridcolor\": \"white\", \"linecolor\": \"white\", \"minorgridcolor\": \"white\", \"startlinecolor\": \"#2a3f5f\"}, \"type\": \"carpet\"}], \"choropleth\": [{\"colorbar\": {\"outlinewidth\": 0, \"ticks\": \"\"}, \"type\": \"choropleth\"}], \"contour\": [{\"colorbar\": {\"outlinewidth\": 0, \"ticks\": \"\"}, \"colorscale\": [[0.0, \"#0d0887\"], [0.1111111111111111, \"#46039f\"], [0.2222222222222222, \"#7201a8\"], [0.3333333333333333, \"#9c179e\"], [0.4444444444444444, \"#bd3786\"], [0.5555555555555556, \"#d8576b\"], [0.6666666666666666, \"#ed7953\"], [0.7777777777777778, \"#fb9f3a\"], [0.8888888888888888, \"#fdca26\"], [1.0, \"#f0f921\"]], \"type\": \"contour\"}], \"contourcarpet\": [{\"colorbar\": {\"outlinewidth\": 0, \"ticks\": \"\"}, \"type\": \"contourcarpet\"}], \"heatmap\": [{\"colorbar\": {\"outlinewidth\": 0, \"ticks\": \"\"}, \"colorscale\": [[0.0, \"#0d0887\"], [0.1111111111111111, \"#46039f\"], [0.2222222222222222, \"#7201a8\"], [0.3333333333333333, \"#9c179e\"], [0.4444444444444444, \"#bd3786\"], [0.5555555555555556, \"#d8576b\"], [0.6666666666666666, \"#ed7953\"], [0.7777777777777778, \"#fb9f3a\"], [0.8888888888888888, \"#fdca26\"], [1.0, \"#f0f921\"]], \"type\": \"heatmap\"}], \"heatmapgl\": [{\"colorbar\": {\"outlinewidth\": 0, \"ticks\": \"\"}, \"colorscale\": [[0.0, \"#0d0887\"], [0.1111111111111111, \"#46039f\"], [0.2222222222222222, \"#7201a8\"], [0.3333333333333333, \"#9c179e\"], [0.4444444444444444, \"#bd3786\"], [0.5555555555555556, \"#d8576b\"], [0.6666666666666666, \"#ed7953\"], [0.7777777777777778, \"#fb9f3a\"], [0.8888888888888888, \"#fdca26\"], [1.0, \"#f0f921\"]], \"type\": \"heatmapgl\"}], \"histogram\": [{\"marker\": {\"colorbar\": {\"outlinewidth\": 0, \"ticks\": \"\"}}, \"type\": \"histogram\"}], \"histogram2d\": [{\"colorbar\": {\"outlinewidth\": 0, \"ticks\": \"\"}, \"colorscale\": [[0.0, \"#0d0887\"], [0.1111111111111111, \"#46039f\"], [0.2222222222222222, \"#7201a8\"], [0.3333333333333333, \"#9c179e\"], [0.4444444444444444, \"#bd3786\"], [0.5555555555555556, \"#d8576b\"], [0.6666666666666666, \"#ed7953\"], [0.7777777777777778, \"#fb9f3a\"], [0.8888888888888888, \"#fdca26\"], [1.0, \"#f0f921\"]], \"type\": \"histogram2d\"}], \"histogram2dcontour\": [{\"colorbar\": {\"outlinewidth\": 0, \"ticks\": \"\"}, \"colorscale\": [[0.0, \"#0d0887\"], [0.1111111111111111, \"#46039f\"], [0.2222222222222222, \"#7201a8\"], [0.3333333333333333, \"#9c179e\"], [0.4444444444444444, \"#bd3786\"], [0.5555555555555556, \"#d8576b\"], [0.6666666666666666, \"#ed7953\"], [0.7777777777777778, \"#fb9f3a\"], [0.8888888888888888, \"#fdca26\"], [1.0, \"#f0f921\"]], \"type\": \"histogram2dcontour\"}], \"mesh3d\": [{\"colorbar\": {\"outlinewidth\": 0, \"ticks\": \"\"}, \"type\": \"mesh3d\"}], \"parcoords\": [{\"line\": {\"colorbar\": {\"outlinewidth\": 0, \"ticks\": \"\"}}, \"type\": \"parcoords\"}], \"pie\": [{\"automargin\": true, \"type\": \"pie\"}], \"scatter\": [{\"marker\": {\"colorbar\": {\"outlinewidth\": 0, \"ticks\": \"\"}}, \"type\": \"scatter\"}], \"scatter3d\": [{\"line\": {\"colorbar\": {\"outlinewidth\": 0, \"ticks\": \"\"}}, \"marker\": {\"colorbar\": {\"outlinewidth\": 0, \"ticks\": \"\"}}, \"type\": \"scatter3d\"}], \"scattercarpet\": [{\"marker\": {\"colorbar\": {\"outlinewidth\": 0, \"ticks\": \"\"}}, \"type\": \"scattercarpet\"}], \"scattergeo\": [{\"marker\": {\"colorbar\": {\"outlinewidth\": 0, \"ticks\": \"\"}}, \"type\": \"scattergeo\"}], \"scattergl\": [{\"marker\": {\"colorbar\": {\"outlinewidth\": 0, \"ticks\": \"\"}}, \"type\": \"scattergl\"}], \"scattermapbox\": [{\"marker\": {\"colorbar\": {\"outlinewidth\": 0, \"ticks\": \"\"}}, \"type\": \"scattermapbox\"}], \"scatterpolar\": [{\"marker\": {\"colorbar\": {\"outlinewidth\": 0, \"ticks\": \"\"}}, \"type\": \"scatterpolar\"}], \"scatterpolargl\": [{\"marker\": {\"colorbar\": {\"outlinewidth\": 0, \"ticks\": \"\"}}, \"type\": \"scatterpolargl\"}], \"scatterternary\": [{\"marker\": {\"colorbar\": {\"outlinewidth\": 0, \"ticks\": \"\"}}, \"type\": \"scatterternary\"}], \"surface\": [{\"colorbar\": {\"outlinewidth\": 0, \"ticks\": \"\"}, \"colorscale\": [[0.0, \"#0d0887\"], [0.1111111111111111, \"#46039f\"], [0.2222222222222222, \"#7201a8\"], [0.3333333333333333, \"#9c179e\"], [0.4444444444444444, \"#bd3786\"], [0.5555555555555556, \"#d8576b\"], [0.6666666666666666, \"#ed7953\"], [0.7777777777777778, \"#fb9f3a\"], [0.8888888888888888, \"#fdca26\"], [1.0, \"#f0f921\"]], \"type\": \"surface\"}], \"table\": [{\"cells\": {\"fill\": {\"color\": \"#EBF0F8\"}, \"line\": {\"color\": \"white\"}}, \"header\": {\"fill\": {\"color\": \"#C8D4E3\"}, \"line\": {\"color\": \"white\"}}, \"type\": \"table\"}]}, \"layout\": {\"annotationdefaults\": {\"arrowcolor\": \"#2a3f5f\", \"arrowhead\": 0, \"arrowwidth\": 1}, \"coloraxis\": {\"colorbar\": {\"outlinewidth\": 0, \"ticks\": \"\"}}, \"colorscale\": {\"diverging\": [[0, \"#8e0152\"], [0.1, \"#c51b7d\"], [0.2, \"#de77ae\"], [0.3, \"#f1b6da\"], [0.4, \"#fde0ef\"], [0.5, \"#f7f7f7\"], [0.6, \"#e6f5d0\"], [0.7, \"#b8e186\"], [0.8, \"#7fbc41\"], [0.9, \"#4d9221\"], [1, \"#276419\"]], \"sequential\": [[0.0, \"#0d0887\"], [0.1111111111111111, \"#46039f\"], [0.2222222222222222, \"#7201a8\"], [0.3333333333333333, \"#9c179e\"], [0.4444444444444444, \"#bd3786\"], [0.5555555555555556, \"#d8576b\"], [0.6666666666666666, \"#ed7953\"], [0.7777777777777778, \"#fb9f3a\"], [0.8888888888888888, \"#fdca26\"], [1.0, \"#f0f921\"]], \"sequentialminus\": [[0.0, \"#0d0887\"], [0.1111111111111111, \"#46039f\"], [0.2222222222222222, \"#7201a8\"], [0.3333333333333333, \"#9c179e\"], [0.4444444444444444, \"#bd3786\"], [0.5555555555555556, \"#d8576b\"], [0.6666666666666666, \"#ed7953\"], [0.7777777777777778, \"#fb9f3a\"], [0.8888888888888888, \"#fdca26\"], [1.0, \"#f0f921\"]]}, \"colorway\": [\"#636efa\", \"#EF553B\", \"#00cc96\", \"#ab63fa\", \"#FFA15A\", \"#19d3f3\", \"#FF6692\", \"#B6E880\", \"#FF97FF\", \"#FECB52\"], \"font\": {\"color\": \"#2a3f5f\"}, \"geo\": {\"bgcolor\": \"white\", \"lakecolor\": \"white\", \"landcolor\": \"#E5ECF6\", \"showlakes\": true, \"showland\": true, \"subunitcolor\": \"white\"}, \"hoverlabel\": {\"align\": \"left\"}, \"hovermode\": \"closest\", \"mapbox\": {\"style\": \"light\"}, \"paper_bgcolor\": \"white\", \"plot_bgcolor\": \"#E5ECF6\", \"polar\": {\"angularaxis\": {\"gridcolor\": \"white\", \"linecolor\": \"white\", \"ticks\": \"\"}, \"bgcolor\": \"#E5ECF6\", \"radialaxis\": {\"gridcolor\": \"white\", \"linecolor\": \"white\", \"ticks\": \"\"}}, \"scene\": {\"xaxis\": {\"backgroundcolor\": \"#E5ECF6\", \"gridcolor\": \"white\", \"gridwidth\": 2, \"linecolor\": \"white\", \"showbackground\": true, \"ticks\": \"\", \"zerolinecolor\": \"white\"}, \"yaxis\": {\"backgroundcolor\": \"#E5ECF6\", \"gridcolor\": \"white\", \"gridwidth\": 2, \"linecolor\": \"white\", \"showbackground\": true, \"ticks\": \"\", \"zerolinecolor\": \"white\"}, \"zaxis\": {\"backgroundcolor\": \"#E5ECF6\", \"gridcolor\": \"white\", \"gridwidth\": 2, \"linecolor\": \"white\", \"showbackground\": true, \"ticks\": \"\", \"zerolinecolor\": \"white\"}}, \"shapedefaults\": {\"line\": {\"color\": \"#2a3f5f\"}}, \"ternary\": {\"aaxis\": {\"gridcolor\": \"white\", \"linecolor\": \"white\", \"ticks\": \"\"}, \"baxis\": {\"gridcolor\": \"white\", \"linecolor\": \"white\", \"ticks\": \"\"}, \"bgcolor\": \"#E5ECF6\", \"caxis\": {\"gridcolor\": \"white\", \"linecolor\": \"white\", \"ticks\": \"\"}}, \"title\": {\"x\": 0.05}, \"xaxis\": {\"automargin\": true, \"gridcolor\": \"white\", \"linecolor\": \"white\", \"ticks\": \"\", \"title\": {\"standoff\": 15}, \"zerolinecolor\": \"white\", \"zerolinewidth\": 2}, \"yaxis\": {\"automargin\": true, \"gridcolor\": \"white\", \"linecolor\": \"white\", \"ticks\": \"\", \"title\": {\"standoff\": 15}, \"zerolinecolor\": \"white\", \"zerolinewidth\": 2}}}, \"title\": {\"font\": {\"color\": \"#4D5663\"}}, \"xaxis\": {\"gridcolor\": \"#E1E5ED\", \"showgrid\": true, \"tickfont\": {\"color\": \"#4D5663\"}, \"title\": {\"font\": {\"color\": \"#4D5663\"}, \"text\": \"\"}, \"zerolinecolor\": \"#E1E5ED\"}, \"yaxis\": {\"gridcolor\": \"#E1E5ED\", \"showgrid\": true, \"tickfont\": {\"color\": \"#4D5663\"}, \"title\": {\"font\": {\"color\": \"#4D5663\"}, \"text\": \"\"}, \"zerolinecolor\": \"#E1E5ED\"}},\n",
       "                        {\"showLink\": true, \"linkText\": \"Export to plot.ly\", \"plotlyServerURL\": \"https://plot.ly\", \"responsive\": true}\n",
       "                    ).then(function(){\n",
       "                            \n",
       "var gd = document.getElementById('1e38b158-cfd8-463f-aa59-577cc397d5c7');\n",
       "var x = new MutationObserver(function (mutations, observer) {{\n",
       "        var display = window.getComputedStyle(gd).display;\n",
       "        if (!display || display === 'none') {{\n",
       "            console.log([gd, 'removed!']);\n",
       "            Plotly.purge(gd);\n",
       "            observer.disconnect();\n",
       "        }}\n",
       "}});\n",
       "\n",
       "// Listen for the removal of the full notebook cells\n",
       "var notebookContainer = gd.closest('#notebook-container');\n",
       "if (notebookContainer) {{\n",
       "    x.observe(notebookContainer, {childList: true});\n",
       "}}\n",
       "\n",
       "// Listen for the clearing of the current output cell\n",
       "var outputEl = gd.closest('.output');\n",
       "if (outputEl) {{\n",
       "    x.observe(outputEl, {childList: true});\n",
       "}}\n",
       "\n",
       "                        })\n",
       "                };\n",
       "                });\n",
       "            </script>\n",
       "        </div>"
      ]
     },
     "metadata": {},
     "output_type": "display_data"
    }
   ],
   "source": [
    "#3d surface plot\n",
    "df3 = pd.DataFrame({'x':[1,2,2,4,5], 'y':[10,20,30,40,10], 'z':[100,500,650,750,45]})\n",
    "df3.iplot(kind='surface')"
   ]
  },
  {
   "cell_type": "code",
   "execution_count": 34,
   "metadata": {},
   "outputs": [
    {
     "data": {
      "application/vnd.plotly.v1+json": {
       "config": {
        "linkText": "Export to plot.ly",
        "plotlyServerURL": "https://plot.ly",
        "showLink": true
       },
       "data": [
        {
         "histfunc": "count",
         "histnorm": "",
         "marker": {
          "color": "rgba(255, 153, 51, 1.0)",
          "line": {
           "color": "#4D5663",
           "width": 1.3
          }
         },
         "name": "A",
         "nbinsx": 50,
         "opacity": 0.8,
         "orientation": "v",
         "type": "histogram",
         "x": [
          1.5786187229586952,
          0.5388907679893202,
          1.078694437802884,
          0.32245053629987225,
          -0.9223734597448511,
          0.6846853537469202,
          -0.45008481106597226,
          -0.3533505384946988,
          -2.8731498108221647,
          -0.7484971720768924,
          -0.36500273352880264,
          0.6067655573450121,
          -0.9095258614147902,
          -0.5916802031109333,
          -0.1286568103901193,
          1.7388296281606612,
          0.47239980869073794,
          -0.19232195914901176,
          2.229241629104578,
          0.9230532412325921,
          1.669864645835989,
          -0.048946795581749296,
          -1.1772689529385014,
          -1.507948452528026,
          0.24724840660536831,
          -0.5514672401858561,
          0.03940467306020378,
          1.101065497240953,
          -0.6740037548529809,
          -1.087435723169192,
          0.7956290688949827,
          1.3708984098787027,
          -2.5791584583768774,
          -0.22441070420898013,
          0.26205684531518003,
          -1.4562008931988613,
          1.4373764995136746,
          1.5882274462361048,
          -1.14297172147719,
          0.8557954035872387,
          -0.21393484405050417,
          -0.4561921999510943,
          -1.2399718899695817,
          -0.4894135182650713,
          -0.9339678649182176,
          1.1632061007301673,
          -0.5287445421017896,
          -0.7851686235869038,
          0.9047629487274184,
          0.4246297921895481,
          -0.7308639618574918,
          0.25594378026316994,
          0.18619445129129822,
          -0.000521841883759933,
          -0.0956855252854502,
          0.41568934719485845,
          2.3363430277107633,
          0.986313969490932,
          -2.2999979856947776,
          -0.988970346091432,
          -0.17387465651416092,
          1.1434523811225343,
          0.7142548633467558,
          1.0861935261444606,
          0.5326363331496747,
          0.24960608255715572,
          0.15224848216287823,
          -1.0379568391468894,
          0.40303463838925496,
          1.4745778622017471,
          0.5528359060224775,
          -0.4041364159267252,
          0.2958334397510018,
          -0.9587982415737354,
          2.411937340919393,
          -1.5457422218029453,
          0.349811580328209,
          -0.22414230333098373,
          -0.5952445750360521,
          -0.17328969929810023,
          -0.2544671869662989,
          0.38014899400462554,
          -0.8101198010890571,
          -0.14087644847276767,
          0.5011952118769845,
          -1.4466394766986472,
          -0.6101461012464322,
          0.25454424877028975,
          -0.6731734711992503,
          1.535518147828806,
          -1.8820650727715733,
          -0.08447236199084893,
          0.30272598868420986,
          1.279879939966949,
          -0.2801796132397617,
          1.1306796638342382,
          1.2908453116833694,
          -0.5089587024089931,
          0.12139023869349684,
          0.29123717194560733
         ]
        }
       ],
       "layout": {
        "barmode": "overlay",
        "legend": {
         "bgcolor": "#F5F6F9",
         "font": {
          "color": "#4D5663"
         }
        },
        "paper_bgcolor": "#F5F6F9",
        "plot_bgcolor": "#F5F6F9",
        "template": {
         "data": {
          "bar": [
           {
            "error_x": {
             "color": "#2a3f5f"
            },
            "error_y": {
             "color": "#2a3f5f"
            },
            "marker": {
             "line": {
              "color": "#E5ECF6",
              "width": 0.5
             }
            },
            "type": "bar"
           }
          ],
          "barpolar": [
           {
            "marker": {
             "line": {
              "color": "#E5ECF6",
              "width": 0.5
             }
            },
            "type": "barpolar"
           }
          ],
          "carpet": [
           {
            "aaxis": {
             "endlinecolor": "#2a3f5f",
             "gridcolor": "white",
             "linecolor": "white",
             "minorgridcolor": "white",
             "startlinecolor": "#2a3f5f"
            },
            "baxis": {
             "endlinecolor": "#2a3f5f",
             "gridcolor": "white",
             "linecolor": "white",
             "minorgridcolor": "white",
             "startlinecolor": "#2a3f5f"
            },
            "type": "carpet"
           }
          ],
          "choropleth": [
           {
            "colorbar": {
             "outlinewidth": 0,
             "ticks": ""
            },
            "type": "choropleth"
           }
          ],
          "contour": [
           {
            "colorbar": {
             "outlinewidth": 0,
             "ticks": ""
            },
            "colorscale": [
             [
              0,
              "#0d0887"
             ],
             [
              0.1111111111111111,
              "#46039f"
             ],
             [
              0.2222222222222222,
              "#7201a8"
             ],
             [
              0.3333333333333333,
              "#9c179e"
             ],
             [
              0.4444444444444444,
              "#bd3786"
             ],
             [
              0.5555555555555556,
              "#d8576b"
             ],
             [
              0.6666666666666666,
              "#ed7953"
             ],
             [
              0.7777777777777778,
              "#fb9f3a"
             ],
             [
              0.8888888888888888,
              "#fdca26"
             ],
             [
              1,
              "#f0f921"
             ]
            ],
            "type": "contour"
           }
          ],
          "contourcarpet": [
           {
            "colorbar": {
             "outlinewidth": 0,
             "ticks": ""
            },
            "type": "contourcarpet"
           }
          ],
          "heatmap": [
           {
            "colorbar": {
             "outlinewidth": 0,
             "ticks": ""
            },
            "colorscale": [
             [
              0,
              "#0d0887"
             ],
             [
              0.1111111111111111,
              "#46039f"
             ],
             [
              0.2222222222222222,
              "#7201a8"
             ],
             [
              0.3333333333333333,
              "#9c179e"
             ],
             [
              0.4444444444444444,
              "#bd3786"
             ],
             [
              0.5555555555555556,
              "#d8576b"
             ],
             [
              0.6666666666666666,
              "#ed7953"
             ],
             [
              0.7777777777777778,
              "#fb9f3a"
             ],
             [
              0.8888888888888888,
              "#fdca26"
             ],
             [
              1,
              "#f0f921"
             ]
            ],
            "type": "heatmap"
           }
          ],
          "heatmapgl": [
           {
            "colorbar": {
             "outlinewidth": 0,
             "ticks": ""
            },
            "colorscale": [
             [
              0,
              "#0d0887"
             ],
             [
              0.1111111111111111,
              "#46039f"
             ],
             [
              0.2222222222222222,
              "#7201a8"
             ],
             [
              0.3333333333333333,
              "#9c179e"
             ],
             [
              0.4444444444444444,
              "#bd3786"
             ],
             [
              0.5555555555555556,
              "#d8576b"
             ],
             [
              0.6666666666666666,
              "#ed7953"
             ],
             [
              0.7777777777777778,
              "#fb9f3a"
             ],
             [
              0.8888888888888888,
              "#fdca26"
             ],
             [
              1,
              "#f0f921"
             ]
            ],
            "type": "heatmapgl"
           }
          ],
          "histogram": [
           {
            "marker": {
             "colorbar": {
              "outlinewidth": 0,
              "ticks": ""
             }
            },
            "type": "histogram"
           }
          ],
          "histogram2d": [
           {
            "colorbar": {
             "outlinewidth": 0,
             "ticks": ""
            },
            "colorscale": [
             [
              0,
              "#0d0887"
             ],
             [
              0.1111111111111111,
              "#46039f"
             ],
             [
              0.2222222222222222,
              "#7201a8"
             ],
             [
              0.3333333333333333,
              "#9c179e"
             ],
             [
              0.4444444444444444,
              "#bd3786"
             ],
             [
              0.5555555555555556,
              "#d8576b"
             ],
             [
              0.6666666666666666,
              "#ed7953"
             ],
             [
              0.7777777777777778,
              "#fb9f3a"
             ],
             [
              0.8888888888888888,
              "#fdca26"
             ],
             [
              1,
              "#f0f921"
             ]
            ],
            "type": "histogram2d"
           }
          ],
          "histogram2dcontour": [
           {
            "colorbar": {
             "outlinewidth": 0,
             "ticks": ""
            },
            "colorscale": [
             [
              0,
              "#0d0887"
             ],
             [
              0.1111111111111111,
              "#46039f"
             ],
             [
              0.2222222222222222,
              "#7201a8"
             ],
             [
              0.3333333333333333,
              "#9c179e"
             ],
             [
              0.4444444444444444,
              "#bd3786"
             ],
             [
              0.5555555555555556,
              "#d8576b"
             ],
             [
              0.6666666666666666,
              "#ed7953"
             ],
             [
              0.7777777777777778,
              "#fb9f3a"
             ],
             [
              0.8888888888888888,
              "#fdca26"
             ],
             [
              1,
              "#f0f921"
             ]
            ],
            "type": "histogram2dcontour"
           }
          ],
          "mesh3d": [
           {
            "colorbar": {
             "outlinewidth": 0,
             "ticks": ""
            },
            "type": "mesh3d"
           }
          ],
          "parcoords": [
           {
            "line": {
             "colorbar": {
              "outlinewidth": 0,
              "ticks": ""
             }
            },
            "type": "parcoords"
           }
          ],
          "pie": [
           {
            "automargin": true,
            "type": "pie"
           }
          ],
          "scatter": [
           {
            "marker": {
             "colorbar": {
              "outlinewidth": 0,
              "ticks": ""
             }
            },
            "type": "scatter"
           }
          ],
          "scatter3d": [
           {
            "line": {
             "colorbar": {
              "outlinewidth": 0,
              "ticks": ""
             }
            },
            "marker": {
             "colorbar": {
              "outlinewidth": 0,
              "ticks": ""
             }
            },
            "type": "scatter3d"
           }
          ],
          "scattercarpet": [
           {
            "marker": {
             "colorbar": {
              "outlinewidth": 0,
              "ticks": ""
             }
            },
            "type": "scattercarpet"
           }
          ],
          "scattergeo": [
           {
            "marker": {
             "colorbar": {
              "outlinewidth": 0,
              "ticks": ""
             }
            },
            "type": "scattergeo"
           }
          ],
          "scattergl": [
           {
            "marker": {
             "colorbar": {
              "outlinewidth": 0,
              "ticks": ""
             }
            },
            "type": "scattergl"
           }
          ],
          "scattermapbox": [
           {
            "marker": {
             "colorbar": {
              "outlinewidth": 0,
              "ticks": ""
             }
            },
            "type": "scattermapbox"
           }
          ],
          "scatterpolar": [
           {
            "marker": {
             "colorbar": {
              "outlinewidth": 0,
              "ticks": ""
             }
            },
            "type": "scatterpolar"
           }
          ],
          "scatterpolargl": [
           {
            "marker": {
             "colorbar": {
              "outlinewidth": 0,
              "ticks": ""
             }
            },
            "type": "scatterpolargl"
           }
          ],
          "scatterternary": [
           {
            "marker": {
             "colorbar": {
              "outlinewidth": 0,
              "ticks": ""
             }
            },
            "type": "scatterternary"
           }
          ],
          "surface": [
           {
            "colorbar": {
             "outlinewidth": 0,
             "ticks": ""
            },
            "colorscale": [
             [
              0,
              "#0d0887"
             ],
             [
              0.1111111111111111,
              "#46039f"
             ],
             [
              0.2222222222222222,
              "#7201a8"
             ],
             [
              0.3333333333333333,
              "#9c179e"
             ],
             [
              0.4444444444444444,
              "#bd3786"
             ],
             [
              0.5555555555555556,
              "#d8576b"
             ],
             [
              0.6666666666666666,
              "#ed7953"
             ],
             [
              0.7777777777777778,
              "#fb9f3a"
             ],
             [
              0.8888888888888888,
              "#fdca26"
             ],
             [
              1,
              "#f0f921"
             ]
            ],
            "type": "surface"
           }
          ],
          "table": [
           {
            "cells": {
             "fill": {
              "color": "#EBF0F8"
             },
             "line": {
              "color": "white"
             }
            },
            "header": {
             "fill": {
              "color": "#C8D4E3"
             },
             "line": {
              "color": "white"
             }
            },
            "type": "table"
           }
          ]
         },
         "layout": {
          "annotationdefaults": {
           "arrowcolor": "#2a3f5f",
           "arrowhead": 0,
           "arrowwidth": 1
          },
          "coloraxis": {
           "colorbar": {
            "outlinewidth": 0,
            "ticks": ""
           }
          },
          "colorscale": {
           "diverging": [
            [
             0,
             "#8e0152"
            ],
            [
             0.1,
             "#c51b7d"
            ],
            [
             0.2,
             "#de77ae"
            ],
            [
             0.3,
             "#f1b6da"
            ],
            [
             0.4,
             "#fde0ef"
            ],
            [
             0.5,
             "#f7f7f7"
            ],
            [
             0.6,
             "#e6f5d0"
            ],
            [
             0.7,
             "#b8e186"
            ],
            [
             0.8,
             "#7fbc41"
            ],
            [
             0.9,
             "#4d9221"
            ],
            [
             1,
             "#276419"
            ]
           ],
           "sequential": [
            [
             0,
             "#0d0887"
            ],
            [
             0.1111111111111111,
             "#46039f"
            ],
            [
             0.2222222222222222,
             "#7201a8"
            ],
            [
             0.3333333333333333,
             "#9c179e"
            ],
            [
             0.4444444444444444,
             "#bd3786"
            ],
            [
             0.5555555555555556,
             "#d8576b"
            ],
            [
             0.6666666666666666,
             "#ed7953"
            ],
            [
             0.7777777777777778,
             "#fb9f3a"
            ],
            [
             0.8888888888888888,
             "#fdca26"
            ],
            [
             1,
             "#f0f921"
            ]
           ],
           "sequentialminus": [
            [
             0,
             "#0d0887"
            ],
            [
             0.1111111111111111,
             "#46039f"
            ],
            [
             0.2222222222222222,
             "#7201a8"
            ],
            [
             0.3333333333333333,
             "#9c179e"
            ],
            [
             0.4444444444444444,
             "#bd3786"
            ],
            [
             0.5555555555555556,
             "#d8576b"
            ],
            [
             0.6666666666666666,
             "#ed7953"
            ],
            [
             0.7777777777777778,
             "#fb9f3a"
            ],
            [
             0.8888888888888888,
             "#fdca26"
            ],
            [
             1,
             "#f0f921"
            ]
           ]
          },
          "colorway": [
           "#636efa",
           "#EF553B",
           "#00cc96",
           "#ab63fa",
           "#FFA15A",
           "#19d3f3",
           "#FF6692",
           "#B6E880",
           "#FF97FF",
           "#FECB52"
          ],
          "font": {
           "color": "#2a3f5f"
          },
          "geo": {
           "bgcolor": "white",
           "lakecolor": "white",
           "landcolor": "#E5ECF6",
           "showlakes": true,
           "showland": true,
           "subunitcolor": "white"
          },
          "hoverlabel": {
           "align": "left"
          },
          "hovermode": "closest",
          "mapbox": {
           "style": "light"
          },
          "paper_bgcolor": "white",
          "plot_bgcolor": "#E5ECF6",
          "polar": {
           "angularaxis": {
            "gridcolor": "white",
            "linecolor": "white",
            "ticks": ""
           },
           "bgcolor": "#E5ECF6",
           "radialaxis": {
            "gridcolor": "white",
            "linecolor": "white",
            "ticks": ""
           }
          },
          "scene": {
           "xaxis": {
            "backgroundcolor": "#E5ECF6",
            "gridcolor": "white",
            "gridwidth": 2,
            "linecolor": "white",
            "showbackground": true,
            "ticks": "",
            "zerolinecolor": "white"
           },
           "yaxis": {
            "backgroundcolor": "#E5ECF6",
            "gridcolor": "white",
            "gridwidth": 2,
            "linecolor": "white",
            "showbackground": true,
            "ticks": "",
            "zerolinecolor": "white"
           },
           "zaxis": {
            "backgroundcolor": "#E5ECF6",
            "gridcolor": "white",
            "gridwidth": 2,
            "linecolor": "white",
            "showbackground": true,
            "ticks": "",
            "zerolinecolor": "white"
           }
          },
          "shapedefaults": {
           "line": {
            "color": "#2a3f5f"
           }
          },
          "ternary": {
           "aaxis": {
            "gridcolor": "white",
            "linecolor": "white",
            "ticks": ""
           },
           "baxis": {
            "gridcolor": "white",
            "linecolor": "white",
            "ticks": ""
           },
           "bgcolor": "#E5ECF6",
           "caxis": {
            "gridcolor": "white",
            "linecolor": "white",
            "ticks": ""
           }
          },
          "title": {
           "x": 0.05
          },
          "xaxis": {
           "automargin": true,
           "gridcolor": "white",
           "linecolor": "white",
           "ticks": "",
           "title": {
            "standoff": 15
           },
           "zerolinecolor": "white",
           "zerolinewidth": 2
          },
          "yaxis": {
           "automargin": true,
           "gridcolor": "white",
           "linecolor": "white",
           "ticks": "",
           "title": {
            "standoff": 15
           },
           "zerolinecolor": "white",
           "zerolinewidth": 2
          }
         }
        },
        "title": {
         "font": {
          "color": "#4D5663"
         }
        },
        "xaxis": {
         "gridcolor": "#E1E5ED",
         "showgrid": true,
         "tickfont": {
          "color": "#4D5663"
         },
         "title": {
          "font": {
           "color": "#4D5663"
          },
          "text": ""
         },
         "zerolinecolor": "#E1E5ED"
        },
        "yaxis": {
         "gridcolor": "#E1E5ED",
         "showgrid": true,
         "tickfont": {
          "color": "#4D5663"
         },
         "title": {
          "font": {
           "color": "#4D5663"
          },
          "text": ""
         },
         "zerolinecolor": "#E1E5ED"
        }
       }
      },
      "text/html": [
       "<div>\n",
       "        \n",
       "        \n",
       "            <div id=\"75e512b4-9100-4aff-9c65-3d5d8581027b\" class=\"plotly-graph-div\" style=\"height:525px; width:100%;\"></div>\n",
       "            <script type=\"text/javascript\">\n",
       "                require([\"plotly\"], function(Plotly) {\n",
       "                    window.PLOTLYENV=window.PLOTLYENV || {};\n",
       "                    window.PLOTLYENV.BASE_URL='https://plot.ly';\n",
       "                    \n",
       "                if (document.getElementById(\"75e512b4-9100-4aff-9c65-3d5d8581027b\")) {\n",
       "                    Plotly.newPlot(\n",
       "                        '75e512b4-9100-4aff-9c65-3d5d8581027b',\n",
       "                        [{\"histfunc\": \"count\", \"histnorm\": \"\", \"marker\": {\"color\": \"rgba(255, 153, 51, 1.0)\", \"line\": {\"color\": \"#4D5663\", \"width\": 1.3}}, \"name\": \"A\", \"nbinsx\": 50, \"opacity\": 0.8, \"orientation\": \"v\", \"type\": \"histogram\", \"x\": [1.5786187229586952, 0.5388907679893202, 1.078694437802884, 0.32245053629987225, -0.9223734597448511, 0.6846853537469202, -0.45008481106597226, -0.3533505384946988, -2.8731498108221647, -0.7484971720768924, -0.36500273352880264, 0.6067655573450121, -0.9095258614147902, -0.5916802031109333, -0.1286568103901193, 1.7388296281606612, 0.47239980869073794, -0.19232195914901176, 2.229241629104578, 0.9230532412325921, 1.669864645835989, -0.048946795581749296, -1.1772689529385014, -1.507948452528026, 0.24724840660536831, -0.5514672401858561, 0.03940467306020378, 1.101065497240953, -0.6740037548529809, -1.087435723169192, 0.7956290688949827, 1.3708984098787027, -2.5791584583768774, -0.22441070420898013, 0.26205684531518003, -1.4562008931988613, 1.4373764995136746, 1.5882274462361048, -1.14297172147719, 0.8557954035872387, -0.21393484405050417, -0.4561921999510943, -1.2399718899695817, -0.4894135182650713, -0.9339678649182176, 1.1632061007301673, -0.5287445421017896, -0.7851686235869038, 0.9047629487274184, 0.4246297921895481, -0.7308639618574918, 0.25594378026316994, 0.18619445129129822, -0.000521841883759933, -0.0956855252854502, 0.41568934719485845, 2.3363430277107633, 0.986313969490932, -2.2999979856947776, -0.988970346091432, -0.17387465651416092, 1.1434523811225343, 0.7142548633467558, 1.0861935261444606, 0.5326363331496747, 0.24960608255715572, 0.15224848216287823, -1.0379568391468894, 0.40303463838925496, 1.4745778622017471, 0.5528359060224775, -0.4041364159267252, 0.2958334397510018, -0.9587982415737354, 2.411937340919393, -1.5457422218029453, 0.349811580328209, -0.22414230333098373, -0.5952445750360521, -0.17328969929810023, -0.2544671869662989, 0.38014899400462554, -0.8101198010890571, -0.14087644847276767, 0.5011952118769845, -1.4466394766986472, -0.6101461012464322, 0.25454424877028975, -0.6731734711992503, 1.535518147828806, -1.8820650727715733, -0.08447236199084893, 0.30272598868420986, 1.279879939966949, -0.2801796132397617, 1.1306796638342382, 1.2908453116833694, -0.5089587024089931, 0.12139023869349684, 0.29123717194560733]}],\n",
       "                        {\"barmode\": \"overlay\", \"legend\": {\"bgcolor\": \"#F5F6F9\", \"font\": {\"color\": \"#4D5663\"}}, \"paper_bgcolor\": \"#F5F6F9\", \"plot_bgcolor\": \"#F5F6F9\", \"template\": {\"data\": {\"bar\": [{\"error_x\": {\"color\": \"#2a3f5f\"}, \"error_y\": {\"color\": \"#2a3f5f\"}, \"marker\": {\"line\": {\"color\": \"#E5ECF6\", \"width\": 0.5}}, \"type\": \"bar\"}], \"barpolar\": [{\"marker\": {\"line\": {\"color\": \"#E5ECF6\", \"width\": 0.5}}, \"type\": \"barpolar\"}], \"carpet\": [{\"aaxis\": {\"endlinecolor\": \"#2a3f5f\", \"gridcolor\": \"white\", \"linecolor\": \"white\", \"minorgridcolor\": \"white\", \"startlinecolor\": \"#2a3f5f\"}, \"baxis\": {\"endlinecolor\": \"#2a3f5f\", \"gridcolor\": \"white\", \"linecolor\": \"white\", \"minorgridcolor\": \"white\", \"startlinecolor\": \"#2a3f5f\"}, \"type\": \"carpet\"}], \"choropleth\": [{\"colorbar\": {\"outlinewidth\": 0, \"ticks\": \"\"}, \"type\": \"choropleth\"}], \"contour\": [{\"colorbar\": {\"outlinewidth\": 0, \"ticks\": \"\"}, \"colorscale\": [[0.0, \"#0d0887\"], [0.1111111111111111, \"#46039f\"], [0.2222222222222222, \"#7201a8\"], [0.3333333333333333, \"#9c179e\"], [0.4444444444444444, \"#bd3786\"], [0.5555555555555556, \"#d8576b\"], [0.6666666666666666, \"#ed7953\"], [0.7777777777777778, \"#fb9f3a\"], [0.8888888888888888, \"#fdca26\"], [1.0, \"#f0f921\"]], \"type\": \"contour\"}], \"contourcarpet\": [{\"colorbar\": {\"outlinewidth\": 0, \"ticks\": \"\"}, \"type\": \"contourcarpet\"}], \"heatmap\": [{\"colorbar\": {\"outlinewidth\": 0, \"ticks\": \"\"}, \"colorscale\": [[0.0, \"#0d0887\"], [0.1111111111111111, \"#46039f\"], [0.2222222222222222, \"#7201a8\"], [0.3333333333333333, \"#9c179e\"], [0.4444444444444444, \"#bd3786\"], [0.5555555555555556, \"#d8576b\"], [0.6666666666666666, \"#ed7953\"], [0.7777777777777778, \"#fb9f3a\"], [0.8888888888888888, \"#fdca26\"], [1.0, \"#f0f921\"]], \"type\": \"heatmap\"}], \"heatmapgl\": [{\"colorbar\": {\"outlinewidth\": 0, \"ticks\": \"\"}, \"colorscale\": [[0.0, \"#0d0887\"], [0.1111111111111111, \"#46039f\"], [0.2222222222222222, \"#7201a8\"], [0.3333333333333333, \"#9c179e\"], [0.4444444444444444, \"#bd3786\"], [0.5555555555555556, \"#d8576b\"], [0.6666666666666666, \"#ed7953\"], [0.7777777777777778, \"#fb9f3a\"], [0.8888888888888888, \"#fdca26\"], [1.0, \"#f0f921\"]], \"type\": \"heatmapgl\"}], \"histogram\": [{\"marker\": {\"colorbar\": {\"outlinewidth\": 0, \"ticks\": \"\"}}, \"type\": \"histogram\"}], \"histogram2d\": [{\"colorbar\": {\"outlinewidth\": 0, \"ticks\": \"\"}, \"colorscale\": [[0.0, \"#0d0887\"], [0.1111111111111111, \"#46039f\"], [0.2222222222222222, \"#7201a8\"], [0.3333333333333333, \"#9c179e\"], [0.4444444444444444, \"#bd3786\"], [0.5555555555555556, \"#d8576b\"], [0.6666666666666666, \"#ed7953\"], [0.7777777777777778, \"#fb9f3a\"], [0.8888888888888888, \"#fdca26\"], [1.0, \"#f0f921\"]], \"type\": \"histogram2d\"}], \"histogram2dcontour\": [{\"colorbar\": {\"outlinewidth\": 0, \"ticks\": \"\"}, \"colorscale\": [[0.0, \"#0d0887\"], [0.1111111111111111, \"#46039f\"], [0.2222222222222222, \"#7201a8\"], [0.3333333333333333, \"#9c179e\"], [0.4444444444444444, \"#bd3786\"], [0.5555555555555556, \"#d8576b\"], [0.6666666666666666, \"#ed7953\"], [0.7777777777777778, \"#fb9f3a\"], [0.8888888888888888, \"#fdca26\"], [1.0, \"#f0f921\"]], \"type\": \"histogram2dcontour\"}], \"mesh3d\": [{\"colorbar\": {\"outlinewidth\": 0, \"ticks\": \"\"}, \"type\": \"mesh3d\"}], \"parcoords\": [{\"line\": {\"colorbar\": {\"outlinewidth\": 0, \"ticks\": \"\"}}, \"type\": \"parcoords\"}], \"pie\": [{\"automargin\": true, \"type\": \"pie\"}], \"scatter\": [{\"marker\": {\"colorbar\": {\"outlinewidth\": 0, \"ticks\": \"\"}}, \"type\": \"scatter\"}], \"scatter3d\": [{\"line\": {\"colorbar\": {\"outlinewidth\": 0, \"ticks\": \"\"}}, \"marker\": {\"colorbar\": {\"outlinewidth\": 0, \"ticks\": \"\"}}, \"type\": \"scatter3d\"}], \"scattercarpet\": [{\"marker\": {\"colorbar\": {\"outlinewidth\": 0, \"ticks\": \"\"}}, \"type\": \"scattercarpet\"}], \"scattergeo\": [{\"marker\": {\"colorbar\": {\"outlinewidth\": 0, \"ticks\": \"\"}}, \"type\": \"scattergeo\"}], \"scattergl\": [{\"marker\": {\"colorbar\": {\"outlinewidth\": 0, \"ticks\": \"\"}}, \"type\": \"scattergl\"}], \"scattermapbox\": [{\"marker\": {\"colorbar\": {\"outlinewidth\": 0, \"ticks\": \"\"}}, \"type\": \"scattermapbox\"}], \"scatterpolar\": [{\"marker\": {\"colorbar\": {\"outlinewidth\": 0, \"ticks\": \"\"}}, \"type\": \"scatterpolar\"}], \"scatterpolargl\": [{\"marker\": {\"colorbar\": {\"outlinewidth\": 0, \"ticks\": \"\"}}, \"type\": \"scatterpolargl\"}], \"scatterternary\": [{\"marker\": {\"colorbar\": {\"outlinewidth\": 0, \"ticks\": \"\"}}, \"type\": \"scatterternary\"}], \"surface\": [{\"colorbar\": {\"outlinewidth\": 0, \"ticks\": \"\"}, \"colorscale\": [[0.0, \"#0d0887\"], [0.1111111111111111, \"#46039f\"], [0.2222222222222222, \"#7201a8\"], [0.3333333333333333, \"#9c179e\"], [0.4444444444444444, \"#bd3786\"], [0.5555555555555556, \"#d8576b\"], [0.6666666666666666, \"#ed7953\"], [0.7777777777777778, \"#fb9f3a\"], [0.8888888888888888, \"#fdca26\"], [1.0, \"#f0f921\"]], \"type\": \"surface\"}], \"table\": [{\"cells\": {\"fill\": {\"color\": \"#EBF0F8\"}, \"line\": {\"color\": \"white\"}}, \"header\": {\"fill\": {\"color\": \"#C8D4E3\"}, \"line\": {\"color\": \"white\"}}, \"type\": \"table\"}]}, \"layout\": {\"annotationdefaults\": {\"arrowcolor\": \"#2a3f5f\", \"arrowhead\": 0, \"arrowwidth\": 1}, \"coloraxis\": {\"colorbar\": {\"outlinewidth\": 0, \"ticks\": \"\"}}, \"colorscale\": {\"diverging\": [[0, \"#8e0152\"], [0.1, \"#c51b7d\"], [0.2, \"#de77ae\"], [0.3, \"#f1b6da\"], [0.4, \"#fde0ef\"], [0.5, \"#f7f7f7\"], [0.6, \"#e6f5d0\"], [0.7, \"#b8e186\"], [0.8, \"#7fbc41\"], [0.9, \"#4d9221\"], [1, \"#276419\"]], \"sequential\": [[0.0, \"#0d0887\"], [0.1111111111111111, \"#46039f\"], [0.2222222222222222, \"#7201a8\"], [0.3333333333333333, \"#9c179e\"], [0.4444444444444444, \"#bd3786\"], [0.5555555555555556, \"#d8576b\"], [0.6666666666666666, \"#ed7953\"], [0.7777777777777778, \"#fb9f3a\"], [0.8888888888888888, \"#fdca26\"], [1.0, \"#f0f921\"]], \"sequentialminus\": [[0.0, \"#0d0887\"], [0.1111111111111111, \"#46039f\"], [0.2222222222222222, \"#7201a8\"], [0.3333333333333333, \"#9c179e\"], [0.4444444444444444, \"#bd3786\"], [0.5555555555555556, \"#d8576b\"], [0.6666666666666666, \"#ed7953\"], [0.7777777777777778, \"#fb9f3a\"], [0.8888888888888888, \"#fdca26\"], [1.0, \"#f0f921\"]]}, \"colorway\": [\"#636efa\", \"#EF553B\", \"#00cc96\", \"#ab63fa\", \"#FFA15A\", \"#19d3f3\", \"#FF6692\", \"#B6E880\", \"#FF97FF\", \"#FECB52\"], \"font\": {\"color\": \"#2a3f5f\"}, \"geo\": {\"bgcolor\": \"white\", \"lakecolor\": \"white\", \"landcolor\": \"#E5ECF6\", \"showlakes\": true, \"showland\": true, \"subunitcolor\": \"white\"}, \"hoverlabel\": {\"align\": \"left\"}, \"hovermode\": \"closest\", \"mapbox\": {\"style\": \"light\"}, \"paper_bgcolor\": \"white\", \"plot_bgcolor\": \"#E5ECF6\", \"polar\": {\"angularaxis\": {\"gridcolor\": \"white\", \"linecolor\": \"white\", \"ticks\": \"\"}, \"bgcolor\": \"#E5ECF6\", \"radialaxis\": {\"gridcolor\": \"white\", \"linecolor\": \"white\", \"ticks\": \"\"}}, \"scene\": {\"xaxis\": {\"backgroundcolor\": \"#E5ECF6\", \"gridcolor\": \"white\", \"gridwidth\": 2, \"linecolor\": \"white\", \"showbackground\": true, \"ticks\": \"\", \"zerolinecolor\": \"white\"}, \"yaxis\": {\"backgroundcolor\": \"#E5ECF6\", \"gridcolor\": \"white\", \"gridwidth\": 2, \"linecolor\": \"white\", \"showbackground\": true, \"ticks\": \"\", \"zerolinecolor\": \"white\"}, \"zaxis\": {\"backgroundcolor\": \"#E5ECF6\", \"gridcolor\": \"white\", \"gridwidth\": 2, \"linecolor\": \"white\", \"showbackground\": true, \"ticks\": \"\", \"zerolinecolor\": \"white\"}}, \"shapedefaults\": {\"line\": {\"color\": \"#2a3f5f\"}}, \"ternary\": {\"aaxis\": {\"gridcolor\": \"white\", \"linecolor\": \"white\", \"ticks\": \"\"}, \"baxis\": {\"gridcolor\": \"white\", \"linecolor\": \"white\", \"ticks\": \"\"}, \"bgcolor\": \"#E5ECF6\", \"caxis\": {\"gridcolor\": \"white\", \"linecolor\": \"white\", \"ticks\": \"\"}}, \"title\": {\"x\": 0.05}, \"xaxis\": {\"automargin\": true, \"gridcolor\": \"white\", \"linecolor\": \"white\", \"ticks\": \"\", \"title\": {\"standoff\": 15}, \"zerolinecolor\": \"white\", \"zerolinewidth\": 2}, \"yaxis\": {\"automargin\": true, \"gridcolor\": \"white\", \"linecolor\": \"white\", \"ticks\": \"\", \"title\": {\"standoff\": 15}, \"zerolinecolor\": \"white\", \"zerolinewidth\": 2}}}, \"title\": {\"font\": {\"color\": \"#4D5663\"}}, \"xaxis\": {\"gridcolor\": \"#E1E5ED\", \"showgrid\": true, \"tickfont\": {\"color\": \"#4D5663\"}, \"title\": {\"font\": {\"color\": \"#4D5663\"}, \"text\": \"\"}, \"zerolinecolor\": \"#E1E5ED\"}, \"yaxis\": {\"gridcolor\": \"#E1E5ED\", \"showgrid\": true, \"tickfont\": {\"color\": \"#4D5663\"}, \"title\": {\"font\": {\"color\": \"#4D5663\"}, \"text\": \"\"}, \"zerolinecolor\": \"#E1E5ED\"}},\n",
       "                        {\"showLink\": true, \"linkText\": \"Export to plot.ly\", \"plotlyServerURL\": \"https://plot.ly\", \"responsive\": true}\n",
       "                    ).then(function(){\n",
       "                            \n",
       "var gd = document.getElementById('75e512b4-9100-4aff-9c65-3d5d8581027b');\n",
       "var x = new MutationObserver(function (mutations, observer) {{\n",
       "        var display = window.getComputedStyle(gd).display;\n",
       "        if (!display || display === 'none') {{\n",
       "            console.log([gd, 'removed!']);\n",
       "            Plotly.purge(gd);\n",
       "            observer.disconnect();\n",
       "        }}\n",
       "}});\n",
       "\n",
       "// Listen for the removal of the full notebook cells\n",
       "var notebookContainer = gd.closest('#notebook-container');\n",
       "if (notebookContainer) {{\n",
       "    x.observe(notebookContainer, {childList: true});\n",
       "}}\n",
       "\n",
       "// Listen for the clearing of the current output cell\n",
       "var outputEl = gd.closest('.output');\n",
       "if (outputEl) {{\n",
       "    x.observe(outputEl, {childList: true});\n",
       "}}\n",
       "\n",
       "                        })\n",
       "                };\n",
       "                });\n",
       "            </script>\n",
       "        </div>"
      ]
     },
     "metadata": {},
     "output_type": "display_data"
    }
   ],
   "source": [
    "df['A'].iplot(kind='hist', bins=50)"
   ]
  },
  {
   "cell_type": "code",
   "execution_count": 37,
   "metadata": {},
   "outputs": [
    {
     "data": {
      "application/vnd.plotly.v1+json": {
       "config": {
        "linkText": "Export to plot.ly",
        "plotlyServerURL": "https://plot.ly",
        "showLink": true
       },
       "data": [
        {
         "histfunc": "count",
         "histnorm": "",
         "marker": {
          "color": "rgba(255, 153, 51, 1.0)",
          "line": {
           "color": "#4D5663",
           "width": 1.3
          }
         },
         "name": "A",
         "opacity": 0.8,
         "orientation": "v",
         "type": "histogram",
         "x": [
          1.5786187229586952,
          0.5388907679893202,
          1.078694437802884,
          0.32245053629987225,
          -0.9223734597448511,
          0.6846853537469202,
          -0.45008481106597226,
          -0.3533505384946988,
          -2.8731498108221647,
          -0.7484971720768924,
          -0.36500273352880264,
          0.6067655573450121,
          -0.9095258614147902,
          -0.5916802031109333,
          -0.1286568103901193,
          1.7388296281606612,
          0.47239980869073794,
          -0.19232195914901176,
          2.229241629104578,
          0.9230532412325921,
          1.669864645835989,
          -0.048946795581749296,
          -1.1772689529385014,
          -1.507948452528026,
          0.24724840660536831,
          -0.5514672401858561,
          0.03940467306020378,
          1.101065497240953,
          -0.6740037548529809,
          -1.087435723169192,
          0.7956290688949827,
          1.3708984098787027,
          -2.5791584583768774,
          -0.22441070420898013,
          0.26205684531518003,
          -1.4562008931988613,
          1.4373764995136746,
          1.5882274462361048,
          -1.14297172147719,
          0.8557954035872387,
          -0.21393484405050417,
          -0.4561921999510943,
          -1.2399718899695817,
          -0.4894135182650713,
          -0.9339678649182176,
          1.1632061007301673,
          -0.5287445421017896,
          -0.7851686235869038,
          0.9047629487274184,
          0.4246297921895481,
          -0.7308639618574918,
          0.25594378026316994,
          0.18619445129129822,
          -0.000521841883759933,
          -0.0956855252854502,
          0.41568934719485845,
          2.3363430277107633,
          0.986313969490932,
          -2.2999979856947776,
          -0.988970346091432,
          -0.17387465651416092,
          1.1434523811225343,
          0.7142548633467558,
          1.0861935261444606,
          0.5326363331496747,
          0.24960608255715572,
          0.15224848216287823,
          -1.0379568391468894,
          0.40303463838925496,
          1.4745778622017471,
          0.5528359060224775,
          -0.4041364159267252,
          0.2958334397510018,
          -0.9587982415737354,
          2.411937340919393,
          -1.5457422218029453,
          0.349811580328209,
          -0.22414230333098373,
          -0.5952445750360521,
          -0.17328969929810023,
          -0.2544671869662989,
          0.38014899400462554,
          -0.8101198010890571,
          -0.14087644847276767,
          0.5011952118769845,
          -1.4466394766986472,
          -0.6101461012464322,
          0.25454424877028975,
          -0.6731734711992503,
          1.535518147828806,
          -1.8820650727715733,
          -0.08447236199084893,
          0.30272598868420986,
          1.279879939966949,
          -0.2801796132397617,
          1.1306796638342382,
          1.2908453116833694,
          -0.5089587024089931,
          0.12139023869349684,
          0.29123717194560733
         ]
        },
        {
         "histfunc": "count",
         "histnorm": "",
         "marker": {
          "color": "rgba(55, 128, 191, 1.0)",
          "line": {
           "color": "#4D5663",
           "width": 1.3
          }
         },
         "name": "B",
         "opacity": 0.8,
         "orientation": "v",
         "type": "histogram",
         "x": [
          -0.9091481202776661,
          0.06780882273199226,
          -0.37426163102207805,
          -0.0893408716584356,
          0.3785809932478647,
          -0.1674663523925086,
          -1.8900779795166602,
          -0.3424626483864567,
          0.16169535711160646,
          0.0478377990035949,
          -0.05481689229587556,
          0.5533515341116935,
          1.813873713624411,
          0.4496238708250704,
          -0.7669842546794466,
          -0.5878357083218064,
          0.2371579630564443,
          -0.53799999065927,
          -1.928307767514013,
          0.778863457823434,
          -0.4660622969181952,
          0.21413796571596228,
          0.18163665667639722,
          -0.11279316160530298,
          -0.10135968035407887,
          1.1556132702741724,
          -1.4199345211591043,
          -1.1980119673035385,
          -0.403043648643454,
          -0.18535180459067813,
          -0.590798397804791,
          -0.3527904046359064,
          0.0521331226621967,
          1.532901799474751,
          0.5802094194992679,
          -0.010870242447072558,
          0.4642532142674884,
          -0.9660326232658625,
          1.9556195439245811,
          -0.05408068932375628,
          0.18235044092284422,
          -0.1051075040381056,
          0.16635592876305297,
          -1.6885493863487944,
          0.6763009103052485,
          -2.10897816221814,
          0.4405099968628592,
          0.6263658596754582,
          1.9604723414870466,
          1.06194614575976,
          0.6400773508424474,
          -0.5500867822309106,
          0.8307100882811101,
          0.0344633537188449,
          -1.330900477021943,
          2.4910631328577386,
          -1.7059464862818212,
          0.5955627767535996,
          0.07872829056054018,
          -0.7658543204305447,
          -1.0595414654093238,
          -0.4404871361336019,
          -0.4303288990356177,
          1.4977893567786902,
          -1.8584560116454625,
          0.28782599809848924,
          -0.5654122593952702,
          1.051391369391621,
          -0.9569865241042446,
          0.6768422848156005,
          -0.4150103635543724,
          1.9936289538054037,
          0.6034494063737481,
          -0.5042530167988375,
          -1.7769618298699321,
          0.2973685224675162,
          0.6357589463328186,
          -0.9239470626522018,
          0.389154509412879,
          -0.8314898251629631,
          1.1306355458935795,
          -0.13371758037286724,
          -0.9233531684251245,
          -1.482427845223228,
          -0.06425504201663151,
          1.8131487525802705,
          -1.3458155732931503,
          0.7107488739846166,
          0.5952788770646874,
          -0.18688980536139707,
          0.364839931718773,
          0.3702635516581097,
          -1.4292990764432627,
          -0.5328116959402388,
          0.11373726774497099,
          1.1744561982317403,
          0.9043388870333897,
          -0.5964606635103178,
          0.8775321308476934,
          0.4960320670502967
         ]
        },
        {
         "histfunc": "count",
         "histnorm": "",
         "marker": {
          "color": "rgba(50, 171, 96, 1.0)",
          "line": {
           "color": "#4D5663",
           "width": 1.3
          }
         },
         "name": "C",
         "opacity": 0.8,
         "orientation": "v",
         "type": "histogram",
         "x": [
          -1.197603887322099,
          -0.14967919671293892,
          0.5444082636142232,
          -0.07152960472442545,
          -0.11760235423160066,
          -0.7152903793804544,
          0.4005045046255291,
          1.3518039524512873,
          -1.1243483736276993,
          -0.5009909117196343,
          -0.6356525293413666,
          0.2956388077628931,
          -0.7524320015200916,
          -1.0529801411888347,
          0.7071044525469407,
          -0.9284437462526892,
          -1.164603065805729,
          -0.6421343978188939,
          -0.8947566955109193,
          0.452194461157883,
          -1.670887483463763,
          1.0002966776604,
          1.8493638173924913,
          -1.652593256858235,
          0.5956196697561125,
          1.7477319863139726,
          -0.5083851338373848,
          0.07323737775396946,
          -0.5543647956471862,
          -0.7280928908030394,
          0.929444705638144,
          -1.1237235236519836,
          1.364897098191059,
          0.5478777880307599,
          -0.07518856217547684,
          -0.3973916275118296,
          -0.2522469404046494,
          -0.8371763884555629,
          -0.007728306192208445,
          1.037248310474221,
          2.0671129544998172,
          1.706815112917324,
          -0.08261281371724254,
          0.20644873959937096,
          0.6924770531326767,
          -1.5827261161381425,
          -0.7763239958108433,
          -0.3503803723749217,
          -1.9302490373390493,
          1.1641087222396087,
          0.5011120254621527,
          -0.5765128729674301,
          -0.572909190354357,
          0.7960288033317842,
          -0.4016600353267202,
          0.14155162583316797,
          0.538711537931317,
          0.09717978563857158,
          -0.15855920678036223,
          0.3817610314473487,
          -0.06345160415242983,
          -0.8949898403245102,
          -0.5922689806323262,
          0.059167966149032476,
          -0.9025951845322313,
          0.5561210474233387,
          0.18971421226487797,
          1.527466279236679,
          1.1553110119046823,
          -0.05142100171334006,
          -0.11104848011462413,
          0.45975838916078526,
          -1.0837658721120444,
          0.2603074791735487,
          0.2271357768750185,
          -0.6143912633154864,
          -0.19682027933217464,
          -0.0755922482911257,
          2.3624936077255865,
          1.061218366771381,
          -0.09187194218598727,
          1.5566403723088795,
          -0.5662785101994151,
          0.0871672917737875,
          -1.3130377206401151,
          -0.01629282610072284,
          -1.7130840368279885,
          -1.295689318319282,
          2.5175579928428995,
          1.377240242721176,
          -1.034680562490194,
          0.6531272679255921,
          -0.6879084568105988,
          -0.46116366918317875,
          -1.457596574037775,
          0.08248908322072915,
          -1.5267858011457618,
          0.7764265294878716,
          -1.0063240827148245,
          -1.5337039944830495
         ]
        },
        {
         "histfunc": "count",
         "histnorm": "",
         "marker": {
          "color": "rgba(128, 0, 128, 1.0)",
          "line": {
           "color": "#4D5663",
           "width": 1.3
          }
         },
         "name": "D",
         "opacity": 0.8,
         "orientation": "v",
         "type": "histogram",
         "x": [
          -1.236960009175287,
          1.5957056827372886,
          -1.0816516780323115,
          2.200052015079462,
          0.5143247019771605,
          -1.298901901880776,
          0.17313645065214056,
          0.9674163566203784,
          -0.22153004406279606,
          -0.27206989956303956,
          0.3143012040259115,
          -0.569531152898254,
          0.08126478029389282,
          0.8559542227430773,
          -1.0175763939410853,
          -0.10680840976940756,
          0.04184890394958401,
          -0.18633903942760885,
          -0.442701902721548,
          0.25069835235750826,
          -0.15772123842472408,
          0.6055264194695906,
          -0.5231474640327842,
          -1.1483991602933603,
          -1.4315196534480366,
          -0.29110580637466676,
          -0.6148183294126481,
          1.0357269388691175,
          1.4325122264680905,
          0.047996524705700795,
          0.5257544940853995,
          0.5007092040776967,
          -1.0133788494833593,
          -0.17140111283027717,
          -1.6650623212197295,
          -0.38565297522022907,
          -1.0631154036221937,
          0.8936736895735256,
          0.6975017214985157,
          -0.6144869389303735,
          -2.1181687484974923,
          -0.6536309034282014,
          -0.48014587964671623,
          -1.945695231225604,
          -0.04551853151221338,
          -2.3961519073548403,
          1.5957981977390046,
          -0.3235433792385381,
          -1.0793595624540027,
          0.5839007832341924,
          1.0199613700952719,
          -0.3074901790252907,
          0.41799459014333507,
          -0.552158231869279,
          1.310697439208428,
          -2.6075287898130743,
          -1.8854654673649944,
          0.5002128868990016,
          -0.657663363118006,
          1.3178004735068567,
          0.3457488508580863,
          -0.04376132072741204,
          -2.8980843373751073,
          1.5859570858211414,
          0.07085088888886118,
          -0.061026509238509115,
          1.3615710585152017,
          -0.6397894357080812,
          -0.43859315104324653,
          0.8751237172338803,
          -0.31378903090234406,
          0.1980565609095691,
          -0.9598547525201483,
          0.03672553453537836,
          1.7192074964219954,
          1.0986428237582062,
          0.0025096167788204336,
          -1.181223803979235,
          -0.20377850730036687,
          -0.29447410738980206,
          -0.2878050343115418,
          -0.5626726711840615,
          2.1779338559988553,
          -1.0356971241275936,
          0.2652045833527526,
          -1.8230465662038575,
          -0.012118397896673763,
          -0.48752840176514556,
          0.3373036379938806,
          3.2348155942028587,
          -0.3686666049825805,
          -0.23124159952112106,
          1.722082627228278,
          0.8029339991881422,
          -0.422344772622117,
          -0.6850380502239866,
          0.8691707591440322,
          0.14220099266924224,
          -0.4567669970269884,
          2.9844915497962994
         ]
        }
       ],
       "layout": {
        "barmode": "overlay",
        "legend": {
         "bgcolor": "#F5F6F9",
         "font": {
          "color": "#4D5663"
         }
        },
        "paper_bgcolor": "#F5F6F9",
        "plot_bgcolor": "#F5F6F9",
        "template": {
         "data": {
          "bar": [
           {
            "error_x": {
             "color": "#2a3f5f"
            },
            "error_y": {
             "color": "#2a3f5f"
            },
            "marker": {
             "line": {
              "color": "#E5ECF6",
              "width": 0.5
             }
            },
            "type": "bar"
           }
          ],
          "barpolar": [
           {
            "marker": {
             "line": {
              "color": "#E5ECF6",
              "width": 0.5
             }
            },
            "type": "barpolar"
           }
          ],
          "carpet": [
           {
            "aaxis": {
             "endlinecolor": "#2a3f5f",
             "gridcolor": "white",
             "linecolor": "white",
             "minorgridcolor": "white",
             "startlinecolor": "#2a3f5f"
            },
            "baxis": {
             "endlinecolor": "#2a3f5f",
             "gridcolor": "white",
             "linecolor": "white",
             "minorgridcolor": "white",
             "startlinecolor": "#2a3f5f"
            },
            "type": "carpet"
           }
          ],
          "choropleth": [
           {
            "colorbar": {
             "outlinewidth": 0,
             "ticks": ""
            },
            "type": "choropleth"
           }
          ],
          "contour": [
           {
            "colorbar": {
             "outlinewidth": 0,
             "ticks": ""
            },
            "colorscale": [
             [
              0,
              "#0d0887"
             ],
             [
              0.1111111111111111,
              "#46039f"
             ],
             [
              0.2222222222222222,
              "#7201a8"
             ],
             [
              0.3333333333333333,
              "#9c179e"
             ],
             [
              0.4444444444444444,
              "#bd3786"
             ],
             [
              0.5555555555555556,
              "#d8576b"
             ],
             [
              0.6666666666666666,
              "#ed7953"
             ],
             [
              0.7777777777777778,
              "#fb9f3a"
             ],
             [
              0.8888888888888888,
              "#fdca26"
             ],
             [
              1,
              "#f0f921"
             ]
            ],
            "type": "contour"
           }
          ],
          "contourcarpet": [
           {
            "colorbar": {
             "outlinewidth": 0,
             "ticks": ""
            },
            "type": "contourcarpet"
           }
          ],
          "heatmap": [
           {
            "colorbar": {
             "outlinewidth": 0,
             "ticks": ""
            },
            "colorscale": [
             [
              0,
              "#0d0887"
             ],
             [
              0.1111111111111111,
              "#46039f"
             ],
             [
              0.2222222222222222,
              "#7201a8"
             ],
             [
              0.3333333333333333,
              "#9c179e"
             ],
             [
              0.4444444444444444,
              "#bd3786"
             ],
             [
              0.5555555555555556,
              "#d8576b"
             ],
             [
              0.6666666666666666,
              "#ed7953"
             ],
             [
              0.7777777777777778,
              "#fb9f3a"
             ],
             [
              0.8888888888888888,
              "#fdca26"
             ],
             [
              1,
              "#f0f921"
             ]
            ],
            "type": "heatmap"
           }
          ],
          "heatmapgl": [
           {
            "colorbar": {
             "outlinewidth": 0,
             "ticks": ""
            },
            "colorscale": [
             [
              0,
              "#0d0887"
             ],
             [
              0.1111111111111111,
              "#46039f"
             ],
             [
              0.2222222222222222,
              "#7201a8"
             ],
             [
              0.3333333333333333,
              "#9c179e"
             ],
             [
              0.4444444444444444,
              "#bd3786"
             ],
             [
              0.5555555555555556,
              "#d8576b"
             ],
             [
              0.6666666666666666,
              "#ed7953"
             ],
             [
              0.7777777777777778,
              "#fb9f3a"
             ],
             [
              0.8888888888888888,
              "#fdca26"
             ],
             [
              1,
              "#f0f921"
             ]
            ],
            "type": "heatmapgl"
           }
          ],
          "histogram": [
           {
            "marker": {
             "colorbar": {
              "outlinewidth": 0,
              "ticks": ""
             }
            },
            "type": "histogram"
           }
          ],
          "histogram2d": [
           {
            "colorbar": {
             "outlinewidth": 0,
             "ticks": ""
            },
            "colorscale": [
             [
              0,
              "#0d0887"
             ],
             [
              0.1111111111111111,
              "#46039f"
             ],
             [
              0.2222222222222222,
              "#7201a8"
             ],
             [
              0.3333333333333333,
              "#9c179e"
             ],
             [
              0.4444444444444444,
              "#bd3786"
             ],
             [
              0.5555555555555556,
              "#d8576b"
             ],
             [
              0.6666666666666666,
              "#ed7953"
             ],
             [
              0.7777777777777778,
              "#fb9f3a"
             ],
             [
              0.8888888888888888,
              "#fdca26"
             ],
             [
              1,
              "#f0f921"
             ]
            ],
            "type": "histogram2d"
           }
          ],
          "histogram2dcontour": [
           {
            "colorbar": {
             "outlinewidth": 0,
             "ticks": ""
            },
            "colorscale": [
             [
              0,
              "#0d0887"
             ],
             [
              0.1111111111111111,
              "#46039f"
             ],
             [
              0.2222222222222222,
              "#7201a8"
             ],
             [
              0.3333333333333333,
              "#9c179e"
             ],
             [
              0.4444444444444444,
              "#bd3786"
             ],
             [
              0.5555555555555556,
              "#d8576b"
             ],
             [
              0.6666666666666666,
              "#ed7953"
             ],
             [
              0.7777777777777778,
              "#fb9f3a"
             ],
             [
              0.8888888888888888,
              "#fdca26"
             ],
             [
              1,
              "#f0f921"
             ]
            ],
            "type": "histogram2dcontour"
           }
          ],
          "mesh3d": [
           {
            "colorbar": {
             "outlinewidth": 0,
             "ticks": ""
            },
            "type": "mesh3d"
           }
          ],
          "parcoords": [
           {
            "line": {
             "colorbar": {
              "outlinewidth": 0,
              "ticks": ""
             }
            },
            "type": "parcoords"
           }
          ],
          "pie": [
           {
            "automargin": true,
            "type": "pie"
           }
          ],
          "scatter": [
           {
            "marker": {
             "colorbar": {
              "outlinewidth": 0,
              "ticks": ""
             }
            },
            "type": "scatter"
           }
          ],
          "scatter3d": [
           {
            "line": {
             "colorbar": {
              "outlinewidth": 0,
              "ticks": ""
             }
            },
            "marker": {
             "colorbar": {
              "outlinewidth": 0,
              "ticks": ""
             }
            },
            "type": "scatter3d"
           }
          ],
          "scattercarpet": [
           {
            "marker": {
             "colorbar": {
              "outlinewidth": 0,
              "ticks": ""
             }
            },
            "type": "scattercarpet"
           }
          ],
          "scattergeo": [
           {
            "marker": {
             "colorbar": {
              "outlinewidth": 0,
              "ticks": ""
             }
            },
            "type": "scattergeo"
           }
          ],
          "scattergl": [
           {
            "marker": {
             "colorbar": {
              "outlinewidth": 0,
              "ticks": ""
             }
            },
            "type": "scattergl"
           }
          ],
          "scattermapbox": [
           {
            "marker": {
             "colorbar": {
              "outlinewidth": 0,
              "ticks": ""
             }
            },
            "type": "scattermapbox"
           }
          ],
          "scatterpolar": [
           {
            "marker": {
             "colorbar": {
              "outlinewidth": 0,
              "ticks": ""
             }
            },
            "type": "scatterpolar"
           }
          ],
          "scatterpolargl": [
           {
            "marker": {
             "colorbar": {
              "outlinewidth": 0,
              "ticks": ""
             }
            },
            "type": "scatterpolargl"
           }
          ],
          "scatterternary": [
           {
            "marker": {
             "colorbar": {
              "outlinewidth": 0,
              "ticks": ""
             }
            },
            "type": "scatterternary"
           }
          ],
          "surface": [
           {
            "colorbar": {
             "outlinewidth": 0,
             "ticks": ""
            },
            "colorscale": [
             [
              0,
              "#0d0887"
             ],
             [
              0.1111111111111111,
              "#46039f"
             ],
             [
              0.2222222222222222,
              "#7201a8"
             ],
             [
              0.3333333333333333,
              "#9c179e"
             ],
             [
              0.4444444444444444,
              "#bd3786"
             ],
             [
              0.5555555555555556,
              "#d8576b"
             ],
             [
              0.6666666666666666,
              "#ed7953"
             ],
             [
              0.7777777777777778,
              "#fb9f3a"
             ],
             [
              0.8888888888888888,
              "#fdca26"
             ],
             [
              1,
              "#f0f921"
             ]
            ],
            "type": "surface"
           }
          ],
          "table": [
           {
            "cells": {
             "fill": {
              "color": "#EBF0F8"
             },
             "line": {
              "color": "white"
             }
            },
            "header": {
             "fill": {
              "color": "#C8D4E3"
             },
             "line": {
              "color": "white"
             }
            },
            "type": "table"
           }
          ]
         },
         "layout": {
          "annotationdefaults": {
           "arrowcolor": "#2a3f5f",
           "arrowhead": 0,
           "arrowwidth": 1
          },
          "coloraxis": {
           "colorbar": {
            "outlinewidth": 0,
            "ticks": ""
           }
          },
          "colorscale": {
           "diverging": [
            [
             0,
             "#8e0152"
            ],
            [
             0.1,
             "#c51b7d"
            ],
            [
             0.2,
             "#de77ae"
            ],
            [
             0.3,
             "#f1b6da"
            ],
            [
             0.4,
             "#fde0ef"
            ],
            [
             0.5,
             "#f7f7f7"
            ],
            [
             0.6,
             "#e6f5d0"
            ],
            [
             0.7,
             "#b8e186"
            ],
            [
             0.8,
             "#7fbc41"
            ],
            [
             0.9,
             "#4d9221"
            ],
            [
             1,
             "#276419"
            ]
           ],
           "sequential": [
            [
             0,
             "#0d0887"
            ],
            [
             0.1111111111111111,
             "#46039f"
            ],
            [
             0.2222222222222222,
             "#7201a8"
            ],
            [
             0.3333333333333333,
             "#9c179e"
            ],
            [
             0.4444444444444444,
             "#bd3786"
            ],
            [
             0.5555555555555556,
             "#d8576b"
            ],
            [
             0.6666666666666666,
             "#ed7953"
            ],
            [
             0.7777777777777778,
             "#fb9f3a"
            ],
            [
             0.8888888888888888,
             "#fdca26"
            ],
            [
             1,
             "#f0f921"
            ]
           ],
           "sequentialminus": [
            [
             0,
             "#0d0887"
            ],
            [
             0.1111111111111111,
             "#46039f"
            ],
            [
             0.2222222222222222,
             "#7201a8"
            ],
            [
             0.3333333333333333,
             "#9c179e"
            ],
            [
             0.4444444444444444,
             "#bd3786"
            ],
            [
             0.5555555555555556,
             "#d8576b"
            ],
            [
             0.6666666666666666,
             "#ed7953"
            ],
            [
             0.7777777777777778,
             "#fb9f3a"
            ],
            [
             0.8888888888888888,
             "#fdca26"
            ],
            [
             1,
             "#f0f921"
            ]
           ]
          },
          "colorway": [
           "#636efa",
           "#EF553B",
           "#00cc96",
           "#ab63fa",
           "#FFA15A",
           "#19d3f3",
           "#FF6692",
           "#B6E880",
           "#FF97FF",
           "#FECB52"
          ],
          "font": {
           "color": "#2a3f5f"
          },
          "geo": {
           "bgcolor": "white",
           "lakecolor": "white",
           "landcolor": "#E5ECF6",
           "showlakes": true,
           "showland": true,
           "subunitcolor": "white"
          },
          "hoverlabel": {
           "align": "left"
          },
          "hovermode": "closest",
          "mapbox": {
           "style": "light"
          },
          "paper_bgcolor": "white",
          "plot_bgcolor": "#E5ECF6",
          "polar": {
           "angularaxis": {
            "gridcolor": "white",
            "linecolor": "white",
            "ticks": ""
           },
           "bgcolor": "#E5ECF6",
           "radialaxis": {
            "gridcolor": "white",
            "linecolor": "white",
            "ticks": ""
           }
          },
          "scene": {
           "xaxis": {
            "backgroundcolor": "#E5ECF6",
            "gridcolor": "white",
            "gridwidth": 2,
            "linecolor": "white",
            "showbackground": true,
            "ticks": "",
            "zerolinecolor": "white"
           },
           "yaxis": {
            "backgroundcolor": "#E5ECF6",
            "gridcolor": "white",
            "gridwidth": 2,
            "linecolor": "white",
            "showbackground": true,
            "ticks": "",
            "zerolinecolor": "white"
           },
           "zaxis": {
            "backgroundcolor": "#E5ECF6",
            "gridcolor": "white",
            "gridwidth": 2,
            "linecolor": "white",
            "showbackground": true,
            "ticks": "",
            "zerolinecolor": "white"
           }
          },
          "shapedefaults": {
           "line": {
            "color": "#2a3f5f"
           }
          },
          "ternary": {
           "aaxis": {
            "gridcolor": "white",
            "linecolor": "white",
            "ticks": ""
           },
           "baxis": {
            "gridcolor": "white",
            "linecolor": "white",
            "ticks": ""
           },
           "bgcolor": "#E5ECF6",
           "caxis": {
            "gridcolor": "white",
            "linecolor": "white",
            "ticks": ""
           }
          },
          "title": {
           "x": 0.05
          },
          "xaxis": {
           "automargin": true,
           "gridcolor": "white",
           "linecolor": "white",
           "ticks": "",
           "title": {
            "standoff": 15
           },
           "zerolinecolor": "white",
           "zerolinewidth": 2
          },
          "yaxis": {
           "automargin": true,
           "gridcolor": "white",
           "linecolor": "white",
           "ticks": "",
           "title": {
            "standoff": 15
           },
           "zerolinecolor": "white",
           "zerolinewidth": 2
          }
         }
        },
        "title": {
         "font": {
          "color": "#4D5663"
         }
        },
        "xaxis": {
         "gridcolor": "#E1E5ED",
         "showgrid": true,
         "tickfont": {
          "color": "#4D5663"
         },
         "title": {
          "font": {
           "color": "#4D5663"
          },
          "text": ""
         },
         "zerolinecolor": "#E1E5ED"
        },
        "yaxis": {
         "gridcolor": "#E1E5ED",
         "showgrid": true,
         "tickfont": {
          "color": "#4D5663"
         },
         "title": {
          "font": {
           "color": "#4D5663"
          },
          "text": ""
         },
         "zerolinecolor": "#E1E5ED"
        }
       }
      },
      "text/html": [
       "<div>\n",
       "        \n",
       "        \n",
       "            <div id=\"fc3535a9-1f6f-4f67-b923-90229e016703\" class=\"plotly-graph-div\" style=\"height:525px; width:100%;\"></div>\n",
       "            <script type=\"text/javascript\">\n",
       "                require([\"plotly\"], function(Plotly) {\n",
       "                    window.PLOTLYENV=window.PLOTLYENV || {};\n",
       "                    window.PLOTLYENV.BASE_URL='https://plot.ly';\n",
       "                    \n",
       "                if (document.getElementById(\"fc3535a9-1f6f-4f67-b923-90229e016703\")) {\n",
       "                    Plotly.newPlot(\n",
       "                        'fc3535a9-1f6f-4f67-b923-90229e016703',\n",
       "                        [{\"histfunc\": \"count\", \"histnorm\": \"\", \"marker\": {\"color\": \"rgba(255, 153, 51, 1.0)\", \"line\": {\"color\": \"#4D5663\", \"width\": 1.3}}, \"name\": \"A\", \"opacity\": 0.8, \"orientation\": \"v\", \"type\": \"histogram\", \"x\": [1.5786187229586952, 0.5388907679893202, 1.078694437802884, 0.32245053629987225, -0.9223734597448511, 0.6846853537469202, -0.45008481106597226, -0.3533505384946988, -2.8731498108221647, -0.7484971720768924, -0.36500273352880264, 0.6067655573450121, -0.9095258614147902, -0.5916802031109333, -0.1286568103901193, 1.7388296281606612, 0.47239980869073794, -0.19232195914901176, 2.229241629104578, 0.9230532412325921, 1.669864645835989, -0.048946795581749296, -1.1772689529385014, -1.507948452528026, 0.24724840660536831, -0.5514672401858561, 0.03940467306020378, 1.101065497240953, -0.6740037548529809, -1.087435723169192, 0.7956290688949827, 1.3708984098787027, -2.5791584583768774, -0.22441070420898013, 0.26205684531518003, -1.4562008931988613, 1.4373764995136746, 1.5882274462361048, -1.14297172147719, 0.8557954035872387, -0.21393484405050417, -0.4561921999510943, -1.2399718899695817, -0.4894135182650713, -0.9339678649182176, 1.1632061007301673, -0.5287445421017896, -0.7851686235869038, 0.9047629487274184, 0.4246297921895481, -0.7308639618574918, 0.25594378026316994, 0.18619445129129822, -0.000521841883759933, -0.0956855252854502, 0.41568934719485845, 2.3363430277107633, 0.986313969490932, -2.2999979856947776, -0.988970346091432, -0.17387465651416092, 1.1434523811225343, 0.7142548633467558, 1.0861935261444606, 0.5326363331496747, 0.24960608255715572, 0.15224848216287823, -1.0379568391468894, 0.40303463838925496, 1.4745778622017471, 0.5528359060224775, -0.4041364159267252, 0.2958334397510018, -0.9587982415737354, 2.411937340919393, -1.5457422218029453, 0.349811580328209, -0.22414230333098373, -0.5952445750360521, -0.17328969929810023, -0.2544671869662989, 0.38014899400462554, -0.8101198010890571, -0.14087644847276767, 0.5011952118769845, -1.4466394766986472, -0.6101461012464322, 0.25454424877028975, -0.6731734711992503, 1.535518147828806, -1.8820650727715733, -0.08447236199084893, 0.30272598868420986, 1.279879939966949, -0.2801796132397617, 1.1306796638342382, 1.2908453116833694, -0.5089587024089931, 0.12139023869349684, 0.29123717194560733]}, {\"histfunc\": \"count\", \"histnorm\": \"\", \"marker\": {\"color\": \"rgba(55, 128, 191, 1.0)\", \"line\": {\"color\": \"#4D5663\", \"width\": 1.3}}, \"name\": \"B\", \"opacity\": 0.8, \"orientation\": \"v\", \"type\": \"histogram\", \"x\": [-0.9091481202776661, 0.06780882273199226, -0.37426163102207805, -0.0893408716584356, 0.3785809932478647, -0.1674663523925086, -1.8900779795166602, -0.3424626483864567, 0.16169535711160646, 0.0478377990035949, -0.05481689229587556, 0.5533515341116935, 1.813873713624411, 0.4496238708250704, -0.7669842546794466, -0.5878357083218064, 0.2371579630564443, -0.53799999065927, -1.928307767514013, 0.778863457823434, -0.4660622969181952, 0.21413796571596228, 0.18163665667639722, -0.11279316160530298, -0.10135968035407887, 1.1556132702741724, -1.4199345211591043, -1.1980119673035385, -0.403043648643454, -0.18535180459067813, -0.590798397804791, -0.3527904046359064, 0.0521331226621967, 1.532901799474751, 0.5802094194992679, -0.010870242447072558, 0.4642532142674884, -0.9660326232658625, 1.9556195439245811, -0.05408068932375628, 0.18235044092284422, -0.1051075040381056, 0.16635592876305297, -1.6885493863487944, 0.6763009103052485, -2.10897816221814, 0.4405099968628592, 0.6263658596754582, 1.9604723414870466, 1.06194614575976, 0.6400773508424474, -0.5500867822309106, 0.8307100882811101, 0.0344633537188449, -1.330900477021943, 2.4910631328577386, -1.7059464862818212, 0.5955627767535996, 0.07872829056054018, -0.7658543204305447, -1.0595414654093238, -0.4404871361336019, -0.4303288990356177, 1.4977893567786902, -1.8584560116454625, 0.28782599809848924, -0.5654122593952702, 1.051391369391621, -0.9569865241042446, 0.6768422848156005, -0.4150103635543724, 1.9936289538054037, 0.6034494063737481, -0.5042530167988375, -1.7769618298699321, 0.2973685224675162, 0.6357589463328186, -0.9239470626522018, 0.389154509412879, -0.8314898251629631, 1.1306355458935795, -0.13371758037286724, -0.9233531684251245, -1.482427845223228, -0.06425504201663151, 1.8131487525802705, -1.3458155732931503, 0.7107488739846166, 0.5952788770646874, -0.18688980536139707, 0.364839931718773, 0.3702635516581097, -1.4292990764432627, -0.5328116959402388, 0.11373726774497099, 1.1744561982317403, 0.9043388870333897, -0.5964606635103178, 0.8775321308476934, 0.4960320670502967]}, {\"histfunc\": \"count\", \"histnorm\": \"\", \"marker\": {\"color\": \"rgba(50, 171, 96, 1.0)\", \"line\": {\"color\": \"#4D5663\", \"width\": 1.3}}, \"name\": \"C\", \"opacity\": 0.8, \"orientation\": \"v\", \"type\": \"histogram\", \"x\": [-1.197603887322099, -0.14967919671293892, 0.5444082636142232, -0.07152960472442545, -0.11760235423160066, -0.7152903793804544, 0.4005045046255291, 1.3518039524512873, -1.1243483736276993, -0.5009909117196343, -0.6356525293413666, 0.2956388077628931, -0.7524320015200916, -1.0529801411888347, 0.7071044525469407, -0.9284437462526892, -1.164603065805729, -0.6421343978188939, -0.8947566955109193, 0.452194461157883, -1.670887483463763, 1.0002966776604, 1.8493638173924913, -1.652593256858235, 0.5956196697561125, 1.7477319863139726, -0.5083851338373848, 0.07323737775396946, -0.5543647956471862, -0.7280928908030394, 0.929444705638144, -1.1237235236519836, 1.364897098191059, 0.5478777880307599, -0.07518856217547684, -0.3973916275118296, -0.2522469404046494, -0.8371763884555629, -0.007728306192208445, 1.037248310474221, 2.0671129544998172, 1.706815112917324, -0.08261281371724254, 0.20644873959937096, 0.6924770531326767, -1.5827261161381425, -0.7763239958108433, -0.3503803723749217, -1.9302490373390493, 1.1641087222396087, 0.5011120254621527, -0.5765128729674301, -0.572909190354357, 0.7960288033317842, -0.4016600353267202, 0.14155162583316797, 0.538711537931317, 0.09717978563857158, -0.15855920678036223, 0.3817610314473487, -0.06345160415242983, -0.8949898403245102, -0.5922689806323262, 0.059167966149032476, -0.9025951845322313, 0.5561210474233387, 0.18971421226487797, 1.527466279236679, 1.1553110119046823, -0.05142100171334006, -0.11104848011462413, 0.45975838916078526, -1.0837658721120444, 0.2603074791735487, 0.2271357768750185, -0.6143912633154864, -0.19682027933217464, -0.0755922482911257, 2.3624936077255865, 1.061218366771381, -0.09187194218598727, 1.5566403723088795, -0.5662785101994151, 0.0871672917737875, -1.3130377206401151, -0.01629282610072284, -1.7130840368279885, -1.295689318319282, 2.5175579928428995, 1.377240242721176, -1.034680562490194, 0.6531272679255921, -0.6879084568105988, -0.46116366918317875, -1.457596574037775, 0.08248908322072915, -1.5267858011457618, 0.7764265294878716, -1.0063240827148245, -1.5337039944830495]}, {\"histfunc\": \"count\", \"histnorm\": \"\", \"marker\": {\"color\": \"rgba(128, 0, 128, 1.0)\", \"line\": {\"color\": \"#4D5663\", \"width\": 1.3}}, \"name\": \"D\", \"opacity\": 0.8, \"orientation\": \"v\", \"type\": \"histogram\", \"x\": [-1.236960009175287, 1.5957056827372886, -1.0816516780323115, 2.200052015079462, 0.5143247019771605, -1.298901901880776, 0.17313645065214056, 0.9674163566203784, -0.22153004406279606, -0.27206989956303956, 0.3143012040259115, -0.569531152898254, 0.08126478029389282, 0.8559542227430773, -1.0175763939410853, -0.10680840976940756, 0.04184890394958401, -0.18633903942760885, -0.442701902721548, 0.25069835235750826, -0.15772123842472408, 0.6055264194695906, -0.5231474640327842, -1.1483991602933603, -1.4315196534480366, -0.29110580637466676, -0.6148183294126481, 1.0357269388691175, 1.4325122264680905, 0.047996524705700795, 0.5257544940853995, 0.5007092040776967, -1.0133788494833593, -0.17140111283027717, -1.6650623212197295, -0.38565297522022907, -1.0631154036221937, 0.8936736895735256, 0.6975017214985157, -0.6144869389303735, -2.1181687484974923, -0.6536309034282014, -0.48014587964671623, -1.945695231225604, -0.04551853151221338, -2.3961519073548403, 1.5957981977390046, -0.3235433792385381, -1.0793595624540027, 0.5839007832341924, 1.0199613700952719, -0.3074901790252907, 0.41799459014333507, -0.552158231869279, 1.310697439208428, -2.6075287898130743, -1.8854654673649944, 0.5002128868990016, -0.657663363118006, 1.3178004735068567, 0.3457488508580863, -0.04376132072741204, -2.8980843373751073, 1.5859570858211414, 0.07085088888886118, -0.061026509238509115, 1.3615710585152017, -0.6397894357080812, -0.43859315104324653, 0.8751237172338803, -0.31378903090234406, 0.1980565609095691, -0.9598547525201483, 0.03672553453537836, 1.7192074964219954, 1.0986428237582062, 0.0025096167788204336, -1.181223803979235, -0.20377850730036687, -0.29447410738980206, -0.2878050343115418, -0.5626726711840615, 2.1779338559988553, -1.0356971241275936, 0.2652045833527526, -1.8230465662038575, -0.012118397896673763, -0.48752840176514556, 0.3373036379938806, 3.2348155942028587, -0.3686666049825805, -0.23124159952112106, 1.722082627228278, 0.8029339991881422, -0.422344772622117, -0.6850380502239866, 0.8691707591440322, 0.14220099266924224, -0.4567669970269884, 2.9844915497962994]}],\n",
       "                        {\"barmode\": \"overlay\", \"legend\": {\"bgcolor\": \"#F5F6F9\", \"font\": {\"color\": \"#4D5663\"}}, \"paper_bgcolor\": \"#F5F6F9\", \"plot_bgcolor\": \"#F5F6F9\", \"template\": {\"data\": {\"bar\": [{\"error_x\": {\"color\": \"#2a3f5f\"}, \"error_y\": {\"color\": \"#2a3f5f\"}, \"marker\": {\"line\": {\"color\": \"#E5ECF6\", \"width\": 0.5}}, \"type\": \"bar\"}], \"barpolar\": [{\"marker\": {\"line\": {\"color\": \"#E5ECF6\", \"width\": 0.5}}, \"type\": \"barpolar\"}], \"carpet\": [{\"aaxis\": {\"endlinecolor\": \"#2a3f5f\", \"gridcolor\": \"white\", \"linecolor\": \"white\", \"minorgridcolor\": \"white\", \"startlinecolor\": \"#2a3f5f\"}, \"baxis\": {\"endlinecolor\": \"#2a3f5f\", \"gridcolor\": \"white\", \"linecolor\": \"white\", \"minorgridcolor\": \"white\", \"startlinecolor\": \"#2a3f5f\"}, \"type\": \"carpet\"}], \"choropleth\": [{\"colorbar\": {\"outlinewidth\": 0, \"ticks\": \"\"}, \"type\": \"choropleth\"}], \"contour\": [{\"colorbar\": {\"outlinewidth\": 0, \"ticks\": \"\"}, \"colorscale\": [[0.0, \"#0d0887\"], [0.1111111111111111, \"#46039f\"], [0.2222222222222222, \"#7201a8\"], [0.3333333333333333, \"#9c179e\"], [0.4444444444444444, \"#bd3786\"], [0.5555555555555556, \"#d8576b\"], [0.6666666666666666, \"#ed7953\"], [0.7777777777777778, \"#fb9f3a\"], [0.8888888888888888, \"#fdca26\"], [1.0, \"#f0f921\"]], \"type\": \"contour\"}], \"contourcarpet\": [{\"colorbar\": {\"outlinewidth\": 0, \"ticks\": \"\"}, \"type\": \"contourcarpet\"}], \"heatmap\": [{\"colorbar\": {\"outlinewidth\": 0, \"ticks\": \"\"}, \"colorscale\": [[0.0, \"#0d0887\"], [0.1111111111111111, \"#46039f\"], [0.2222222222222222, \"#7201a8\"], [0.3333333333333333, \"#9c179e\"], [0.4444444444444444, \"#bd3786\"], [0.5555555555555556, \"#d8576b\"], [0.6666666666666666, \"#ed7953\"], [0.7777777777777778, \"#fb9f3a\"], [0.8888888888888888, \"#fdca26\"], [1.0, \"#f0f921\"]], \"type\": \"heatmap\"}], \"heatmapgl\": [{\"colorbar\": {\"outlinewidth\": 0, \"ticks\": \"\"}, \"colorscale\": [[0.0, \"#0d0887\"], [0.1111111111111111, \"#46039f\"], [0.2222222222222222, \"#7201a8\"], [0.3333333333333333, \"#9c179e\"], [0.4444444444444444, \"#bd3786\"], [0.5555555555555556, \"#d8576b\"], [0.6666666666666666, \"#ed7953\"], [0.7777777777777778, \"#fb9f3a\"], [0.8888888888888888, \"#fdca26\"], [1.0, \"#f0f921\"]], \"type\": \"heatmapgl\"}], \"histogram\": [{\"marker\": {\"colorbar\": {\"outlinewidth\": 0, \"ticks\": \"\"}}, \"type\": \"histogram\"}], \"histogram2d\": [{\"colorbar\": {\"outlinewidth\": 0, \"ticks\": \"\"}, \"colorscale\": [[0.0, \"#0d0887\"], [0.1111111111111111, \"#46039f\"], [0.2222222222222222, \"#7201a8\"], [0.3333333333333333, \"#9c179e\"], [0.4444444444444444, \"#bd3786\"], [0.5555555555555556, \"#d8576b\"], [0.6666666666666666, \"#ed7953\"], [0.7777777777777778, \"#fb9f3a\"], [0.8888888888888888, \"#fdca26\"], [1.0, \"#f0f921\"]], \"type\": \"histogram2d\"}], \"histogram2dcontour\": [{\"colorbar\": {\"outlinewidth\": 0, \"ticks\": \"\"}, \"colorscale\": [[0.0, \"#0d0887\"], [0.1111111111111111, \"#46039f\"], [0.2222222222222222, \"#7201a8\"], [0.3333333333333333, \"#9c179e\"], [0.4444444444444444, \"#bd3786\"], [0.5555555555555556, \"#d8576b\"], [0.6666666666666666, \"#ed7953\"], [0.7777777777777778, \"#fb9f3a\"], [0.8888888888888888, \"#fdca26\"], [1.0, \"#f0f921\"]], \"type\": \"histogram2dcontour\"}], \"mesh3d\": [{\"colorbar\": {\"outlinewidth\": 0, \"ticks\": \"\"}, \"type\": \"mesh3d\"}], \"parcoords\": [{\"line\": {\"colorbar\": {\"outlinewidth\": 0, \"ticks\": \"\"}}, \"type\": \"parcoords\"}], \"pie\": [{\"automargin\": true, \"type\": \"pie\"}], \"scatter\": [{\"marker\": {\"colorbar\": {\"outlinewidth\": 0, \"ticks\": \"\"}}, \"type\": \"scatter\"}], \"scatter3d\": [{\"line\": {\"colorbar\": {\"outlinewidth\": 0, \"ticks\": \"\"}}, \"marker\": {\"colorbar\": {\"outlinewidth\": 0, \"ticks\": \"\"}}, \"type\": \"scatter3d\"}], \"scattercarpet\": [{\"marker\": {\"colorbar\": {\"outlinewidth\": 0, \"ticks\": \"\"}}, \"type\": \"scattercarpet\"}], \"scattergeo\": [{\"marker\": {\"colorbar\": {\"outlinewidth\": 0, \"ticks\": \"\"}}, \"type\": \"scattergeo\"}], \"scattergl\": [{\"marker\": {\"colorbar\": {\"outlinewidth\": 0, \"ticks\": \"\"}}, \"type\": \"scattergl\"}], \"scattermapbox\": [{\"marker\": {\"colorbar\": {\"outlinewidth\": 0, \"ticks\": \"\"}}, \"type\": \"scattermapbox\"}], \"scatterpolar\": [{\"marker\": {\"colorbar\": {\"outlinewidth\": 0, \"ticks\": \"\"}}, \"type\": \"scatterpolar\"}], \"scatterpolargl\": [{\"marker\": {\"colorbar\": {\"outlinewidth\": 0, \"ticks\": \"\"}}, \"type\": \"scatterpolargl\"}], \"scatterternary\": [{\"marker\": {\"colorbar\": {\"outlinewidth\": 0, \"ticks\": \"\"}}, \"type\": \"scatterternary\"}], \"surface\": [{\"colorbar\": {\"outlinewidth\": 0, \"ticks\": \"\"}, \"colorscale\": [[0.0, \"#0d0887\"], [0.1111111111111111, \"#46039f\"], [0.2222222222222222, \"#7201a8\"], [0.3333333333333333, \"#9c179e\"], [0.4444444444444444, \"#bd3786\"], [0.5555555555555556, \"#d8576b\"], [0.6666666666666666, \"#ed7953\"], [0.7777777777777778, \"#fb9f3a\"], [0.8888888888888888, \"#fdca26\"], [1.0, \"#f0f921\"]], \"type\": \"surface\"}], \"table\": [{\"cells\": {\"fill\": {\"color\": \"#EBF0F8\"}, \"line\": {\"color\": \"white\"}}, \"header\": {\"fill\": {\"color\": \"#C8D4E3\"}, \"line\": {\"color\": \"white\"}}, \"type\": \"table\"}]}, \"layout\": {\"annotationdefaults\": {\"arrowcolor\": \"#2a3f5f\", \"arrowhead\": 0, \"arrowwidth\": 1}, \"coloraxis\": {\"colorbar\": {\"outlinewidth\": 0, \"ticks\": \"\"}}, \"colorscale\": {\"diverging\": [[0, \"#8e0152\"], [0.1, \"#c51b7d\"], [0.2, \"#de77ae\"], [0.3, \"#f1b6da\"], [0.4, \"#fde0ef\"], [0.5, \"#f7f7f7\"], [0.6, \"#e6f5d0\"], [0.7, \"#b8e186\"], [0.8, \"#7fbc41\"], [0.9, \"#4d9221\"], [1, \"#276419\"]], \"sequential\": [[0.0, \"#0d0887\"], [0.1111111111111111, \"#46039f\"], [0.2222222222222222, \"#7201a8\"], [0.3333333333333333, \"#9c179e\"], [0.4444444444444444, \"#bd3786\"], [0.5555555555555556, \"#d8576b\"], [0.6666666666666666, \"#ed7953\"], [0.7777777777777778, \"#fb9f3a\"], [0.8888888888888888, \"#fdca26\"], [1.0, \"#f0f921\"]], \"sequentialminus\": [[0.0, \"#0d0887\"], [0.1111111111111111, \"#46039f\"], [0.2222222222222222, \"#7201a8\"], [0.3333333333333333, \"#9c179e\"], [0.4444444444444444, \"#bd3786\"], [0.5555555555555556, \"#d8576b\"], [0.6666666666666666, \"#ed7953\"], [0.7777777777777778, \"#fb9f3a\"], [0.8888888888888888, \"#fdca26\"], [1.0, \"#f0f921\"]]}, \"colorway\": [\"#636efa\", \"#EF553B\", \"#00cc96\", \"#ab63fa\", \"#FFA15A\", \"#19d3f3\", \"#FF6692\", \"#B6E880\", \"#FF97FF\", \"#FECB52\"], \"font\": {\"color\": \"#2a3f5f\"}, \"geo\": {\"bgcolor\": \"white\", \"lakecolor\": \"white\", \"landcolor\": \"#E5ECF6\", \"showlakes\": true, \"showland\": true, \"subunitcolor\": \"white\"}, \"hoverlabel\": {\"align\": \"left\"}, \"hovermode\": \"closest\", \"mapbox\": {\"style\": \"light\"}, \"paper_bgcolor\": \"white\", \"plot_bgcolor\": \"#E5ECF6\", \"polar\": {\"angularaxis\": {\"gridcolor\": \"white\", \"linecolor\": \"white\", \"ticks\": \"\"}, \"bgcolor\": \"#E5ECF6\", \"radialaxis\": {\"gridcolor\": \"white\", \"linecolor\": \"white\", \"ticks\": \"\"}}, \"scene\": {\"xaxis\": {\"backgroundcolor\": \"#E5ECF6\", \"gridcolor\": \"white\", \"gridwidth\": 2, \"linecolor\": \"white\", \"showbackground\": true, \"ticks\": \"\", \"zerolinecolor\": \"white\"}, \"yaxis\": {\"backgroundcolor\": \"#E5ECF6\", \"gridcolor\": \"white\", \"gridwidth\": 2, \"linecolor\": \"white\", \"showbackground\": true, \"ticks\": \"\", \"zerolinecolor\": \"white\"}, \"zaxis\": {\"backgroundcolor\": \"#E5ECF6\", \"gridcolor\": \"white\", \"gridwidth\": 2, \"linecolor\": \"white\", \"showbackground\": true, \"ticks\": \"\", \"zerolinecolor\": \"white\"}}, \"shapedefaults\": {\"line\": {\"color\": \"#2a3f5f\"}}, \"ternary\": {\"aaxis\": {\"gridcolor\": \"white\", \"linecolor\": \"white\", \"ticks\": \"\"}, \"baxis\": {\"gridcolor\": \"white\", \"linecolor\": \"white\", \"ticks\": \"\"}, \"bgcolor\": \"#E5ECF6\", \"caxis\": {\"gridcolor\": \"white\", \"linecolor\": \"white\", \"ticks\": \"\"}}, \"title\": {\"x\": 0.05}, \"xaxis\": {\"automargin\": true, \"gridcolor\": \"white\", \"linecolor\": \"white\", \"ticks\": \"\", \"title\": {\"standoff\": 15}, \"zerolinecolor\": \"white\", \"zerolinewidth\": 2}, \"yaxis\": {\"automargin\": true, \"gridcolor\": \"white\", \"linecolor\": \"white\", \"ticks\": \"\", \"title\": {\"standoff\": 15}, \"zerolinecolor\": \"white\", \"zerolinewidth\": 2}}}, \"title\": {\"font\": {\"color\": \"#4D5663\"}}, \"xaxis\": {\"gridcolor\": \"#E1E5ED\", \"showgrid\": true, \"tickfont\": {\"color\": \"#4D5663\"}, \"title\": {\"font\": {\"color\": \"#4D5663\"}, \"text\": \"\"}, \"zerolinecolor\": \"#E1E5ED\"}, \"yaxis\": {\"gridcolor\": \"#E1E5ED\", \"showgrid\": true, \"tickfont\": {\"color\": \"#4D5663\"}, \"title\": {\"font\": {\"color\": \"#4D5663\"}, \"text\": \"\"}, \"zerolinecolor\": \"#E1E5ED\"}},\n",
       "                        {\"showLink\": true, \"linkText\": \"Export to plot.ly\", \"plotlyServerURL\": \"https://plot.ly\", \"responsive\": true}\n",
       "                    ).then(function(){\n",
       "                            \n",
       "var gd = document.getElementById('fc3535a9-1f6f-4f67-b923-90229e016703');\n",
       "var x = new MutationObserver(function (mutations, observer) {{\n",
       "        var display = window.getComputedStyle(gd).display;\n",
       "        if (!display || display === 'none') {{\n",
       "            console.log([gd, 'removed!']);\n",
       "            Plotly.purge(gd);\n",
       "            observer.disconnect();\n",
       "        }}\n",
       "}});\n",
       "\n",
       "// Listen for the removal of the full notebook cells\n",
       "var notebookContainer = gd.closest('#notebook-container');\n",
       "if (notebookContainer) {{\n",
       "    x.observe(notebookContainer, {childList: true});\n",
       "}}\n",
       "\n",
       "// Listen for the clearing of the current output cell\n",
       "var outputEl = gd.closest('.output');\n",
       "if (outputEl) {{\n",
       "    x.observe(outputEl, {childList: true});\n",
       "}}\n",
       "\n",
       "                        })\n",
       "                };\n",
       "                });\n",
       "            </script>\n",
       "        </div>"
      ]
     },
     "metadata": {},
     "output_type": "display_data"
    }
   ],
   "source": [
    "df.iplot(kind='hist')"
   ]
  },
  {
   "cell_type": "code",
   "execution_count": 38,
   "metadata": {},
   "outputs": [
    {
     "data": {
      "application/vnd.plotly.v1+json": {
       "config": {
        "linkText": "Export to plot.ly",
        "plotlyServerURL": "https://plot.ly",
        "showLink": true
       },
       "data": [
        {
         "line": {
          "color": "rgba(255, 153, 51, 1.0)",
          "dash": "solid",
          "shape": "linear",
          "width": 1.3
         },
         "mode": "lines",
         "name": "A",
         "text": "",
         "type": "scatter",
         "x": [
          0,
          1,
          2,
          3,
          4,
          5,
          6,
          7,
          8,
          9,
          10,
          11,
          12,
          13,
          14,
          15,
          16,
          17,
          18,
          19,
          20,
          21,
          22,
          23,
          24,
          25,
          26,
          27,
          28,
          29,
          30,
          31,
          32,
          33,
          34,
          35,
          36,
          37,
          38,
          39,
          40,
          41,
          42,
          43,
          44,
          45,
          46,
          47,
          48,
          49,
          50,
          51,
          52,
          53,
          54,
          55,
          56,
          57,
          58,
          59,
          60,
          61,
          62,
          63,
          64,
          65,
          66,
          67,
          68,
          69,
          70,
          71,
          72,
          73,
          74,
          75,
          76,
          77,
          78,
          79,
          80,
          81,
          82,
          83,
          84,
          85,
          86,
          87,
          88,
          89,
          90,
          91,
          92,
          93,
          94,
          95,
          96,
          97,
          98,
          99
         ],
         "y": [
          1.5786187229586952,
          0.5388907679893202,
          1.078694437802884,
          0.32245053629987225,
          -0.9223734597448511,
          0.6846853537469202,
          -0.45008481106597226,
          -0.3533505384946988,
          -2.8731498108221647,
          -0.7484971720768924,
          -0.36500273352880264,
          0.6067655573450121,
          -0.9095258614147902,
          -0.5916802031109333,
          -0.1286568103901193,
          1.7388296281606612,
          0.47239980869073794,
          -0.19232195914901176,
          2.229241629104578,
          0.9230532412325921,
          1.669864645835989,
          -0.048946795581749296,
          -1.1772689529385014,
          -1.507948452528026,
          0.24724840660536831,
          -0.5514672401858561,
          0.03940467306020378,
          1.101065497240953,
          -0.6740037548529809,
          -1.087435723169192,
          0.7956290688949827,
          1.3708984098787027,
          -2.5791584583768774,
          -0.22441070420898013,
          0.26205684531518003,
          -1.4562008931988613,
          1.4373764995136746,
          1.5882274462361048,
          -1.14297172147719,
          0.8557954035872387,
          -0.21393484405050417,
          -0.4561921999510943,
          -1.2399718899695817,
          -0.4894135182650713,
          -0.9339678649182176,
          1.1632061007301673,
          -0.5287445421017896,
          -0.7851686235869038,
          0.9047629487274184,
          0.4246297921895481,
          -0.7308639618574918,
          0.25594378026316994,
          0.18619445129129822,
          -0.000521841883759933,
          -0.0956855252854502,
          0.41568934719485845,
          2.3363430277107633,
          0.986313969490932,
          -2.2999979856947776,
          -0.988970346091432,
          -0.17387465651416092,
          1.1434523811225343,
          0.7142548633467558,
          1.0861935261444606,
          0.5326363331496747,
          0.24960608255715572,
          0.15224848216287823,
          -1.0379568391468894,
          0.40303463838925496,
          1.4745778622017471,
          0.5528359060224775,
          -0.4041364159267252,
          0.2958334397510018,
          -0.9587982415737354,
          2.411937340919393,
          -1.5457422218029453,
          0.349811580328209,
          -0.22414230333098373,
          -0.5952445750360521,
          -0.17328969929810023,
          -0.2544671869662989,
          0.38014899400462554,
          -0.8101198010890571,
          -0.14087644847276767,
          0.5011952118769845,
          -1.4466394766986472,
          -0.6101461012464322,
          0.25454424877028975,
          -0.6731734711992503,
          1.535518147828806,
          -1.8820650727715733,
          -0.08447236199084893,
          0.30272598868420986,
          1.279879939966949,
          -0.2801796132397617,
          1.1306796638342382,
          1.2908453116833694,
          -0.5089587024089931,
          0.12139023869349684,
          0.29123717194560733
         ]
        },
        {
         "line": {
          "color": "rgba(55, 128, 191, 1.0)",
          "dash": "solid",
          "shape": "linear",
          "width": 1.3
         },
         "mode": "lines",
         "name": "B",
         "text": "",
         "type": "scatter",
         "x": [
          0,
          1,
          2,
          3,
          4,
          5,
          6,
          7,
          8,
          9,
          10,
          11,
          12,
          13,
          14,
          15,
          16,
          17,
          18,
          19,
          20,
          21,
          22,
          23,
          24,
          25,
          26,
          27,
          28,
          29,
          30,
          31,
          32,
          33,
          34,
          35,
          36,
          37,
          38,
          39,
          40,
          41,
          42,
          43,
          44,
          45,
          46,
          47,
          48,
          49,
          50,
          51,
          52,
          53,
          54,
          55,
          56,
          57,
          58,
          59,
          60,
          61,
          62,
          63,
          64,
          65,
          66,
          67,
          68,
          69,
          70,
          71,
          72,
          73,
          74,
          75,
          76,
          77,
          78,
          79,
          80,
          81,
          82,
          83,
          84,
          85,
          86,
          87,
          88,
          89,
          90,
          91,
          92,
          93,
          94,
          95,
          96,
          97,
          98,
          99
         ],
         "y": [
          -0.9091481202776661,
          0.06780882273199226,
          -0.37426163102207805,
          -0.0893408716584356,
          0.3785809932478647,
          -0.1674663523925086,
          -1.8900779795166602,
          -0.3424626483864567,
          0.16169535711160646,
          0.0478377990035949,
          -0.05481689229587556,
          0.5533515341116935,
          1.813873713624411,
          0.4496238708250704,
          -0.7669842546794466,
          -0.5878357083218064,
          0.2371579630564443,
          -0.53799999065927,
          -1.928307767514013,
          0.778863457823434,
          -0.4660622969181952,
          0.21413796571596228,
          0.18163665667639722,
          -0.11279316160530298,
          -0.10135968035407887,
          1.1556132702741724,
          -1.4199345211591043,
          -1.1980119673035385,
          -0.403043648643454,
          -0.18535180459067813,
          -0.590798397804791,
          -0.3527904046359064,
          0.0521331226621967,
          1.532901799474751,
          0.5802094194992679,
          -0.010870242447072558,
          0.4642532142674884,
          -0.9660326232658625,
          1.9556195439245811,
          -0.05408068932375628,
          0.18235044092284422,
          -0.1051075040381056,
          0.16635592876305297,
          -1.6885493863487944,
          0.6763009103052485,
          -2.10897816221814,
          0.4405099968628592,
          0.6263658596754582,
          1.9604723414870466,
          1.06194614575976,
          0.6400773508424474,
          -0.5500867822309106,
          0.8307100882811101,
          0.0344633537188449,
          -1.330900477021943,
          2.4910631328577386,
          -1.7059464862818212,
          0.5955627767535996,
          0.07872829056054018,
          -0.7658543204305447,
          -1.0595414654093238,
          -0.4404871361336019,
          -0.4303288990356177,
          1.4977893567786902,
          -1.8584560116454625,
          0.28782599809848924,
          -0.5654122593952702,
          1.051391369391621,
          -0.9569865241042446,
          0.6768422848156005,
          -0.4150103635543724,
          1.9936289538054037,
          0.6034494063737481,
          -0.5042530167988375,
          -1.7769618298699321,
          0.2973685224675162,
          0.6357589463328186,
          -0.9239470626522018,
          0.389154509412879,
          -0.8314898251629631,
          1.1306355458935795,
          -0.13371758037286724,
          -0.9233531684251245,
          -1.482427845223228,
          -0.06425504201663151,
          1.8131487525802705,
          -1.3458155732931503,
          0.7107488739846166,
          0.5952788770646874,
          -0.18688980536139707,
          0.364839931718773,
          0.3702635516581097,
          -1.4292990764432627,
          -0.5328116959402388,
          0.11373726774497099,
          1.1744561982317403,
          0.9043388870333897,
          -0.5964606635103178,
          0.8775321308476934,
          0.4960320670502967
         ]
        },
        {
         "connectgaps": false,
         "fill": "tozeroy",
         "line": {
          "color": "green",
          "dash": "solid",
          "shape": "linear",
          "width": 0.5
         },
         "mode": "lines",
         "name": "Spread",
         "showlegend": false,
         "type": "scatter",
         "x": [
          0,
          1,
          2,
          3,
          4,
          5,
          6,
          7,
          8,
          9,
          10,
          11,
          12,
          13,
          14,
          15,
          16,
          17,
          18,
          19,
          20,
          21,
          22,
          23,
          24,
          25,
          26,
          27,
          28,
          29,
          30,
          31,
          32,
          33,
          34,
          35,
          36,
          37,
          38,
          39,
          40,
          41,
          42,
          43,
          44,
          45,
          46,
          47,
          48,
          49,
          50,
          51,
          52,
          53,
          54,
          55,
          56,
          57,
          58,
          59,
          60,
          61,
          62,
          63,
          64,
          65,
          66,
          67,
          68,
          69,
          70,
          71,
          72,
          73,
          74,
          75,
          76,
          77,
          78,
          79,
          80,
          81,
          82,
          83,
          84,
          85,
          86,
          87,
          88,
          89,
          90,
          91,
          92,
          93,
          94,
          95,
          96,
          97,
          98,
          99
         ],
         "xaxis": "x2",
         "y": [
          2.4877668432363613,
          0.47108194525732794,
          1.452956068824962,
          0.4117914079583078,
          "",
          0.8521517061394288,
          1.439993168450688,
          "",
          "",
          "",
          "",
          0.053414023233318675,
          "",
          "",
          0.6383274442893273,
          2.326665336482468,
          0.23524184563429365,
          0.3456780315102582,
          4.157549396618591,
          0.1441897834091581,
          2.135926942754184,
          "",
          "",
          "",
          0.34860808695944717,
          "",
          1.4593391942193081,
          2.2990774645444914,
          "",
          "",
          1.3864274666997738,
          1.7236888145146092,
          "",
          "",
          "",
          "",
          0.9731232852461862,
          2.554260069501967,
          "",
          0.909876092910995,
          "",
          "",
          "",
          1.1991358680837232,
          "",
          3.272184262948307,
          "",
          "",
          "",
          "",
          "",
          0.8060305624940804,
          "",
          "",
          1.2352149517364928,
          "",
          4.042289513992585,
          0.3907511927373324,
          "",
          "",
          0.8856668088951629,
          1.5839395172561361,
          1.1445837623823736,
          "",
          2.3910923447951373,
          "",
          0.7176607415581484,
          "",
          1.3600211624934995,
          0.7977355773861466,
          0.9678462695768498,
          "",
          "",
          "",
          4.188899170789325,
          "",
          "",
          0.6998047593212181,
          "",
          0.6582001258648629,
          "",
          0.5138665743774928,
          0.11323336733606737,
          1.3415513967504604,
          0.5654502538936159,
          "",
          0.7356694720467181,
          "",
          "",
          1.722407953190203,
          "",
          "",
          1.7320250651274725,
          1.8126916359071878,
          "",
          "",
          0.38650642464997964,
          0.08750196110132469,
          "",
          ""
         ],
         "yaxis": "y2"
        },
        {
         "connectgaps": false,
         "fill": "tozeroy",
         "line": {
          "color": "red",
          "dash": "solid",
          "shape": "linear",
          "width": 0.5
         },
         "mode": "lines",
         "name": "Spread",
         "showlegend": false,
         "type": "scatter",
         "x": [
          0,
          1,
          2,
          3,
          4,
          5,
          6,
          7,
          8,
          9,
          10,
          11,
          12,
          13,
          14,
          15,
          16,
          17,
          18,
          19,
          20,
          21,
          22,
          23,
          24,
          25,
          26,
          27,
          28,
          29,
          30,
          31,
          32,
          33,
          34,
          35,
          36,
          37,
          38,
          39,
          40,
          41,
          42,
          43,
          44,
          45,
          46,
          47,
          48,
          49,
          50,
          51,
          52,
          53,
          54,
          55,
          56,
          57,
          58,
          59,
          60,
          61,
          62,
          63,
          64,
          65,
          66,
          67,
          68,
          69,
          70,
          71,
          72,
          73,
          74,
          75,
          76,
          77,
          78,
          79,
          80,
          81,
          82,
          83,
          84,
          85,
          86,
          87,
          88,
          89,
          90,
          91,
          92,
          93,
          94,
          95,
          96,
          97,
          98,
          99
         ],
         "xaxis": "x2",
         "y": [
          "",
          "",
          "",
          "",
          -1.3009544529927157,
          "",
          "",
          -0.010887890108242093,
          -3.034845167933771,
          -0.7963349710804872,
          -0.3101858412329271,
          "",
          -2.7233995750392013,
          -1.0413040739360038,
          "",
          "",
          "",
          "",
          "",
          "",
          "",
          -0.2630847612977116,
          -1.3589056096148986,
          -1.395155290922723,
          "",
          -1.7070805104600284,
          "",
          "",
          -0.27096010620952693,
          -0.9020839185785139,
          "",
          "",
          -2.6312915810390742,
          -1.757312503683731,
          -0.3181525741840878,
          -1.4453306507517887,
          "",
          "",
          -3.098591265401771,
          "",
          -0.39628528497334836,
          -0.3510846959129887,
          -1.4063278187326347,
          "",
          -1.6102687752234661,
          "",
          -0.9692545389646487,
          -1.411534483262362,
          -1.0557093927596282,
          -0.637316353570212,
          -1.3709413126999392,
          "",
          -0.644515636989812,
          -0.03498519560260484,
          "",
          -2.07537378566288,
          "",
          "",
          -2.3787262762553176,
          -0.22311602566088728,
          "",
          "",
          "",
          -0.41159583063422955,
          "",
          -0.03821991554133353,
          "",
          -2.08934820853851,
          "",
          "",
          "",
          -2.397765369732129,
          -0.3076159666227463,
          -0.4545452247748979,
          "",
          -1.8431107442704615,
          -0.28594736600460957,
          "",
          -0.9843990844489311,
          "",
          -1.3851027328598784,
          "",
          "",
          "",
          "",
          -3.259788229278918,
          "",
          -0.45620462521432686,
          -1.2684523482639376,
          "",
          -2.2469050044903462,
          -0.4547359136489586,
          "",
          "",
          -0.3939168809847327,
          -0.043776534397502065,
          "",
          "",
          -0.7561418921541966,
          -0.20479489510468935
         ],
         "yaxis": "y2"
        }
       ],
       "layout": {
        "hovermode": "x",
        "legend": {
         "bgcolor": "#F5F6F9",
         "font": {
          "color": "#4D5663"
         }
        },
        "paper_bgcolor": "#F5F6F9",
        "plot_bgcolor": "#F5F6F9",
        "template": {
         "data": {
          "bar": [
           {
            "error_x": {
             "color": "#2a3f5f"
            },
            "error_y": {
             "color": "#2a3f5f"
            },
            "marker": {
             "line": {
              "color": "#E5ECF6",
              "width": 0.5
             }
            },
            "type": "bar"
           }
          ],
          "barpolar": [
           {
            "marker": {
             "line": {
              "color": "#E5ECF6",
              "width": 0.5
             }
            },
            "type": "barpolar"
           }
          ],
          "carpet": [
           {
            "aaxis": {
             "endlinecolor": "#2a3f5f",
             "gridcolor": "white",
             "linecolor": "white",
             "minorgridcolor": "white",
             "startlinecolor": "#2a3f5f"
            },
            "baxis": {
             "endlinecolor": "#2a3f5f",
             "gridcolor": "white",
             "linecolor": "white",
             "minorgridcolor": "white",
             "startlinecolor": "#2a3f5f"
            },
            "type": "carpet"
           }
          ],
          "choropleth": [
           {
            "colorbar": {
             "outlinewidth": 0,
             "ticks": ""
            },
            "type": "choropleth"
           }
          ],
          "contour": [
           {
            "colorbar": {
             "outlinewidth": 0,
             "ticks": ""
            },
            "colorscale": [
             [
              0,
              "#0d0887"
             ],
             [
              0.1111111111111111,
              "#46039f"
             ],
             [
              0.2222222222222222,
              "#7201a8"
             ],
             [
              0.3333333333333333,
              "#9c179e"
             ],
             [
              0.4444444444444444,
              "#bd3786"
             ],
             [
              0.5555555555555556,
              "#d8576b"
             ],
             [
              0.6666666666666666,
              "#ed7953"
             ],
             [
              0.7777777777777778,
              "#fb9f3a"
             ],
             [
              0.8888888888888888,
              "#fdca26"
             ],
             [
              1,
              "#f0f921"
             ]
            ],
            "type": "contour"
           }
          ],
          "contourcarpet": [
           {
            "colorbar": {
             "outlinewidth": 0,
             "ticks": ""
            },
            "type": "contourcarpet"
           }
          ],
          "heatmap": [
           {
            "colorbar": {
             "outlinewidth": 0,
             "ticks": ""
            },
            "colorscale": [
             [
              0,
              "#0d0887"
             ],
             [
              0.1111111111111111,
              "#46039f"
             ],
             [
              0.2222222222222222,
              "#7201a8"
             ],
             [
              0.3333333333333333,
              "#9c179e"
             ],
             [
              0.4444444444444444,
              "#bd3786"
             ],
             [
              0.5555555555555556,
              "#d8576b"
             ],
             [
              0.6666666666666666,
              "#ed7953"
             ],
             [
              0.7777777777777778,
              "#fb9f3a"
             ],
             [
              0.8888888888888888,
              "#fdca26"
             ],
             [
              1,
              "#f0f921"
             ]
            ],
            "type": "heatmap"
           }
          ],
          "heatmapgl": [
           {
            "colorbar": {
             "outlinewidth": 0,
             "ticks": ""
            },
            "colorscale": [
             [
              0,
              "#0d0887"
             ],
             [
              0.1111111111111111,
              "#46039f"
             ],
             [
              0.2222222222222222,
              "#7201a8"
             ],
             [
              0.3333333333333333,
              "#9c179e"
             ],
             [
              0.4444444444444444,
              "#bd3786"
             ],
             [
              0.5555555555555556,
              "#d8576b"
             ],
             [
              0.6666666666666666,
              "#ed7953"
             ],
             [
              0.7777777777777778,
              "#fb9f3a"
             ],
             [
              0.8888888888888888,
              "#fdca26"
             ],
             [
              1,
              "#f0f921"
             ]
            ],
            "type": "heatmapgl"
           }
          ],
          "histogram": [
           {
            "marker": {
             "colorbar": {
              "outlinewidth": 0,
              "ticks": ""
             }
            },
            "type": "histogram"
           }
          ],
          "histogram2d": [
           {
            "colorbar": {
             "outlinewidth": 0,
             "ticks": ""
            },
            "colorscale": [
             [
              0,
              "#0d0887"
             ],
             [
              0.1111111111111111,
              "#46039f"
             ],
             [
              0.2222222222222222,
              "#7201a8"
             ],
             [
              0.3333333333333333,
              "#9c179e"
             ],
             [
              0.4444444444444444,
              "#bd3786"
             ],
             [
              0.5555555555555556,
              "#d8576b"
             ],
             [
              0.6666666666666666,
              "#ed7953"
             ],
             [
              0.7777777777777778,
              "#fb9f3a"
             ],
             [
              0.8888888888888888,
              "#fdca26"
             ],
             [
              1,
              "#f0f921"
             ]
            ],
            "type": "histogram2d"
           }
          ],
          "histogram2dcontour": [
           {
            "colorbar": {
             "outlinewidth": 0,
             "ticks": ""
            },
            "colorscale": [
             [
              0,
              "#0d0887"
             ],
             [
              0.1111111111111111,
              "#46039f"
             ],
             [
              0.2222222222222222,
              "#7201a8"
             ],
             [
              0.3333333333333333,
              "#9c179e"
             ],
             [
              0.4444444444444444,
              "#bd3786"
             ],
             [
              0.5555555555555556,
              "#d8576b"
             ],
             [
              0.6666666666666666,
              "#ed7953"
             ],
             [
              0.7777777777777778,
              "#fb9f3a"
             ],
             [
              0.8888888888888888,
              "#fdca26"
             ],
             [
              1,
              "#f0f921"
             ]
            ],
            "type": "histogram2dcontour"
           }
          ],
          "mesh3d": [
           {
            "colorbar": {
             "outlinewidth": 0,
             "ticks": ""
            },
            "type": "mesh3d"
           }
          ],
          "parcoords": [
           {
            "line": {
             "colorbar": {
              "outlinewidth": 0,
              "ticks": ""
             }
            },
            "type": "parcoords"
           }
          ],
          "pie": [
           {
            "automargin": true,
            "type": "pie"
           }
          ],
          "scatter": [
           {
            "marker": {
             "colorbar": {
              "outlinewidth": 0,
              "ticks": ""
             }
            },
            "type": "scatter"
           }
          ],
          "scatter3d": [
           {
            "line": {
             "colorbar": {
              "outlinewidth": 0,
              "ticks": ""
             }
            },
            "marker": {
             "colorbar": {
              "outlinewidth": 0,
              "ticks": ""
             }
            },
            "type": "scatter3d"
           }
          ],
          "scattercarpet": [
           {
            "marker": {
             "colorbar": {
              "outlinewidth": 0,
              "ticks": ""
             }
            },
            "type": "scattercarpet"
           }
          ],
          "scattergeo": [
           {
            "marker": {
             "colorbar": {
              "outlinewidth": 0,
              "ticks": ""
             }
            },
            "type": "scattergeo"
           }
          ],
          "scattergl": [
           {
            "marker": {
             "colorbar": {
              "outlinewidth": 0,
              "ticks": ""
             }
            },
            "type": "scattergl"
           }
          ],
          "scattermapbox": [
           {
            "marker": {
             "colorbar": {
              "outlinewidth": 0,
              "ticks": ""
             }
            },
            "type": "scattermapbox"
           }
          ],
          "scatterpolar": [
           {
            "marker": {
             "colorbar": {
              "outlinewidth": 0,
              "ticks": ""
             }
            },
            "type": "scatterpolar"
           }
          ],
          "scatterpolargl": [
           {
            "marker": {
             "colorbar": {
              "outlinewidth": 0,
              "ticks": ""
             }
            },
            "type": "scatterpolargl"
           }
          ],
          "scatterternary": [
           {
            "marker": {
             "colorbar": {
              "outlinewidth": 0,
              "ticks": ""
             }
            },
            "type": "scatterternary"
           }
          ],
          "surface": [
           {
            "colorbar": {
             "outlinewidth": 0,
             "ticks": ""
            },
            "colorscale": [
             [
              0,
              "#0d0887"
             ],
             [
              0.1111111111111111,
              "#46039f"
             ],
             [
              0.2222222222222222,
              "#7201a8"
             ],
             [
              0.3333333333333333,
              "#9c179e"
             ],
             [
              0.4444444444444444,
              "#bd3786"
             ],
             [
              0.5555555555555556,
              "#d8576b"
             ],
             [
              0.6666666666666666,
              "#ed7953"
             ],
             [
              0.7777777777777778,
              "#fb9f3a"
             ],
             [
              0.8888888888888888,
              "#fdca26"
             ],
             [
              1,
              "#f0f921"
             ]
            ],
            "type": "surface"
           }
          ],
          "table": [
           {
            "cells": {
             "fill": {
              "color": "#EBF0F8"
             },
             "line": {
              "color": "white"
             }
            },
            "header": {
             "fill": {
              "color": "#C8D4E3"
             },
             "line": {
              "color": "white"
             }
            },
            "type": "table"
           }
          ]
         },
         "layout": {
          "annotationdefaults": {
           "arrowcolor": "#2a3f5f",
           "arrowhead": 0,
           "arrowwidth": 1
          },
          "coloraxis": {
           "colorbar": {
            "outlinewidth": 0,
            "ticks": ""
           }
          },
          "colorscale": {
           "diverging": [
            [
             0,
             "#8e0152"
            ],
            [
             0.1,
             "#c51b7d"
            ],
            [
             0.2,
             "#de77ae"
            ],
            [
             0.3,
             "#f1b6da"
            ],
            [
             0.4,
             "#fde0ef"
            ],
            [
             0.5,
             "#f7f7f7"
            ],
            [
             0.6,
             "#e6f5d0"
            ],
            [
             0.7,
             "#b8e186"
            ],
            [
             0.8,
             "#7fbc41"
            ],
            [
             0.9,
             "#4d9221"
            ],
            [
             1,
             "#276419"
            ]
           ],
           "sequential": [
            [
             0,
             "#0d0887"
            ],
            [
             0.1111111111111111,
             "#46039f"
            ],
            [
             0.2222222222222222,
             "#7201a8"
            ],
            [
             0.3333333333333333,
             "#9c179e"
            ],
            [
             0.4444444444444444,
             "#bd3786"
            ],
            [
             0.5555555555555556,
             "#d8576b"
            ],
            [
             0.6666666666666666,
             "#ed7953"
            ],
            [
             0.7777777777777778,
             "#fb9f3a"
            ],
            [
             0.8888888888888888,
             "#fdca26"
            ],
            [
             1,
             "#f0f921"
            ]
           ],
           "sequentialminus": [
            [
             0,
             "#0d0887"
            ],
            [
             0.1111111111111111,
             "#46039f"
            ],
            [
             0.2222222222222222,
             "#7201a8"
            ],
            [
             0.3333333333333333,
             "#9c179e"
            ],
            [
             0.4444444444444444,
             "#bd3786"
            ],
            [
             0.5555555555555556,
             "#d8576b"
            ],
            [
             0.6666666666666666,
             "#ed7953"
            ],
            [
             0.7777777777777778,
             "#fb9f3a"
            ],
            [
             0.8888888888888888,
             "#fdca26"
            ],
            [
             1,
             "#f0f921"
            ]
           ]
          },
          "colorway": [
           "#636efa",
           "#EF553B",
           "#00cc96",
           "#ab63fa",
           "#FFA15A",
           "#19d3f3",
           "#FF6692",
           "#B6E880",
           "#FF97FF",
           "#FECB52"
          ],
          "font": {
           "color": "#2a3f5f"
          },
          "geo": {
           "bgcolor": "white",
           "lakecolor": "white",
           "landcolor": "#E5ECF6",
           "showlakes": true,
           "showland": true,
           "subunitcolor": "white"
          },
          "hoverlabel": {
           "align": "left"
          },
          "hovermode": "closest",
          "mapbox": {
           "style": "light"
          },
          "paper_bgcolor": "white",
          "plot_bgcolor": "#E5ECF6",
          "polar": {
           "angularaxis": {
            "gridcolor": "white",
            "linecolor": "white",
            "ticks": ""
           },
           "bgcolor": "#E5ECF6",
           "radialaxis": {
            "gridcolor": "white",
            "linecolor": "white",
            "ticks": ""
           }
          },
          "scene": {
           "xaxis": {
            "backgroundcolor": "#E5ECF6",
            "gridcolor": "white",
            "gridwidth": 2,
            "linecolor": "white",
            "showbackground": true,
            "ticks": "",
            "zerolinecolor": "white"
           },
           "yaxis": {
            "backgroundcolor": "#E5ECF6",
            "gridcolor": "white",
            "gridwidth": 2,
            "linecolor": "white",
            "showbackground": true,
            "ticks": "",
            "zerolinecolor": "white"
           },
           "zaxis": {
            "backgroundcolor": "#E5ECF6",
            "gridcolor": "white",
            "gridwidth": 2,
            "linecolor": "white",
            "showbackground": true,
            "ticks": "",
            "zerolinecolor": "white"
           }
          },
          "shapedefaults": {
           "line": {
            "color": "#2a3f5f"
           }
          },
          "ternary": {
           "aaxis": {
            "gridcolor": "white",
            "linecolor": "white",
            "ticks": ""
           },
           "baxis": {
            "gridcolor": "white",
            "linecolor": "white",
            "ticks": ""
           },
           "bgcolor": "#E5ECF6",
           "caxis": {
            "gridcolor": "white",
            "linecolor": "white",
            "ticks": ""
           }
          },
          "title": {
           "x": 0.05
          },
          "xaxis": {
           "automargin": true,
           "gridcolor": "white",
           "linecolor": "white",
           "ticks": "",
           "title": {
            "standoff": 15
           },
           "zerolinecolor": "white",
           "zerolinewidth": 2
          },
          "yaxis": {
           "automargin": true,
           "gridcolor": "white",
           "linecolor": "white",
           "ticks": "",
           "title": {
            "standoff": 15
           },
           "zerolinecolor": "white",
           "zerolinewidth": 2
          }
         }
        },
        "title": {
         "font": {
          "color": "#4D5663"
         }
        },
        "xaxis": {
         "gridcolor": "#E1E5ED",
         "showgrid": true,
         "tickfont": {
          "color": "#4D5663"
         },
         "title": {
          "font": {
           "color": "#4D5663"
          },
          "text": ""
         },
         "zerolinecolor": "#E1E5ED"
        },
        "xaxis2": {
         "anchor": "y2",
         "gridcolor": "#E1E5ED",
         "showgrid": true,
         "showticklabels": false,
         "tickfont": {
          "color": "#4D5663"
         },
         "title": {
          "font": {
           "color": "#4D5663"
          },
          "text": ""
         },
         "zerolinecolor": "#E1E5ED"
        },
        "yaxis": {
         "domain": [
          0.3,
          1
         ],
         "gridcolor": "#E1E5ED",
         "showgrid": true,
         "tickfont": {
          "color": "#4D5663"
         },
         "title": {
          "font": {
           "color": "#4D5663"
          },
          "text": ""
         },
         "zerolinecolor": "#E1E5ED"
        },
        "yaxis2": {
         "domain": [
          0,
          0.25
         ],
         "gridcolor": "#E1E5ED",
         "showgrid": true,
         "tickfont": {
          "color": "#4D5663"
         },
         "title": {
          "font": {
           "color": "#4D5663"
          },
          "text": "Spread"
         },
         "zerolinecolor": "#E1E5ED"
        }
       }
      },
      "text/html": [
       "<div>\n",
       "        \n",
       "        \n",
       "            <div id=\"31087792-5950-4bf3-bd27-bf8b47ea0bad\" class=\"plotly-graph-div\" style=\"height:525px; width:100%;\"></div>\n",
       "            <script type=\"text/javascript\">\n",
       "                require([\"plotly\"], function(Plotly) {\n",
       "                    window.PLOTLYENV=window.PLOTLYENV || {};\n",
       "                    window.PLOTLYENV.BASE_URL='https://plot.ly';\n",
       "                    \n",
       "                if (document.getElementById(\"31087792-5950-4bf3-bd27-bf8b47ea0bad\")) {\n",
       "                    Plotly.newPlot(\n",
       "                        '31087792-5950-4bf3-bd27-bf8b47ea0bad',\n",
       "                        [{\"line\": {\"color\": \"rgba(255, 153, 51, 1.0)\", \"dash\": \"solid\", \"shape\": \"linear\", \"width\": 1.3}, \"mode\": \"lines\", \"name\": \"A\", \"text\": \"\", \"type\": \"scatter\", \"x\": [0, 1, 2, 3, 4, 5, 6, 7, 8, 9, 10, 11, 12, 13, 14, 15, 16, 17, 18, 19, 20, 21, 22, 23, 24, 25, 26, 27, 28, 29, 30, 31, 32, 33, 34, 35, 36, 37, 38, 39, 40, 41, 42, 43, 44, 45, 46, 47, 48, 49, 50, 51, 52, 53, 54, 55, 56, 57, 58, 59, 60, 61, 62, 63, 64, 65, 66, 67, 68, 69, 70, 71, 72, 73, 74, 75, 76, 77, 78, 79, 80, 81, 82, 83, 84, 85, 86, 87, 88, 89, 90, 91, 92, 93, 94, 95, 96, 97, 98, 99], \"y\": [1.5786187229586952, 0.5388907679893202, 1.078694437802884, 0.32245053629987225, -0.9223734597448511, 0.6846853537469202, -0.45008481106597226, -0.3533505384946988, -2.8731498108221647, -0.7484971720768924, -0.36500273352880264, 0.6067655573450121, -0.9095258614147902, -0.5916802031109333, -0.1286568103901193, 1.7388296281606612, 0.47239980869073794, -0.19232195914901176, 2.229241629104578, 0.9230532412325921, 1.669864645835989, -0.048946795581749296, -1.1772689529385014, -1.507948452528026, 0.24724840660536831, -0.5514672401858561, 0.03940467306020378, 1.101065497240953, -0.6740037548529809, -1.087435723169192, 0.7956290688949827, 1.3708984098787027, -2.5791584583768774, -0.22441070420898013, 0.26205684531518003, -1.4562008931988613, 1.4373764995136746, 1.5882274462361048, -1.14297172147719, 0.8557954035872387, -0.21393484405050417, -0.4561921999510943, -1.2399718899695817, -0.4894135182650713, -0.9339678649182176, 1.1632061007301673, -0.5287445421017896, -0.7851686235869038, 0.9047629487274184, 0.4246297921895481, -0.7308639618574918, 0.25594378026316994, 0.18619445129129822, -0.000521841883759933, -0.0956855252854502, 0.41568934719485845, 2.3363430277107633, 0.986313969490932, -2.2999979856947776, -0.988970346091432, -0.17387465651416092, 1.1434523811225343, 0.7142548633467558, 1.0861935261444606, 0.5326363331496747, 0.24960608255715572, 0.15224848216287823, -1.0379568391468894, 0.40303463838925496, 1.4745778622017471, 0.5528359060224775, -0.4041364159267252, 0.2958334397510018, -0.9587982415737354, 2.411937340919393, -1.5457422218029453, 0.349811580328209, -0.22414230333098373, -0.5952445750360521, -0.17328969929810023, -0.2544671869662989, 0.38014899400462554, -0.8101198010890571, -0.14087644847276767, 0.5011952118769845, -1.4466394766986472, -0.6101461012464322, 0.25454424877028975, -0.6731734711992503, 1.535518147828806, -1.8820650727715733, -0.08447236199084893, 0.30272598868420986, 1.279879939966949, -0.2801796132397617, 1.1306796638342382, 1.2908453116833694, -0.5089587024089931, 0.12139023869349684, 0.29123717194560733]}, {\"line\": {\"color\": \"rgba(55, 128, 191, 1.0)\", \"dash\": \"solid\", \"shape\": \"linear\", \"width\": 1.3}, \"mode\": \"lines\", \"name\": \"B\", \"text\": \"\", \"type\": \"scatter\", \"x\": [0, 1, 2, 3, 4, 5, 6, 7, 8, 9, 10, 11, 12, 13, 14, 15, 16, 17, 18, 19, 20, 21, 22, 23, 24, 25, 26, 27, 28, 29, 30, 31, 32, 33, 34, 35, 36, 37, 38, 39, 40, 41, 42, 43, 44, 45, 46, 47, 48, 49, 50, 51, 52, 53, 54, 55, 56, 57, 58, 59, 60, 61, 62, 63, 64, 65, 66, 67, 68, 69, 70, 71, 72, 73, 74, 75, 76, 77, 78, 79, 80, 81, 82, 83, 84, 85, 86, 87, 88, 89, 90, 91, 92, 93, 94, 95, 96, 97, 98, 99], \"y\": [-0.9091481202776661, 0.06780882273199226, -0.37426163102207805, -0.0893408716584356, 0.3785809932478647, -0.1674663523925086, -1.8900779795166602, -0.3424626483864567, 0.16169535711160646, 0.0478377990035949, -0.05481689229587556, 0.5533515341116935, 1.813873713624411, 0.4496238708250704, -0.7669842546794466, -0.5878357083218064, 0.2371579630564443, -0.53799999065927, -1.928307767514013, 0.778863457823434, -0.4660622969181952, 0.21413796571596228, 0.18163665667639722, -0.11279316160530298, -0.10135968035407887, 1.1556132702741724, -1.4199345211591043, -1.1980119673035385, -0.403043648643454, -0.18535180459067813, -0.590798397804791, -0.3527904046359064, 0.0521331226621967, 1.532901799474751, 0.5802094194992679, -0.010870242447072558, 0.4642532142674884, -0.9660326232658625, 1.9556195439245811, -0.05408068932375628, 0.18235044092284422, -0.1051075040381056, 0.16635592876305297, -1.6885493863487944, 0.6763009103052485, -2.10897816221814, 0.4405099968628592, 0.6263658596754582, 1.9604723414870466, 1.06194614575976, 0.6400773508424474, -0.5500867822309106, 0.8307100882811101, 0.0344633537188449, -1.330900477021943, 2.4910631328577386, -1.7059464862818212, 0.5955627767535996, 0.07872829056054018, -0.7658543204305447, -1.0595414654093238, -0.4404871361336019, -0.4303288990356177, 1.4977893567786902, -1.8584560116454625, 0.28782599809848924, -0.5654122593952702, 1.051391369391621, -0.9569865241042446, 0.6768422848156005, -0.4150103635543724, 1.9936289538054037, 0.6034494063737481, -0.5042530167988375, -1.7769618298699321, 0.2973685224675162, 0.6357589463328186, -0.9239470626522018, 0.389154509412879, -0.8314898251629631, 1.1306355458935795, -0.13371758037286724, -0.9233531684251245, -1.482427845223228, -0.06425504201663151, 1.8131487525802705, -1.3458155732931503, 0.7107488739846166, 0.5952788770646874, -0.18688980536139707, 0.364839931718773, 0.3702635516581097, -1.4292990764432627, -0.5328116959402388, 0.11373726774497099, 1.1744561982317403, 0.9043388870333897, -0.5964606635103178, 0.8775321308476934, 0.4960320670502967]}, {\"connectgaps\": false, \"fill\": \"tozeroy\", \"line\": {\"color\": \"green\", \"dash\": \"solid\", \"shape\": \"linear\", \"width\": 0.5}, \"mode\": \"lines\", \"name\": \"Spread\", \"showlegend\": false, \"type\": \"scatter\", \"x\": [0, 1, 2, 3, 4, 5, 6, 7, 8, 9, 10, 11, 12, 13, 14, 15, 16, 17, 18, 19, 20, 21, 22, 23, 24, 25, 26, 27, 28, 29, 30, 31, 32, 33, 34, 35, 36, 37, 38, 39, 40, 41, 42, 43, 44, 45, 46, 47, 48, 49, 50, 51, 52, 53, 54, 55, 56, 57, 58, 59, 60, 61, 62, 63, 64, 65, 66, 67, 68, 69, 70, 71, 72, 73, 74, 75, 76, 77, 78, 79, 80, 81, 82, 83, 84, 85, 86, 87, 88, 89, 90, 91, 92, 93, 94, 95, 96, 97, 98, 99], \"xaxis\": \"x2\", \"y\": [2.4877668432363613, 0.47108194525732794, 1.452956068824962, 0.4117914079583078, \"\", 0.8521517061394288, 1.439993168450688, \"\", \"\", \"\", \"\", 0.053414023233318675, \"\", \"\", 0.6383274442893273, 2.326665336482468, 0.23524184563429365, 0.3456780315102582, 4.157549396618591, 0.1441897834091581, 2.135926942754184, \"\", \"\", \"\", 0.34860808695944717, \"\", 1.4593391942193081, 2.2990774645444914, \"\", \"\", 1.3864274666997738, 1.7236888145146092, \"\", \"\", \"\", \"\", 0.9731232852461862, 2.554260069501967, \"\", 0.909876092910995, \"\", \"\", \"\", 1.1991358680837232, \"\", 3.272184262948307, \"\", \"\", \"\", \"\", \"\", 0.8060305624940804, \"\", \"\", 1.2352149517364928, \"\", 4.042289513992585, 0.3907511927373324, \"\", \"\", 0.8856668088951629, 1.5839395172561361, 1.1445837623823736, \"\", 2.3910923447951373, \"\", 0.7176607415581484, \"\", 1.3600211624934995, 0.7977355773861466, 0.9678462695768498, \"\", \"\", \"\", 4.188899170789325, \"\", \"\", 0.6998047593212181, \"\", 0.6582001258648629, \"\", 0.5138665743774928, 0.11323336733606737, 1.3415513967504604, 0.5654502538936159, \"\", 0.7356694720467181, \"\", \"\", 1.722407953190203, \"\", \"\", 1.7320250651274725, 1.8126916359071878, \"\", \"\", 0.38650642464997964, 0.08750196110132469, \"\", \"\"], \"yaxis\": \"y2\"}, {\"connectgaps\": false, \"fill\": \"tozeroy\", \"line\": {\"color\": \"red\", \"dash\": \"solid\", \"shape\": \"linear\", \"width\": 0.5}, \"mode\": \"lines\", \"name\": \"Spread\", \"showlegend\": false, \"type\": \"scatter\", \"x\": [0, 1, 2, 3, 4, 5, 6, 7, 8, 9, 10, 11, 12, 13, 14, 15, 16, 17, 18, 19, 20, 21, 22, 23, 24, 25, 26, 27, 28, 29, 30, 31, 32, 33, 34, 35, 36, 37, 38, 39, 40, 41, 42, 43, 44, 45, 46, 47, 48, 49, 50, 51, 52, 53, 54, 55, 56, 57, 58, 59, 60, 61, 62, 63, 64, 65, 66, 67, 68, 69, 70, 71, 72, 73, 74, 75, 76, 77, 78, 79, 80, 81, 82, 83, 84, 85, 86, 87, 88, 89, 90, 91, 92, 93, 94, 95, 96, 97, 98, 99], \"xaxis\": \"x2\", \"y\": [\"\", \"\", \"\", \"\", -1.3009544529927157, \"\", \"\", -0.010887890108242093, -3.034845167933771, -0.7963349710804872, -0.3101858412329271, \"\", -2.7233995750392013, -1.0413040739360038, \"\", \"\", \"\", \"\", \"\", \"\", \"\", -0.2630847612977116, -1.3589056096148986, -1.395155290922723, \"\", -1.7070805104600284, \"\", \"\", -0.27096010620952693, -0.9020839185785139, \"\", \"\", -2.6312915810390742, -1.757312503683731, -0.3181525741840878, -1.4453306507517887, \"\", \"\", -3.098591265401771, \"\", -0.39628528497334836, -0.3510846959129887, -1.4063278187326347, \"\", -1.6102687752234661, \"\", -0.9692545389646487, -1.411534483262362, -1.0557093927596282, -0.637316353570212, -1.3709413126999392, \"\", -0.644515636989812, -0.03498519560260484, \"\", -2.07537378566288, \"\", \"\", -2.3787262762553176, -0.22311602566088728, \"\", \"\", \"\", -0.41159583063422955, \"\", -0.03821991554133353, \"\", -2.08934820853851, \"\", \"\", \"\", -2.397765369732129, -0.3076159666227463, -0.4545452247748979, \"\", -1.8431107442704615, -0.28594736600460957, \"\", -0.9843990844489311, \"\", -1.3851027328598784, \"\", \"\", \"\", \"\", -3.259788229278918, \"\", -0.45620462521432686, -1.2684523482639376, \"\", -2.2469050044903462, -0.4547359136489586, \"\", \"\", -0.3939168809847327, -0.043776534397502065, \"\", \"\", -0.7561418921541966, -0.20479489510468935], \"yaxis\": \"y2\"}],\n",
       "                        {\"hovermode\": \"x\", \"legend\": {\"bgcolor\": \"#F5F6F9\", \"font\": {\"color\": \"#4D5663\"}}, \"paper_bgcolor\": \"#F5F6F9\", \"plot_bgcolor\": \"#F5F6F9\", \"template\": {\"data\": {\"bar\": [{\"error_x\": {\"color\": \"#2a3f5f\"}, \"error_y\": {\"color\": \"#2a3f5f\"}, \"marker\": {\"line\": {\"color\": \"#E5ECF6\", \"width\": 0.5}}, \"type\": \"bar\"}], \"barpolar\": [{\"marker\": {\"line\": {\"color\": \"#E5ECF6\", \"width\": 0.5}}, \"type\": \"barpolar\"}], \"carpet\": [{\"aaxis\": {\"endlinecolor\": \"#2a3f5f\", \"gridcolor\": \"white\", \"linecolor\": \"white\", \"minorgridcolor\": \"white\", \"startlinecolor\": \"#2a3f5f\"}, \"baxis\": {\"endlinecolor\": \"#2a3f5f\", \"gridcolor\": \"white\", \"linecolor\": \"white\", \"minorgridcolor\": \"white\", \"startlinecolor\": \"#2a3f5f\"}, \"type\": \"carpet\"}], \"choropleth\": [{\"colorbar\": {\"outlinewidth\": 0, \"ticks\": \"\"}, \"type\": \"choropleth\"}], \"contour\": [{\"colorbar\": {\"outlinewidth\": 0, \"ticks\": \"\"}, \"colorscale\": [[0.0, \"#0d0887\"], [0.1111111111111111, \"#46039f\"], [0.2222222222222222, \"#7201a8\"], [0.3333333333333333, \"#9c179e\"], [0.4444444444444444, \"#bd3786\"], [0.5555555555555556, \"#d8576b\"], [0.6666666666666666, \"#ed7953\"], [0.7777777777777778, \"#fb9f3a\"], [0.8888888888888888, \"#fdca26\"], [1.0, \"#f0f921\"]], \"type\": \"contour\"}], \"contourcarpet\": [{\"colorbar\": {\"outlinewidth\": 0, \"ticks\": \"\"}, \"type\": \"contourcarpet\"}], \"heatmap\": [{\"colorbar\": {\"outlinewidth\": 0, \"ticks\": \"\"}, \"colorscale\": [[0.0, \"#0d0887\"], [0.1111111111111111, \"#46039f\"], [0.2222222222222222, \"#7201a8\"], [0.3333333333333333, \"#9c179e\"], [0.4444444444444444, \"#bd3786\"], [0.5555555555555556, \"#d8576b\"], [0.6666666666666666, \"#ed7953\"], [0.7777777777777778, \"#fb9f3a\"], [0.8888888888888888, \"#fdca26\"], [1.0, \"#f0f921\"]], \"type\": \"heatmap\"}], \"heatmapgl\": [{\"colorbar\": {\"outlinewidth\": 0, \"ticks\": \"\"}, \"colorscale\": [[0.0, \"#0d0887\"], [0.1111111111111111, \"#46039f\"], [0.2222222222222222, \"#7201a8\"], [0.3333333333333333, \"#9c179e\"], [0.4444444444444444, \"#bd3786\"], [0.5555555555555556, \"#d8576b\"], [0.6666666666666666, \"#ed7953\"], [0.7777777777777778, \"#fb9f3a\"], [0.8888888888888888, \"#fdca26\"], [1.0, \"#f0f921\"]], \"type\": \"heatmapgl\"}], \"histogram\": [{\"marker\": {\"colorbar\": {\"outlinewidth\": 0, \"ticks\": \"\"}}, \"type\": \"histogram\"}], \"histogram2d\": [{\"colorbar\": {\"outlinewidth\": 0, \"ticks\": \"\"}, \"colorscale\": [[0.0, \"#0d0887\"], [0.1111111111111111, \"#46039f\"], [0.2222222222222222, \"#7201a8\"], [0.3333333333333333, \"#9c179e\"], [0.4444444444444444, \"#bd3786\"], [0.5555555555555556, \"#d8576b\"], [0.6666666666666666, \"#ed7953\"], [0.7777777777777778, \"#fb9f3a\"], [0.8888888888888888, \"#fdca26\"], [1.0, \"#f0f921\"]], \"type\": \"histogram2d\"}], \"histogram2dcontour\": [{\"colorbar\": {\"outlinewidth\": 0, \"ticks\": \"\"}, \"colorscale\": [[0.0, \"#0d0887\"], [0.1111111111111111, \"#46039f\"], [0.2222222222222222, \"#7201a8\"], [0.3333333333333333, \"#9c179e\"], [0.4444444444444444, \"#bd3786\"], [0.5555555555555556, \"#d8576b\"], [0.6666666666666666, \"#ed7953\"], [0.7777777777777778, \"#fb9f3a\"], [0.8888888888888888, \"#fdca26\"], [1.0, \"#f0f921\"]], \"type\": \"histogram2dcontour\"}], \"mesh3d\": [{\"colorbar\": {\"outlinewidth\": 0, \"ticks\": \"\"}, \"type\": \"mesh3d\"}], \"parcoords\": [{\"line\": {\"colorbar\": {\"outlinewidth\": 0, \"ticks\": \"\"}}, \"type\": \"parcoords\"}], \"pie\": [{\"automargin\": true, \"type\": \"pie\"}], \"scatter\": [{\"marker\": {\"colorbar\": {\"outlinewidth\": 0, \"ticks\": \"\"}}, \"type\": \"scatter\"}], \"scatter3d\": [{\"line\": {\"colorbar\": {\"outlinewidth\": 0, \"ticks\": \"\"}}, \"marker\": {\"colorbar\": {\"outlinewidth\": 0, \"ticks\": \"\"}}, \"type\": \"scatter3d\"}], \"scattercarpet\": [{\"marker\": {\"colorbar\": {\"outlinewidth\": 0, \"ticks\": \"\"}}, \"type\": \"scattercarpet\"}], \"scattergeo\": [{\"marker\": {\"colorbar\": {\"outlinewidth\": 0, \"ticks\": \"\"}}, \"type\": \"scattergeo\"}], \"scattergl\": [{\"marker\": {\"colorbar\": {\"outlinewidth\": 0, \"ticks\": \"\"}}, \"type\": \"scattergl\"}], \"scattermapbox\": [{\"marker\": {\"colorbar\": {\"outlinewidth\": 0, \"ticks\": \"\"}}, \"type\": \"scattermapbox\"}], \"scatterpolar\": [{\"marker\": {\"colorbar\": {\"outlinewidth\": 0, \"ticks\": \"\"}}, \"type\": \"scatterpolar\"}], \"scatterpolargl\": [{\"marker\": {\"colorbar\": {\"outlinewidth\": 0, \"ticks\": \"\"}}, \"type\": \"scatterpolargl\"}], \"scatterternary\": [{\"marker\": {\"colorbar\": {\"outlinewidth\": 0, \"ticks\": \"\"}}, \"type\": \"scatterternary\"}], \"surface\": [{\"colorbar\": {\"outlinewidth\": 0, \"ticks\": \"\"}, \"colorscale\": [[0.0, \"#0d0887\"], [0.1111111111111111, \"#46039f\"], [0.2222222222222222, \"#7201a8\"], [0.3333333333333333, \"#9c179e\"], [0.4444444444444444, \"#bd3786\"], [0.5555555555555556, \"#d8576b\"], [0.6666666666666666, \"#ed7953\"], [0.7777777777777778, \"#fb9f3a\"], [0.8888888888888888, \"#fdca26\"], [1.0, \"#f0f921\"]], \"type\": \"surface\"}], \"table\": [{\"cells\": {\"fill\": {\"color\": \"#EBF0F8\"}, \"line\": {\"color\": \"white\"}}, \"header\": {\"fill\": {\"color\": \"#C8D4E3\"}, \"line\": {\"color\": \"white\"}}, \"type\": \"table\"}]}, \"layout\": {\"annotationdefaults\": {\"arrowcolor\": \"#2a3f5f\", \"arrowhead\": 0, \"arrowwidth\": 1}, \"coloraxis\": {\"colorbar\": {\"outlinewidth\": 0, \"ticks\": \"\"}}, \"colorscale\": {\"diverging\": [[0, \"#8e0152\"], [0.1, \"#c51b7d\"], [0.2, \"#de77ae\"], [0.3, \"#f1b6da\"], [0.4, \"#fde0ef\"], [0.5, \"#f7f7f7\"], [0.6, \"#e6f5d0\"], [0.7, \"#b8e186\"], [0.8, \"#7fbc41\"], [0.9, \"#4d9221\"], [1, \"#276419\"]], \"sequential\": [[0.0, \"#0d0887\"], [0.1111111111111111, \"#46039f\"], [0.2222222222222222, \"#7201a8\"], [0.3333333333333333, \"#9c179e\"], [0.4444444444444444, \"#bd3786\"], [0.5555555555555556, \"#d8576b\"], [0.6666666666666666, \"#ed7953\"], [0.7777777777777778, \"#fb9f3a\"], [0.8888888888888888, \"#fdca26\"], [1.0, \"#f0f921\"]], \"sequentialminus\": [[0.0, \"#0d0887\"], [0.1111111111111111, \"#46039f\"], [0.2222222222222222, \"#7201a8\"], [0.3333333333333333, \"#9c179e\"], [0.4444444444444444, \"#bd3786\"], [0.5555555555555556, \"#d8576b\"], [0.6666666666666666, \"#ed7953\"], [0.7777777777777778, \"#fb9f3a\"], [0.8888888888888888, \"#fdca26\"], [1.0, \"#f0f921\"]]}, \"colorway\": [\"#636efa\", \"#EF553B\", \"#00cc96\", \"#ab63fa\", \"#FFA15A\", \"#19d3f3\", \"#FF6692\", \"#B6E880\", \"#FF97FF\", \"#FECB52\"], \"font\": {\"color\": \"#2a3f5f\"}, \"geo\": {\"bgcolor\": \"white\", \"lakecolor\": \"white\", \"landcolor\": \"#E5ECF6\", \"showlakes\": true, \"showland\": true, \"subunitcolor\": \"white\"}, \"hoverlabel\": {\"align\": \"left\"}, \"hovermode\": \"closest\", \"mapbox\": {\"style\": \"light\"}, \"paper_bgcolor\": \"white\", \"plot_bgcolor\": \"#E5ECF6\", \"polar\": {\"angularaxis\": {\"gridcolor\": \"white\", \"linecolor\": \"white\", \"ticks\": \"\"}, \"bgcolor\": \"#E5ECF6\", \"radialaxis\": {\"gridcolor\": \"white\", \"linecolor\": \"white\", \"ticks\": \"\"}}, \"scene\": {\"xaxis\": {\"backgroundcolor\": \"#E5ECF6\", \"gridcolor\": \"white\", \"gridwidth\": 2, \"linecolor\": \"white\", \"showbackground\": true, \"ticks\": \"\", \"zerolinecolor\": \"white\"}, \"yaxis\": {\"backgroundcolor\": \"#E5ECF6\", \"gridcolor\": \"white\", \"gridwidth\": 2, \"linecolor\": \"white\", \"showbackground\": true, \"ticks\": \"\", \"zerolinecolor\": \"white\"}, \"zaxis\": {\"backgroundcolor\": \"#E5ECF6\", \"gridcolor\": \"white\", \"gridwidth\": 2, \"linecolor\": \"white\", \"showbackground\": true, \"ticks\": \"\", \"zerolinecolor\": \"white\"}}, \"shapedefaults\": {\"line\": {\"color\": \"#2a3f5f\"}}, \"ternary\": {\"aaxis\": {\"gridcolor\": \"white\", \"linecolor\": \"white\", \"ticks\": \"\"}, \"baxis\": {\"gridcolor\": \"white\", \"linecolor\": \"white\", \"ticks\": \"\"}, \"bgcolor\": \"#E5ECF6\", \"caxis\": {\"gridcolor\": \"white\", \"linecolor\": \"white\", \"ticks\": \"\"}}, \"title\": {\"x\": 0.05}, \"xaxis\": {\"automargin\": true, \"gridcolor\": \"white\", \"linecolor\": \"white\", \"ticks\": \"\", \"title\": {\"standoff\": 15}, \"zerolinecolor\": \"white\", \"zerolinewidth\": 2}, \"yaxis\": {\"automargin\": true, \"gridcolor\": \"white\", \"linecolor\": \"white\", \"ticks\": \"\", \"title\": {\"standoff\": 15}, \"zerolinecolor\": \"white\", \"zerolinewidth\": 2}}}, \"title\": {\"font\": {\"color\": \"#4D5663\"}}, \"xaxis\": {\"gridcolor\": \"#E1E5ED\", \"showgrid\": true, \"tickfont\": {\"color\": \"#4D5663\"}, \"title\": {\"font\": {\"color\": \"#4D5663\"}, \"text\": \"\"}, \"zerolinecolor\": \"#E1E5ED\"}, \"xaxis2\": {\"anchor\": \"y2\", \"gridcolor\": \"#E1E5ED\", \"showgrid\": true, \"showticklabels\": false, \"tickfont\": {\"color\": \"#4D5663\"}, \"title\": {\"font\": {\"color\": \"#4D5663\"}, \"text\": \"\"}, \"zerolinecolor\": \"#E1E5ED\"}, \"yaxis\": {\"domain\": [0.3, 1], \"gridcolor\": \"#E1E5ED\", \"showgrid\": true, \"tickfont\": {\"color\": \"#4D5663\"}, \"title\": {\"font\": {\"color\": \"#4D5663\"}, \"text\": \"\"}, \"zerolinecolor\": \"#E1E5ED\"}, \"yaxis2\": {\"domain\": [0, 0.25], \"gridcolor\": \"#E1E5ED\", \"showgrid\": true, \"tickfont\": {\"color\": \"#4D5663\"}, \"title\": {\"font\": {\"color\": \"#4D5663\"}, \"text\": \"Spread\"}, \"zerolinecolor\": \"#E1E5ED\"}},\n",
       "                        {\"showLink\": true, \"linkText\": \"Export to plot.ly\", \"plotlyServerURL\": \"https://plot.ly\", \"responsive\": true}\n",
       "                    ).then(function(){\n",
       "                            \n",
       "var gd = document.getElementById('31087792-5950-4bf3-bd27-bf8b47ea0bad');\n",
       "var x = new MutationObserver(function (mutations, observer) {{\n",
       "        var display = window.getComputedStyle(gd).display;\n",
       "        if (!display || display === 'none') {{\n",
       "            console.log([gd, 'removed!']);\n",
       "            Plotly.purge(gd);\n",
       "            observer.disconnect();\n",
       "        }}\n",
       "}});\n",
       "\n",
       "// Listen for the removal of the full notebook cells\n",
       "var notebookContainer = gd.closest('#notebook-container');\n",
       "if (notebookContainer) {{\n",
       "    x.observe(notebookContainer, {childList: true});\n",
       "}}\n",
       "\n",
       "// Listen for the clearing of the current output cell\n",
       "var outputEl = gd.closest('.output');\n",
       "if (outputEl) {{\n",
       "    x.observe(outputEl, {childList: true});\n",
       "}}\n",
       "\n",
       "                        })\n",
       "                };\n",
       "                });\n",
       "            </script>\n",
       "        </div>"
      ]
     },
     "metadata": {},
     "output_type": "display_data"
    }
   ],
   "source": [
    "#spread is used a lot for stocks\n",
    "df[['A', 'B']].iplot(kind='spread')"
   ]
  },
  {
   "cell_type": "code",
   "execution_count": 40,
   "metadata": {},
   "outputs": [
    {
     "data": {
      "application/vnd.plotly.v1+json": {
       "config": {
        "linkText": "Export to plot.ly",
        "plotlyServerURL": "https://plot.ly",
        "showLink": true
       },
       "data": [
        {
         "marker": {
          "color": [
           "rgb(255, 153, 51)",
           "rgb(55, 128, 191)",
           "rgb(50, 171, 96)",
           "rgb(128, 0, 128)",
           "rgb(219, 64, 82)",
           "rgb(0, 128, 128)",
           "rgb(255, 255, 51)",
           "rgb(128, 128, 0)",
           "rgb(251, 128, 114)",
           "rgb(128, 177, 211)"
          ],
          "line": {
           "width": 1.3
          },
          "size": [
           28,
           52,
           67,
           53,
           52,
           39,
           64,
           85,
           30,
           44,
           41,
           62,
           38,
           31,
           71,
           34,
           29,
           40,
           35,
           65,
           17,
           77,
           96,
           18,
           68,
           94,
           43,
           57,
           42,
           39,
           76,
           30,
           86,
           67,
           53,
           46,
           49,
           36,
           55,
           78,
           101,
           93,
           53,
           60,
           70,
           19,
           37,
           47,
           12,
           81,
           66,
           42,
           42,
           73,
           46,
           58,
           67,
           57,
           51,
           63,
           53,
           35,
           42,
           56,
           35,
           67,
           59,
           89,
           81,
           54,
           52,
           65,
           31,
           61,
           60,
           41,
           50,
           53,
           108,
           79,
           53,
           90,
           42,
           57,
           25,
           55,
           16,
           26,
           112,
           86,
           32,
           70,
           39,
           45,
           22,
           57,
           21,
           72,
           32,
           20
          ],
          "symbol": "circle"
         },
         "mode": "markers",
         "text": "",
         "type": "scatter",
         "x": [
          1.5786187229586952,
          0.5388907679893202,
          1.078694437802884,
          0.32245053629987225,
          -0.9223734597448511,
          0.6846853537469202,
          -0.45008481106597226,
          -0.3533505384946988,
          -2.8731498108221647,
          -0.7484971720768924,
          -0.36500273352880264,
          0.6067655573450121,
          -0.9095258614147902,
          -0.5916802031109333,
          -0.1286568103901193,
          1.7388296281606612,
          0.47239980869073794,
          -0.19232195914901176,
          2.229241629104578,
          0.9230532412325921,
          1.669864645835989,
          -0.048946795581749296,
          -1.1772689529385014,
          -1.507948452528026,
          0.24724840660536831,
          -0.5514672401858561,
          0.03940467306020378,
          1.101065497240953,
          -0.6740037548529809,
          -1.087435723169192,
          0.7956290688949827,
          1.3708984098787027,
          -2.5791584583768774,
          -0.22441070420898013,
          0.26205684531518003,
          -1.4562008931988613,
          1.4373764995136746,
          1.5882274462361048,
          -1.14297172147719,
          0.8557954035872387,
          -0.21393484405050417,
          -0.4561921999510943,
          -1.2399718899695817,
          -0.4894135182650713,
          -0.9339678649182176,
          1.1632061007301673,
          -0.5287445421017896,
          -0.7851686235869038,
          0.9047629487274184,
          0.4246297921895481,
          -0.7308639618574918,
          0.25594378026316994,
          0.18619445129129822,
          -0.000521841883759933,
          -0.0956855252854502,
          0.41568934719485845,
          2.3363430277107633,
          0.986313969490932,
          -2.2999979856947776,
          -0.988970346091432,
          -0.17387465651416092,
          1.1434523811225343,
          0.7142548633467558,
          1.0861935261444606,
          0.5326363331496747,
          0.24960608255715572,
          0.15224848216287823,
          -1.0379568391468894,
          0.40303463838925496,
          1.4745778622017471,
          0.5528359060224775,
          -0.4041364159267252,
          0.2958334397510018,
          -0.9587982415737354,
          2.411937340919393,
          -1.5457422218029453,
          0.349811580328209,
          -0.22414230333098373,
          -0.5952445750360521,
          -0.17328969929810023,
          -0.2544671869662989,
          0.38014899400462554,
          -0.8101198010890571,
          -0.14087644847276767,
          0.5011952118769845,
          -1.4466394766986472,
          -0.6101461012464322,
          0.25454424877028975,
          -0.6731734711992503,
          1.535518147828806,
          -1.8820650727715733,
          -0.08447236199084893,
          0.30272598868420986,
          1.279879939966949,
          -0.2801796132397617,
          1.1306796638342382,
          1.2908453116833694,
          -0.5089587024089931,
          0.12139023869349684,
          0.29123717194560733
         ],
         "y": [
          -0.9091481202776661,
          0.06780882273199226,
          -0.37426163102207805,
          -0.0893408716584356,
          0.3785809932478647,
          -0.1674663523925086,
          -1.8900779795166602,
          -0.3424626483864567,
          0.16169535711160646,
          0.0478377990035949,
          -0.05481689229587556,
          0.5533515341116935,
          1.813873713624411,
          0.4496238708250704,
          -0.7669842546794466,
          -0.5878357083218064,
          0.2371579630564443,
          -0.53799999065927,
          -1.928307767514013,
          0.778863457823434,
          -0.4660622969181952,
          0.21413796571596228,
          0.18163665667639722,
          -0.11279316160530298,
          -0.10135968035407887,
          1.1556132702741724,
          -1.4199345211591043,
          -1.1980119673035385,
          -0.403043648643454,
          -0.18535180459067813,
          -0.590798397804791,
          -0.3527904046359064,
          0.0521331226621967,
          1.532901799474751,
          0.5802094194992679,
          -0.010870242447072558,
          0.4642532142674884,
          -0.9660326232658625,
          1.9556195439245811,
          -0.05408068932375628,
          0.18235044092284422,
          -0.1051075040381056,
          0.16635592876305297,
          -1.6885493863487944,
          0.6763009103052485,
          -2.10897816221814,
          0.4405099968628592,
          0.6263658596754582,
          1.9604723414870466,
          1.06194614575976,
          0.6400773508424474,
          -0.5500867822309106,
          0.8307100882811101,
          0.0344633537188449,
          -1.330900477021943,
          2.4910631328577386,
          -1.7059464862818212,
          0.5955627767535996,
          0.07872829056054018,
          -0.7658543204305447,
          -1.0595414654093238,
          -0.4404871361336019,
          -0.4303288990356177,
          1.4977893567786902,
          -1.8584560116454625,
          0.28782599809848924,
          -0.5654122593952702,
          1.051391369391621,
          -0.9569865241042446,
          0.6768422848156005,
          -0.4150103635543724,
          1.9936289538054037,
          0.6034494063737481,
          -0.5042530167988375,
          -1.7769618298699321,
          0.2973685224675162,
          0.6357589463328186,
          -0.9239470626522018,
          0.389154509412879,
          -0.8314898251629631,
          1.1306355458935795,
          -0.13371758037286724,
          -0.9233531684251245,
          -1.482427845223228,
          -0.06425504201663151,
          1.8131487525802705,
          -1.3458155732931503,
          0.7107488739846166,
          0.5952788770646874,
          -0.18688980536139707,
          0.364839931718773,
          0.3702635516581097,
          -1.4292990764432627,
          -0.5328116959402388,
          0.11373726774497099,
          1.1744561982317403,
          0.9043388870333897,
          -0.5964606635103178,
          0.8775321308476934,
          0.4960320670502967
         ]
        }
       ],
       "layout": {
        "legend": {
         "bgcolor": "#F5F6F9",
         "font": {
          "color": "#4D5663"
         }
        },
        "paper_bgcolor": "#F5F6F9",
        "plot_bgcolor": "#F5F6F9",
        "template": {
         "data": {
          "bar": [
           {
            "error_x": {
             "color": "#2a3f5f"
            },
            "error_y": {
             "color": "#2a3f5f"
            },
            "marker": {
             "line": {
              "color": "#E5ECF6",
              "width": 0.5
             }
            },
            "type": "bar"
           }
          ],
          "barpolar": [
           {
            "marker": {
             "line": {
              "color": "#E5ECF6",
              "width": 0.5
             }
            },
            "type": "barpolar"
           }
          ],
          "carpet": [
           {
            "aaxis": {
             "endlinecolor": "#2a3f5f",
             "gridcolor": "white",
             "linecolor": "white",
             "minorgridcolor": "white",
             "startlinecolor": "#2a3f5f"
            },
            "baxis": {
             "endlinecolor": "#2a3f5f",
             "gridcolor": "white",
             "linecolor": "white",
             "minorgridcolor": "white",
             "startlinecolor": "#2a3f5f"
            },
            "type": "carpet"
           }
          ],
          "choropleth": [
           {
            "colorbar": {
             "outlinewidth": 0,
             "ticks": ""
            },
            "type": "choropleth"
           }
          ],
          "contour": [
           {
            "colorbar": {
             "outlinewidth": 0,
             "ticks": ""
            },
            "colorscale": [
             [
              0,
              "#0d0887"
             ],
             [
              0.1111111111111111,
              "#46039f"
             ],
             [
              0.2222222222222222,
              "#7201a8"
             ],
             [
              0.3333333333333333,
              "#9c179e"
             ],
             [
              0.4444444444444444,
              "#bd3786"
             ],
             [
              0.5555555555555556,
              "#d8576b"
             ],
             [
              0.6666666666666666,
              "#ed7953"
             ],
             [
              0.7777777777777778,
              "#fb9f3a"
             ],
             [
              0.8888888888888888,
              "#fdca26"
             ],
             [
              1,
              "#f0f921"
             ]
            ],
            "type": "contour"
           }
          ],
          "contourcarpet": [
           {
            "colorbar": {
             "outlinewidth": 0,
             "ticks": ""
            },
            "type": "contourcarpet"
           }
          ],
          "heatmap": [
           {
            "colorbar": {
             "outlinewidth": 0,
             "ticks": ""
            },
            "colorscale": [
             [
              0,
              "#0d0887"
             ],
             [
              0.1111111111111111,
              "#46039f"
             ],
             [
              0.2222222222222222,
              "#7201a8"
             ],
             [
              0.3333333333333333,
              "#9c179e"
             ],
             [
              0.4444444444444444,
              "#bd3786"
             ],
             [
              0.5555555555555556,
              "#d8576b"
             ],
             [
              0.6666666666666666,
              "#ed7953"
             ],
             [
              0.7777777777777778,
              "#fb9f3a"
             ],
             [
              0.8888888888888888,
              "#fdca26"
             ],
             [
              1,
              "#f0f921"
             ]
            ],
            "type": "heatmap"
           }
          ],
          "heatmapgl": [
           {
            "colorbar": {
             "outlinewidth": 0,
             "ticks": ""
            },
            "colorscale": [
             [
              0,
              "#0d0887"
             ],
             [
              0.1111111111111111,
              "#46039f"
             ],
             [
              0.2222222222222222,
              "#7201a8"
             ],
             [
              0.3333333333333333,
              "#9c179e"
             ],
             [
              0.4444444444444444,
              "#bd3786"
             ],
             [
              0.5555555555555556,
              "#d8576b"
             ],
             [
              0.6666666666666666,
              "#ed7953"
             ],
             [
              0.7777777777777778,
              "#fb9f3a"
             ],
             [
              0.8888888888888888,
              "#fdca26"
             ],
             [
              1,
              "#f0f921"
             ]
            ],
            "type": "heatmapgl"
           }
          ],
          "histogram": [
           {
            "marker": {
             "colorbar": {
              "outlinewidth": 0,
              "ticks": ""
             }
            },
            "type": "histogram"
           }
          ],
          "histogram2d": [
           {
            "colorbar": {
             "outlinewidth": 0,
             "ticks": ""
            },
            "colorscale": [
             [
              0,
              "#0d0887"
             ],
             [
              0.1111111111111111,
              "#46039f"
             ],
             [
              0.2222222222222222,
              "#7201a8"
             ],
             [
              0.3333333333333333,
              "#9c179e"
             ],
             [
              0.4444444444444444,
              "#bd3786"
             ],
             [
              0.5555555555555556,
              "#d8576b"
             ],
             [
              0.6666666666666666,
              "#ed7953"
             ],
             [
              0.7777777777777778,
              "#fb9f3a"
             ],
             [
              0.8888888888888888,
              "#fdca26"
             ],
             [
              1,
              "#f0f921"
             ]
            ],
            "type": "histogram2d"
           }
          ],
          "histogram2dcontour": [
           {
            "colorbar": {
             "outlinewidth": 0,
             "ticks": ""
            },
            "colorscale": [
             [
              0,
              "#0d0887"
             ],
             [
              0.1111111111111111,
              "#46039f"
             ],
             [
              0.2222222222222222,
              "#7201a8"
             ],
             [
              0.3333333333333333,
              "#9c179e"
             ],
             [
              0.4444444444444444,
              "#bd3786"
             ],
             [
              0.5555555555555556,
              "#d8576b"
             ],
             [
              0.6666666666666666,
              "#ed7953"
             ],
             [
              0.7777777777777778,
              "#fb9f3a"
             ],
             [
              0.8888888888888888,
              "#fdca26"
             ],
             [
              1,
              "#f0f921"
             ]
            ],
            "type": "histogram2dcontour"
           }
          ],
          "mesh3d": [
           {
            "colorbar": {
             "outlinewidth": 0,
             "ticks": ""
            },
            "type": "mesh3d"
           }
          ],
          "parcoords": [
           {
            "line": {
             "colorbar": {
              "outlinewidth": 0,
              "ticks": ""
             }
            },
            "type": "parcoords"
           }
          ],
          "pie": [
           {
            "automargin": true,
            "type": "pie"
           }
          ],
          "scatter": [
           {
            "marker": {
             "colorbar": {
              "outlinewidth": 0,
              "ticks": ""
             }
            },
            "type": "scatter"
           }
          ],
          "scatter3d": [
           {
            "line": {
             "colorbar": {
              "outlinewidth": 0,
              "ticks": ""
             }
            },
            "marker": {
             "colorbar": {
              "outlinewidth": 0,
              "ticks": ""
             }
            },
            "type": "scatter3d"
           }
          ],
          "scattercarpet": [
           {
            "marker": {
             "colorbar": {
              "outlinewidth": 0,
              "ticks": ""
             }
            },
            "type": "scattercarpet"
           }
          ],
          "scattergeo": [
           {
            "marker": {
             "colorbar": {
              "outlinewidth": 0,
              "ticks": ""
             }
            },
            "type": "scattergeo"
           }
          ],
          "scattergl": [
           {
            "marker": {
             "colorbar": {
              "outlinewidth": 0,
              "ticks": ""
             }
            },
            "type": "scattergl"
           }
          ],
          "scattermapbox": [
           {
            "marker": {
             "colorbar": {
              "outlinewidth": 0,
              "ticks": ""
             }
            },
            "type": "scattermapbox"
           }
          ],
          "scatterpolar": [
           {
            "marker": {
             "colorbar": {
              "outlinewidth": 0,
              "ticks": ""
             }
            },
            "type": "scatterpolar"
           }
          ],
          "scatterpolargl": [
           {
            "marker": {
             "colorbar": {
              "outlinewidth": 0,
              "ticks": ""
             }
            },
            "type": "scatterpolargl"
           }
          ],
          "scatterternary": [
           {
            "marker": {
             "colorbar": {
              "outlinewidth": 0,
              "ticks": ""
             }
            },
            "type": "scatterternary"
           }
          ],
          "surface": [
           {
            "colorbar": {
             "outlinewidth": 0,
             "ticks": ""
            },
            "colorscale": [
             [
              0,
              "#0d0887"
             ],
             [
              0.1111111111111111,
              "#46039f"
             ],
             [
              0.2222222222222222,
              "#7201a8"
             ],
             [
              0.3333333333333333,
              "#9c179e"
             ],
             [
              0.4444444444444444,
              "#bd3786"
             ],
             [
              0.5555555555555556,
              "#d8576b"
             ],
             [
              0.6666666666666666,
              "#ed7953"
             ],
             [
              0.7777777777777778,
              "#fb9f3a"
             ],
             [
              0.8888888888888888,
              "#fdca26"
             ],
             [
              1,
              "#f0f921"
             ]
            ],
            "type": "surface"
           }
          ],
          "table": [
           {
            "cells": {
             "fill": {
              "color": "#EBF0F8"
             },
             "line": {
              "color": "white"
             }
            },
            "header": {
             "fill": {
              "color": "#C8D4E3"
             },
             "line": {
              "color": "white"
             }
            },
            "type": "table"
           }
          ]
         },
         "layout": {
          "annotationdefaults": {
           "arrowcolor": "#2a3f5f",
           "arrowhead": 0,
           "arrowwidth": 1
          },
          "coloraxis": {
           "colorbar": {
            "outlinewidth": 0,
            "ticks": ""
           }
          },
          "colorscale": {
           "diverging": [
            [
             0,
             "#8e0152"
            ],
            [
             0.1,
             "#c51b7d"
            ],
            [
             0.2,
             "#de77ae"
            ],
            [
             0.3,
             "#f1b6da"
            ],
            [
             0.4,
             "#fde0ef"
            ],
            [
             0.5,
             "#f7f7f7"
            ],
            [
             0.6,
             "#e6f5d0"
            ],
            [
             0.7,
             "#b8e186"
            ],
            [
             0.8,
             "#7fbc41"
            ],
            [
             0.9,
             "#4d9221"
            ],
            [
             1,
             "#276419"
            ]
           ],
           "sequential": [
            [
             0,
             "#0d0887"
            ],
            [
             0.1111111111111111,
             "#46039f"
            ],
            [
             0.2222222222222222,
             "#7201a8"
            ],
            [
             0.3333333333333333,
             "#9c179e"
            ],
            [
             0.4444444444444444,
             "#bd3786"
            ],
            [
             0.5555555555555556,
             "#d8576b"
            ],
            [
             0.6666666666666666,
             "#ed7953"
            ],
            [
             0.7777777777777778,
             "#fb9f3a"
            ],
            [
             0.8888888888888888,
             "#fdca26"
            ],
            [
             1,
             "#f0f921"
            ]
           ],
           "sequentialminus": [
            [
             0,
             "#0d0887"
            ],
            [
             0.1111111111111111,
             "#46039f"
            ],
            [
             0.2222222222222222,
             "#7201a8"
            ],
            [
             0.3333333333333333,
             "#9c179e"
            ],
            [
             0.4444444444444444,
             "#bd3786"
            ],
            [
             0.5555555555555556,
             "#d8576b"
            ],
            [
             0.6666666666666666,
             "#ed7953"
            ],
            [
             0.7777777777777778,
             "#fb9f3a"
            ],
            [
             0.8888888888888888,
             "#fdca26"
            ],
            [
             1,
             "#f0f921"
            ]
           ]
          },
          "colorway": [
           "#636efa",
           "#EF553B",
           "#00cc96",
           "#ab63fa",
           "#FFA15A",
           "#19d3f3",
           "#FF6692",
           "#B6E880",
           "#FF97FF",
           "#FECB52"
          ],
          "font": {
           "color": "#2a3f5f"
          },
          "geo": {
           "bgcolor": "white",
           "lakecolor": "white",
           "landcolor": "#E5ECF6",
           "showlakes": true,
           "showland": true,
           "subunitcolor": "white"
          },
          "hoverlabel": {
           "align": "left"
          },
          "hovermode": "closest",
          "mapbox": {
           "style": "light"
          },
          "paper_bgcolor": "white",
          "plot_bgcolor": "#E5ECF6",
          "polar": {
           "angularaxis": {
            "gridcolor": "white",
            "linecolor": "white",
            "ticks": ""
           },
           "bgcolor": "#E5ECF6",
           "radialaxis": {
            "gridcolor": "white",
            "linecolor": "white",
            "ticks": ""
           }
          },
          "scene": {
           "xaxis": {
            "backgroundcolor": "#E5ECF6",
            "gridcolor": "white",
            "gridwidth": 2,
            "linecolor": "white",
            "showbackground": true,
            "ticks": "",
            "zerolinecolor": "white"
           },
           "yaxis": {
            "backgroundcolor": "#E5ECF6",
            "gridcolor": "white",
            "gridwidth": 2,
            "linecolor": "white",
            "showbackground": true,
            "ticks": "",
            "zerolinecolor": "white"
           },
           "zaxis": {
            "backgroundcolor": "#E5ECF6",
            "gridcolor": "white",
            "gridwidth": 2,
            "linecolor": "white",
            "showbackground": true,
            "ticks": "",
            "zerolinecolor": "white"
           }
          },
          "shapedefaults": {
           "line": {
            "color": "#2a3f5f"
           }
          },
          "ternary": {
           "aaxis": {
            "gridcolor": "white",
            "linecolor": "white",
            "ticks": ""
           },
           "baxis": {
            "gridcolor": "white",
            "linecolor": "white",
            "ticks": ""
           },
           "bgcolor": "#E5ECF6",
           "caxis": {
            "gridcolor": "white",
            "linecolor": "white",
            "ticks": ""
           }
          },
          "title": {
           "x": 0.05
          },
          "xaxis": {
           "automargin": true,
           "gridcolor": "white",
           "linecolor": "white",
           "ticks": "",
           "title": {
            "standoff": 15
           },
           "zerolinecolor": "white",
           "zerolinewidth": 2
          },
          "yaxis": {
           "automargin": true,
           "gridcolor": "white",
           "linecolor": "white",
           "ticks": "",
           "title": {
            "standoff": 15
           },
           "zerolinecolor": "white",
           "zerolinewidth": 2
          }
         }
        },
        "title": {
         "font": {
          "color": "#4D5663"
         }
        },
        "xaxis": {
         "gridcolor": "#E1E5ED",
         "showgrid": true,
         "tickfont": {
          "color": "#4D5663"
         },
         "title": {
          "font": {
           "color": "#4D5663"
          },
          "text": ""
         },
         "zerolinecolor": "#E1E5ED"
        },
        "yaxis": {
         "gridcolor": "#E1E5ED",
         "showgrid": true,
         "tickfont": {
          "color": "#4D5663"
         },
         "title": {
          "font": {
           "color": "#4D5663"
          },
          "text": ""
         },
         "zerolinecolor": "#E1E5ED"
        }
       }
      },
      "text/html": [
       "<div>\n",
       "        \n",
       "        \n",
       "            <div id=\"156908a9-bd01-483e-98f7-d37adaded61c\" class=\"plotly-graph-div\" style=\"height:525px; width:100%;\"></div>\n",
       "            <script type=\"text/javascript\">\n",
       "                require([\"plotly\"], function(Plotly) {\n",
       "                    window.PLOTLYENV=window.PLOTLYENV || {};\n",
       "                    window.PLOTLYENV.BASE_URL='https://plot.ly';\n",
       "                    \n",
       "                if (document.getElementById(\"156908a9-bd01-483e-98f7-d37adaded61c\")) {\n",
       "                    Plotly.newPlot(\n",
       "                        '156908a9-bd01-483e-98f7-d37adaded61c',\n",
       "                        [{\"marker\": {\"color\": [\"rgb(255, 153, 51)\", \"rgb(55, 128, 191)\", \"rgb(50, 171, 96)\", \"rgb(128, 0, 128)\", \"rgb(219, 64, 82)\", \"rgb(0, 128, 128)\", \"rgb(255, 255, 51)\", \"rgb(128, 128, 0)\", \"rgb(251, 128, 114)\", \"rgb(128, 177, 211)\"], \"line\": {\"width\": 1.3}, \"size\": [28, 52, 67, 53, 52, 39, 64, 85, 30, 44, 41, 62, 38, 31, 71, 34, 29, 40, 35, 65, 17, 77, 96, 18, 68, 94, 43, 57, 42, 39, 76, 30, 86, 67, 53, 46, 49, 36, 55, 78, 101, 93, 53, 60, 70, 19, 37, 47, 12, 81, 66, 42, 42, 73, 46, 58, 67, 57, 51, 63, 53, 35, 42, 56, 35, 67, 59, 89, 81, 54, 52, 65, 31, 61, 60, 41, 50, 53, 108, 79, 53, 90, 42, 57, 25, 55, 16, 26, 112, 86, 32, 70, 39, 45, 22, 57, 21, 72, 32, 20], \"symbol\": \"circle\"}, \"mode\": \"markers\", \"text\": \"\", \"type\": \"scatter\", \"x\": [1.5786187229586952, 0.5388907679893202, 1.078694437802884, 0.32245053629987225, -0.9223734597448511, 0.6846853537469202, -0.45008481106597226, -0.3533505384946988, -2.8731498108221647, -0.7484971720768924, -0.36500273352880264, 0.6067655573450121, -0.9095258614147902, -0.5916802031109333, -0.1286568103901193, 1.7388296281606612, 0.47239980869073794, -0.19232195914901176, 2.229241629104578, 0.9230532412325921, 1.669864645835989, -0.048946795581749296, -1.1772689529385014, -1.507948452528026, 0.24724840660536831, -0.5514672401858561, 0.03940467306020378, 1.101065497240953, -0.6740037548529809, -1.087435723169192, 0.7956290688949827, 1.3708984098787027, -2.5791584583768774, -0.22441070420898013, 0.26205684531518003, -1.4562008931988613, 1.4373764995136746, 1.5882274462361048, -1.14297172147719, 0.8557954035872387, -0.21393484405050417, -0.4561921999510943, -1.2399718899695817, -0.4894135182650713, -0.9339678649182176, 1.1632061007301673, -0.5287445421017896, -0.7851686235869038, 0.9047629487274184, 0.4246297921895481, -0.7308639618574918, 0.25594378026316994, 0.18619445129129822, -0.000521841883759933, -0.0956855252854502, 0.41568934719485845, 2.3363430277107633, 0.986313969490932, -2.2999979856947776, -0.988970346091432, -0.17387465651416092, 1.1434523811225343, 0.7142548633467558, 1.0861935261444606, 0.5326363331496747, 0.24960608255715572, 0.15224848216287823, -1.0379568391468894, 0.40303463838925496, 1.4745778622017471, 0.5528359060224775, -0.4041364159267252, 0.2958334397510018, -0.9587982415737354, 2.411937340919393, -1.5457422218029453, 0.349811580328209, -0.22414230333098373, -0.5952445750360521, -0.17328969929810023, -0.2544671869662989, 0.38014899400462554, -0.8101198010890571, -0.14087644847276767, 0.5011952118769845, -1.4466394766986472, -0.6101461012464322, 0.25454424877028975, -0.6731734711992503, 1.535518147828806, -1.8820650727715733, -0.08447236199084893, 0.30272598868420986, 1.279879939966949, -0.2801796132397617, 1.1306796638342382, 1.2908453116833694, -0.5089587024089931, 0.12139023869349684, 0.29123717194560733], \"y\": [-0.9091481202776661, 0.06780882273199226, -0.37426163102207805, -0.0893408716584356, 0.3785809932478647, -0.1674663523925086, -1.8900779795166602, -0.3424626483864567, 0.16169535711160646, 0.0478377990035949, -0.05481689229587556, 0.5533515341116935, 1.813873713624411, 0.4496238708250704, -0.7669842546794466, -0.5878357083218064, 0.2371579630564443, -0.53799999065927, -1.928307767514013, 0.778863457823434, -0.4660622969181952, 0.21413796571596228, 0.18163665667639722, -0.11279316160530298, -0.10135968035407887, 1.1556132702741724, -1.4199345211591043, -1.1980119673035385, -0.403043648643454, -0.18535180459067813, -0.590798397804791, -0.3527904046359064, 0.0521331226621967, 1.532901799474751, 0.5802094194992679, -0.010870242447072558, 0.4642532142674884, -0.9660326232658625, 1.9556195439245811, -0.05408068932375628, 0.18235044092284422, -0.1051075040381056, 0.16635592876305297, -1.6885493863487944, 0.6763009103052485, -2.10897816221814, 0.4405099968628592, 0.6263658596754582, 1.9604723414870466, 1.06194614575976, 0.6400773508424474, -0.5500867822309106, 0.8307100882811101, 0.0344633537188449, -1.330900477021943, 2.4910631328577386, -1.7059464862818212, 0.5955627767535996, 0.07872829056054018, -0.7658543204305447, -1.0595414654093238, -0.4404871361336019, -0.4303288990356177, 1.4977893567786902, -1.8584560116454625, 0.28782599809848924, -0.5654122593952702, 1.051391369391621, -0.9569865241042446, 0.6768422848156005, -0.4150103635543724, 1.9936289538054037, 0.6034494063737481, -0.5042530167988375, -1.7769618298699321, 0.2973685224675162, 0.6357589463328186, -0.9239470626522018, 0.389154509412879, -0.8314898251629631, 1.1306355458935795, -0.13371758037286724, -0.9233531684251245, -1.482427845223228, -0.06425504201663151, 1.8131487525802705, -1.3458155732931503, 0.7107488739846166, 0.5952788770646874, -0.18688980536139707, 0.364839931718773, 0.3702635516581097, -1.4292990764432627, -0.5328116959402388, 0.11373726774497099, 1.1744561982317403, 0.9043388870333897, -0.5964606635103178, 0.8775321308476934, 0.4960320670502967]}],\n",
       "                        {\"legend\": {\"bgcolor\": \"#F5F6F9\", \"font\": {\"color\": \"#4D5663\"}}, \"paper_bgcolor\": \"#F5F6F9\", \"plot_bgcolor\": \"#F5F6F9\", \"template\": {\"data\": {\"bar\": [{\"error_x\": {\"color\": \"#2a3f5f\"}, \"error_y\": {\"color\": \"#2a3f5f\"}, \"marker\": {\"line\": {\"color\": \"#E5ECF6\", \"width\": 0.5}}, \"type\": \"bar\"}], \"barpolar\": [{\"marker\": {\"line\": {\"color\": \"#E5ECF6\", \"width\": 0.5}}, \"type\": \"barpolar\"}], \"carpet\": [{\"aaxis\": {\"endlinecolor\": \"#2a3f5f\", \"gridcolor\": \"white\", \"linecolor\": \"white\", \"minorgridcolor\": \"white\", \"startlinecolor\": \"#2a3f5f\"}, \"baxis\": {\"endlinecolor\": \"#2a3f5f\", \"gridcolor\": \"white\", \"linecolor\": \"white\", \"minorgridcolor\": \"white\", \"startlinecolor\": \"#2a3f5f\"}, \"type\": \"carpet\"}], \"choropleth\": [{\"colorbar\": {\"outlinewidth\": 0, \"ticks\": \"\"}, \"type\": \"choropleth\"}], \"contour\": [{\"colorbar\": {\"outlinewidth\": 0, \"ticks\": \"\"}, \"colorscale\": [[0.0, \"#0d0887\"], [0.1111111111111111, \"#46039f\"], [0.2222222222222222, \"#7201a8\"], [0.3333333333333333, \"#9c179e\"], [0.4444444444444444, \"#bd3786\"], [0.5555555555555556, \"#d8576b\"], [0.6666666666666666, \"#ed7953\"], [0.7777777777777778, \"#fb9f3a\"], [0.8888888888888888, \"#fdca26\"], [1.0, \"#f0f921\"]], \"type\": \"contour\"}], \"contourcarpet\": [{\"colorbar\": {\"outlinewidth\": 0, \"ticks\": \"\"}, \"type\": \"contourcarpet\"}], \"heatmap\": [{\"colorbar\": {\"outlinewidth\": 0, \"ticks\": \"\"}, \"colorscale\": [[0.0, \"#0d0887\"], [0.1111111111111111, \"#46039f\"], [0.2222222222222222, \"#7201a8\"], [0.3333333333333333, \"#9c179e\"], [0.4444444444444444, \"#bd3786\"], [0.5555555555555556, \"#d8576b\"], [0.6666666666666666, \"#ed7953\"], [0.7777777777777778, \"#fb9f3a\"], [0.8888888888888888, \"#fdca26\"], [1.0, \"#f0f921\"]], \"type\": \"heatmap\"}], \"heatmapgl\": [{\"colorbar\": {\"outlinewidth\": 0, \"ticks\": \"\"}, \"colorscale\": [[0.0, \"#0d0887\"], [0.1111111111111111, \"#46039f\"], [0.2222222222222222, \"#7201a8\"], [0.3333333333333333, \"#9c179e\"], [0.4444444444444444, \"#bd3786\"], [0.5555555555555556, \"#d8576b\"], [0.6666666666666666, \"#ed7953\"], [0.7777777777777778, \"#fb9f3a\"], [0.8888888888888888, \"#fdca26\"], [1.0, \"#f0f921\"]], \"type\": \"heatmapgl\"}], \"histogram\": [{\"marker\": {\"colorbar\": {\"outlinewidth\": 0, \"ticks\": \"\"}}, \"type\": \"histogram\"}], \"histogram2d\": [{\"colorbar\": {\"outlinewidth\": 0, \"ticks\": \"\"}, \"colorscale\": [[0.0, \"#0d0887\"], [0.1111111111111111, \"#46039f\"], [0.2222222222222222, \"#7201a8\"], [0.3333333333333333, \"#9c179e\"], [0.4444444444444444, \"#bd3786\"], [0.5555555555555556, \"#d8576b\"], [0.6666666666666666, \"#ed7953\"], [0.7777777777777778, \"#fb9f3a\"], [0.8888888888888888, \"#fdca26\"], [1.0, \"#f0f921\"]], \"type\": \"histogram2d\"}], \"histogram2dcontour\": [{\"colorbar\": {\"outlinewidth\": 0, \"ticks\": \"\"}, \"colorscale\": [[0.0, \"#0d0887\"], [0.1111111111111111, \"#46039f\"], [0.2222222222222222, \"#7201a8\"], [0.3333333333333333, \"#9c179e\"], [0.4444444444444444, \"#bd3786\"], [0.5555555555555556, \"#d8576b\"], [0.6666666666666666, \"#ed7953\"], [0.7777777777777778, \"#fb9f3a\"], [0.8888888888888888, \"#fdca26\"], [1.0, \"#f0f921\"]], \"type\": \"histogram2dcontour\"}], \"mesh3d\": [{\"colorbar\": {\"outlinewidth\": 0, \"ticks\": \"\"}, \"type\": \"mesh3d\"}], \"parcoords\": [{\"line\": {\"colorbar\": {\"outlinewidth\": 0, \"ticks\": \"\"}}, \"type\": \"parcoords\"}], \"pie\": [{\"automargin\": true, \"type\": \"pie\"}], \"scatter\": [{\"marker\": {\"colorbar\": {\"outlinewidth\": 0, \"ticks\": \"\"}}, \"type\": \"scatter\"}], \"scatter3d\": [{\"line\": {\"colorbar\": {\"outlinewidth\": 0, \"ticks\": \"\"}}, \"marker\": {\"colorbar\": {\"outlinewidth\": 0, \"ticks\": \"\"}}, \"type\": \"scatter3d\"}], \"scattercarpet\": [{\"marker\": {\"colorbar\": {\"outlinewidth\": 0, \"ticks\": \"\"}}, \"type\": \"scattercarpet\"}], \"scattergeo\": [{\"marker\": {\"colorbar\": {\"outlinewidth\": 0, \"ticks\": \"\"}}, \"type\": \"scattergeo\"}], \"scattergl\": [{\"marker\": {\"colorbar\": {\"outlinewidth\": 0, \"ticks\": \"\"}}, \"type\": \"scattergl\"}], \"scattermapbox\": [{\"marker\": {\"colorbar\": {\"outlinewidth\": 0, \"ticks\": \"\"}}, \"type\": \"scattermapbox\"}], \"scatterpolar\": [{\"marker\": {\"colorbar\": {\"outlinewidth\": 0, \"ticks\": \"\"}}, \"type\": \"scatterpolar\"}], \"scatterpolargl\": [{\"marker\": {\"colorbar\": {\"outlinewidth\": 0, \"ticks\": \"\"}}, \"type\": \"scatterpolargl\"}], \"scatterternary\": [{\"marker\": {\"colorbar\": {\"outlinewidth\": 0, \"ticks\": \"\"}}, \"type\": \"scatterternary\"}], \"surface\": [{\"colorbar\": {\"outlinewidth\": 0, \"ticks\": \"\"}, \"colorscale\": [[0.0, \"#0d0887\"], [0.1111111111111111, \"#46039f\"], [0.2222222222222222, \"#7201a8\"], [0.3333333333333333, \"#9c179e\"], [0.4444444444444444, \"#bd3786\"], [0.5555555555555556, \"#d8576b\"], [0.6666666666666666, \"#ed7953\"], [0.7777777777777778, \"#fb9f3a\"], [0.8888888888888888, \"#fdca26\"], [1.0, \"#f0f921\"]], \"type\": \"surface\"}], \"table\": [{\"cells\": {\"fill\": {\"color\": \"#EBF0F8\"}, \"line\": {\"color\": \"white\"}}, \"header\": {\"fill\": {\"color\": \"#C8D4E3\"}, \"line\": {\"color\": \"white\"}}, \"type\": \"table\"}]}, \"layout\": {\"annotationdefaults\": {\"arrowcolor\": \"#2a3f5f\", \"arrowhead\": 0, \"arrowwidth\": 1}, \"coloraxis\": {\"colorbar\": {\"outlinewidth\": 0, \"ticks\": \"\"}}, \"colorscale\": {\"diverging\": [[0, \"#8e0152\"], [0.1, \"#c51b7d\"], [0.2, \"#de77ae\"], [0.3, \"#f1b6da\"], [0.4, \"#fde0ef\"], [0.5, \"#f7f7f7\"], [0.6, \"#e6f5d0\"], [0.7, \"#b8e186\"], [0.8, \"#7fbc41\"], [0.9, \"#4d9221\"], [1, \"#276419\"]], \"sequential\": [[0.0, \"#0d0887\"], [0.1111111111111111, \"#46039f\"], [0.2222222222222222, \"#7201a8\"], [0.3333333333333333, \"#9c179e\"], [0.4444444444444444, \"#bd3786\"], [0.5555555555555556, \"#d8576b\"], [0.6666666666666666, \"#ed7953\"], [0.7777777777777778, \"#fb9f3a\"], [0.8888888888888888, \"#fdca26\"], [1.0, \"#f0f921\"]], \"sequentialminus\": [[0.0, \"#0d0887\"], [0.1111111111111111, \"#46039f\"], [0.2222222222222222, \"#7201a8\"], [0.3333333333333333, \"#9c179e\"], [0.4444444444444444, \"#bd3786\"], [0.5555555555555556, \"#d8576b\"], [0.6666666666666666, \"#ed7953\"], [0.7777777777777778, \"#fb9f3a\"], [0.8888888888888888, \"#fdca26\"], [1.0, \"#f0f921\"]]}, \"colorway\": [\"#636efa\", \"#EF553B\", \"#00cc96\", \"#ab63fa\", \"#FFA15A\", \"#19d3f3\", \"#FF6692\", \"#B6E880\", \"#FF97FF\", \"#FECB52\"], \"font\": {\"color\": \"#2a3f5f\"}, \"geo\": {\"bgcolor\": \"white\", \"lakecolor\": \"white\", \"landcolor\": \"#E5ECF6\", \"showlakes\": true, \"showland\": true, \"subunitcolor\": \"white\"}, \"hoverlabel\": {\"align\": \"left\"}, \"hovermode\": \"closest\", \"mapbox\": {\"style\": \"light\"}, \"paper_bgcolor\": \"white\", \"plot_bgcolor\": \"#E5ECF6\", \"polar\": {\"angularaxis\": {\"gridcolor\": \"white\", \"linecolor\": \"white\", \"ticks\": \"\"}, \"bgcolor\": \"#E5ECF6\", \"radialaxis\": {\"gridcolor\": \"white\", \"linecolor\": \"white\", \"ticks\": \"\"}}, \"scene\": {\"xaxis\": {\"backgroundcolor\": \"#E5ECF6\", \"gridcolor\": \"white\", \"gridwidth\": 2, \"linecolor\": \"white\", \"showbackground\": true, \"ticks\": \"\", \"zerolinecolor\": \"white\"}, \"yaxis\": {\"backgroundcolor\": \"#E5ECF6\", \"gridcolor\": \"white\", \"gridwidth\": 2, \"linecolor\": \"white\", \"showbackground\": true, \"ticks\": \"\", \"zerolinecolor\": \"white\"}, \"zaxis\": {\"backgroundcolor\": \"#E5ECF6\", \"gridcolor\": \"white\", \"gridwidth\": 2, \"linecolor\": \"white\", \"showbackground\": true, \"ticks\": \"\", \"zerolinecolor\": \"white\"}}, \"shapedefaults\": {\"line\": {\"color\": \"#2a3f5f\"}}, \"ternary\": {\"aaxis\": {\"gridcolor\": \"white\", \"linecolor\": \"white\", \"ticks\": \"\"}, \"baxis\": {\"gridcolor\": \"white\", \"linecolor\": \"white\", \"ticks\": \"\"}, \"bgcolor\": \"#E5ECF6\", \"caxis\": {\"gridcolor\": \"white\", \"linecolor\": \"white\", \"ticks\": \"\"}}, \"title\": {\"x\": 0.05}, \"xaxis\": {\"automargin\": true, \"gridcolor\": \"white\", \"linecolor\": \"white\", \"ticks\": \"\", \"title\": {\"standoff\": 15}, \"zerolinecolor\": \"white\", \"zerolinewidth\": 2}, \"yaxis\": {\"automargin\": true, \"gridcolor\": \"white\", \"linecolor\": \"white\", \"ticks\": \"\", \"title\": {\"standoff\": 15}, \"zerolinecolor\": \"white\", \"zerolinewidth\": 2}}}, \"title\": {\"font\": {\"color\": \"#4D5663\"}}, \"xaxis\": {\"gridcolor\": \"#E1E5ED\", \"showgrid\": true, \"tickfont\": {\"color\": \"#4D5663\"}, \"title\": {\"font\": {\"color\": \"#4D5663\"}, \"text\": \"\"}, \"zerolinecolor\": \"#E1E5ED\"}, \"yaxis\": {\"gridcolor\": \"#E1E5ED\", \"showgrid\": true, \"tickfont\": {\"color\": \"#4D5663\"}, \"title\": {\"font\": {\"color\": \"#4D5663\"}, \"text\": \"\"}, \"zerolinecolor\": \"#E1E5ED\"}},\n",
       "                        {\"showLink\": true, \"linkText\": \"Export to plot.ly\", \"plotlyServerURL\": \"https://plot.ly\", \"responsive\": true}\n",
       "                    ).then(function(){\n",
       "                            \n",
       "var gd = document.getElementById('156908a9-bd01-483e-98f7-d37adaded61c');\n",
       "var x = new MutationObserver(function (mutations, observer) {{\n",
       "        var display = window.getComputedStyle(gd).display;\n",
       "        if (!display || display === 'none') {{\n",
       "            console.log([gd, 'removed!']);\n",
       "            Plotly.purge(gd);\n",
       "            observer.disconnect();\n",
       "        }}\n",
       "}});\n",
       "\n",
       "// Listen for the removal of the full notebook cells\n",
       "var notebookContainer = gd.closest('#notebook-container');\n",
       "if (notebookContainer) {{\n",
       "    x.observe(notebookContainer, {childList: true});\n",
       "}}\n",
       "\n",
       "// Listen for the clearing of the current output cell\n",
       "var outputEl = gd.closest('.output');\n",
       "if (outputEl) {{\n",
       "    x.observe(outputEl, {childList: true});\n",
       "}}\n",
       "\n",
       "                        })\n",
       "                };\n",
       "                });\n",
       "            </script>\n",
       "        </div>"
      ]
     },
     "metadata": {},
     "output_type": "display_data"
    }
   ],
   "source": [
    "df.iplot(kind='bubble', x='A',y='B', size='C')"
   ]
  },
  {
   "cell_type": "code",
   "execution_count": 42,
   "metadata": {},
   "outputs": [
    {
     "data": {
      "application/vnd.plotly.v1+json": {
       "config": {
        "linkText": "Export to plot.ly",
        "plotlyServerURL": "https://plot.ly",
        "showLink": true
       },
       "data": [
        {
         "histfunc": "count",
         "histnorm": "",
         "marker": {
          "color": "rgba(255, 153, 51, 1.0)",
          "line": {
           "color": "#4D5663",
           "width": 1.3
          }
         },
         "name": "A",
         "nbinsx": 10,
         "opacity": 0.8,
         "orientation": "v",
         "type": "histogram",
         "x": [
          1.5786187229586952,
          0.5388907679893202,
          1.078694437802884,
          0.32245053629987225,
          -0.9223734597448511,
          0.6846853537469202,
          -0.45008481106597226,
          -0.3533505384946988,
          -2.8731498108221647,
          -0.7484971720768924,
          -0.36500273352880264,
          0.6067655573450121,
          -0.9095258614147902,
          -0.5916802031109333,
          -0.1286568103901193,
          1.7388296281606612,
          0.47239980869073794,
          -0.19232195914901176,
          2.229241629104578,
          0.9230532412325921,
          1.669864645835989,
          -0.048946795581749296,
          -1.1772689529385014,
          -1.507948452528026,
          0.24724840660536831,
          -0.5514672401858561,
          0.03940467306020378,
          1.101065497240953,
          -0.6740037548529809,
          -1.087435723169192,
          0.7956290688949827,
          1.3708984098787027,
          -2.5791584583768774,
          -0.22441070420898013,
          0.26205684531518003,
          -1.4562008931988613,
          1.4373764995136746,
          1.5882274462361048,
          -1.14297172147719,
          0.8557954035872387,
          -0.21393484405050417,
          -0.4561921999510943,
          -1.2399718899695817,
          -0.4894135182650713,
          -0.9339678649182176,
          1.1632061007301673,
          -0.5287445421017896,
          -0.7851686235869038,
          0.9047629487274184,
          0.4246297921895481,
          -0.7308639618574918,
          0.25594378026316994,
          0.18619445129129822,
          -0.000521841883759933,
          -0.0956855252854502,
          0.41568934719485845,
          2.3363430277107633,
          0.986313969490932,
          -2.2999979856947776,
          -0.988970346091432,
          -0.17387465651416092,
          1.1434523811225343,
          0.7142548633467558,
          1.0861935261444606,
          0.5326363331496747,
          0.24960608255715572,
          0.15224848216287823,
          -1.0379568391468894,
          0.40303463838925496,
          1.4745778622017471,
          0.5528359060224775,
          -0.4041364159267252,
          0.2958334397510018,
          -0.9587982415737354,
          2.411937340919393,
          -1.5457422218029453,
          0.349811580328209,
          -0.22414230333098373,
          -0.5952445750360521,
          -0.17328969929810023,
          -0.2544671869662989,
          0.38014899400462554,
          -0.8101198010890571,
          -0.14087644847276767,
          0.5011952118769845,
          -1.4466394766986472,
          -0.6101461012464322,
          0.25454424877028975,
          -0.6731734711992503,
          1.535518147828806,
          -1.8820650727715733,
          -0.08447236199084893,
          0.30272598868420986,
          1.279879939966949,
          -0.2801796132397617,
          1.1306796638342382,
          1.2908453116833694,
          -0.5089587024089931,
          0.12139023869349684,
          0.29123717194560733
         ],
         "xaxis": "x",
         "yaxis": "y"
        },
        {
         "line": {
          "color": "rgba(128, 128, 128, 1.0)",
          "dash": "solid",
          "shape": "linear",
          "width": 1.3
         },
         "marker": {
          "size": 2,
          "symbol": "circle"
         },
         "mode": "markers",
         "name": "A",
         "text": "",
         "type": "scatter",
         "x": [
          -0.9091481202776661,
          0.06780882273199226,
          -0.37426163102207805,
          -0.0893408716584356,
          0.3785809932478647,
          -0.1674663523925086,
          -1.8900779795166602,
          -0.3424626483864567,
          0.16169535711160646,
          0.0478377990035949,
          -0.05481689229587556,
          0.5533515341116935,
          1.813873713624411,
          0.4496238708250704,
          -0.7669842546794466,
          -0.5878357083218064,
          0.2371579630564443,
          -0.53799999065927,
          -1.928307767514013,
          0.778863457823434,
          -0.4660622969181952,
          0.21413796571596228,
          0.18163665667639722,
          -0.11279316160530298,
          -0.10135968035407887,
          1.1556132702741724,
          -1.4199345211591043,
          -1.1980119673035385,
          -0.403043648643454,
          -0.18535180459067813,
          -0.590798397804791,
          -0.3527904046359064,
          0.0521331226621967,
          1.532901799474751,
          0.5802094194992679,
          -0.010870242447072558,
          0.4642532142674884,
          -0.9660326232658625,
          1.9556195439245811,
          -0.05408068932375628,
          0.18235044092284422,
          -0.1051075040381056,
          0.16635592876305297,
          -1.6885493863487944,
          0.6763009103052485,
          -2.10897816221814,
          0.4405099968628592,
          0.6263658596754582,
          1.9604723414870466,
          1.06194614575976,
          0.6400773508424474,
          -0.5500867822309106,
          0.8307100882811101,
          0.0344633537188449,
          -1.330900477021943,
          2.4910631328577386,
          -1.7059464862818212,
          0.5955627767535996,
          0.07872829056054018,
          -0.7658543204305447,
          -1.0595414654093238,
          -0.4404871361336019,
          -0.4303288990356177,
          1.4977893567786902,
          -1.8584560116454625,
          0.28782599809848924,
          -0.5654122593952702,
          1.051391369391621,
          -0.9569865241042446,
          0.6768422848156005,
          -0.4150103635543724,
          1.9936289538054037,
          0.6034494063737481,
          -0.5042530167988375,
          -1.7769618298699321,
          0.2973685224675162,
          0.6357589463328186,
          -0.9239470626522018,
          0.389154509412879,
          -0.8314898251629631,
          1.1306355458935795,
          -0.13371758037286724,
          -0.9233531684251245,
          -1.482427845223228,
          -0.06425504201663151,
          1.8131487525802705,
          -1.3458155732931503,
          0.7107488739846166,
          0.5952788770646874,
          -0.18688980536139707,
          0.364839931718773,
          0.3702635516581097,
          -1.4292990764432627,
          -0.5328116959402388,
          0.11373726774497099,
          1.1744561982317403,
          0.9043388870333897,
          -0.5964606635103178,
          0.8775321308476934,
          0.4960320670502967
         ],
         "xaxis": "x2",
         "y": [
          1.5786187229586952,
          0.5388907679893202,
          1.078694437802884,
          0.32245053629987225,
          -0.9223734597448511,
          0.6846853537469202,
          -0.45008481106597226,
          -0.3533505384946988,
          -2.8731498108221647,
          -0.7484971720768924,
          -0.36500273352880264,
          0.6067655573450121,
          -0.9095258614147902,
          -0.5916802031109333,
          -0.1286568103901193,
          1.7388296281606612,
          0.47239980869073794,
          -0.19232195914901176,
          2.229241629104578,
          0.9230532412325921,
          1.669864645835989,
          -0.048946795581749296,
          -1.1772689529385014,
          -1.507948452528026,
          0.24724840660536831,
          -0.5514672401858561,
          0.03940467306020378,
          1.101065497240953,
          -0.6740037548529809,
          -1.087435723169192,
          0.7956290688949827,
          1.3708984098787027,
          -2.5791584583768774,
          -0.22441070420898013,
          0.26205684531518003,
          -1.4562008931988613,
          1.4373764995136746,
          1.5882274462361048,
          -1.14297172147719,
          0.8557954035872387,
          -0.21393484405050417,
          -0.4561921999510943,
          -1.2399718899695817,
          -0.4894135182650713,
          -0.9339678649182176,
          1.1632061007301673,
          -0.5287445421017896,
          -0.7851686235869038,
          0.9047629487274184,
          0.4246297921895481,
          -0.7308639618574918,
          0.25594378026316994,
          0.18619445129129822,
          -0.000521841883759933,
          -0.0956855252854502,
          0.41568934719485845,
          2.3363430277107633,
          0.986313969490932,
          -2.2999979856947776,
          -0.988970346091432,
          -0.17387465651416092,
          1.1434523811225343,
          0.7142548633467558,
          1.0861935261444606,
          0.5326363331496747,
          0.24960608255715572,
          0.15224848216287823,
          -1.0379568391468894,
          0.40303463838925496,
          1.4745778622017471,
          0.5528359060224775,
          -0.4041364159267252,
          0.2958334397510018,
          -0.9587982415737354,
          2.411937340919393,
          -1.5457422218029453,
          0.349811580328209,
          -0.22414230333098373,
          -0.5952445750360521,
          -0.17328969929810023,
          -0.2544671869662989,
          0.38014899400462554,
          -0.8101198010890571,
          -0.14087644847276767,
          0.5011952118769845,
          -1.4466394766986472,
          -0.6101461012464322,
          0.25454424877028975,
          -0.6731734711992503,
          1.535518147828806,
          -1.8820650727715733,
          -0.08447236199084893,
          0.30272598868420986,
          1.279879939966949,
          -0.2801796132397617,
          1.1306796638342382,
          1.2908453116833694,
          -0.5089587024089931,
          0.12139023869349684,
          0.29123717194560733
         ],
         "yaxis": "y2"
        },
        {
         "line": {
          "color": "rgba(128, 128, 128, 1.0)",
          "dash": "solid",
          "shape": "linear",
          "width": 1.3
         },
         "marker": {
          "size": 2,
          "symbol": "circle"
         },
         "mode": "markers",
         "name": "A",
         "text": "",
         "type": "scatter",
         "x": [
          -1.197603887322099,
          -0.14967919671293892,
          0.5444082636142232,
          -0.07152960472442545,
          -0.11760235423160066,
          -0.7152903793804544,
          0.4005045046255291,
          1.3518039524512873,
          -1.1243483736276993,
          -0.5009909117196343,
          -0.6356525293413666,
          0.2956388077628931,
          -0.7524320015200916,
          -1.0529801411888347,
          0.7071044525469407,
          -0.9284437462526892,
          -1.164603065805729,
          -0.6421343978188939,
          -0.8947566955109193,
          0.452194461157883,
          -1.670887483463763,
          1.0002966776604,
          1.8493638173924913,
          -1.652593256858235,
          0.5956196697561125,
          1.7477319863139726,
          -0.5083851338373848,
          0.07323737775396946,
          -0.5543647956471862,
          -0.7280928908030394,
          0.929444705638144,
          -1.1237235236519836,
          1.364897098191059,
          0.5478777880307599,
          -0.07518856217547684,
          -0.3973916275118296,
          -0.2522469404046494,
          -0.8371763884555629,
          -0.007728306192208445,
          1.037248310474221,
          2.0671129544998172,
          1.706815112917324,
          -0.08261281371724254,
          0.20644873959937096,
          0.6924770531326767,
          -1.5827261161381425,
          -0.7763239958108433,
          -0.3503803723749217,
          -1.9302490373390493,
          1.1641087222396087,
          0.5011120254621527,
          -0.5765128729674301,
          -0.572909190354357,
          0.7960288033317842,
          -0.4016600353267202,
          0.14155162583316797,
          0.538711537931317,
          0.09717978563857158,
          -0.15855920678036223,
          0.3817610314473487,
          -0.06345160415242983,
          -0.8949898403245102,
          -0.5922689806323262,
          0.059167966149032476,
          -0.9025951845322313,
          0.5561210474233387,
          0.18971421226487797,
          1.527466279236679,
          1.1553110119046823,
          -0.05142100171334006,
          -0.11104848011462413,
          0.45975838916078526,
          -1.0837658721120444,
          0.2603074791735487,
          0.2271357768750185,
          -0.6143912633154864,
          -0.19682027933217464,
          -0.0755922482911257,
          2.3624936077255865,
          1.061218366771381,
          -0.09187194218598727,
          1.5566403723088795,
          -0.5662785101994151,
          0.0871672917737875,
          -1.3130377206401151,
          -0.01629282610072284,
          -1.7130840368279885,
          -1.295689318319282,
          2.5175579928428995,
          1.377240242721176,
          -1.034680562490194,
          0.6531272679255921,
          -0.6879084568105988,
          -0.46116366918317875,
          -1.457596574037775,
          0.08248908322072915,
          -1.5267858011457618,
          0.7764265294878716,
          -1.0063240827148245,
          -1.5337039944830495
         ],
         "xaxis": "x3",
         "y": [
          1.5786187229586952,
          0.5388907679893202,
          1.078694437802884,
          0.32245053629987225,
          -0.9223734597448511,
          0.6846853537469202,
          -0.45008481106597226,
          -0.3533505384946988,
          -2.8731498108221647,
          -0.7484971720768924,
          -0.36500273352880264,
          0.6067655573450121,
          -0.9095258614147902,
          -0.5916802031109333,
          -0.1286568103901193,
          1.7388296281606612,
          0.47239980869073794,
          -0.19232195914901176,
          2.229241629104578,
          0.9230532412325921,
          1.669864645835989,
          -0.048946795581749296,
          -1.1772689529385014,
          -1.507948452528026,
          0.24724840660536831,
          -0.5514672401858561,
          0.03940467306020378,
          1.101065497240953,
          -0.6740037548529809,
          -1.087435723169192,
          0.7956290688949827,
          1.3708984098787027,
          -2.5791584583768774,
          -0.22441070420898013,
          0.26205684531518003,
          -1.4562008931988613,
          1.4373764995136746,
          1.5882274462361048,
          -1.14297172147719,
          0.8557954035872387,
          -0.21393484405050417,
          -0.4561921999510943,
          -1.2399718899695817,
          -0.4894135182650713,
          -0.9339678649182176,
          1.1632061007301673,
          -0.5287445421017896,
          -0.7851686235869038,
          0.9047629487274184,
          0.4246297921895481,
          -0.7308639618574918,
          0.25594378026316994,
          0.18619445129129822,
          -0.000521841883759933,
          -0.0956855252854502,
          0.41568934719485845,
          2.3363430277107633,
          0.986313969490932,
          -2.2999979856947776,
          -0.988970346091432,
          -0.17387465651416092,
          1.1434523811225343,
          0.7142548633467558,
          1.0861935261444606,
          0.5326363331496747,
          0.24960608255715572,
          0.15224848216287823,
          -1.0379568391468894,
          0.40303463838925496,
          1.4745778622017471,
          0.5528359060224775,
          -0.4041364159267252,
          0.2958334397510018,
          -0.9587982415737354,
          2.411937340919393,
          -1.5457422218029453,
          0.349811580328209,
          -0.22414230333098373,
          -0.5952445750360521,
          -0.17328969929810023,
          -0.2544671869662989,
          0.38014899400462554,
          -0.8101198010890571,
          -0.14087644847276767,
          0.5011952118769845,
          -1.4466394766986472,
          -0.6101461012464322,
          0.25454424877028975,
          -0.6731734711992503,
          1.535518147828806,
          -1.8820650727715733,
          -0.08447236199084893,
          0.30272598868420986,
          1.279879939966949,
          -0.2801796132397617,
          1.1306796638342382,
          1.2908453116833694,
          -0.5089587024089931,
          0.12139023869349684,
          0.29123717194560733
         ],
         "yaxis": "y3"
        },
        {
         "line": {
          "color": "rgba(128, 128, 128, 1.0)",
          "dash": "solid",
          "shape": "linear",
          "width": 1.3
         },
         "marker": {
          "size": 2,
          "symbol": "circle"
         },
         "mode": "markers",
         "name": "A",
         "text": "",
         "type": "scatter",
         "x": [
          -1.236960009175287,
          1.5957056827372886,
          -1.0816516780323115,
          2.200052015079462,
          0.5143247019771605,
          -1.298901901880776,
          0.17313645065214056,
          0.9674163566203784,
          -0.22153004406279606,
          -0.27206989956303956,
          0.3143012040259115,
          -0.569531152898254,
          0.08126478029389282,
          0.8559542227430773,
          -1.0175763939410853,
          -0.10680840976940756,
          0.04184890394958401,
          -0.18633903942760885,
          -0.442701902721548,
          0.25069835235750826,
          -0.15772123842472408,
          0.6055264194695906,
          -0.5231474640327842,
          -1.1483991602933603,
          -1.4315196534480366,
          -0.29110580637466676,
          -0.6148183294126481,
          1.0357269388691175,
          1.4325122264680905,
          0.047996524705700795,
          0.5257544940853995,
          0.5007092040776967,
          -1.0133788494833593,
          -0.17140111283027717,
          -1.6650623212197295,
          -0.38565297522022907,
          -1.0631154036221937,
          0.8936736895735256,
          0.6975017214985157,
          -0.6144869389303735,
          -2.1181687484974923,
          -0.6536309034282014,
          -0.48014587964671623,
          -1.945695231225604,
          -0.04551853151221338,
          -2.3961519073548403,
          1.5957981977390046,
          -0.3235433792385381,
          -1.0793595624540027,
          0.5839007832341924,
          1.0199613700952719,
          -0.3074901790252907,
          0.41799459014333507,
          -0.552158231869279,
          1.310697439208428,
          -2.6075287898130743,
          -1.8854654673649944,
          0.5002128868990016,
          -0.657663363118006,
          1.3178004735068567,
          0.3457488508580863,
          -0.04376132072741204,
          -2.8980843373751073,
          1.5859570858211414,
          0.07085088888886118,
          -0.061026509238509115,
          1.3615710585152017,
          -0.6397894357080812,
          -0.43859315104324653,
          0.8751237172338803,
          -0.31378903090234406,
          0.1980565609095691,
          -0.9598547525201483,
          0.03672553453537836,
          1.7192074964219954,
          1.0986428237582062,
          0.0025096167788204336,
          -1.181223803979235,
          -0.20377850730036687,
          -0.29447410738980206,
          -0.2878050343115418,
          -0.5626726711840615,
          2.1779338559988553,
          -1.0356971241275936,
          0.2652045833527526,
          -1.8230465662038575,
          -0.012118397896673763,
          -0.48752840176514556,
          0.3373036379938806,
          3.2348155942028587,
          -0.3686666049825805,
          -0.23124159952112106,
          1.722082627228278,
          0.8029339991881422,
          -0.422344772622117,
          -0.6850380502239866,
          0.8691707591440322,
          0.14220099266924224,
          -0.4567669970269884,
          2.9844915497962994
         ],
         "xaxis": "x4",
         "y": [
          1.5786187229586952,
          0.5388907679893202,
          1.078694437802884,
          0.32245053629987225,
          -0.9223734597448511,
          0.6846853537469202,
          -0.45008481106597226,
          -0.3533505384946988,
          -2.8731498108221647,
          -0.7484971720768924,
          -0.36500273352880264,
          0.6067655573450121,
          -0.9095258614147902,
          -0.5916802031109333,
          -0.1286568103901193,
          1.7388296281606612,
          0.47239980869073794,
          -0.19232195914901176,
          2.229241629104578,
          0.9230532412325921,
          1.669864645835989,
          -0.048946795581749296,
          -1.1772689529385014,
          -1.507948452528026,
          0.24724840660536831,
          -0.5514672401858561,
          0.03940467306020378,
          1.101065497240953,
          -0.6740037548529809,
          -1.087435723169192,
          0.7956290688949827,
          1.3708984098787027,
          -2.5791584583768774,
          -0.22441070420898013,
          0.26205684531518003,
          -1.4562008931988613,
          1.4373764995136746,
          1.5882274462361048,
          -1.14297172147719,
          0.8557954035872387,
          -0.21393484405050417,
          -0.4561921999510943,
          -1.2399718899695817,
          -0.4894135182650713,
          -0.9339678649182176,
          1.1632061007301673,
          -0.5287445421017896,
          -0.7851686235869038,
          0.9047629487274184,
          0.4246297921895481,
          -0.7308639618574918,
          0.25594378026316994,
          0.18619445129129822,
          -0.000521841883759933,
          -0.0956855252854502,
          0.41568934719485845,
          2.3363430277107633,
          0.986313969490932,
          -2.2999979856947776,
          -0.988970346091432,
          -0.17387465651416092,
          1.1434523811225343,
          0.7142548633467558,
          1.0861935261444606,
          0.5326363331496747,
          0.24960608255715572,
          0.15224848216287823,
          -1.0379568391468894,
          0.40303463838925496,
          1.4745778622017471,
          0.5528359060224775,
          -0.4041364159267252,
          0.2958334397510018,
          -0.9587982415737354,
          2.411937340919393,
          -1.5457422218029453,
          0.349811580328209,
          -0.22414230333098373,
          -0.5952445750360521,
          -0.17328969929810023,
          -0.2544671869662989,
          0.38014899400462554,
          -0.8101198010890571,
          -0.14087644847276767,
          0.5011952118769845,
          -1.4466394766986472,
          -0.6101461012464322,
          0.25454424877028975,
          -0.6731734711992503,
          1.535518147828806,
          -1.8820650727715733,
          -0.08447236199084893,
          0.30272598868420986,
          1.279879939966949,
          -0.2801796132397617,
          1.1306796638342382,
          1.2908453116833694,
          -0.5089587024089931,
          0.12139023869349684,
          0.29123717194560733
         ],
         "yaxis": "y4"
        },
        {
         "line": {
          "color": "rgba(128, 128, 128, 1.0)",
          "dash": "solid",
          "shape": "linear",
          "width": 1.3
         },
         "marker": {
          "size": 2,
          "symbol": "circle"
         },
         "mode": "markers",
         "name": "B",
         "text": "",
         "type": "scatter",
         "x": [
          1.5786187229586952,
          0.5388907679893202,
          1.078694437802884,
          0.32245053629987225,
          -0.9223734597448511,
          0.6846853537469202,
          -0.45008481106597226,
          -0.3533505384946988,
          -2.8731498108221647,
          -0.7484971720768924,
          -0.36500273352880264,
          0.6067655573450121,
          -0.9095258614147902,
          -0.5916802031109333,
          -0.1286568103901193,
          1.7388296281606612,
          0.47239980869073794,
          -0.19232195914901176,
          2.229241629104578,
          0.9230532412325921,
          1.669864645835989,
          -0.048946795581749296,
          -1.1772689529385014,
          -1.507948452528026,
          0.24724840660536831,
          -0.5514672401858561,
          0.03940467306020378,
          1.101065497240953,
          -0.6740037548529809,
          -1.087435723169192,
          0.7956290688949827,
          1.3708984098787027,
          -2.5791584583768774,
          -0.22441070420898013,
          0.26205684531518003,
          -1.4562008931988613,
          1.4373764995136746,
          1.5882274462361048,
          -1.14297172147719,
          0.8557954035872387,
          -0.21393484405050417,
          -0.4561921999510943,
          -1.2399718899695817,
          -0.4894135182650713,
          -0.9339678649182176,
          1.1632061007301673,
          -0.5287445421017896,
          -0.7851686235869038,
          0.9047629487274184,
          0.4246297921895481,
          -0.7308639618574918,
          0.25594378026316994,
          0.18619445129129822,
          -0.000521841883759933,
          -0.0956855252854502,
          0.41568934719485845,
          2.3363430277107633,
          0.986313969490932,
          -2.2999979856947776,
          -0.988970346091432,
          -0.17387465651416092,
          1.1434523811225343,
          0.7142548633467558,
          1.0861935261444606,
          0.5326363331496747,
          0.24960608255715572,
          0.15224848216287823,
          -1.0379568391468894,
          0.40303463838925496,
          1.4745778622017471,
          0.5528359060224775,
          -0.4041364159267252,
          0.2958334397510018,
          -0.9587982415737354,
          2.411937340919393,
          -1.5457422218029453,
          0.349811580328209,
          -0.22414230333098373,
          -0.5952445750360521,
          -0.17328969929810023,
          -0.2544671869662989,
          0.38014899400462554,
          -0.8101198010890571,
          -0.14087644847276767,
          0.5011952118769845,
          -1.4466394766986472,
          -0.6101461012464322,
          0.25454424877028975,
          -0.6731734711992503,
          1.535518147828806,
          -1.8820650727715733,
          -0.08447236199084893,
          0.30272598868420986,
          1.279879939966949,
          -0.2801796132397617,
          1.1306796638342382,
          1.2908453116833694,
          -0.5089587024089931,
          0.12139023869349684,
          0.29123717194560733
         ],
         "xaxis": "x5",
         "y": [
          -0.9091481202776661,
          0.06780882273199226,
          -0.37426163102207805,
          -0.0893408716584356,
          0.3785809932478647,
          -0.1674663523925086,
          -1.8900779795166602,
          -0.3424626483864567,
          0.16169535711160646,
          0.0478377990035949,
          -0.05481689229587556,
          0.5533515341116935,
          1.813873713624411,
          0.4496238708250704,
          -0.7669842546794466,
          -0.5878357083218064,
          0.2371579630564443,
          -0.53799999065927,
          -1.928307767514013,
          0.778863457823434,
          -0.4660622969181952,
          0.21413796571596228,
          0.18163665667639722,
          -0.11279316160530298,
          -0.10135968035407887,
          1.1556132702741724,
          -1.4199345211591043,
          -1.1980119673035385,
          -0.403043648643454,
          -0.18535180459067813,
          -0.590798397804791,
          -0.3527904046359064,
          0.0521331226621967,
          1.532901799474751,
          0.5802094194992679,
          -0.010870242447072558,
          0.4642532142674884,
          -0.9660326232658625,
          1.9556195439245811,
          -0.05408068932375628,
          0.18235044092284422,
          -0.1051075040381056,
          0.16635592876305297,
          -1.6885493863487944,
          0.6763009103052485,
          -2.10897816221814,
          0.4405099968628592,
          0.6263658596754582,
          1.9604723414870466,
          1.06194614575976,
          0.6400773508424474,
          -0.5500867822309106,
          0.8307100882811101,
          0.0344633537188449,
          -1.330900477021943,
          2.4910631328577386,
          -1.7059464862818212,
          0.5955627767535996,
          0.07872829056054018,
          -0.7658543204305447,
          -1.0595414654093238,
          -0.4404871361336019,
          -0.4303288990356177,
          1.4977893567786902,
          -1.8584560116454625,
          0.28782599809848924,
          -0.5654122593952702,
          1.051391369391621,
          -0.9569865241042446,
          0.6768422848156005,
          -0.4150103635543724,
          1.9936289538054037,
          0.6034494063737481,
          -0.5042530167988375,
          -1.7769618298699321,
          0.2973685224675162,
          0.6357589463328186,
          -0.9239470626522018,
          0.389154509412879,
          -0.8314898251629631,
          1.1306355458935795,
          -0.13371758037286724,
          -0.9233531684251245,
          -1.482427845223228,
          -0.06425504201663151,
          1.8131487525802705,
          -1.3458155732931503,
          0.7107488739846166,
          0.5952788770646874,
          -0.18688980536139707,
          0.364839931718773,
          0.3702635516581097,
          -1.4292990764432627,
          -0.5328116959402388,
          0.11373726774497099,
          1.1744561982317403,
          0.9043388870333897,
          -0.5964606635103178,
          0.8775321308476934,
          0.4960320670502967
         ],
         "yaxis": "y5"
        },
        {
         "histfunc": "count",
         "histnorm": "",
         "marker": {
          "color": "rgba(55, 128, 191, 1.0)",
          "line": {
           "color": "#4D5663",
           "width": 1.3
          }
         },
         "name": "B",
         "nbinsx": 10,
         "opacity": 0.8,
         "orientation": "v",
         "type": "histogram",
         "x": [
          -0.9091481202776661,
          0.06780882273199226,
          -0.37426163102207805,
          -0.0893408716584356,
          0.3785809932478647,
          -0.1674663523925086,
          -1.8900779795166602,
          -0.3424626483864567,
          0.16169535711160646,
          0.0478377990035949,
          -0.05481689229587556,
          0.5533515341116935,
          1.813873713624411,
          0.4496238708250704,
          -0.7669842546794466,
          -0.5878357083218064,
          0.2371579630564443,
          -0.53799999065927,
          -1.928307767514013,
          0.778863457823434,
          -0.4660622969181952,
          0.21413796571596228,
          0.18163665667639722,
          -0.11279316160530298,
          -0.10135968035407887,
          1.1556132702741724,
          -1.4199345211591043,
          -1.1980119673035385,
          -0.403043648643454,
          -0.18535180459067813,
          -0.590798397804791,
          -0.3527904046359064,
          0.0521331226621967,
          1.532901799474751,
          0.5802094194992679,
          -0.010870242447072558,
          0.4642532142674884,
          -0.9660326232658625,
          1.9556195439245811,
          -0.05408068932375628,
          0.18235044092284422,
          -0.1051075040381056,
          0.16635592876305297,
          -1.6885493863487944,
          0.6763009103052485,
          -2.10897816221814,
          0.4405099968628592,
          0.6263658596754582,
          1.9604723414870466,
          1.06194614575976,
          0.6400773508424474,
          -0.5500867822309106,
          0.8307100882811101,
          0.0344633537188449,
          -1.330900477021943,
          2.4910631328577386,
          -1.7059464862818212,
          0.5955627767535996,
          0.07872829056054018,
          -0.7658543204305447,
          -1.0595414654093238,
          -0.4404871361336019,
          -0.4303288990356177,
          1.4977893567786902,
          -1.8584560116454625,
          0.28782599809848924,
          -0.5654122593952702,
          1.051391369391621,
          -0.9569865241042446,
          0.6768422848156005,
          -0.4150103635543724,
          1.9936289538054037,
          0.6034494063737481,
          -0.5042530167988375,
          -1.7769618298699321,
          0.2973685224675162,
          0.6357589463328186,
          -0.9239470626522018,
          0.389154509412879,
          -0.8314898251629631,
          1.1306355458935795,
          -0.13371758037286724,
          -0.9233531684251245,
          -1.482427845223228,
          -0.06425504201663151,
          1.8131487525802705,
          -1.3458155732931503,
          0.7107488739846166,
          0.5952788770646874,
          -0.18688980536139707,
          0.364839931718773,
          0.3702635516581097,
          -1.4292990764432627,
          -0.5328116959402388,
          0.11373726774497099,
          1.1744561982317403,
          0.9043388870333897,
          -0.5964606635103178,
          0.8775321308476934,
          0.4960320670502967
         ],
         "xaxis": "x6",
         "yaxis": "y6"
        },
        {
         "line": {
          "color": "rgba(128, 128, 128, 1.0)",
          "dash": "solid",
          "shape": "linear",
          "width": 1.3
         },
         "marker": {
          "size": 2,
          "symbol": "circle"
         },
         "mode": "markers",
         "name": "B",
         "text": "",
         "type": "scatter",
         "x": [
          -1.197603887322099,
          -0.14967919671293892,
          0.5444082636142232,
          -0.07152960472442545,
          -0.11760235423160066,
          -0.7152903793804544,
          0.4005045046255291,
          1.3518039524512873,
          -1.1243483736276993,
          -0.5009909117196343,
          -0.6356525293413666,
          0.2956388077628931,
          -0.7524320015200916,
          -1.0529801411888347,
          0.7071044525469407,
          -0.9284437462526892,
          -1.164603065805729,
          -0.6421343978188939,
          -0.8947566955109193,
          0.452194461157883,
          -1.670887483463763,
          1.0002966776604,
          1.8493638173924913,
          -1.652593256858235,
          0.5956196697561125,
          1.7477319863139726,
          -0.5083851338373848,
          0.07323737775396946,
          -0.5543647956471862,
          -0.7280928908030394,
          0.929444705638144,
          -1.1237235236519836,
          1.364897098191059,
          0.5478777880307599,
          -0.07518856217547684,
          -0.3973916275118296,
          -0.2522469404046494,
          -0.8371763884555629,
          -0.007728306192208445,
          1.037248310474221,
          2.0671129544998172,
          1.706815112917324,
          -0.08261281371724254,
          0.20644873959937096,
          0.6924770531326767,
          -1.5827261161381425,
          -0.7763239958108433,
          -0.3503803723749217,
          -1.9302490373390493,
          1.1641087222396087,
          0.5011120254621527,
          -0.5765128729674301,
          -0.572909190354357,
          0.7960288033317842,
          -0.4016600353267202,
          0.14155162583316797,
          0.538711537931317,
          0.09717978563857158,
          -0.15855920678036223,
          0.3817610314473487,
          -0.06345160415242983,
          -0.8949898403245102,
          -0.5922689806323262,
          0.059167966149032476,
          -0.9025951845322313,
          0.5561210474233387,
          0.18971421226487797,
          1.527466279236679,
          1.1553110119046823,
          -0.05142100171334006,
          -0.11104848011462413,
          0.45975838916078526,
          -1.0837658721120444,
          0.2603074791735487,
          0.2271357768750185,
          -0.6143912633154864,
          -0.19682027933217464,
          -0.0755922482911257,
          2.3624936077255865,
          1.061218366771381,
          -0.09187194218598727,
          1.5566403723088795,
          -0.5662785101994151,
          0.0871672917737875,
          -1.3130377206401151,
          -0.01629282610072284,
          -1.7130840368279885,
          -1.295689318319282,
          2.5175579928428995,
          1.377240242721176,
          -1.034680562490194,
          0.6531272679255921,
          -0.6879084568105988,
          -0.46116366918317875,
          -1.457596574037775,
          0.08248908322072915,
          -1.5267858011457618,
          0.7764265294878716,
          -1.0063240827148245,
          -1.5337039944830495
         ],
         "xaxis": "x7",
         "y": [
          -0.9091481202776661,
          0.06780882273199226,
          -0.37426163102207805,
          -0.0893408716584356,
          0.3785809932478647,
          -0.1674663523925086,
          -1.8900779795166602,
          -0.3424626483864567,
          0.16169535711160646,
          0.0478377990035949,
          -0.05481689229587556,
          0.5533515341116935,
          1.813873713624411,
          0.4496238708250704,
          -0.7669842546794466,
          -0.5878357083218064,
          0.2371579630564443,
          -0.53799999065927,
          -1.928307767514013,
          0.778863457823434,
          -0.4660622969181952,
          0.21413796571596228,
          0.18163665667639722,
          -0.11279316160530298,
          -0.10135968035407887,
          1.1556132702741724,
          -1.4199345211591043,
          -1.1980119673035385,
          -0.403043648643454,
          -0.18535180459067813,
          -0.590798397804791,
          -0.3527904046359064,
          0.0521331226621967,
          1.532901799474751,
          0.5802094194992679,
          -0.010870242447072558,
          0.4642532142674884,
          -0.9660326232658625,
          1.9556195439245811,
          -0.05408068932375628,
          0.18235044092284422,
          -0.1051075040381056,
          0.16635592876305297,
          -1.6885493863487944,
          0.6763009103052485,
          -2.10897816221814,
          0.4405099968628592,
          0.6263658596754582,
          1.9604723414870466,
          1.06194614575976,
          0.6400773508424474,
          -0.5500867822309106,
          0.8307100882811101,
          0.0344633537188449,
          -1.330900477021943,
          2.4910631328577386,
          -1.7059464862818212,
          0.5955627767535996,
          0.07872829056054018,
          -0.7658543204305447,
          -1.0595414654093238,
          -0.4404871361336019,
          -0.4303288990356177,
          1.4977893567786902,
          -1.8584560116454625,
          0.28782599809848924,
          -0.5654122593952702,
          1.051391369391621,
          -0.9569865241042446,
          0.6768422848156005,
          -0.4150103635543724,
          1.9936289538054037,
          0.6034494063737481,
          -0.5042530167988375,
          -1.7769618298699321,
          0.2973685224675162,
          0.6357589463328186,
          -0.9239470626522018,
          0.389154509412879,
          -0.8314898251629631,
          1.1306355458935795,
          -0.13371758037286724,
          -0.9233531684251245,
          -1.482427845223228,
          -0.06425504201663151,
          1.8131487525802705,
          -1.3458155732931503,
          0.7107488739846166,
          0.5952788770646874,
          -0.18688980536139707,
          0.364839931718773,
          0.3702635516581097,
          -1.4292990764432627,
          -0.5328116959402388,
          0.11373726774497099,
          1.1744561982317403,
          0.9043388870333897,
          -0.5964606635103178,
          0.8775321308476934,
          0.4960320670502967
         ],
         "yaxis": "y7"
        },
        {
         "line": {
          "color": "rgba(128, 128, 128, 1.0)",
          "dash": "solid",
          "shape": "linear",
          "width": 1.3
         },
         "marker": {
          "size": 2,
          "symbol": "circle"
         },
         "mode": "markers",
         "name": "B",
         "text": "",
         "type": "scatter",
         "x": [
          -1.236960009175287,
          1.5957056827372886,
          -1.0816516780323115,
          2.200052015079462,
          0.5143247019771605,
          -1.298901901880776,
          0.17313645065214056,
          0.9674163566203784,
          -0.22153004406279606,
          -0.27206989956303956,
          0.3143012040259115,
          -0.569531152898254,
          0.08126478029389282,
          0.8559542227430773,
          -1.0175763939410853,
          -0.10680840976940756,
          0.04184890394958401,
          -0.18633903942760885,
          -0.442701902721548,
          0.25069835235750826,
          -0.15772123842472408,
          0.6055264194695906,
          -0.5231474640327842,
          -1.1483991602933603,
          -1.4315196534480366,
          -0.29110580637466676,
          -0.6148183294126481,
          1.0357269388691175,
          1.4325122264680905,
          0.047996524705700795,
          0.5257544940853995,
          0.5007092040776967,
          -1.0133788494833593,
          -0.17140111283027717,
          -1.6650623212197295,
          -0.38565297522022907,
          -1.0631154036221937,
          0.8936736895735256,
          0.6975017214985157,
          -0.6144869389303735,
          -2.1181687484974923,
          -0.6536309034282014,
          -0.48014587964671623,
          -1.945695231225604,
          -0.04551853151221338,
          -2.3961519073548403,
          1.5957981977390046,
          -0.3235433792385381,
          -1.0793595624540027,
          0.5839007832341924,
          1.0199613700952719,
          -0.3074901790252907,
          0.41799459014333507,
          -0.552158231869279,
          1.310697439208428,
          -2.6075287898130743,
          -1.8854654673649944,
          0.5002128868990016,
          -0.657663363118006,
          1.3178004735068567,
          0.3457488508580863,
          -0.04376132072741204,
          -2.8980843373751073,
          1.5859570858211414,
          0.07085088888886118,
          -0.061026509238509115,
          1.3615710585152017,
          -0.6397894357080812,
          -0.43859315104324653,
          0.8751237172338803,
          -0.31378903090234406,
          0.1980565609095691,
          -0.9598547525201483,
          0.03672553453537836,
          1.7192074964219954,
          1.0986428237582062,
          0.0025096167788204336,
          -1.181223803979235,
          -0.20377850730036687,
          -0.29447410738980206,
          -0.2878050343115418,
          -0.5626726711840615,
          2.1779338559988553,
          -1.0356971241275936,
          0.2652045833527526,
          -1.8230465662038575,
          -0.012118397896673763,
          -0.48752840176514556,
          0.3373036379938806,
          3.2348155942028587,
          -0.3686666049825805,
          -0.23124159952112106,
          1.722082627228278,
          0.8029339991881422,
          -0.422344772622117,
          -0.6850380502239866,
          0.8691707591440322,
          0.14220099266924224,
          -0.4567669970269884,
          2.9844915497962994
         ],
         "xaxis": "x8",
         "y": [
          -0.9091481202776661,
          0.06780882273199226,
          -0.37426163102207805,
          -0.0893408716584356,
          0.3785809932478647,
          -0.1674663523925086,
          -1.8900779795166602,
          -0.3424626483864567,
          0.16169535711160646,
          0.0478377990035949,
          -0.05481689229587556,
          0.5533515341116935,
          1.813873713624411,
          0.4496238708250704,
          -0.7669842546794466,
          -0.5878357083218064,
          0.2371579630564443,
          -0.53799999065927,
          -1.928307767514013,
          0.778863457823434,
          -0.4660622969181952,
          0.21413796571596228,
          0.18163665667639722,
          -0.11279316160530298,
          -0.10135968035407887,
          1.1556132702741724,
          -1.4199345211591043,
          -1.1980119673035385,
          -0.403043648643454,
          -0.18535180459067813,
          -0.590798397804791,
          -0.3527904046359064,
          0.0521331226621967,
          1.532901799474751,
          0.5802094194992679,
          -0.010870242447072558,
          0.4642532142674884,
          -0.9660326232658625,
          1.9556195439245811,
          -0.05408068932375628,
          0.18235044092284422,
          -0.1051075040381056,
          0.16635592876305297,
          -1.6885493863487944,
          0.6763009103052485,
          -2.10897816221814,
          0.4405099968628592,
          0.6263658596754582,
          1.9604723414870466,
          1.06194614575976,
          0.6400773508424474,
          -0.5500867822309106,
          0.8307100882811101,
          0.0344633537188449,
          -1.330900477021943,
          2.4910631328577386,
          -1.7059464862818212,
          0.5955627767535996,
          0.07872829056054018,
          -0.7658543204305447,
          -1.0595414654093238,
          -0.4404871361336019,
          -0.4303288990356177,
          1.4977893567786902,
          -1.8584560116454625,
          0.28782599809848924,
          -0.5654122593952702,
          1.051391369391621,
          -0.9569865241042446,
          0.6768422848156005,
          -0.4150103635543724,
          1.9936289538054037,
          0.6034494063737481,
          -0.5042530167988375,
          -1.7769618298699321,
          0.2973685224675162,
          0.6357589463328186,
          -0.9239470626522018,
          0.389154509412879,
          -0.8314898251629631,
          1.1306355458935795,
          -0.13371758037286724,
          -0.9233531684251245,
          -1.482427845223228,
          -0.06425504201663151,
          1.8131487525802705,
          -1.3458155732931503,
          0.7107488739846166,
          0.5952788770646874,
          -0.18688980536139707,
          0.364839931718773,
          0.3702635516581097,
          -1.4292990764432627,
          -0.5328116959402388,
          0.11373726774497099,
          1.1744561982317403,
          0.9043388870333897,
          -0.5964606635103178,
          0.8775321308476934,
          0.4960320670502967
         ],
         "yaxis": "y8"
        },
        {
         "line": {
          "color": "rgba(128, 128, 128, 1.0)",
          "dash": "solid",
          "shape": "linear",
          "width": 1.3
         },
         "marker": {
          "size": 2,
          "symbol": "circle"
         },
         "mode": "markers",
         "name": "C",
         "text": "",
         "type": "scatter",
         "x": [
          1.5786187229586952,
          0.5388907679893202,
          1.078694437802884,
          0.32245053629987225,
          -0.9223734597448511,
          0.6846853537469202,
          -0.45008481106597226,
          -0.3533505384946988,
          -2.8731498108221647,
          -0.7484971720768924,
          -0.36500273352880264,
          0.6067655573450121,
          -0.9095258614147902,
          -0.5916802031109333,
          -0.1286568103901193,
          1.7388296281606612,
          0.47239980869073794,
          -0.19232195914901176,
          2.229241629104578,
          0.9230532412325921,
          1.669864645835989,
          -0.048946795581749296,
          -1.1772689529385014,
          -1.507948452528026,
          0.24724840660536831,
          -0.5514672401858561,
          0.03940467306020378,
          1.101065497240953,
          -0.6740037548529809,
          -1.087435723169192,
          0.7956290688949827,
          1.3708984098787027,
          -2.5791584583768774,
          -0.22441070420898013,
          0.26205684531518003,
          -1.4562008931988613,
          1.4373764995136746,
          1.5882274462361048,
          -1.14297172147719,
          0.8557954035872387,
          -0.21393484405050417,
          -0.4561921999510943,
          -1.2399718899695817,
          -0.4894135182650713,
          -0.9339678649182176,
          1.1632061007301673,
          -0.5287445421017896,
          -0.7851686235869038,
          0.9047629487274184,
          0.4246297921895481,
          -0.7308639618574918,
          0.25594378026316994,
          0.18619445129129822,
          -0.000521841883759933,
          -0.0956855252854502,
          0.41568934719485845,
          2.3363430277107633,
          0.986313969490932,
          -2.2999979856947776,
          -0.988970346091432,
          -0.17387465651416092,
          1.1434523811225343,
          0.7142548633467558,
          1.0861935261444606,
          0.5326363331496747,
          0.24960608255715572,
          0.15224848216287823,
          -1.0379568391468894,
          0.40303463838925496,
          1.4745778622017471,
          0.5528359060224775,
          -0.4041364159267252,
          0.2958334397510018,
          -0.9587982415737354,
          2.411937340919393,
          -1.5457422218029453,
          0.349811580328209,
          -0.22414230333098373,
          -0.5952445750360521,
          -0.17328969929810023,
          -0.2544671869662989,
          0.38014899400462554,
          -0.8101198010890571,
          -0.14087644847276767,
          0.5011952118769845,
          -1.4466394766986472,
          -0.6101461012464322,
          0.25454424877028975,
          -0.6731734711992503,
          1.535518147828806,
          -1.8820650727715733,
          -0.08447236199084893,
          0.30272598868420986,
          1.279879939966949,
          -0.2801796132397617,
          1.1306796638342382,
          1.2908453116833694,
          -0.5089587024089931,
          0.12139023869349684,
          0.29123717194560733
         ],
         "xaxis": "x9",
         "y": [
          -1.197603887322099,
          -0.14967919671293892,
          0.5444082636142232,
          -0.07152960472442545,
          -0.11760235423160066,
          -0.7152903793804544,
          0.4005045046255291,
          1.3518039524512873,
          -1.1243483736276993,
          -0.5009909117196343,
          -0.6356525293413666,
          0.2956388077628931,
          -0.7524320015200916,
          -1.0529801411888347,
          0.7071044525469407,
          -0.9284437462526892,
          -1.164603065805729,
          -0.6421343978188939,
          -0.8947566955109193,
          0.452194461157883,
          -1.670887483463763,
          1.0002966776604,
          1.8493638173924913,
          -1.652593256858235,
          0.5956196697561125,
          1.7477319863139726,
          -0.5083851338373848,
          0.07323737775396946,
          -0.5543647956471862,
          -0.7280928908030394,
          0.929444705638144,
          -1.1237235236519836,
          1.364897098191059,
          0.5478777880307599,
          -0.07518856217547684,
          -0.3973916275118296,
          -0.2522469404046494,
          -0.8371763884555629,
          -0.007728306192208445,
          1.037248310474221,
          2.0671129544998172,
          1.706815112917324,
          -0.08261281371724254,
          0.20644873959937096,
          0.6924770531326767,
          -1.5827261161381425,
          -0.7763239958108433,
          -0.3503803723749217,
          -1.9302490373390493,
          1.1641087222396087,
          0.5011120254621527,
          -0.5765128729674301,
          -0.572909190354357,
          0.7960288033317842,
          -0.4016600353267202,
          0.14155162583316797,
          0.538711537931317,
          0.09717978563857158,
          -0.15855920678036223,
          0.3817610314473487,
          -0.06345160415242983,
          -0.8949898403245102,
          -0.5922689806323262,
          0.059167966149032476,
          -0.9025951845322313,
          0.5561210474233387,
          0.18971421226487797,
          1.527466279236679,
          1.1553110119046823,
          -0.05142100171334006,
          -0.11104848011462413,
          0.45975838916078526,
          -1.0837658721120444,
          0.2603074791735487,
          0.2271357768750185,
          -0.6143912633154864,
          -0.19682027933217464,
          -0.0755922482911257,
          2.3624936077255865,
          1.061218366771381,
          -0.09187194218598727,
          1.5566403723088795,
          -0.5662785101994151,
          0.0871672917737875,
          -1.3130377206401151,
          -0.01629282610072284,
          -1.7130840368279885,
          -1.295689318319282,
          2.5175579928428995,
          1.377240242721176,
          -1.034680562490194,
          0.6531272679255921,
          -0.6879084568105988,
          -0.46116366918317875,
          -1.457596574037775,
          0.08248908322072915,
          -1.5267858011457618,
          0.7764265294878716,
          -1.0063240827148245,
          -1.5337039944830495
         ],
         "yaxis": "y9"
        },
        {
         "line": {
          "color": "rgba(128, 128, 128, 1.0)",
          "dash": "solid",
          "shape": "linear",
          "width": 1.3
         },
         "marker": {
          "size": 2,
          "symbol": "circle"
         },
         "mode": "markers",
         "name": "C",
         "text": "",
         "type": "scatter",
         "x": [
          -0.9091481202776661,
          0.06780882273199226,
          -0.37426163102207805,
          -0.0893408716584356,
          0.3785809932478647,
          -0.1674663523925086,
          -1.8900779795166602,
          -0.3424626483864567,
          0.16169535711160646,
          0.0478377990035949,
          -0.05481689229587556,
          0.5533515341116935,
          1.813873713624411,
          0.4496238708250704,
          -0.7669842546794466,
          -0.5878357083218064,
          0.2371579630564443,
          -0.53799999065927,
          -1.928307767514013,
          0.778863457823434,
          -0.4660622969181952,
          0.21413796571596228,
          0.18163665667639722,
          -0.11279316160530298,
          -0.10135968035407887,
          1.1556132702741724,
          -1.4199345211591043,
          -1.1980119673035385,
          -0.403043648643454,
          -0.18535180459067813,
          -0.590798397804791,
          -0.3527904046359064,
          0.0521331226621967,
          1.532901799474751,
          0.5802094194992679,
          -0.010870242447072558,
          0.4642532142674884,
          -0.9660326232658625,
          1.9556195439245811,
          -0.05408068932375628,
          0.18235044092284422,
          -0.1051075040381056,
          0.16635592876305297,
          -1.6885493863487944,
          0.6763009103052485,
          -2.10897816221814,
          0.4405099968628592,
          0.6263658596754582,
          1.9604723414870466,
          1.06194614575976,
          0.6400773508424474,
          -0.5500867822309106,
          0.8307100882811101,
          0.0344633537188449,
          -1.330900477021943,
          2.4910631328577386,
          -1.7059464862818212,
          0.5955627767535996,
          0.07872829056054018,
          -0.7658543204305447,
          -1.0595414654093238,
          -0.4404871361336019,
          -0.4303288990356177,
          1.4977893567786902,
          -1.8584560116454625,
          0.28782599809848924,
          -0.5654122593952702,
          1.051391369391621,
          -0.9569865241042446,
          0.6768422848156005,
          -0.4150103635543724,
          1.9936289538054037,
          0.6034494063737481,
          -0.5042530167988375,
          -1.7769618298699321,
          0.2973685224675162,
          0.6357589463328186,
          -0.9239470626522018,
          0.389154509412879,
          -0.8314898251629631,
          1.1306355458935795,
          -0.13371758037286724,
          -0.9233531684251245,
          -1.482427845223228,
          -0.06425504201663151,
          1.8131487525802705,
          -1.3458155732931503,
          0.7107488739846166,
          0.5952788770646874,
          -0.18688980536139707,
          0.364839931718773,
          0.3702635516581097,
          -1.4292990764432627,
          -0.5328116959402388,
          0.11373726774497099,
          1.1744561982317403,
          0.9043388870333897,
          -0.5964606635103178,
          0.8775321308476934,
          0.4960320670502967
         ],
         "xaxis": "x10",
         "y": [
          -1.197603887322099,
          -0.14967919671293892,
          0.5444082636142232,
          -0.07152960472442545,
          -0.11760235423160066,
          -0.7152903793804544,
          0.4005045046255291,
          1.3518039524512873,
          -1.1243483736276993,
          -0.5009909117196343,
          -0.6356525293413666,
          0.2956388077628931,
          -0.7524320015200916,
          -1.0529801411888347,
          0.7071044525469407,
          -0.9284437462526892,
          -1.164603065805729,
          -0.6421343978188939,
          -0.8947566955109193,
          0.452194461157883,
          -1.670887483463763,
          1.0002966776604,
          1.8493638173924913,
          -1.652593256858235,
          0.5956196697561125,
          1.7477319863139726,
          -0.5083851338373848,
          0.07323737775396946,
          -0.5543647956471862,
          -0.7280928908030394,
          0.929444705638144,
          -1.1237235236519836,
          1.364897098191059,
          0.5478777880307599,
          -0.07518856217547684,
          -0.3973916275118296,
          -0.2522469404046494,
          -0.8371763884555629,
          -0.007728306192208445,
          1.037248310474221,
          2.0671129544998172,
          1.706815112917324,
          -0.08261281371724254,
          0.20644873959937096,
          0.6924770531326767,
          -1.5827261161381425,
          -0.7763239958108433,
          -0.3503803723749217,
          -1.9302490373390493,
          1.1641087222396087,
          0.5011120254621527,
          -0.5765128729674301,
          -0.572909190354357,
          0.7960288033317842,
          -0.4016600353267202,
          0.14155162583316797,
          0.538711537931317,
          0.09717978563857158,
          -0.15855920678036223,
          0.3817610314473487,
          -0.06345160415242983,
          -0.8949898403245102,
          -0.5922689806323262,
          0.059167966149032476,
          -0.9025951845322313,
          0.5561210474233387,
          0.18971421226487797,
          1.527466279236679,
          1.1553110119046823,
          -0.05142100171334006,
          -0.11104848011462413,
          0.45975838916078526,
          -1.0837658721120444,
          0.2603074791735487,
          0.2271357768750185,
          -0.6143912633154864,
          -0.19682027933217464,
          -0.0755922482911257,
          2.3624936077255865,
          1.061218366771381,
          -0.09187194218598727,
          1.5566403723088795,
          -0.5662785101994151,
          0.0871672917737875,
          -1.3130377206401151,
          -0.01629282610072284,
          -1.7130840368279885,
          -1.295689318319282,
          2.5175579928428995,
          1.377240242721176,
          -1.034680562490194,
          0.6531272679255921,
          -0.6879084568105988,
          -0.46116366918317875,
          -1.457596574037775,
          0.08248908322072915,
          -1.5267858011457618,
          0.7764265294878716,
          -1.0063240827148245,
          -1.5337039944830495
         ],
         "yaxis": "y10"
        },
        {
         "histfunc": "count",
         "histnorm": "",
         "marker": {
          "color": "rgba(50, 171, 96, 1.0)",
          "line": {
           "color": "#4D5663",
           "width": 1.3
          }
         },
         "name": "C",
         "nbinsx": 10,
         "opacity": 0.8,
         "orientation": "v",
         "type": "histogram",
         "x": [
          -1.197603887322099,
          -0.14967919671293892,
          0.5444082636142232,
          -0.07152960472442545,
          -0.11760235423160066,
          -0.7152903793804544,
          0.4005045046255291,
          1.3518039524512873,
          -1.1243483736276993,
          -0.5009909117196343,
          -0.6356525293413666,
          0.2956388077628931,
          -0.7524320015200916,
          -1.0529801411888347,
          0.7071044525469407,
          -0.9284437462526892,
          -1.164603065805729,
          -0.6421343978188939,
          -0.8947566955109193,
          0.452194461157883,
          -1.670887483463763,
          1.0002966776604,
          1.8493638173924913,
          -1.652593256858235,
          0.5956196697561125,
          1.7477319863139726,
          -0.5083851338373848,
          0.07323737775396946,
          -0.5543647956471862,
          -0.7280928908030394,
          0.929444705638144,
          -1.1237235236519836,
          1.364897098191059,
          0.5478777880307599,
          -0.07518856217547684,
          -0.3973916275118296,
          -0.2522469404046494,
          -0.8371763884555629,
          -0.007728306192208445,
          1.037248310474221,
          2.0671129544998172,
          1.706815112917324,
          -0.08261281371724254,
          0.20644873959937096,
          0.6924770531326767,
          -1.5827261161381425,
          -0.7763239958108433,
          -0.3503803723749217,
          -1.9302490373390493,
          1.1641087222396087,
          0.5011120254621527,
          -0.5765128729674301,
          -0.572909190354357,
          0.7960288033317842,
          -0.4016600353267202,
          0.14155162583316797,
          0.538711537931317,
          0.09717978563857158,
          -0.15855920678036223,
          0.3817610314473487,
          -0.06345160415242983,
          -0.8949898403245102,
          -0.5922689806323262,
          0.059167966149032476,
          -0.9025951845322313,
          0.5561210474233387,
          0.18971421226487797,
          1.527466279236679,
          1.1553110119046823,
          -0.05142100171334006,
          -0.11104848011462413,
          0.45975838916078526,
          -1.0837658721120444,
          0.2603074791735487,
          0.2271357768750185,
          -0.6143912633154864,
          -0.19682027933217464,
          -0.0755922482911257,
          2.3624936077255865,
          1.061218366771381,
          -0.09187194218598727,
          1.5566403723088795,
          -0.5662785101994151,
          0.0871672917737875,
          -1.3130377206401151,
          -0.01629282610072284,
          -1.7130840368279885,
          -1.295689318319282,
          2.5175579928428995,
          1.377240242721176,
          -1.034680562490194,
          0.6531272679255921,
          -0.6879084568105988,
          -0.46116366918317875,
          -1.457596574037775,
          0.08248908322072915,
          -1.5267858011457618,
          0.7764265294878716,
          -1.0063240827148245,
          -1.5337039944830495
         ],
         "xaxis": "x11",
         "yaxis": "y11"
        },
        {
         "line": {
          "color": "rgba(128, 128, 128, 1.0)",
          "dash": "solid",
          "shape": "linear",
          "width": 1.3
         },
         "marker": {
          "size": 2,
          "symbol": "circle"
         },
         "mode": "markers",
         "name": "C",
         "text": "",
         "type": "scatter",
         "x": [
          -1.236960009175287,
          1.5957056827372886,
          -1.0816516780323115,
          2.200052015079462,
          0.5143247019771605,
          -1.298901901880776,
          0.17313645065214056,
          0.9674163566203784,
          -0.22153004406279606,
          -0.27206989956303956,
          0.3143012040259115,
          -0.569531152898254,
          0.08126478029389282,
          0.8559542227430773,
          -1.0175763939410853,
          -0.10680840976940756,
          0.04184890394958401,
          -0.18633903942760885,
          -0.442701902721548,
          0.25069835235750826,
          -0.15772123842472408,
          0.6055264194695906,
          -0.5231474640327842,
          -1.1483991602933603,
          -1.4315196534480366,
          -0.29110580637466676,
          -0.6148183294126481,
          1.0357269388691175,
          1.4325122264680905,
          0.047996524705700795,
          0.5257544940853995,
          0.5007092040776967,
          -1.0133788494833593,
          -0.17140111283027717,
          -1.6650623212197295,
          -0.38565297522022907,
          -1.0631154036221937,
          0.8936736895735256,
          0.6975017214985157,
          -0.6144869389303735,
          -2.1181687484974923,
          -0.6536309034282014,
          -0.48014587964671623,
          -1.945695231225604,
          -0.04551853151221338,
          -2.3961519073548403,
          1.5957981977390046,
          -0.3235433792385381,
          -1.0793595624540027,
          0.5839007832341924,
          1.0199613700952719,
          -0.3074901790252907,
          0.41799459014333507,
          -0.552158231869279,
          1.310697439208428,
          -2.6075287898130743,
          -1.8854654673649944,
          0.5002128868990016,
          -0.657663363118006,
          1.3178004735068567,
          0.3457488508580863,
          -0.04376132072741204,
          -2.8980843373751073,
          1.5859570858211414,
          0.07085088888886118,
          -0.061026509238509115,
          1.3615710585152017,
          -0.6397894357080812,
          -0.43859315104324653,
          0.8751237172338803,
          -0.31378903090234406,
          0.1980565609095691,
          -0.9598547525201483,
          0.03672553453537836,
          1.7192074964219954,
          1.0986428237582062,
          0.0025096167788204336,
          -1.181223803979235,
          -0.20377850730036687,
          -0.29447410738980206,
          -0.2878050343115418,
          -0.5626726711840615,
          2.1779338559988553,
          -1.0356971241275936,
          0.2652045833527526,
          -1.8230465662038575,
          -0.012118397896673763,
          -0.48752840176514556,
          0.3373036379938806,
          3.2348155942028587,
          -0.3686666049825805,
          -0.23124159952112106,
          1.722082627228278,
          0.8029339991881422,
          -0.422344772622117,
          -0.6850380502239866,
          0.8691707591440322,
          0.14220099266924224,
          -0.4567669970269884,
          2.9844915497962994
         ],
         "xaxis": "x12",
         "y": [
          -1.197603887322099,
          -0.14967919671293892,
          0.5444082636142232,
          -0.07152960472442545,
          -0.11760235423160066,
          -0.7152903793804544,
          0.4005045046255291,
          1.3518039524512873,
          -1.1243483736276993,
          -0.5009909117196343,
          -0.6356525293413666,
          0.2956388077628931,
          -0.7524320015200916,
          -1.0529801411888347,
          0.7071044525469407,
          -0.9284437462526892,
          -1.164603065805729,
          -0.6421343978188939,
          -0.8947566955109193,
          0.452194461157883,
          -1.670887483463763,
          1.0002966776604,
          1.8493638173924913,
          -1.652593256858235,
          0.5956196697561125,
          1.7477319863139726,
          -0.5083851338373848,
          0.07323737775396946,
          -0.5543647956471862,
          -0.7280928908030394,
          0.929444705638144,
          -1.1237235236519836,
          1.364897098191059,
          0.5478777880307599,
          -0.07518856217547684,
          -0.3973916275118296,
          -0.2522469404046494,
          -0.8371763884555629,
          -0.007728306192208445,
          1.037248310474221,
          2.0671129544998172,
          1.706815112917324,
          -0.08261281371724254,
          0.20644873959937096,
          0.6924770531326767,
          -1.5827261161381425,
          -0.7763239958108433,
          -0.3503803723749217,
          -1.9302490373390493,
          1.1641087222396087,
          0.5011120254621527,
          -0.5765128729674301,
          -0.572909190354357,
          0.7960288033317842,
          -0.4016600353267202,
          0.14155162583316797,
          0.538711537931317,
          0.09717978563857158,
          -0.15855920678036223,
          0.3817610314473487,
          -0.06345160415242983,
          -0.8949898403245102,
          -0.5922689806323262,
          0.059167966149032476,
          -0.9025951845322313,
          0.5561210474233387,
          0.18971421226487797,
          1.527466279236679,
          1.1553110119046823,
          -0.05142100171334006,
          -0.11104848011462413,
          0.45975838916078526,
          -1.0837658721120444,
          0.2603074791735487,
          0.2271357768750185,
          -0.6143912633154864,
          -0.19682027933217464,
          -0.0755922482911257,
          2.3624936077255865,
          1.061218366771381,
          -0.09187194218598727,
          1.5566403723088795,
          -0.5662785101994151,
          0.0871672917737875,
          -1.3130377206401151,
          -0.01629282610072284,
          -1.7130840368279885,
          -1.295689318319282,
          2.5175579928428995,
          1.377240242721176,
          -1.034680562490194,
          0.6531272679255921,
          -0.6879084568105988,
          -0.46116366918317875,
          -1.457596574037775,
          0.08248908322072915,
          -1.5267858011457618,
          0.7764265294878716,
          -1.0063240827148245,
          -1.5337039944830495
         ],
         "yaxis": "y12"
        },
        {
         "line": {
          "color": "rgba(128, 128, 128, 1.0)",
          "dash": "solid",
          "shape": "linear",
          "width": 1.3
         },
         "marker": {
          "size": 2,
          "symbol": "circle"
         },
         "mode": "markers",
         "name": "D",
         "text": "",
         "type": "scatter",
         "x": [
          1.5786187229586952,
          0.5388907679893202,
          1.078694437802884,
          0.32245053629987225,
          -0.9223734597448511,
          0.6846853537469202,
          -0.45008481106597226,
          -0.3533505384946988,
          -2.8731498108221647,
          -0.7484971720768924,
          -0.36500273352880264,
          0.6067655573450121,
          -0.9095258614147902,
          -0.5916802031109333,
          -0.1286568103901193,
          1.7388296281606612,
          0.47239980869073794,
          -0.19232195914901176,
          2.229241629104578,
          0.9230532412325921,
          1.669864645835989,
          -0.048946795581749296,
          -1.1772689529385014,
          -1.507948452528026,
          0.24724840660536831,
          -0.5514672401858561,
          0.03940467306020378,
          1.101065497240953,
          -0.6740037548529809,
          -1.087435723169192,
          0.7956290688949827,
          1.3708984098787027,
          -2.5791584583768774,
          -0.22441070420898013,
          0.26205684531518003,
          -1.4562008931988613,
          1.4373764995136746,
          1.5882274462361048,
          -1.14297172147719,
          0.8557954035872387,
          -0.21393484405050417,
          -0.4561921999510943,
          -1.2399718899695817,
          -0.4894135182650713,
          -0.9339678649182176,
          1.1632061007301673,
          -0.5287445421017896,
          -0.7851686235869038,
          0.9047629487274184,
          0.4246297921895481,
          -0.7308639618574918,
          0.25594378026316994,
          0.18619445129129822,
          -0.000521841883759933,
          -0.0956855252854502,
          0.41568934719485845,
          2.3363430277107633,
          0.986313969490932,
          -2.2999979856947776,
          -0.988970346091432,
          -0.17387465651416092,
          1.1434523811225343,
          0.7142548633467558,
          1.0861935261444606,
          0.5326363331496747,
          0.24960608255715572,
          0.15224848216287823,
          -1.0379568391468894,
          0.40303463838925496,
          1.4745778622017471,
          0.5528359060224775,
          -0.4041364159267252,
          0.2958334397510018,
          -0.9587982415737354,
          2.411937340919393,
          -1.5457422218029453,
          0.349811580328209,
          -0.22414230333098373,
          -0.5952445750360521,
          -0.17328969929810023,
          -0.2544671869662989,
          0.38014899400462554,
          -0.8101198010890571,
          -0.14087644847276767,
          0.5011952118769845,
          -1.4466394766986472,
          -0.6101461012464322,
          0.25454424877028975,
          -0.6731734711992503,
          1.535518147828806,
          -1.8820650727715733,
          -0.08447236199084893,
          0.30272598868420986,
          1.279879939966949,
          -0.2801796132397617,
          1.1306796638342382,
          1.2908453116833694,
          -0.5089587024089931,
          0.12139023869349684,
          0.29123717194560733
         ],
         "xaxis": "x13",
         "y": [
          -1.236960009175287,
          1.5957056827372886,
          -1.0816516780323115,
          2.200052015079462,
          0.5143247019771605,
          -1.298901901880776,
          0.17313645065214056,
          0.9674163566203784,
          -0.22153004406279606,
          -0.27206989956303956,
          0.3143012040259115,
          -0.569531152898254,
          0.08126478029389282,
          0.8559542227430773,
          -1.0175763939410853,
          -0.10680840976940756,
          0.04184890394958401,
          -0.18633903942760885,
          -0.442701902721548,
          0.25069835235750826,
          -0.15772123842472408,
          0.6055264194695906,
          -0.5231474640327842,
          -1.1483991602933603,
          -1.4315196534480366,
          -0.29110580637466676,
          -0.6148183294126481,
          1.0357269388691175,
          1.4325122264680905,
          0.047996524705700795,
          0.5257544940853995,
          0.5007092040776967,
          -1.0133788494833593,
          -0.17140111283027717,
          -1.6650623212197295,
          -0.38565297522022907,
          -1.0631154036221937,
          0.8936736895735256,
          0.6975017214985157,
          -0.6144869389303735,
          -2.1181687484974923,
          -0.6536309034282014,
          -0.48014587964671623,
          -1.945695231225604,
          -0.04551853151221338,
          -2.3961519073548403,
          1.5957981977390046,
          -0.3235433792385381,
          -1.0793595624540027,
          0.5839007832341924,
          1.0199613700952719,
          -0.3074901790252907,
          0.41799459014333507,
          -0.552158231869279,
          1.310697439208428,
          -2.6075287898130743,
          -1.8854654673649944,
          0.5002128868990016,
          -0.657663363118006,
          1.3178004735068567,
          0.3457488508580863,
          -0.04376132072741204,
          -2.8980843373751073,
          1.5859570858211414,
          0.07085088888886118,
          -0.061026509238509115,
          1.3615710585152017,
          -0.6397894357080812,
          -0.43859315104324653,
          0.8751237172338803,
          -0.31378903090234406,
          0.1980565609095691,
          -0.9598547525201483,
          0.03672553453537836,
          1.7192074964219954,
          1.0986428237582062,
          0.0025096167788204336,
          -1.181223803979235,
          -0.20377850730036687,
          -0.29447410738980206,
          -0.2878050343115418,
          -0.5626726711840615,
          2.1779338559988553,
          -1.0356971241275936,
          0.2652045833527526,
          -1.8230465662038575,
          -0.012118397896673763,
          -0.48752840176514556,
          0.3373036379938806,
          3.2348155942028587,
          -0.3686666049825805,
          -0.23124159952112106,
          1.722082627228278,
          0.8029339991881422,
          -0.422344772622117,
          -0.6850380502239866,
          0.8691707591440322,
          0.14220099266924224,
          -0.4567669970269884,
          2.9844915497962994
         ],
         "yaxis": "y13"
        },
        {
         "line": {
          "color": "rgba(128, 128, 128, 1.0)",
          "dash": "solid",
          "shape": "linear",
          "width": 1.3
         },
         "marker": {
          "size": 2,
          "symbol": "circle"
         },
         "mode": "markers",
         "name": "D",
         "text": "",
         "type": "scatter",
         "x": [
          -0.9091481202776661,
          0.06780882273199226,
          -0.37426163102207805,
          -0.0893408716584356,
          0.3785809932478647,
          -0.1674663523925086,
          -1.8900779795166602,
          -0.3424626483864567,
          0.16169535711160646,
          0.0478377990035949,
          -0.05481689229587556,
          0.5533515341116935,
          1.813873713624411,
          0.4496238708250704,
          -0.7669842546794466,
          -0.5878357083218064,
          0.2371579630564443,
          -0.53799999065927,
          -1.928307767514013,
          0.778863457823434,
          -0.4660622969181952,
          0.21413796571596228,
          0.18163665667639722,
          -0.11279316160530298,
          -0.10135968035407887,
          1.1556132702741724,
          -1.4199345211591043,
          -1.1980119673035385,
          -0.403043648643454,
          -0.18535180459067813,
          -0.590798397804791,
          -0.3527904046359064,
          0.0521331226621967,
          1.532901799474751,
          0.5802094194992679,
          -0.010870242447072558,
          0.4642532142674884,
          -0.9660326232658625,
          1.9556195439245811,
          -0.05408068932375628,
          0.18235044092284422,
          -0.1051075040381056,
          0.16635592876305297,
          -1.6885493863487944,
          0.6763009103052485,
          -2.10897816221814,
          0.4405099968628592,
          0.6263658596754582,
          1.9604723414870466,
          1.06194614575976,
          0.6400773508424474,
          -0.5500867822309106,
          0.8307100882811101,
          0.0344633537188449,
          -1.330900477021943,
          2.4910631328577386,
          -1.7059464862818212,
          0.5955627767535996,
          0.07872829056054018,
          -0.7658543204305447,
          -1.0595414654093238,
          -0.4404871361336019,
          -0.4303288990356177,
          1.4977893567786902,
          -1.8584560116454625,
          0.28782599809848924,
          -0.5654122593952702,
          1.051391369391621,
          -0.9569865241042446,
          0.6768422848156005,
          -0.4150103635543724,
          1.9936289538054037,
          0.6034494063737481,
          -0.5042530167988375,
          -1.7769618298699321,
          0.2973685224675162,
          0.6357589463328186,
          -0.9239470626522018,
          0.389154509412879,
          -0.8314898251629631,
          1.1306355458935795,
          -0.13371758037286724,
          -0.9233531684251245,
          -1.482427845223228,
          -0.06425504201663151,
          1.8131487525802705,
          -1.3458155732931503,
          0.7107488739846166,
          0.5952788770646874,
          -0.18688980536139707,
          0.364839931718773,
          0.3702635516581097,
          -1.4292990764432627,
          -0.5328116959402388,
          0.11373726774497099,
          1.1744561982317403,
          0.9043388870333897,
          -0.5964606635103178,
          0.8775321308476934,
          0.4960320670502967
         ],
         "xaxis": "x14",
         "y": [
          -1.236960009175287,
          1.5957056827372886,
          -1.0816516780323115,
          2.200052015079462,
          0.5143247019771605,
          -1.298901901880776,
          0.17313645065214056,
          0.9674163566203784,
          -0.22153004406279606,
          -0.27206989956303956,
          0.3143012040259115,
          -0.569531152898254,
          0.08126478029389282,
          0.8559542227430773,
          -1.0175763939410853,
          -0.10680840976940756,
          0.04184890394958401,
          -0.18633903942760885,
          -0.442701902721548,
          0.25069835235750826,
          -0.15772123842472408,
          0.6055264194695906,
          -0.5231474640327842,
          -1.1483991602933603,
          -1.4315196534480366,
          -0.29110580637466676,
          -0.6148183294126481,
          1.0357269388691175,
          1.4325122264680905,
          0.047996524705700795,
          0.5257544940853995,
          0.5007092040776967,
          -1.0133788494833593,
          -0.17140111283027717,
          -1.6650623212197295,
          -0.38565297522022907,
          -1.0631154036221937,
          0.8936736895735256,
          0.6975017214985157,
          -0.6144869389303735,
          -2.1181687484974923,
          -0.6536309034282014,
          -0.48014587964671623,
          -1.945695231225604,
          -0.04551853151221338,
          -2.3961519073548403,
          1.5957981977390046,
          -0.3235433792385381,
          -1.0793595624540027,
          0.5839007832341924,
          1.0199613700952719,
          -0.3074901790252907,
          0.41799459014333507,
          -0.552158231869279,
          1.310697439208428,
          -2.6075287898130743,
          -1.8854654673649944,
          0.5002128868990016,
          -0.657663363118006,
          1.3178004735068567,
          0.3457488508580863,
          -0.04376132072741204,
          -2.8980843373751073,
          1.5859570858211414,
          0.07085088888886118,
          -0.061026509238509115,
          1.3615710585152017,
          -0.6397894357080812,
          -0.43859315104324653,
          0.8751237172338803,
          -0.31378903090234406,
          0.1980565609095691,
          -0.9598547525201483,
          0.03672553453537836,
          1.7192074964219954,
          1.0986428237582062,
          0.0025096167788204336,
          -1.181223803979235,
          -0.20377850730036687,
          -0.29447410738980206,
          -0.2878050343115418,
          -0.5626726711840615,
          2.1779338559988553,
          -1.0356971241275936,
          0.2652045833527526,
          -1.8230465662038575,
          -0.012118397896673763,
          -0.48752840176514556,
          0.3373036379938806,
          3.2348155942028587,
          -0.3686666049825805,
          -0.23124159952112106,
          1.722082627228278,
          0.8029339991881422,
          -0.422344772622117,
          -0.6850380502239866,
          0.8691707591440322,
          0.14220099266924224,
          -0.4567669970269884,
          2.9844915497962994
         ],
         "yaxis": "y14"
        },
        {
         "line": {
          "color": "rgba(128, 128, 128, 1.0)",
          "dash": "solid",
          "shape": "linear",
          "width": 1.3
         },
         "marker": {
          "size": 2,
          "symbol": "circle"
         },
         "mode": "markers",
         "name": "D",
         "text": "",
         "type": "scatter",
         "x": [
          -1.197603887322099,
          -0.14967919671293892,
          0.5444082636142232,
          -0.07152960472442545,
          -0.11760235423160066,
          -0.7152903793804544,
          0.4005045046255291,
          1.3518039524512873,
          -1.1243483736276993,
          -0.5009909117196343,
          -0.6356525293413666,
          0.2956388077628931,
          -0.7524320015200916,
          -1.0529801411888347,
          0.7071044525469407,
          -0.9284437462526892,
          -1.164603065805729,
          -0.6421343978188939,
          -0.8947566955109193,
          0.452194461157883,
          -1.670887483463763,
          1.0002966776604,
          1.8493638173924913,
          -1.652593256858235,
          0.5956196697561125,
          1.7477319863139726,
          -0.5083851338373848,
          0.07323737775396946,
          -0.5543647956471862,
          -0.7280928908030394,
          0.929444705638144,
          -1.1237235236519836,
          1.364897098191059,
          0.5478777880307599,
          -0.07518856217547684,
          -0.3973916275118296,
          -0.2522469404046494,
          -0.8371763884555629,
          -0.007728306192208445,
          1.037248310474221,
          2.0671129544998172,
          1.706815112917324,
          -0.08261281371724254,
          0.20644873959937096,
          0.6924770531326767,
          -1.5827261161381425,
          -0.7763239958108433,
          -0.3503803723749217,
          -1.9302490373390493,
          1.1641087222396087,
          0.5011120254621527,
          -0.5765128729674301,
          -0.572909190354357,
          0.7960288033317842,
          -0.4016600353267202,
          0.14155162583316797,
          0.538711537931317,
          0.09717978563857158,
          -0.15855920678036223,
          0.3817610314473487,
          -0.06345160415242983,
          -0.8949898403245102,
          -0.5922689806323262,
          0.059167966149032476,
          -0.9025951845322313,
          0.5561210474233387,
          0.18971421226487797,
          1.527466279236679,
          1.1553110119046823,
          -0.05142100171334006,
          -0.11104848011462413,
          0.45975838916078526,
          -1.0837658721120444,
          0.2603074791735487,
          0.2271357768750185,
          -0.6143912633154864,
          -0.19682027933217464,
          -0.0755922482911257,
          2.3624936077255865,
          1.061218366771381,
          -0.09187194218598727,
          1.5566403723088795,
          -0.5662785101994151,
          0.0871672917737875,
          -1.3130377206401151,
          -0.01629282610072284,
          -1.7130840368279885,
          -1.295689318319282,
          2.5175579928428995,
          1.377240242721176,
          -1.034680562490194,
          0.6531272679255921,
          -0.6879084568105988,
          -0.46116366918317875,
          -1.457596574037775,
          0.08248908322072915,
          -1.5267858011457618,
          0.7764265294878716,
          -1.0063240827148245,
          -1.5337039944830495
         ],
         "xaxis": "x15",
         "y": [
          -1.236960009175287,
          1.5957056827372886,
          -1.0816516780323115,
          2.200052015079462,
          0.5143247019771605,
          -1.298901901880776,
          0.17313645065214056,
          0.9674163566203784,
          -0.22153004406279606,
          -0.27206989956303956,
          0.3143012040259115,
          -0.569531152898254,
          0.08126478029389282,
          0.8559542227430773,
          -1.0175763939410853,
          -0.10680840976940756,
          0.04184890394958401,
          -0.18633903942760885,
          -0.442701902721548,
          0.25069835235750826,
          -0.15772123842472408,
          0.6055264194695906,
          -0.5231474640327842,
          -1.1483991602933603,
          -1.4315196534480366,
          -0.29110580637466676,
          -0.6148183294126481,
          1.0357269388691175,
          1.4325122264680905,
          0.047996524705700795,
          0.5257544940853995,
          0.5007092040776967,
          -1.0133788494833593,
          -0.17140111283027717,
          -1.6650623212197295,
          -0.38565297522022907,
          -1.0631154036221937,
          0.8936736895735256,
          0.6975017214985157,
          -0.6144869389303735,
          -2.1181687484974923,
          -0.6536309034282014,
          -0.48014587964671623,
          -1.945695231225604,
          -0.04551853151221338,
          -2.3961519073548403,
          1.5957981977390046,
          -0.3235433792385381,
          -1.0793595624540027,
          0.5839007832341924,
          1.0199613700952719,
          -0.3074901790252907,
          0.41799459014333507,
          -0.552158231869279,
          1.310697439208428,
          -2.6075287898130743,
          -1.8854654673649944,
          0.5002128868990016,
          -0.657663363118006,
          1.3178004735068567,
          0.3457488508580863,
          -0.04376132072741204,
          -2.8980843373751073,
          1.5859570858211414,
          0.07085088888886118,
          -0.061026509238509115,
          1.3615710585152017,
          -0.6397894357080812,
          -0.43859315104324653,
          0.8751237172338803,
          -0.31378903090234406,
          0.1980565609095691,
          -0.9598547525201483,
          0.03672553453537836,
          1.7192074964219954,
          1.0986428237582062,
          0.0025096167788204336,
          -1.181223803979235,
          -0.20377850730036687,
          -0.29447410738980206,
          -0.2878050343115418,
          -0.5626726711840615,
          2.1779338559988553,
          -1.0356971241275936,
          0.2652045833527526,
          -1.8230465662038575,
          -0.012118397896673763,
          -0.48752840176514556,
          0.3373036379938806,
          3.2348155942028587,
          -0.3686666049825805,
          -0.23124159952112106,
          1.722082627228278,
          0.8029339991881422,
          -0.422344772622117,
          -0.6850380502239866,
          0.8691707591440322,
          0.14220099266924224,
          -0.4567669970269884,
          2.9844915497962994
         ],
         "yaxis": "y15"
        },
        {
         "histfunc": "count",
         "histnorm": "",
         "marker": {
          "color": "rgba(128, 0, 128, 1.0)",
          "line": {
           "color": "#4D5663",
           "width": 1.3
          }
         },
         "name": "D",
         "nbinsx": 10,
         "opacity": 0.8,
         "orientation": "v",
         "type": "histogram",
         "x": [
          -1.236960009175287,
          1.5957056827372886,
          -1.0816516780323115,
          2.200052015079462,
          0.5143247019771605,
          -1.298901901880776,
          0.17313645065214056,
          0.9674163566203784,
          -0.22153004406279606,
          -0.27206989956303956,
          0.3143012040259115,
          -0.569531152898254,
          0.08126478029389282,
          0.8559542227430773,
          -1.0175763939410853,
          -0.10680840976940756,
          0.04184890394958401,
          -0.18633903942760885,
          -0.442701902721548,
          0.25069835235750826,
          -0.15772123842472408,
          0.6055264194695906,
          -0.5231474640327842,
          -1.1483991602933603,
          -1.4315196534480366,
          -0.29110580637466676,
          -0.6148183294126481,
          1.0357269388691175,
          1.4325122264680905,
          0.047996524705700795,
          0.5257544940853995,
          0.5007092040776967,
          -1.0133788494833593,
          -0.17140111283027717,
          -1.6650623212197295,
          -0.38565297522022907,
          -1.0631154036221937,
          0.8936736895735256,
          0.6975017214985157,
          -0.6144869389303735,
          -2.1181687484974923,
          -0.6536309034282014,
          -0.48014587964671623,
          -1.945695231225604,
          -0.04551853151221338,
          -2.3961519073548403,
          1.5957981977390046,
          -0.3235433792385381,
          -1.0793595624540027,
          0.5839007832341924,
          1.0199613700952719,
          -0.3074901790252907,
          0.41799459014333507,
          -0.552158231869279,
          1.310697439208428,
          -2.6075287898130743,
          -1.8854654673649944,
          0.5002128868990016,
          -0.657663363118006,
          1.3178004735068567,
          0.3457488508580863,
          -0.04376132072741204,
          -2.8980843373751073,
          1.5859570858211414,
          0.07085088888886118,
          -0.061026509238509115,
          1.3615710585152017,
          -0.6397894357080812,
          -0.43859315104324653,
          0.8751237172338803,
          -0.31378903090234406,
          0.1980565609095691,
          -0.9598547525201483,
          0.03672553453537836,
          1.7192074964219954,
          1.0986428237582062,
          0.0025096167788204336,
          -1.181223803979235,
          -0.20377850730036687,
          -0.29447410738980206,
          -0.2878050343115418,
          -0.5626726711840615,
          2.1779338559988553,
          -1.0356971241275936,
          0.2652045833527526,
          -1.8230465662038575,
          -0.012118397896673763,
          -0.48752840176514556,
          0.3373036379938806,
          3.2348155942028587,
          -0.3686666049825805,
          -0.23124159952112106,
          1.722082627228278,
          0.8029339991881422,
          -0.422344772622117,
          -0.6850380502239866,
          0.8691707591440322,
          0.14220099266924224,
          -0.4567669970269884,
          2.9844915497962994
         ],
         "xaxis": "x16",
         "yaxis": "y16"
        }
       ],
       "layout": {
        "bargap": 0.02,
        "legend": {
         "bgcolor": "#F5F6F9",
         "font": {
          "color": "#4D5663"
         }
        },
        "paper_bgcolor": "#F5F6F9",
        "plot_bgcolor": "#F5F6F9",
        "showlegend": false,
        "template": {
         "data": {
          "bar": [
           {
            "error_x": {
             "color": "#2a3f5f"
            },
            "error_y": {
             "color": "#2a3f5f"
            },
            "marker": {
             "line": {
              "color": "#E5ECF6",
              "width": 0.5
             }
            },
            "type": "bar"
           }
          ],
          "barpolar": [
           {
            "marker": {
             "line": {
              "color": "#E5ECF6",
              "width": 0.5
             }
            },
            "type": "barpolar"
           }
          ],
          "carpet": [
           {
            "aaxis": {
             "endlinecolor": "#2a3f5f",
             "gridcolor": "white",
             "linecolor": "white",
             "minorgridcolor": "white",
             "startlinecolor": "#2a3f5f"
            },
            "baxis": {
             "endlinecolor": "#2a3f5f",
             "gridcolor": "white",
             "linecolor": "white",
             "minorgridcolor": "white",
             "startlinecolor": "#2a3f5f"
            },
            "type": "carpet"
           }
          ],
          "choropleth": [
           {
            "colorbar": {
             "outlinewidth": 0,
             "ticks": ""
            },
            "type": "choropleth"
           }
          ],
          "contour": [
           {
            "colorbar": {
             "outlinewidth": 0,
             "ticks": ""
            },
            "colorscale": [
             [
              0,
              "#0d0887"
             ],
             [
              0.1111111111111111,
              "#46039f"
             ],
             [
              0.2222222222222222,
              "#7201a8"
             ],
             [
              0.3333333333333333,
              "#9c179e"
             ],
             [
              0.4444444444444444,
              "#bd3786"
             ],
             [
              0.5555555555555556,
              "#d8576b"
             ],
             [
              0.6666666666666666,
              "#ed7953"
             ],
             [
              0.7777777777777778,
              "#fb9f3a"
             ],
             [
              0.8888888888888888,
              "#fdca26"
             ],
             [
              1,
              "#f0f921"
             ]
            ],
            "type": "contour"
           }
          ],
          "contourcarpet": [
           {
            "colorbar": {
             "outlinewidth": 0,
             "ticks": ""
            },
            "type": "contourcarpet"
           }
          ],
          "heatmap": [
           {
            "colorbar": {
             "outlinewidth": 0,
             "ticks": ""
            },
            "colorscale": [
             [
              0,
              "#0d0887"
             ],
             [
              0.1111111111111111,
              "#46039f"
             ],
             [
              0.2222222222222222,
              "#7201a8"
             ],
             [
              0.3333333333333333,
              "#9c179e"
             ],
             [
              0.4444444444444444,
              "#bd3786"
             ],
             [
              0.5555555555555556,
              "#d8576b"
             ],
             [
              0.6666666666666666,
              "#ed7953"
             ],
             [
              0.7777777777777778,
              "#fb9f3a"
             ],
             [
              0.8888888888888888,
              "#fdca26"
             ],
             [
              1,
              "#f0f921"
             ]
            ],
            "type": "heatmap"
           }
          ],
          "heatmapgl": [
           {
            "colorbar": {
             "outlinewidth": 0,
             "ticks": ""
            },
            "colorscale": [
             [
              0,
              "#0d0887"
             ],
             [
              0.1111111111111111,
              "#46039f"
             ],
             [
              0.2222222222222222,
              "#7201a8"
             ],
             [
              0.3333333333333333,
              "#9c179e"
             ],
             [
              0.4444444444444444,
              "#bd3786"
             ],
             [
              0.5555555555555556,
              "#d8576b"
             ],
             [
              0.6666666666666666,
              "#ed7953"
             ],
             [
              0.7777777777777778,
              "#fb9f3a"
             ],
             [
              0.8888888888888888,
              "#fdca26"
             ],
             [
              1,
              "#f0f921"
             ]
            ],
            "type": "heatmapgl"
           }
          ],
          "histogram": [
           {
            "marker": {
             "colorbar": {
              "outlinewidth": 0,
              "ticks": ""
             }
            },
            "type": "histogram"
           }
          ],
          "histogram2d": [
           {
            "colorbar": {
             "outlinewidth": 0,
             "ticks": ""
            },
            "colorscale": [
             [
              0,
              "#0d0887"
             ],
             [
              0.1111111111111111,
              "#46039f"
             ],
             [
              0.2222222222222222,
              "#7201a8"
             ],
             [
              0.3333333333333333,
              "#9c179e"
             ],
             [
              0.4444444444444444,
              "#bd3786"
             ],
             [
              0.5555555555555556,
              "#d8576b"
             ],
             [
              0.6666666666666666,
              "#ed7953"
             ],
             [
              0.7777777777777778,
              "#fb9f3a"
             ],
             [
              0.8888888888888888,
              "#fdca26"
             ],
             [
              1,
              "#f0f921"
             ]
            ],
            "type": "histogram2d"
           }
          ],
          "histogram2dcontour": [
           {
            "colorbar": {
             "outlinewidth": 0,
             "ticks": ""
            },
            "colorscale": [
             [
              0,
              "#0d0887"
             ],
             [
              0.1111111111111111,
              "#46039f"
             ],
             [
              0.2222222222222222,
              "#7201a8"
             ],
             [
              0.3333333333333333,
              "#9c179e"
             ],
             [
              0.4444444444444444,
              "#bd3786"
             ],
             [
              0.5555555555555556,
              "#d8576b"
             ],
             [
              0.6666666666666666,
              "#ed7953"
             ],
             [
              0.7777777777777778,
              "#fb9f3a"
             ],
             [
              0.8888888888888888,
              "#fdca26"
             ],
             [
              1,
              "#f0f921"
             ]
            ],
            "type": "histogram2dcontour"
           }
          ],
          "mesh3d": [
           {
            "colorbar": {
             "outlinewidth": 0,
             "ticks": ""
            },
            "type": "mesh3d"
           }
          ],
          "parcoords": [
           {
            "line": {
             "colorbar": {
              "outlinewidth": 0,
              "ticks": ""
             }
            },
            "type": "parcoords"
           }
          ],
          "pie": [
           {
            "automargin": true,
            "type": "pie"
           }
          ],
          "scatter": [
           {
            "marker": {
             "colorbar": {
              "outlinewidth": 0,
              "ticks": ""
             }
            },
            "type": "scatter"
           }
          ],
          "scatter3d": [
           {
            "line": {
             "colorbar": {
              "outlinewidth": 0,
              "ticks": ""
             }
            },
            "marker": {
             "colorbar": {
              "outlinewidth": 0,
              "ticks": ""
             }
            },
            "type": "scatter3d"
           }
          ],
          "scattercarpet": [
           {
            "marker": {
             "colorbar": {
              "outlinewidth": 0,
              "ticks": ""
             }
            },
            "type": "scattercarpet"
           }
          ],
          "scattergeo": [
           {
            "marker": {
             "colorbar": {
              "outlinewidth": 0,
              "ticks": ""
             }
            },
            "type": "scattergeo"
           }
          ],
          "scattergl": [
           {
            "marker": {
             "colorbar": {
              "outlinewidth": 0,
              "ticks": ""
             }
            },
            "type": "scattergl"
           }
          ],
          "scattermapbox": [
           {
            "marker": {
             "colorbar": {
              "outlinewidth": 0,
              "ticks": ""
             }
            },
            "type": "scattermapbox"
           }
          ],
          "scatterpolar": [
           {
            "marker": {
             "colorbar": {
              "outlinewidth": 0,
              "ticks": ""
             }
            },
            "type": "scatterpolar"
           }
          ],
          "scatterpolargl": [
           {
            "marker": {
             "colorbar": {
              "outlinewidth": 0,
              "ticks": ""
             }
            },
            "type": "scatterpolargl"
           }
          ],
          "scatterternary": [
           {
            "marker": {
             "colorbar": {
              "outlinewidth": 0,
              "ticks": ""
             }
            },
            "type": "scatterternary"
           }
          ],
          "surface": [
           {
            "colorbar": {
             "outlinewidth": 0,
             "ticks": ""
            },
            "colorscale": [
             [
              0,
              "#0d0887"
             ],
             [
              0.1111111111111111,
              "#46039f"
             ],
             [
              0.2222222222222222,
              "#7201a8"
             ],
             [
              0.3333333333333333,
              "#9c179e"
             ],
             [
              0.4444444444444444,
              "#bd3786"
             ],
             [
              0.5555555555555556,
              "#d8576b"
             ],
             [
              0.6666666666666666,
              "#ed7953"
             ],
             [
              0.7777777777777778,
              "#fb9f3a"
             ],
             [
              0.8888888888888888,
              "#fdca26"
             ],
             [
              1,
              "#f0f921"
             ]
            ],
            "type": "surface"
           }
          ],
          "table": [
           {
            "cells": {
             "fill": {
              "color": "#EBF0F8"
             },
             "line": {
              "color": "white"
             }
            },
            "header": {
             "fill": {
              "color": "#C8D4E3"
             },
             "line": {
              "color": "white"
             }
            },
            "type": "table"
           }
          ]
         },
         "layout": {
          "annotationdefaults": {
           "arrowcolor": "#2a3f5f",
           "arrowhead": 0,
           "arrowwidth": 1
          },
          "coloraxis": {
           "colorbar": {
            "outlinewidth": 0,
            "ticks": ""
           }
          },
          "colorscale": {
           "diverging": [
            [
             0,
             "#8e0152"
            ],
            [
             0.1,
             "#c51b7d"
            ],
            [
             0.2,
             "#de77ae"
            ],
            [
             0.3,
             "#f1b6da"
            ],
            [
             0.4,
             "#fde0ef"
            ],
            [
             0.5,
             "#f7f7f7"
            ],
            [
             0.6,
             "#e6f5d0"
            ],
            [
             0.7,
             "#b8e186"
            ],
            [
             0.8,
             "#7fbc41"
            ],
            [
             0.9,
             "#4d9221"
            ],
            [
             1,
             "#276419"
            ]
           ],
           "sequential": [
            [
             0,
             "#0d0887"
            ],
            [
             0.1111111111111111,
             "#46039f"
            ],
            [
             0.2222222222222222,
             "#7201a8"
            ],
            [
             0.3333333333333333,
             "#9c179e"
            ],
            [
             0.4444444444444444,
             "#bd3786"
            ],
            [
             0.5555555555555556,
             "#d8576b"
            ],
            [
             0.6666666666666666,
             "#ed7953"
            ],
            [
             0.7777777777777778,
             "#fb9f3a"
            ],
            [
             0.8888888888888888,
             "#fdca26"
            ],
            [
             1,
             "#f0f921"
            ]
           ],
           "sequentialminus": [
            [
             0,
             "#0d0887"
            ],
            [
             0.1111111111111111,
             "#46039f"
            ],
            [
             0.2222222222222222,
             "#7201a8"
            ],
            [
             0.3333333333333333,
             "#9c179e"
            ],
            [
             0.4444444444444444,
             "#bd3786"
            ],
            [
             0.5555555555555556,
             "#d8576b"
            ],
            [
             0.6666666666666666,
             "#ed7953"
            ],
            [
             0.7777777777777778,
             "#fb9f3a"
            ],
            [
             0.8888888888888888,
             "#fdca26"
            ],
            [
             1,
             "#f0f921"
            ]
           ]
          },
          "colorway": [
           "#636efa",
           "#EF553B",
           "#00cc96",
           "#ab63fa",
           "#FFA15A",
           "#19d3f3",
           "#FF6692",
           "#B6E880",
           "#FF97FF",
           "#FECB52"
          ],
          "font": {
           "color": "#2a3f5f"
          },
          "geo": {
           "bgcolor": "white",
           "lakecolor": "white",
           "landcolor": "#E5ECF6",
           "showlakes": true,
           "showland": true,
           "subunitcolor": "white"
          },
          "hoverlabel": {
           "align": "left"
          },
          "hovermode": "closest",
          "mapbox": {
           "style": "light"
          },
          "paper_bgcolor": "white",
          "plot_bgcolor": "#E5ECF6",
          "polar": {
           "angularaxis": {
            "gridcolor": "white",
            "linecolor": "white",
            "ticks": ""
           },
           "bgcolor": "#E5ECF6",
           "radialaxis": {
            "gridcolor": "white",
            "linecolor": "white",
            "ticks": ""
           }
          },
          "scene": {
           "xaxis": {
            "backgroundcolor": "#E5ECF6",
            "gridcolor": "white",
            "gridwidth": 2,
            "linecolor": "white",
            "showbackground": true,
            "ticks": "",
            "zerolinecolor": "white"
           },
           "yaxis": {
            "backgroundcolor": "#E5ECF6",
            "gridcolor": "white",
            "gridwidth": 2,
            "linecolor": "white",
            "showbackground": true,
            "ticks": "",
            "zerolinecolor": "white"
           },
           "zaxis": {
            "backgroundcolor": "#E5ECF6",
            "gridcolor": "white",
            "gridwidth": 2,
            "linecolor": "white",
            "showbackground": true,
            "ticks": "",
            "zerolinecolor": "white"
           }
          },
          "shapedefaults": {
           "line": {
            "color": "#2a3f5f"
           }
          },
          "ternary": {
           "aaxis": {
            "gridcolor": "white",
            "linecolor": "white",
            "ticks": ""
           },
           "baxis": {
            "gridcolor": "white",
            "linecolor": "white",
            "ticks": ""
           },
           "bgcolor": "#E5ECF6",
           "caxis": {
            "gridcolor": "white",
            "linecolor": "white",
            "ticks": ""
           }
          },
          "title": {
           "x": 0.05
          },
          "xaxis": {
           "automargin": true,
           "gridcolor": "white",
           "linecolor": "white",
           "ticks": "",
           "title": {
            "standoff": 15
           },
           "zerolinecolor": "white",
           "zerolinewidth": 2
          },
          "yaxis": {
           "automargin": true,
           "gridcolor": "white",
           "linecolor": "white",
           "ticks": "",
           "title": {
            "standoff": 15
           },
           "zerolinecolor": "white",
           "zerolinewidth": 2
          }
         }
        },
        "title": {
         "font": {
          "color": "#4D5663"
         }
        },
        "xaxis": {
         "anchor": "y",
         "domain": [
          0,
          0.2125
         ],
         "gridcolor": "#E1E5ED",
         "showgrid": false,
         "tickfont": {
          "color": "#4D5663"
         },
         "title": {
          "font": {
           "color": "#4D5663"
          },
          "text": ""
         },
         "zerolinecolor": "#E1E5ED"
        },
        "xaxis10": {
         "anchor": "y10",
         "domain": [
          0.2625,
          0.475
         ],
         "gridcolor": "#E1E5ED",
         "showgrid": false,
         "tickfont": {
          "color": "#4D5663"
         },
         "title": {
          "font": {
           "color": "#4D5663"
          },
          "text": ""
         },
         "zerolinecolor": "#E1E5ED"
        },
        "xaxis11": {
         "anchor": "y11",
         "domain": [
          0.525,
          0.7375
         ],
         "gridcolor": "#E1E5ED",
         "showgrid": false,
         "tickfont": {
          "color": "#4D5663"
         },
         "title": {
          "font": {
           "color": "#4D5663"
          },
          "text": ""
         },
         "zerolinecolor": "#E1E5ED"
        },
        "xaxis12": {
         "anchor": "y12",
         "domain": [
          0.7875,
          1
         ],
         "gridcolor": "#E1E5ED",
         "showgrid": false,
         "tickfont": {
          "color": "#4D5663"
         },
         "title": {
          "font": {
           "color": "#4D5663"
          },
          "text": ""
         },
         "zerolinecolor": "#E1E5ED"
        },
        "xaxis13": {
         "anchor": "y13",
         "domain": [
          0,
          0.2125
         ],
         "gridcolor": "#E1E5ED",
         "showgrid": false,
         "tickfont": {
          "color": "#4D5663"
         },
         "title": {
          "font": {
           "color": "#4D5663"
          },
          "text": ""
         },
         "zerolinecolor": "#E1E5ED"
        },
        "xaxis14": {
         "anchor": "y14",
         "domain": [
          0.2625,
          0.475
         ],
         "gridcolor": "#E1E5ED",
         "showgrid": false,
         "tickfont": {
          "color": "#4D5663"
         },
         "title": {
          "font": {
           "color": "#4D5663"
          },
          "text": ""
         },
         "zerolinecolor": "#E1E5ED"
        },
        "xaxis15": {
         "anchor": "y15",
         "domain": [
          0.525,
          0.7375
         ],
         "gridcolor": "#E1E5ED",
         "showgrid": false,
         "tickfont": {
          "color": "#4D5663"
         },
         "title": {
          "font": {
           "color": "#4D5663"
          },
          "text": ""
         },
         "zerolinecolor": "#E1E5ED"
        },
        "xaxis16": {
         "anchor": "y16",
         "domain": [
          0.7875,
          1
         ],
         "gridcolor": "#E1E5ED",
         "showgrid": false,
         "tickfont": {
          "color": "#4D5663"
         },
         "title": {
          "font": {
           "color": "#4D5663"
          },
          "text": ""
         },
         "zerolinecolor": "#E1E5ED"
        },
        "xaxis2": {
         "anchor": "y2",
         "domain": [
          0.2625,
          0.475
         ],
         "gridcolor": "#E1E5ED",
         "showgrid": false,
         "tickfont": {
          "color": "#4D5663"
         },
         "title": {
          "font": {
           "color": "#4D5663"
          },
          "text": ""
         },
         "zerolinecolor": "#E1E5ED"
        },
        "xaxis3": {
         "anchor": "y3",
         "domain": [
          0.525,
          0.7375
         ],
         "gridcolor": "#E1E5ED",
         "showgrid": false,
         "tickfont": {
          "color": "#4D5663"
         },
         "title": {
          "font": {
           "color": "#4D5663"
          },
          "text": ""
         },
         "zerolinecolor": "#E1E5ED"
        },
        "xaxis4": {
         "anchor": "y4",
         "domain": [
          0.7875,
          1
         ],
         "gridcolor": "#E1E5ED",
         "showgrid": false,
         "tickfont": {
          "color": "#4D5663"
         },
         "title": {
          "font": {
           "color": "#4D5663"
          },
          "text": ""
         },
         "zerolinecolor": "#E1E5ED"
        },
        "xaxis5": {
         "anchor": "y5",
         "domain": [
          0,
          0.2125
         ],
         "gridcolor": "#E1E5ED",
         "showgrid": false,
         "tickfont": {
          "color": "#4D5663"
         },
         "title": {
          "font": {
           "color": "#4D5663"
          },
          "text": ""
         },
         "zerolinecolor": "#E1E5ED"
        },
        "xaxis6": {
         "anchor": "y6",
         "domain": [
          0.2625,
          0.475
         ],
         "gridcolor": "#E1E5ED",
         "showgrid": false,
         "tickfont": {
          "color": "#4D5663"
         },
         "title": {
          "font": {
           "color": "#4D5663"
          },
          "text": ""
         },
         "zerolinecolor": "#E1E5ED"
        },
        "xaxis7": {
         "anchor": "y7",
         "domain": [
          0.525,
          0.7375
         ],
         "gridcolor": "#E1E5ED",
         "showgrid": false,
         "tickfont": {
          "color": "#4D5663"
         },
         "title": {
          "font": {
           "color": "#4D5663"
          },
          "text": ""
         },
         "zerolinecolor": "#E1E5ED"
        },
        "xaxis8": {
         "anchor": "y8",
         "domain": [
          0.7875,
          1
         ],
         "gridcolor": "#E1E5ED",
         "showgrid": false,
         "tickfont": {
          "color": "#4D5663"
         },
         "title": {
          "font": {
           "color": "#4D5663"
          },
          "text": ""
         },
         "zerolinecolor": "#E1E5ED"
        },
        "xaxis9": {
         "anchor": "y9",
         "domain": [
          0,
          0.2125
         ],
         "gridcolor": "#E1E5ED",
         "showgrid": false,
         "tickfont": {
          "color": "#4D5663"
         },
         "title": {
          "font": {
           "color": "#4D5663"
          },
          "text": ""
         },
         "zerolinecolor": "#E1E5ED"
        },
        "yaxis": {
         "anchor": "x",
         "domain": [
          0.8025,
          1
         ],
         "gridcolor": "#E1E5ED",
         "showgrid": false,
         "tickfont": {
          "color": "#4D5663"
         },
         "title": {
          "font": {
           "color": "#4D5663"
          },
          "text": ""
         },
         "zerolinecolor": "#E1E5ED"
        },
        "yaxis10": {
         "anchor": "x10",
         "domain": [
          0.2675,
          0.465
         ],
         "gridcolor": "#E1E5ED",
         "showgrid": false,
         "tickfont": {
          "color": "#4D5663"
         },
         "title": {
          "font": {
           "color": "#4D5663"
          },
          "text": ""
         },
         "zerolinecolor": "#E1E5ED"
        },
        "yaxis11": {
         "anchor": "x11",
         "domain": [
          0.2675,
          0.465
         ],
         "gridcolor": "#E1E5ED",
         "showgrid": false,
         "tickfont": {
          "color": "#4D5663"
         },
         "title": {
          "font": {
           "color": "#4D5663"
          },
          "text": ""
         },
         "zerolinecolor": "#E1E5ED"
        },
        "yaxis12": {
         "anchor": "x12",
         "domain": [
          0.2675,
          0.465
         ],
         "gridcolor": "#E1E5ED",
         "showgrid": false,
         "tickfont": {
          "color": "#4D5663"
         },
         "title": {
          "font": {
           "color": "#4D5663"
          },
          "text": ""
         },
         "zerolinecolor": "#E1E5ED"
        },
        "yaxis13": {
         "anchor": "x13",
         "domain": [
          0,
          0.1975
         ],
         "gridcolor": "#E1E5ED",
         "showgrid": false,
         "tickfont": {
          "color": "#4D5663"
         },
         "title": {
          "font": {
           "color": "#4D5663"
          },
          "text": ""
         },
         "zerolinecolor": "#E1E5ED"
        },
        "yaxis14": {
         "anchor": "x14",
         "domain": [
          0,
          0.1975
         ],
         "gridcolor": "#E1E5ED",
         "showgrid": false,
         "tickfont": {
          "color": "#4D5663"
         },
         "title": {
          "font": {
           "color": "#4D5663"
          },
          "text": ""
         },
         "zerolinecolor": "#E1E5ED"
        },
        "yaxis15": {
         "anchor": "x15",
         "domain": [
          0,
          0.1975
         ],
         "gridcolor": "#E1E5ED",
         "showgrid": false,
         "tickfont": {
          "color": "#4D5663"
         },
         "title": {
          "font": {
           "color": "#4D5663"
          },
          "text": ""
         },
         "zerolinecolor": "#E1E5ED"
        },
        "yaxis16": {
         "anchor": "x16",
         "domain": [
          0,
          0.1975
         ],
         "gridcolor": "#E1E5ED",
         "showgrid": false,
         "tickfont": {
          "color": "#4D5663"
         },
         "title": {
          "font": {
           "color": "#4D5663"
          },
          "text": ""
         },
         "zerolinecolor": "#E1E5ED"
        },
        "yaxis2": {
         "anchor": "x2",
         "domain": [
          0.8025,
          1
         ],
         "gridcolor": "#E1E5ED",
         "showgrid": false,
         "tickfont": {
          "color": "#4D5663"
         },
         "title": {
          "font": {
           "color": "#4D5663"
          },
          "text": ""
         },
         "zerolinecolor": "#E1E5ED"
        },
        "yaxis3": {
         "anchor": "x3",
         "domain": [
          0.8025,
          1
         ],
         "gridcolor": "#E1E5ED",
         "showgrid": false,
         "tickfont": {
          "color": "#4D5663"
         },
         "title": {
          "font": {
           "color": "#4D5663"
          },
          "text": ""
         },
         "zerolinecolor": "#E1E5ED"
        },
        "yaxis4": {
         "anchor": "x4",
         "domain": [
          0.8025,
          1
         ],
         "gridcolor": "#E1E5ED",
         "showgrid": false,
         "tickfont": {
          "color": "#4D5663"
         },
         "title": {
          "font": {
           "color": "#4D5663"
          },
          "text": ""
         },
         "zerolinecolor": "#E1E5ED"
        },
        "yaxis5": {
         "anchor": "x5",
         "domain": [
          0.535,
          0.7325
         ],
         "gridcolor": "#E1E5ED",
         "showgrid": false,
         "tickfont": {
          "color": "#4D5663"
         },
         "title": {
          "font": {
           "color": "#4D5663"
          },
          "text": ""
         },
         "zerolinecolor": "#E1E5ED"
        },
        "yaxis6": {
         "anchor": "x6",
         "domain": [
          0.535,
          0.7325
         ],
         "gridcolor": "#E1E5ED",
         "showgrid": false,
         "tickfont": {
          "color": "#4D5663"
         },
         "title": {
          "font": {
           "color": "#4D5663"
          },
          "text": ""
         },
         "zerolinecolor": "#E1E5ED"
        },
        "yaxis7": {
         "anchor": "x7",
         "domain": [
          0.535,
          0.7325
         ],
         "gridcolor": "#E1E5ED",
         "showgrid": false,
         "tickfont": {
          "color": "#4D5663"
         },
         "title": {
          "font": {
           "color": "#4D5663"
          },
          "text": ""
         },
         "zerolinecolor": "#E1E5ED"
        },
        "yaxis8": {
         "anchor": "x8",
         "domain": [
          0.535,
          0.7325
         ],
         "gridcolor": "#E1E5ED",
         "showgrid": false,
         "tickfont": {
          "color": "#4D5663"
         },
         "title": {
          "font": {
           "color": "#4D5663"
          },
          "text": ""
         },
         "zerolinecolor": "#E1E5ED"
        },
        "yaxis9": {
         "anchor": "x9",
         "domain": [
          0.2675,
          0.465
         ],
         "gridcolor": "#E1E5ED",
         "showgrid": false,
         "tickfont": {
          "color": "#4D5663"
         },
         "title": {
          "font": {
           "color": "#4D5663"
          },
          "text": ""
         },
         "zerolinecolor": "#E1E5ED"
        }
       }
      },
      "text/html": [
       "<div>\n",
       "        \n",
       "        \n",
       "            <div id=\"425cfb46-6b9a-4cbf-9246-02b66cc30e22\" class=\"plotly-graph-div\" style=\"height:525px; width:100%;\"></div>\n",
       "            <script type=\"text/javascript\">\n",
       "                require([\"plotly\"], function(Plotly) {\n",
       "                    window.PLOTLYENV=window.PLOTLYENV || {};\n",
       "                    window.PLOTLYENV.BASE_URL='https://plot.ly';\n",
       "                    \n",
       "                if (document.getElementById(\"425cfb46-6b9a-4cbf-9246-02b66cc30e22\")) {\n",
       "                    Plotly.newPlot(\n",
       "                        '425cfb46-6b9a-4cbf-9246-02b66cc30e22',\n",
       "                        [{\"histfunc\": \"count\", \"histnorm\": \"\", \"marker\": {\"color\": \"rgba(255, 153, 51, 1.0)\", \"line\": {\"color\": \"#4D5663\", \"width\": 1.3}}, \"name\": \"A\", \"nbinsx\": 10, \"opacity\": 0.8, \"orientation\": \"v\", \"type\": \"histogram\", \"x\": [1.5786187229586952, 0.5388907679893202, 1.078694437802884, 0.32245053629987225, -0.9223734597448511, 0.6846853537469202, -0.45008481106597226, -0.3533505384946988, -2.8731498108221647, -0.7484971720768924, -0.36500273352880264, 0.6067655573450121, -0.9095258614147902, -0.5916802031109333, -0.1286568103901193, 1.7388296281606612, 0.47239980869073794, -0.19232195914901176, 2.229241629104578, 0.9230532412325921, 1.669864645835989, -0.048946795581749296, -1.1772689529385014, -1.507948452528026, 0.24724840660536831, -0.5514672401858561, 0.03940467306020378, 1.101065497240953, -0.6740037548529809, -1.087435723169192, 0.7956290688949827, 1.3708984098787027, -2.5791584583768774, -0.22441070420898013, 0.26205684531518003, -1.4562008931988613, 1.4373764995136746, 1.5882274462361048, -1.14297172147719, 0.8557954035872387, -0.21393484405050417, -0.4561921999510943, -1.2399718899695817, -0.4894135182650713, -0.9339678649182176, 1.1632061007301673, -0.5287445421017896, -0.7851686235869038, 0.9047629487274184, 0.4246297921895481, -0.7308639618574918, 0.25594378026316994, 0.18619445129129822, -0.000521841883759933, -0.0956855252854502, 0.41568934719485845, 2.3363430277107633, 0.986313969490932, -2.2999979856947776, -0.988970346091432, -0.17387465651416092, 1.1434523811225343, 0.7142548633467558, 1.0861935261444606, 0.5326363331496747, 0.24960608255715572, 0.15224848216287823, -1.0379568391468894, 0.40303463838925496, 1.4745778622017471, 0.5528359060224775, -0.4041364159267252, 0.2958334397510018, -0.9587982415737354, 2.411937340919393, -1.5457422218029453, 0.349811580328209, -0.22414230333098373, -0.5952445750360521, -0.17328969929810023, -0.2544671869662989, 0.38014899400462554, -0.8101198010890571, -0.14087644847276767, 0.5011952118769845, -1.4466394766986472, -0.6101461012464322, 0.25454424877028975, -0.6731734711992503, 1.535518147828806, -1.8820650727715733, -0.08447236199084893, 0.30272598868420986, 1.279879939966949, -0.2801796132397617, 1.1306796638342382, 1.2908453116833694, -0.5089587024089931, 0.12139023869349684, 0.29123717194560733], \"xaxis\": \"x\", \"yaxis\": \"y\"}, {\"line\": {\"color\": \"rgba(128, 128, 128, 1.0)\", \"dash\": \"solid\", \"shape\": \"linear\", \"width\": 1.3}, \"marker\": {\"size\": 2, \"symbol\": \"circle\"}, \"mode\": \"markers\", \"name\": \"A\", \"text\": \"\", \"type\": \"scatter\", \"x\": [-0.9091481202776661, 0.06780882273199226, -0.37426163102207805, -0.0893408716584356, 0.3785809932478647, -0.1674663523925086, -1.8900779795166602, -0.3424626483864567, 0.16169535711160646, 0.0478377990035949, -0.05481689229587556, 0.5533515341116935, 1.813873713624411, 0.4496238708250704, -0.7669842546794466, -0.5878357083218064, 0.2371579630564443, -0.53799999065927, -1.928307767514013, 0.778863457823434, -0.4660622969181952, 0.21413796571596228, 0.18163665667639722, -0.11279316160530298, -0.10135968035407887, 1.1556132702741724, -1.4199345211591043, -1.1980119673035385, -0.403043648643454, -0.18535180459067813, -0.590798397804791, -0.3527904046359064, 0.0521331226621967, 1.532901799474751, 0.5802094194992679, -0.010870242447072558, 0.4642532142674884, -0.9660326232658625, 1.9556195439245811, -0.05408068932375628, 0.18235044092284422, -0.1051075040381056, 0.16635592876305297, -1.6885493863487944, 0.6763009103052485, -2.10897816221814, 0.4405099968628592, 0.6263658596754582, 1.9604723414870466, 1.06194614575976, 0.6400773508424474, -0.5500867822309106, 0.8307100882811101, 0.0344633537188449, -1.330900477021943, 2.4910631328577386, -1.7059464862818212, 0.5955627767535996, 0.07872829056054018, -0.7658543204305447, -1.0595414654093238, -0.4404871361336019, -0.4303288990356177, 1.4977893567786902, -1.8584560116454625, 0.28782599809848924, -0.5654122593952702, 1.051391369391621, -0.9569865241042446, 0.6768422848156005, -0.4150103635543724, 1.9936289538054037, 0.6034494063737481, -0.5042530167988375, -1.7769618298699321, 0.2973685224675162, 0.6357589463328186, -0.9239470626522018, 0.389154509412879, -0.8314898251629631, 1.1306355458935795, -0.13371758037286724, -0.9233531684251245, -1.482427845223228, -0.06425504201663151, 1.8131487525802705, -1.3458155732931503, 0.7107488739846166, 0.5952788770646874, -0.18688980536139707, 0.364839931718773, 0.3702635516581097, -1.4292990764432627, -0.5328116959402388, 0.11373726774497099, 1.1744561982317403, 0.9043388870333897, -0.5964606635103178, 0.8775321308476934, 0.4960320670502967], \"xaxis\": \"x2\", \"y\": [1.5786187229586952, 0.5388907679893202, 1.078694437802884, 0.32245053629987225, -0.9223734597448511, 0.6846853537469202, -0.45008481106597226, -0.3533505384946988, -2.8731498108221647, -0.7484971720768924, -0.36500273352880264, 0.6067655573450121, -0.9095258614147902, -0.5916802031109333, -0.1286568103901193, 1.7388296281606612, 0.47239980869073794, -0.19232195914901176, 2.229241629104578, 0.9230532412325921, 1.669864645835989, -0.048946795581749296, -1.1772689529385014, -1.507948452528026, 0.24724840660536831, -0.5514672401858561, 0.03940467306020378, 1.101065497240953, -0.6740037548529809, -1.087435723169192, 0.7956290688949827, 1.3708984098787027, -2.5791584583768774, -0.22441070420898013, 0.26205684531518003, -1.4562008931988613, 1.4373764995136746, 1.5882274462361048, -1.14297172147719, 0.8557954035872387, -0.21393484405050417, -0.4561921999510943, -1.2399718899695817, -0.4894135182650713, -0.9339678649182176, 1.1632061007301673, -0.5287445421017896, -0.7851686235869038, 0.9047629487274184, 0.4246297921895481, -0.7308639618574918, 0.25594378026316994, 0.18619445129129822, -0.000521841883759933, -0.0956855252854502, 0.41568934719485845, 2.3363430277107633, 0.986313969490932, -2.2999979856947776, -0.988970346091432, -0.17387465651416092, 1.1434523811225343, 0.7142548633467558, 1.0861935261444606, 0.5326363331496747, 0.24960608255715572, 0.15224848216287823, -1.0379568391468894, 0.40303463838925496, 1.4745778622017471, 0.5528359060224775, -0.4041364159267252, 0.2958334397510018, -0.9587982415737354, 2.411937340919393, -1.5457422218029453, 0.349811580328209, -0.22414230333098373, -0.5952445750360521, -0.17328969929810023, -0.2544671869662989, 0.38014899400462554, -0.8101198010890571, -0.14087644847276767, 0.5011952118769845, -1.4466394766986472, -0.6101461012464322, 0.25454424877028975, -0.6731734711992503, 1.535518147828806, -1.8820650727715733, -0.08447236199084893, 0.30272598868420986, 1.279879939966949, -0.2801796132397617, 1.1306796638342382, 1.2908453116833694, -0.5089587024089931, 0.12139023869349684, 0.29123717194560733], \"yaxis\": \"y2\"}, {\"line\": {\"color\": \"rgba(128, 128, 128, 1.0)\", \"dash\": \"solid\", \"shape\": \"linear\", \"width\": 1.3}, \"marker\": {\"size\": 2, \"symbol\": \"circle\"}, \"mode\": \"markers\", \"name\": \"A\", \"text\": \"\", \"type\": \"scatter\", \"x\": [-1.197603887322099, -0.14967919671293892, 0.5444082636142232, -0.07152960472442545, -0.11760235423160066, -0.7152903793804544, 0.4005045046255291, 1.3518039524512873, -1.1243483736276993, -0.5009909117196343, -0.6356525293413666, 0.2956388077628931, -0.7524320015200916, -1.0529801411888347, 0.7071044525469407, -0.9284437462526892, -1.164603065805729, -0.6421343978188939, -0.8947566955109193, 0.452194461157883, -1.670887483463763, 1.0002966776604, 1.8493638173924913, -1.652593256858235, 0.5956196697561125, 1.7477319863139726, -0.5083851338373848, 0.07323737775396946, -0.5543647956471862, -0.7280928908030394, 0.929444705638144, -1.1237235236519836, 1.364897098191059, 0.5478777880307599, -0.07518856217547684, -0.3973916275118296, -0.2522469404046494, -0.8371763884555629, -0.007728306192208445, 1.037248310474221, 2.0671129544998172, 1.706815112917324, -0.08261281371724254, 0.20644873959937096, 0.6924770531326767, -1.5827261161381425, -0.7763239958108433, -0.3503803723749217, -1.9302490373390493, 1.1641087222396087, 0.5011120254621527, -0.5765128729674301, -0.572909190354357, 0.7960288033317842, -0.4016600353267202, 0.14155162583316797, 0.538711537931317, 0.09717978563857158, -0.15855920678036223, 0.3817610314473487, -0.06345160415242983, -0.8949898403245102, -0.5922689806323262, 0.059167966149032476, -0.9025951845322313, 0.5561210474233387, 0.18971421226487797, 1.527466279236679, 1.1553110119046823, -0.05142100171334006, -0.11104848011462413, 0.45975838916078526, -1.0837658721120444, 0.2603074791735487, 0.2271357768750185, -0.6143912633154864, -0.19682027933217464, -0.0755922482911257, 2.3624936077255865, 1.061218366771381, -0.09187194218598727, 1.5566403723088795, -0.5662785101994151, 0.0871672917737875, -1.3130377206401151, -0.01629282610072284, -1.7130840368279885, -1.295689318319282, 2.5175579928428995, 1.377240242721176, -1.034680562490194, 0.6531272679255921, -0.6879084568105988, -0.46116366918317875, -1.457596574037775, 0.08248908322072915, -1.5267858011457618, 0.7764265294878716, -1.0063240827148245, -1.5337039944830495], \"xaxis\": \"x3\", \"y\": [1.5786187229586952, 0.5388907679893202, 1.078694437802884, 0.32245053629987225, -0.9223734597448511, 0.6846853537469202, -0.45008481106597226, -0.3533505384946988, -2.8731498108221647, -0.7484971720768924, -0.36500273352880264, 0.6067655573450121, -0.9095258614147902, -0.5916802031109333, -0.1286568103901193, 1.7388296281606612, 0.47239980869073794, -0.19232195914901176, 2.229241629104578, 0.9230532412325921, 1.669864645835989, -0.048946795581749296, -1.1772689529385014, -1.507948452528026, 0.24724840660536831, -0.5514672401858561, 0.03940467306020378, 1.101065497240953, -0.6740037548529809, -1.087435723169192, 0.7956290688949827, 1.3708984098787027, -2.5791584583768774, -0.22441070420898013, 0.26205684531518003, -1.4562008931988613, 1.4373764995136746, 1.5882274462361048, -1.14297172147719, 0.8557954035872387, -0.21393484405050417, -0.4561921999510943, -1.2399718899695817, -0.4894135182650713, -0.9339678649182176, 1.1632061007301673, -0.5287445421017896, -0.7851686235869038, 0.9047629487274184, 0.4246297921895481, -0.7308639618574918, 0.25594378026316994, 0.18619445129129822, -0.000521841883759933, -0.0956855252854502, 0.41568934719485845, 2.3363430277107633, 0.986313969490932, -2.2999979856947776, -0.988970346091432, -0.17387465651416092, 1.1434523811225343, 0.7142548633467558, 1.0861935261444606, 0.5326363331496747, 0.24960608255715572, 0.15224848216287823, -1.0379568391468894, 0.40303463838925496, 1.4745778622017471, 0.5528359060224775, -0.4041364159267252, 0.2958334397510018, -0.9587982415737354, 2.411937340919393, -1.5457422218029453, 0.349811580328209, -0.22414230333098373, -0.5952445750360521, -0.17328969929810023, -0.2544671869662989, 0.38014899400462554, -0.8101198010890571, -0.14087644847276767, 0.5011952118769845, -1.4466394766986472, -0.6101461012464322, 0.25454424877028975, -0.6731734711992503, 1.535518147828806, -1.8820650727715733, -0.08447236199084893, 0.30272598868420986, 1.279879939966949, -0.2801796132397617, 1.1306796638342382, 1.2908453116833694, -0.5089587024089931, 0.12139023869349684, 0.29123717194560733], \"yaxis\": \"y3\"}, {\"line\": {\"color\": \"rgba(128, 128, 128, 1.0)\", \"dash\": \"solid\", \"shape\": \"linear\", \"width\": 1.3}, \"marker\": {\"size\": 2, \"symbol\": \"circle\"}, \"mode\": \"markers\", \"name\": \"A\", \"text\": \"\", \"type\": \"scatter\", \"x\": [-1.236960009175287, 1.5957056827372886, -1.0816516780323115, 2.200052015079462, 0.5143247019771605, -1.298901901880776, 0.17313645065214056, 0.9674163566203784, -0.22153004406279606, -0.27206989956303956, 0.3143012040259115, -0.569531152898254, 0.08126478029389282, 0.8559542227430773, -1.0175763939410853, -0.10680840976940756, 0.04184890394958401, -0.18633903942760885, -0.442701902721548, 0.25069835235750826, -0.15772123842472408, 0.6055264194695906, -0.5231474640327842, -1.1483991602933603, -1.4315196534480366, -0.29110580637466676, -0.6148183294126481, 1.0357269388691175, 1.4325122264680905, 0.047996524705700795, 0.5257544940853995, 0.5007092040776967, -1.0133788494833593, -0.17140111283027717, -1.6650623212197295, -0.38565297522022907, -1.0631154036221937, 0.8936736895735256, 0.6975017214985157, -0.6144869389303735, -2.1181687484974923, -0.6536309034282014, -0.48014587964671623, -1.945695231225604, -0.04551853151221338, -2.3961519073548403, 1.5957981977390046, -0.3235433792385381, -1.0793595624540027, 0.5839007832341924, 1.0199613700952719, -0.3074901790252907, 0.41799459014333507, -0.552158231869279, 1.310697439208428, -2.6075287898130743, -1.8854654673649944, 0.5002128868990016, -0.657663363118006, 1.3178004735068567, 0.3457488508580863, -0.04376132072741204, -2.8980843373751073, 1.5859570858211414, 0.07085088888886118, -0.061026509238509115, 1.3615710585152017, -0.6397894357080812, -0.43859315104324653, 0.8751237172338803, -0.31378903090234406, 0.1980565609095691, -0.9598547525201483, 0.03672553453537836, 1.7192074964219954, 1.0986428237582062, 0.0025096167788204336, -1.181223803979235, -0.20377850730036687, -0.29447410738980206, -0.2878050343115418, -0.5626726711840615, 2.1779338559988553, -1.0356971241275936, 0.2652045833527526, -1.8230465662038575, -0.012118397896673763, -0.48752840176514556, 0.3373036379938806, 3.2348155942028587, -0.3686666049825805, -0.23124159952112106, 1.722082627228278, 0.8029339991881422, -0.422344772622117, -0.6850380502239866, 0.8691707591440322, 0.14220099266924224, -0.4567669970269884, 2.9844915497962994], \"xaxis\": \"x4\", \"y\": [1.5786187229586952, 0.5388907679893202, 1.078694437802884, 0.32245053629987225, -0.9223734597448511, 0.6846853537469202, -0.45008481106597226, -0.3533505384946988, -2.8731498108221647, -0.7484971720768924, -0.36500273352880264, 0.6067655573450121, -0.9095258614147902, -0.5916802031109333, -0.1286568103901193, 1.7388296281606612, 0.47239980869073794, -0.19232195914901176, 2.229241629104578, 0.9230532412325921, 1.669864645835989, -0.048946795581749296, -1.1772689529385014, -1.507948452528026, 0.24724840660536831, -0.5514672401858561, 0.03940467306020378, 1.101065497240953, -0.6740037548529809, -1.087435723169192, 0.7956290688949827, 1.3708984098787027, -2.5791584583768774, -0.22441070420898013, 0.26205684531518003, -1.4562008931988613, 1.4373764995136746, 1.5882274462361048, -1.14297172147719, 0.8557954035872387, -0.21393484405050417, -0.4561921999510943, -1.2399718899695817, -0.4894135182650713, -0.9339678649182176, 1.1632061007301673, -0.5287445421017896, -0.7851686235869038, 0.9047629487274184, 0.4246297921895481, -0.7308639618574918, 0.25594378026316994, 0.18619445129129822, -0.000521841883759933, -0.0956855252854502, 0.41568934719485845, 2.3363430277107633, 0.986313969490932, -2.2999979856947776, -0.988970346091432, -0.17387465651416092, 1.1434523811225343, 0.7142548633467558, 1.0861935261444606, 0.5326363331496747, 0.24960608255715572, 0.15224848216287823, -1.0379568391468894, 0.40303463838925496, 1.4745778622017471, 0.5528359060224775, -0.4041364159267252, 0.2958334397510018, -0.9587982415737354, 2.411937340919393, -1.5457422218029453, 0.349811580328209, -0.22414230333098373, -0.5952445750360521, -0.17328969929810023, -0.2544671869662989, 0.38014899400462554, -0.8101198010890571, -0.14087644847276767, 0.5011952118769845, -1.4466394766986472, -0.6101461012464322, 0.25454424877028975, -0.6731734711992503, 1.535518147828806, -1.8820650727715733, -0.08447236199084893, 0.30272598868420986, 1.279879939966949, -0.2801796132397617, 1.1306796638342382, 1.2908453116833694, -0.5089587024089931, 0.12139023869349684, 0.29123717194560733], \"yaxis\": \"y4\"}, {\"line\": {\"color\": \"rgba(128, 128, 128, 1.0)\", \"dash\": \"solid\", \"shape\": \"linear\", \"width\": 1.3}, \"marker\": {\"size\": 2, \"symbol\": \"circle\"}, \"mode\": \"markers\", \"name\": \"B\", \"text\": \"\", \"type\": \"scatter\", \"x\": [1.5786187229586952, 0.5388907679893202, 1.078694437802884, 0.32245053629987225, -0.9223734597448511, 0.6846853537469202, -0.45008481106597226, -0.3533505384946988, -2.8731498108221647, -0.7484971720768924, -0.36500273352880264, 0.6067655573450121, -0.9095258614147902, -0.5916802031109333, -0.1286568103901193, 1.7388296281606612, 0.47239980869073794, -0.19232195914901176, 2.229241629104578, 0.9230532412325921, 1.669864645835989, -0.048946795581749296, -1.1772689529385014, -1.507948452528026, 0.24724840660536831, -0.5514672401858561, 0.03940467306020378, 1.101065497240953, -0.6740037548529809, -1.087435723169192, 0.7956290688949827, 1.3708984098787027, -2.5791584583768774, -0.22441070420898013, 0.26205684531518003, -1.4562008931988613, 1.4373764995136746, 1.5882274462361048, -1.14297172147719, 0.8557954035872387, -0.21393484405050417, -0.4561921999510943, -1.2399718899695817, -0.4894135182650713, -0.9339678649182176, 1.1632061007301673, -0.5287445421017896, -0.7851686235869038, 0.9047629487274184, 0.4246297921895481, -0.7308639618574918, 0.25594378026316994, 0.18619445129129822, -0.000521841883759933, -0.0956855252854502, 0.41568934719485845, 2.3363430277107633, 0.986313969490932, -2.2999979856947776, -0.988970346091432, -0.17387465651416092, 1.1434523811225343, 0.7142548633467558, 1.0861935261444606, 0.5326363331496747, 0.24960608255715572, 0.15224848216287823, -1.0379568391468894, 0.40303463838925496, 1.4745778622017471, 0.5528359060224775, -0.4041364159267252, 0.2958334397510018, -0.9587982415737354, 2.411937340919393, -1.5457422218029453, 0.349811580328209, -0.22414230333098373, -0.5952445750360521, -0.17328969929810023, -0.2544671869662989, 0.38014899400462554, -0.8101198010890571, -0.14087644847276767, 0.5011952118769845, -1.4466394766986472, -0.6101461012464322, 0.25454424877028975, -0.6731734711992503, 1.535518147828806, -1.8820650727715733, -0.08447236199084893, 0.30272598868420986, 1.279879939966949, -0.2801796132397617, 1.1306796638342382, 1.2908453116833694, -0.5089587024089931, 0.12139023869349684, 0.29123717194560733], \"xaxis\": \"x5\", \"y\": [-0.9091481202776661, 0.06780882273199226, -0.37426163102207805, -0.0893408716584356, 0.3785809932478647, -0.1674663523925086, -1.8900779795166602, -0.3424626483864567, 0.16169535711160646, 0.0478377990035949, -0.05481689229587556, 0.5533515341116935, 1.813873713624411, 0.4496238708250704, -0.7669842546794466, -0.5878357083218064, 0.2371579630564443, -0.53799999065927, -1.928307767514013, 0.778863457823434, -0.4660622969181952, 0.21413796571596228, 0.18163665667639722, -0.11279316160530298, -0.10135968035407887, 1.1556132702741724, -1.4199345211591043, -1.1980119673035385, -0.403043648643454, -0.18535180459067813, -0.590798397804791, -0.3527904046359064, 0.0521331226621967, 1.532901799474751, 0.5802094194992679, -0.010870242447072558, 0.4642532142674884, -0.9660326232658625, 1.9556195439245811, -0.05408068932375628, 0.18235044092284422, -0.1051075040381056, 0.16635592876305297, -1.6885493863487944, 0.6763009103052485, -2.10897816221814, 0.4405099968628592, 0.6263658596754582, 1.9604723414870466, 1.06194614575976, 0.6400773508424474, -0.5500867822309106, 0.8307100882811101, 0.0344633537188449, -1.330900477021943, 2.4910631328577386, -1.7059464862818212, 0.5955627767535996, 0.07872829056054018, -0.7658543204305447, -1.0595414654093238, -0.4404871361336019, -0.4303288990356177, 1.4977893567786902, -1.8584560116454625, 0.28782599809848924, -0.5654122593952702, 1.051391369391621, -0.9569865241042446, 0.6768422848156005, -0.4150103635543724, 1.9936289538054037, 0.6034494063737481, -0.5042530167988375, -1.7769618298699321, 0.2973685224675162, 0.6357589463328186, -0.9239470626522018, 0.389154509412879, -0.8314898251629631, 1.1306355458935795, -0.13371758037286724, -0.9233531684251245, -1.482427845223228, -0.06425504201663151, 1.8131487525802705, -1.3458155732931503, 0.7107488739846166, 0.5952788770646874, -0.18688980536139707, 0.364839931718773, 0.3702635516581097, -1.4292990764432627, -0.5328116959402388, 0.11373726774497099, 1.1744561982317403, 0.9043388870333897, -0.5964606635103178, 0.8775321308476934, 0.4960320670502967], \"yaxis\": \"y5\"}, {\"histfunc\": \"count\", \"histnorm\": \"\", \"marker\": {\"color\": \"rgba(55, 128, 191, 1.0)\", \"line\": {\"color\": \"#4D5663\", \"width\": 1.3}}, \"name\": \"B\", \"nbinsx\": 10, \"opacity\": 0.8, \"orientation\": \"v\", \"type\": \"histogram\", \"x\": [-0.9091481202776661, 0.06780882273199226, -0.37426163102207805, -0.0893408716584356, 0.3785809932478647, -0.1674663523925086, -1.8900779795166602, -0.3424626483864567, 0.16169535711160646, 0.0478377990035949, -0.05481689229587556, 0.5533515341116935, 1.813873713624411, 0.4496238708250704, -0.7669842546794466, -0.5878357083218064, 0.2371579630564443, -0.53799999065927, -1.928307767514013, 0.778863457823434, -0.4660622969181952, 0.21413796571596228, 0.18163665667639722, -0.11279316160530298, -0.10135968035407887, 1.1556132702741724, -1.4199345211591043, -1.1980119673035385, -0.403043648643454, -0.18535180459067813, -0.590798397804791, -0.3527904046359064, 0.0521331226621967, 1.532901799474751, 0.5802094194992679, -0.010870242447072558, 0.4642532142674884, -0.9660326232658625, 1.9556195439245811, -0.05408068932375628, 0.18235044092284422, -0.1051075040381056, 0.16635592876305297, -1.6885493863487944, 0.6763009103052485, -2.10897816221814, 0.4405099968628592, 0.6263658596754582, 1.9604723414870466, 1.06194614575976, 0.6400773508424474, -0.5500867822309106, 0.8307100882811101, 0.0344633537188449, -1.330900477021943, 2.4910631328577386, -1.7059464862818212, 0.5955627767535996, 0.07872829056054018, -0.7658543204305447, -1.0595414654093238, -0.4404871361336019, -0.4303288990356177, 1.4977893567786902, -1.8584560116454625, 0.28782599809848924, -0.5654122593952702, 1.051391369391621, -0.9569865241042446, 0.6768422848156005, -0.4150103635543724, 1.9936289538054037, 0.6034494063737481, -0.5042530167988375, -1.7769618298699321, 0.2973685224675162, 0.6357589463328186, -0.9239470626522018, 0.389154509412879, -0.8314898251629631, 1.1306355458935795, -0.13371758037286724, -0.9233531684251245, -1.482427845223228, -0.06425504201663151, 1.8131487525802705, -1.3458155732931503, 0.7107488739846166, 0.5952788770646874, -0.18688980536139707, 0.364839931718773, 0.3702635516581097, -1.4292990764432627, -0.5328116959402388, 0.11373726774497099, 1.1744561982317403, 0.9043388870333897, -0.5964606635103178, 0.8775321308476934, 0.4960320670502967], \"xaxis\": \"x6\", \"yaxis\": \"y6\"}, {\"line\": {\"color\": \"rgba(128, 128, 128, 1.0)\", \"dash\": \"solid\", \"shape\": \"linear\", \"width\": 1.3}, \"marker\": {\"size\": 2, \"symbol\": \"circle\"}, \"mode\": \"markers\", \"name\": \"B\", \"text\": \"\", \"type\": \"scatter\", \"x\": [-1.197603887322099, -0.14967919671293892, 0.5444082636142232, -0.07152960472442545, -0.11760235423160066, -0.7152903793804544, 0.4005045046255291, 1.3518039524512873, -1.1243483736276993, -0.5009909117196343, -0.6356525293413666, 0.2956388077628931, -0.7524320015200916, -1.0529801411888347, 0.7071044525469407, -0.9284437462526892, -1.164603065805729, -0.6421343978188939, -0.8947566955109193, 0.452194461157883, -1.670887483463763, 1.0002966776604, 1.8493638173924913, -1.652593256858235, 0.5956196697561125, 1.7477319863139726, -0.5083851338373848, 0.07323737775396946, -0.5543647956471862, -0.7280928908030394, 0.929444705638144, -1.1237235236519836, 1.364897098191059, 0.5478777880307599, -0.07518856217547684, -0.3973916275118296, -0.2522469404046494, -0.8371763884555629, -0.007728306192208445, 1.037248310474221, 2.0671129544998172, 1.706815112917324, -0.08261281371724254, 0.20644873959937096, 0.6924770531326767, -1.5827261161381425, -0.7763239958108433, -0.3503803723749217, -1.9302490373390493, 1.1641087222396087, 0.5011120254621527, -0.5765128729674301, -0.572909190354357, 0.7960288033317842, -0.4016600353267202, 0.14155162583316797, 0.538711537931317, 0.09717978563857158, -0.15855920678036223, 0.3817610314473487, -0.06345160415242983, -0.8949898403245102, -0.5922689806323262, 0.059167966149032476, -0.9025951845322313, 0.5561210474233387, 0.18971421226487797, 1.527466279236679, 1.1553110119046823, -0.05142100171334006, -0.11104848011462413, 0.45975838916078526, -1.0837658721120444, 0.2603074791735487, 0.2271357768750185, -0.6143912633154864, -0.19682027933217464, -0.0755922482911257, 2.3624936077255865, 1.061218366771381, -0.09187194218598727, 1.5566403723088795, -0.5662785101994151, 0.0871672917737875, -1.3130377206401151, -0.01629282610072284, -1.7130840368279885, -1.295689318319282, 2.5175579928428995, 1.377240242721176, -1.034680562490194, 0.6531272679255921, -0.6879084568105988, -0.46116366918317875, -1.457596574037775, 0.08248908322072915, -1.5267858011457618, 0.7764265294878716, -1.0063240827148245, -1.5337039944830495], \"xaxis\": \"x7\", \"y\": [-0.9091481202776661, 0.06780882273199226, -0.37426163102207805, -0.0893408716584356, 0.3785809932478647, -0.1674663523925086, -1.8900779795166602, -0.3424626483864567, 0.16169535711160646, 0.0478377990035949, -0.05481689229587556, 0.5533515341116935, 1.813873713624411, 0.4496238708250704, -0.7669842546794466, -0.5878357083218064, 0.2371579630564443, -0.53799999065927, -1.928307767514013, 0.778863457823434, -0.4660622969181952, 0.21413796571596228, 0.18163665667639722, -0.11279316160530298, -0.10135968035407887, 1.1556132702741724, -1.4199345211591043, -1.1980119673035385, -0.403043648643454, -0.18535180459067813, -0.590798397804791, -0.3527904046359064, 0.0521331226621967, 1.532901799474751, 0.5802094194992679, -0.010870242447072558, 0.4642532142674884, -0.9660326232658625, 1.9556195439245811, -0.05408068932375628, 0.18235044092284422, -0.1051075040381056, 0.16635592876305297, -1.6885493863487944, 0.6763009103052485, -2.10897816221814, 0.4405099968628592, 0.6263658596754582, 1.9604723414870466, 1.06194614575976, 0.6400773508424474, -0.5500867822309106, 0.8307100882811101, 0.0344633537188449, -1.330900477021943, 2.4910631328577386, -1.7059464862818212, 0.5955627767535996, 0.07872829056054018, -0.7658543204305447, -1.0595414654093238, -0.4404871361336019, -0.4303288990356177, 1.4977893567786902, -1.8584560116454625, 0.28782599809848924, -0.5654122593952702, 1.051391369391621, -0.9569865241042446, 0.6768422848156005, -0.4150103635543724, 1.9936289538054037, 0.6034494063737481, -0.5042530167988375, -1.7769618298699321, 0.2973685224675162, 0.6357589463328186, -0.9239470626522018, 0.389154509412879, -0.8314898251629631, 1.1306355458935795, -0.13371758037286724, -0.9233531684251245, -1.482427845223228, -0.06425504201663151, 1.8131487525802705, -1.3458155732931503, 0.7107488739846166, 0.5952788770646874, -0.18688980536139707, 0.364839931718773, 0.3702635516581097, -1.4292990764432627, -0.5328116959402388, 0.11373726774497099, 1.1744561982317403, 0.9043388870333897, -0.5964606635103178, 0.8775321308476934, 0.4960320670502967], \"yaxis\": \"y7\"}, {\"line\": {\"color\": \"rgba(128, 128, 128, 1.0)\", \"dash\": \"solid\", \"shape\": \"linear\", \"width\": 1.3}, \"marker\": {\"size\": 2, \"symbol\": \"circle\"}, \"mode\": \"markers\", \"name\": \"B\", \"text\": \"\", \"type\": \"scatter\", \"x\": [-1.236960009175287, 1.5957056827372886, -1.0816516780323115, 2.200052015079462, 0.5143247019771605, -1.298901901880776, 0.17313645065214056, 0.9674163566203784, -0.22153004406279606, -0.27206989956303956, 0.3143012040259115, -0.569531152898254, 0.08126478029389282, 0.8559542227430773, -1.0175763939410853, -0.10680840976940756, 0.04184890394958401, -0.18633903942760885, -0.442701902721548, 0.25069835235750826, -0.15772123842472408, 0.6055264194695906, -0.5231474640327842, -1.1483991602933603, -1.4315196534480366, -0.29110580637466676, -0.6148183294126481, 1.0357269388691175, 1.4325122264680905, 0.047996524705700795, 0.5257544940853995, 0.5007092040776967, -1.0133788494833593, -0.17140111283027717, -1.6650623212197295, -0.38565297522022907, -1.0631154036221937, 0.8936736895735256, 0.6975017214985157, -0.6144869389303735, -2.1181687484974923, -0.6536309034282014, -0.48014587964671623, -1.945695231225604, -0.04551853151221338, -2.3961519073548403, 1.5957981977390046, -0.3235433792385381, -1.0793595624540027, 0.5839007832341924, 1.0199613700952719, -0.3074901790252907, 0.41799459014333507, -0.552158231869279, 1.310697439208428, -2.6075287898130743, -1.8854654673649944, 0.5002128868990016, -0.657663363118006, 1.3178004735068567, 0.3457488508580863, -0.04376132072741204, -2.8980843373751073, 1.5859570858211414, 0.07085088888886118, -0.061026509238509115, 1.3615710585152017, -0.6397894357080812, -0.43859315104324653, 0.8751237172338803, -0.31378903090234406, 0.1980565609095691, -0.9598547525201483, 0.03672553453537836, 1.7192074964219954, 1.0986428237582062, 0.0025096167788204336, -1.181223803979235, -0.20377850730036687, -0.29447410738980206, -0.2878050343115418, -0.5626726711840615, 2.1779338559988553, -1.0356971241275936, 0.2652045833527526, -1.8230465662038575, -0.012118397896673763, -0.48752840176514556, 0.3373036379938806, 3.2348155942028587, -0.3686666049825805, -0.23124159952112106, 1.722082627228278, 0.8029339991881422, -0.422344772622117, -0.6850380502239866, 0.8691707591440322, 0.14220099266924224, -0.4567669970269884, 2.9844915497962994], \"xaxis\": \"x8\", \"y\": [-0.9091481202776661, 0.06780882273199226, -0.37426163102207805, -0.0893408716584356, 0.3785809932478647, -0.1674663523925086, -1.8900779795166602, -0.3424626483864567, 0.16169535711160646, 0.0478377990035949, -0.05481689229587556, 0.5533515341116935, 1.813873713624411, 0.4496238708250704, -0.7669842546794466, -0.5878357083218064, 0.2371579630564443, -0.53799999065927, -1.928307767514013, 0.778863457823434, -0.4660622969181952, 0.21413796571596228, 0.18163665667639722, -0.11279316160530298, -0.10135968035407887, 1.1556132702741724, -1.4199345211591043, -1.1980119673035385, -0.403043648643454, -0.18535180459067813, -0.590798397804791, -0.3527904046359064, 0.0521331226621967, 1.532901799474751, 0.5802094194992679, -0.010870242447072558, 0.4642532142674884, -0.9660326232658625, 1.9556195439245811, -0.05408068932375628, 0.18235044092284422, -0.1051075040381056, 0.16635592876305297, -1.6885493863487944, 0.6763009103052485, -2.10897816221814, 0.4405099968628592, 0.6263658596754582, 1.9604723414870466, 1.06194614575976, 0.6400773508424474, -0.5500867822309106, 0.8307100882811101, 0.0344633537188449, -1.330900477021943, 2.4910631328577386, -1.7059464862818212, 0.5955627767535996, 0.07872829056054018, -0.7658543204305447, -1.0595414654093238, -0.4404871361336019, -0.4303288990356177, 1.4977893567786902, -1.8584560116454625, 0.28782599809848924, -0.5654122593952702, 1.051391369391621, -0.9569865241042446, 0.6768422848156005, -0.4150103635543724, 1.9936289538054037, 0.6034494063737481, -0.5042530167988375, -1.7769618298699321, 0.2973685224675162, 0.6357589463328186, -0.9239470626522018, 0.389154509412879, -0.8314898251629631, 1.1306355458935795, -0.13371758037286724, -0.9233531684251245, -1.482427845223228, -0.06425504201663151, 1.8131487525802705, -1.3458155732931503, 0.7107488739846166, 0.5952788770646874, -0.18688980536139707, 0.364839931718773, 0.3702635516581097, -1.4292990764432627, -0.5328116959402388, 0.11373726774497099, 1.1744561982317403, 0.9043388870333897, -0.5964606635103178, 0.8775321308476934, 0.4960320670502967], \"yaxis\": \"y8\"}, {\"line\": {\"color\": \"rgba(128, 128, 128, 1.0)\", \"dash\": \"solid\", \"shape\": \"linear\", \"width\": 1.3}, \"marker\": {\"size\": 2, \"symbol\": \"circle\"}, \"mode\": \"markers\", \"name\": \"C\", \"text\": \"\", \"type\": \"scatter\", \"x\": [1.5786187229586952, 0.5388907679893202, 1.078694437802884, 0.32245053629987225, -0.9223734597448511, 0.6846853537469202, -0.45008481106597226, -0.3533505384946988, -2.8731498108221647, -0.7484971720768924, -0.36500273352880264, 0.6067655573450121, -0.9095258614147902, -0.5916802031109333, -0.1286568103901193, 1.7388296281606612, 0.47239980869073794, -0.19232195914901176, 2.229241629104578, 0.9230532412325921, 1.669864645835989, -0.048946795581749296, -1.1772689529385014, -1.507948452528026, 0.24724840660536831, -0.5514672401858561, 0.03940467306020378, 1.101065497240953, -0.6740037548529809, -1.087435723169192, 0.7956290688949827, 1.3708984098787027, -2.5791584583768774, -0.22441070420898013, 0.26205684531518003, -1.4562008931988613, 1.4373764995136746, 1.5882274462361048, -1.14297172147719, 0.8557954035872387, -0.21393484405050417, -0.4561921999510943, -1.2399718899695817, -0.4894135182650713, -0.9339678649182176, 1.1632061007301673, -0.5287445421017896, -0.7851686235869038, 0.9047629487274184, 0.4246297921895481, -0.7308639618574918, 0.25594378026316994, 0.18619445129129822, -0.000521841883759933, -0.0956855252854502, 0.41568934719485845, 2.3363430277107633, 0.986313969490932, -2.2999979856947776, -0.988970346091432, -0.17387465651416092, 1.1434523811225343, 0.7142548633467558, 1.0861935261444606, 0.5326363331496747, 0.24960608255715572, 0.15224848216287823, -1.0379568391468894, 0.40303463838925496, 1.4745778622017471, 0.5528359060224775, -0.4041364159267252, 0.2958334397510018, -0.9587982415737354, 2.411937340919393, -1.5457422218029453, 0.349811580328209, -0.22414230333098373, -0.5952445750360521, -0.17328969929810023, -0.2544671869662989, 0.38014899400462554, -0.8101198010890571, -0.14087644847276767, 0.5011952118769845, -1.4466394766986472, -0.6101461012464322, 0.25454424877028975, -0.6731734711992503, 1.535518147828806, -1.8820650727715733, -0.08447236199084893, 0.30272598868420986, 1.279879939966949, -0.2801796132397617, 1.1306796638342382, 1.2908453116833694, -0.5089587024089931, 0.12139023869349684, 0.29123717194560733], \"xaxis\": \"x9\", \"y\": [-1.197603887322099, -0.14967919671293892, 0.5444082636142232, -0.07152960472442545, -0.11760235423160066, -0.7152903793804544, 0.4005045046255291, 1.3518039524512873, -1.1243483736276993, -0.5009909117196343, -0.6356525293413666, 0.2956388077628931, -0.7524320015200916, -1.0529801411888347, 0.7071044525469407, -0.9284437462526892, -1.164603065805729, -0.6421343978188939, -0.8947566955109193, 0.452194461157883, -1.670887483463763, 1.0002966776604, 1.8493638173924913, -1.652593256858235, 0.5956196697561125, 1.7477319863139726, -0.5083851338373848, 0.07323737775396946, -0.5543647956471862, -0.7280928908030394, 0.929444705638144, -1.1237235236519836, 1.364897098191059, 0.5478777880307599, -0.07518856217547684, -0.3973916275118296, -0.2522469404046494, -0.8371763884555629, -0.007728306192208445, 1.037248310474221, 2.0671129544998172, 1.706815112917324, -0.08261281371724254, 0.20644873959937096, 0.6924770531326767, -1.5827261161381425, -0.7763239958108433, -0.3503803723749217, -1.9302490373390493, 1.1641087222396087, 0.5011120254621527, -0.5765128729674301, -0.572909190354357, 0.7960288033317842, -0.4016600353267202, 0.14155162583316797, 0.538711537931317, 0.09717978563857158, -0.15855920678036223, 0.3817610314473487, -0.06345160415242983, -0.8949898403245102, -0.5922689806323262, 0.059167966149032476, -0.9025951845322313, 0.5561210474233387, 0.18971421226487797, 1.527466279236679, 1.1553110119046823, -0.05142100171334006, -0.11104848011462413, 0.45975838916078526, -1.0837658721120444, 0.2603074791735487, 0.2271357768750185, -0.6143912633154864, -0.19682027933217464, -0.0755922482911257, 2.3624936077255865, 1.061218366771381, -0.09187194218598727, 1.5566403723088795, -0.5662785101994151, 0.0871672917737875, -1.3130377206401151, -0.01629282610072284, -1.7130840368279885, -1.295689318319282, 2.5175579928428995, 1.377240242721176, -1.034680562490194, 0.6531272679255921, -0.6879084568105988, -0.46116366918317875, -1.457596574037775, 0.08248908322072915, -1.5267858011457618, 0.7764265294878716, -1.0063240827148245, -1.5337039944830495], \"yaxis\": \"y9\"}, {\"line\": {\"color\": \"rgba(128, 128, 128, 1.0)\", \"dash\": \"solid\", \"shape\": \"linear\", \"width\": 1.3}, \"marker\": {\"size\": 2, \"symbol\": \"circle\"}, \"mode\": \"markers\", \"name\": \"C\", \"text\": \"\", \"type\": \"scatter\", \"x\": [-0.9091481202776661, 0.06780882273199226, -0.37426163102207805, -0.0893408716584356, 0.3785809932478647, -0.1674663523925086, -1.8900779795166602, -0.3424626483864567, 0.16169535711160646, 0.0478377990035949, -0.05481689229587556, 0.5533515341116935, 1.813873713624411, 0.4496238708250704, -0.7669842546794466, -0.5878357083218064, 0.2371579630564443, -0.53799999065927, -1.928307767514013, 0.778863457823434, -0.4660622969181952, 0.21413796571596228, 0.18163665667639722, -0.11279316160530298, -0.10135968035407887, 1.1556132702741724, -1.4199345211591043, -1.1980119673035385, -0.403043648643454, -0.18535180459067813, -0.590798397804791, -0.3527904046359064, 0.0521331226621967, 1.532901799474751, 0.5802094194992679, -0.010870242447072558, 0.4642532142674884, -0.9660326232658625, 1.9556195439245811, -0.05408068932375628, 0.18235044092284422, -0.1051075040381056, 0.16635592876305297, -1.6885493863487944, 0.6763009103052485, -2.10897816221814, 0.4405099968628592, 0.6263658596754582, 1.9604723414870466, 1.06194614575976, 0.6400773508424474, -0.5500867822309106, 0.8307100882811101, 0.0344633537188449, -1.330900477021943, 2.4910631328577386, -1.7059464862818212, 0.5955627767535996, 0.07872829056054018, -0.7658543204305447, -1.0595414654093238, -0.4404871361336019, -0.4303288990356177, 1.4977893567786902, -1.8584560116454625, 0.28782599809848924, -0.5654122593952702, 1.051391369391621, -0.9569865241042446, 0.6768422848156005, -0.4150103635543724, 1.9936289538054037, 0.6034494063737481, -0.5042530167988375, -1.7769618298699321, 0.2973685224675162, 0.6357589463328186, -0.9239470626522018, 0.389154509412879, -0.8314898251629631, 1.1306355458935795, -0.13371758037286724, -0.9233531684251245, -1.482427845223228, -0.06425504201663151, 1.8131487525802705, -1.3458155732931503, 0.7107488739846166, 0.5952788770646874, -0.18688980536139707, 0.364839931718773, 0.3702635516581097, -1.4292990764432627, -0.5328116959402388, 0.11373726774497099, 1.1744561982317403, 0.9043388870333897, -0.5964606635103178, 0.8775321308476934, 0.4960320670502967], \"xaxis\": \"x10\", \"y\": [-1.197603887322099, -0.14967919671293892, 0.5444082636142232, -0.07152960472442545, -0.11760235423160066, -0.7152903793804544, 0.4005045046255291, 1.3518039524512873, -1.1243483736276993, -0.5009909117196343, -0.6356525293413666, 0.2956388077628931, -0.7524320015200916, -1.0529801411888347, 0.7071044525469407, -0.9284437462526892, -1.164603065805729, -0.6421343978188939, -0.8947566955109193, 0.452194461157883, -1.670887483463763, 1.0002966776604, 1.8493638173924913, -1.652593256858235, 0.5956196697561125, 1.7477319863139726, -0.5083851338373848, 0.07323737775396946, -0.5543647956471862, -0.7280928908030394, 0.929444705638144, -1.1237235236519836, 1.364897098191059, 0.5478777880307599, -0.07518856217547684, -0.3973916275118296, -0.2522469404046494, -0.8371763884555629, -0.007728306192208445, 1.037248310474221, 2.0671129544998172, 1.706815112917324, -0.08261281371724254, 0.20644873959937096, 0.6924770531326767, -1.5827261161381425, -0.7763239958108433, -0.3503803723749217, -1.9302490373390493, 1.1641087222396087, 0.5011120254621527, -0.5765128729674301, -0.572909190354357, 0.7960288033317842, -0.4016600353267202, 0.14155162583316797, 0.538711537931317, 0.09717978563857158, -0.15855920678036223, 0.3817610314473487, -0.06345160415242983, -0.8949898403245102, -0.5922689806323262, 0.059167966149032476, -0.9025951845322313, 0.5561210474233387, 0.18971421226487797, 1.527466279236679, 1.1553110119046823, -0.05142100171334006, -0.11104848011462413, 0.45975838916078526, -1.0837658721120444, 0.2603074791735487, 0.2271357768750185, -0.6143912633154864, -0.19682027933217464, -0.0755922482911257, 2.3624936077255865, 1.061218366771381, -0.09187194218598727, 1.5566403723088795, -0.5662785101994151, 0.0871672917737875, -1.3130377206401151, -0.01629282610072284, -1.7130840368279885, -1.295689318319282, 2.5175579928428995, 1.377240242721176, -1.034680562490194, 0.6531272679255921, -0.6879084568105988, -0.46116366918317875, -1.457596574037775, 0.08248908322072915, -1.5267858011457618, 0.7764265294878716, -1.0063240827148245, -1.5337039944830495], \"yaxis\": \"y10\"}, {\"histfunc\": \"count\", \"histnorm\": \"\", \"marker\": {\"color\": \"rgba(50, 171, 96, 1.0)\", \"line\": {\"color\": \"#4D5663\", \"width\": 1.3}}, \"name\": \"C\", \"nbinsx\": 10, \"opacity\": 0.8, \"orientation\": \"v\", \"type\": \"histogram\", \"x\": [-1.197603887322099, -0.14967919671293892, 0.5444082636142232, -0.07152960472442545, -0.11760235423160066, -0.7152903793804544, 0.4005045046255291, 1.3518039524512873, -1.1243483736276993, -0.5009909117196343, -0.6356525293413666, 0.2956388077628931, -0.7524320015200916, -1.0529801411888347, 0.7071044525469407, -0.9284437462526892, -1.164603065805729, -0.6421343978188939, -0.8947566955109193, 0.452194461157883, -1.670887483463763, 1.0002966776604, 1.8493638173924913, -1.652593256858235, 0.5956196697561125, 1.7477319863139726, -0.5083851338373848, 0.07323737775396946, -0.5543647956471862, -0.7280928908030394, 0.929444705638144, -1.1237235236519836, 1.364897098191059, 0.5478777880307599, -0.07518856217547684, -0.3973916275118296, -0.2522469404046494, -0.8371763884555629, -0.007728306192208445, 1.037248310474221, 2.0671129544998172, 1.706815112917324, -0.08261281371724254, 0.20644873959937096, 0.6924770531326767, -1.5827261161381425, -0.7763239958108433, -0.3503803723749217, -1.9302490373390493, 1.1641087222396087, 0.5011120254621527, -0.5765128729674301, -0.572909190354357, 0.7960288033317842, -0.4016600353267202, 0.14155162583316797, 0.538711537931317, 0.09717978563857158, -0.15855920678036223, 0.3817610314473487, -0.06345160415242983, -0.8949898403245102, -0.5922689806323262, 0.059167966149032476, -0.9025951845322313, 0.5561210474233387, 0.18971421226487797, 1.527466279236679, 1.1553110119046823, -0.05142100171334006, -0.11104848011462413, 0.45975838916078526, -1.0837658721120444, 0.2603074791735487, 0.2271357768750185, -0.6143912633154864, -0.19682027933217464, -0.0755922482911257, 2.3624936077255865, 1.061218366771381, -0.09187194218598727, 1.5566403723088795, -0.5662785101994151, 0.0871672917737875, -1.3130377206401151, -0.01629282610072284, -1.7130840368279885, -1.295689318319282, 2.5175579928428995, 1.377240242721176, -1.034680562490194, 0.6531272679255921, -0.6879084568105988, -0.46116366918317875, -1.457596574037775, 0.08248908322072915, -1.5267858011457618, 0.7764265294878716, -1.0063240827148245, -1.5337039944830495], \"xaxis\": \"x11\", \"yaxis\": \"y11\"}, {\"line\": {\"color\": \"rgba(128, 128, 128, 1.0)\", \"dash\": \"solid\", \"shape\": \"linear\", \"width\": 1.3}, \"marker\": {\"size\": 2, \"symbol\": \"circle\"}, \"mode\": \"markers\", \"name\": \"C\", \"text\": \"\", \"type\": \"scatter\", \"x\": [-1.236960009175287, 1.5957056827372886, -1.0816516780323115, 2.200052015079462, 0.5143247019771605, -1.298901901880776, 0.17313645065214056, 0.9674163566203784, -0.22153004406279606, -0.27206989956303956, 0.3143012040259115, -0.569531152898254, 0.08126478029389282, 0.8559542227430773, -1.0175763939410853, -0.10680840976940756, 0.04184890394958401, -0.18633903942760885, -0.442701902721548, 0.25069835235750826, -0.15772123842472408, 0.6055264194695906, -0.5231474640327842, -1.1483991602933603, -1.4315196534480366, -0.29110580637466676, -0.6148183294126481, 1.0357269388691175, 1.4325122264680905, 0.047996524705700795, 0.5257544940853995, 0.5007092040776967, -1.0133788494833593, -0.17140111283027717, -1.6650623212197295, -0.38565297522022907, -1.0631154036221937, 0.8936736895735256, 0.6975017214985157, -0.6144869389303735, -2.1181687484974923, -0.6536309034282014, -0.48014587964671623, -1.945695231225604, -0.04551853151221338, -2.3961519073548403, 1.5957981977390046, -0.3235433792385381, -1.0793595624540027, 0.5839007832341924, 1.0199613700952719, -0.3074901790252907, 0.41799459014333507, -0.552158231869279, 1.310697439208428, -2.6075287898130743, -1.8854654673649944, 0.5002128868990016, -0.657663363118006, 1.3178004735068567, 0.3457488508580863, -0.04376132072741204, -2.8980843373751073, 1.5859570858211414, 0.07085088888886118, -0.061026509238509115, 1.3615710585152017, -0.6397894357080812, -0.43859315104324653, 0.8751237172338803, -0.31378903090234406, 0.1980565609095691, -0.9598547525201483, 0.03672553453537836, 1.7192074964219954, 1.0986428237582062, 0.0025096167788204336, -1.181223803979235, -0.20377850730036687, -0.29447410738980206, -0.2878050343115418, -0.5626726711840615, 2.1779338559988553, -1.0356971241275936, 0.2652045833527526, -1.8230465662038575, -0.012118397896673763, -0.48752840176514556, 0.3373036379938806, 3.2348155942028587, -0.3686666049825805, -0.23124159952112106, 1.722082627228278, 0.8029339991881422, -0.422344772622117, -0.6850380502239866, 0.8691707591440322, 0.14220099266924224, -0.4567669970269884, 2.9844915497962994], \"xaxis\": \"x12\", \"y\": [-1.197603887322099, -0.14967919671293892, 0.5444082636142232, -0.07152960472442545, -0.11760235423160066, -0.7152903793804544, 0.4005045046255291, 1.3518039524512873, -1.1243483736276993, -0.5009909117196343, -0.6356525293413666, 0.2956388077628931, -0.7524320015200916, -1.0529801411888347, 0.7071044525469407, -0.9284437462526892, -1.164603065805729, -0.6421343978188939, -0.8947566955109193, 0.452194461157883, -1.670887483463763, 1.0002966776604, 1.8493638173924913, -1.652593256858235, 0.5956196697561125, 1.7477319863139726, -0.5083851338373848, 0.07323737775396946, -0.5543647956471862, -0.7280928908030394, 0.929444705638144, -1.1237235236519836, 1.364897098191059, 0.5478777880307599, -0.07518856217547684, -0.3973916275118296, -0.2522469404046494, -0.8371763884555629, -0.007728306192208445, 1.037248310474221, 2.0671129544998172, 1.706815112917324, -0.08261281371724254, 0.20644873959937096, 0.6924770531326767, -1.5827261161381425, -0.7763239958108433, -0.3503803723749217, -1.9302490373390493, 1.1641087222396087, 0.5011120254621527, -0.5765128729674301, -0.572909190354357, 0.7960288033317842, -0.4016600353267202, 0.14155162583316797, 0.538711537931317, 0.09717978563857158, -0.15855920678036223, 0.3817610314473487, -0.06345160415242983, -0.8949898403245102, -0.5922689806323262, 0.059167966149032476, -0.9025951845322313, 0.5561210474233387, 0.18971421226487797, 1.527466279236679, 1.1553110119046823, -0.05142100171334006, -0.11104848011462413, 0.45975838916078526, -1.0837658721120444, 0.2603074791735487, 0.2271357768750185, -0.6143912633154864, -0.19682027933217464, -0.0755922482911257, 2.3624936077255865, 1.061218366771381, -0.09187194218598727, 1.5566403723088795, -0.5662785101994151, 0.0871672917737875, -1.3130377206401151, -0.01629282610072284, -1.7130840368279885, -1.295689318319282, 2.5175579928428995, 1.377240242721176, -1.034680562490194, 0.6531272679255921, -0.6879084568105988, -0.46116366918317875, -1.457596574037775, 0.08248908322072915, -1.5267858011457618, 0.7764265294878716, -1.0063240827148245, -1.5337039944830495], \"yaxis\": \"y12\"}, {\"line\": {\"color\": \"rgba(128, 128, 128, 1.0)\", \"dash\": \"solid\", \"shape\": \"linear\", \"width\": 1.3}, \"marker\": {\"size\": 2, \"symbol\": \"circle\"}, \"mode\": \"markers\", \"name\": \"D\", \"text\": \"\", \"type\": \"scatter\", \"x\": [1.5786187229586952, 0.5388907679893202, 1.078694437802884, 0.32245053629987225, -0.9223734597448511, 0.6846853537469202, -0.45008481106597226, -0.3533505384946988, -2.8731498108221647, -0.7484971720768924, -0.36500273352880264, 0.6067655573450121, -0.9095258614147902, -0.5916802031109333, -0.1286568103901193, 1.7388296281606612, 0.47239980869073794, -0.19232195914901176, 2.229241629104578, 0.9230532412325921, 1.669864645835989, -0.048946795581749296, -1.1772689529385014, -1.507948452528026, 0.24724840660536831, -0.5514672401858561, 0.03940467306020378, 1.101065497240953, -0.6740037548529809, -1.087435723169192, 0.7956290688949827, 1.3708984098787027, -2.5791584583768774, -0.22441070420898013, 0.26205684531518003, -1.4562008931988613, 1.4373764995136746, 1.5882274462361048, -1.14297172147719, 0.8557954035872387, -0.21393484405050417, -0.4561921999510943, -1.2399718899695817, -0.4894135182650713, -0.9339678649182176, 1.1632061007301673, -0.5287445421017896, -0.7851686235869038, 0.9047629487274184, 0.4246297921895481, -0.7308639618574918, 0.25594378026316994, 0.18619445129129822, -0.000521841883759933, -0.0956855252854502, 0.41568934719485845, 2.3363430277107633, 0.986313969490932, -2.2999979856947776, -0.988970346091432, -0.17387465651416092, 1.1434523811225343, 0.7142548633467558, 1.0861935261444606, 0.5326363331496747, 0.24960608255715572, 0.15224848216287823, -1.0379568391468894, 0.40303463838925496, 1.4745778622017471, 0.5528359060224775, -0.4041364159267252, 0.2958334397510018, -0.9587982415737354, 2.411937340919393, -1.5457422218029453, 0.349811580328209, -0.22414230333098373, -0.5952445750360521, -0.17328969929810023, -0.2544671869662989, 0.38014899400462554, -0.8101198010890571, -0.14087644847276767, 0.5011952118769845, -1.4466394766986472, -0.6101461012464322, 0.25454424877028975, -0.6731734711992503, 1.535518147828806, -1.8820650727715733, -0.08447236199084893, 0.30272598868420986, 1.279879939966949, -0.2801796132397617, 1.1306796638342382, 1.2908453116833694, -0.5089587024089931, 0.12139023869349684, 0.29123717194560733], \"xaxis\": \"x13\", \"y\": [-1.236960009175287, 1.5957056827372886, -1.0816516780323115, 2.200052015079462, 0.5143247019771605, -1.298901901880776, 0.17313645065214056, 0.9674163566203784, -0.22153004406279606, -0.27206989956303956, 0.3143012040259115, -0.569531152898254, 0.08126478029389282, 0.8559542227430773, -1.0175763939410853, -0.10680840976940756, 0.04184890394958401, -0.18633903942760885, -0.442701902721548, 0.25069835235750826, -0.15772123842472408, 0.6055264194695906, -0.5231474640327842, -1.1483991602933603, -1.4315196534480366, -0.29110580637466676, -0.6148183294126481, 1.0357269388691175, 1.4325122264680905, 0.047996524705700795, 0.5257544940853995, 0.5007092040776967, -1.0133788494833593, -0.17140111283027717, -1.6650623212197295, -0.38565297522022907, -1.0631154036221937, 0.8936736895735256, 0.6975017214985157, -0.6144869389303735, -2.1181687484974923, -0.6536309034282014, -0.48014587964671623, -1.945695231225604, -0.04551853151221338, -2.3961519073548403, 1.5957981977390046, -0.3235433792385381, -1.0793595624540027, 0.5839007832341924, 1.0199613700952719, -0.3074901790252907, 0.41799459014333507, -0.552158231869279, 1.310697439208428, -2.6075287898130743, -1.8854654673649944, 0.5002128868990016, -0.657663363118006, 1.3178004735068567, 0.3457488508580863, -0.04376132072741204, -2.8980843373751073, 1.5859570858211414, 0.07085088888886118, -0.061026509238509115, 1.3615710585152017, -0.6397894357080812, -0.43859315104324653, 0.8751237172338803, -0.31378903090234406, 0.1980565609095691, -0.9598547525201483, 0.03672553453537836, 1.7192074964219954, 1.0986428237582062, 0.0025096167788204336, -1.181223803979235, -0.20377850730036687, -0.29447410738980206, -0.2878050343115418, -0.5626726711840615, 2.1779338559988553, -1.0356971241275936, 0.2652045833527526, -1.8230465662038575, -0.012118397896673763, -0.48752840176514556, 0.3373036379938806, 3.2348155942028587, -0.3686666049825805, -0.23124159952112106, 1.722082627228278, 0.8029339991881422, -0.422344772622117, -0.6850380502239866, 0.8691707591440322, 0.14220099266924224, -0.4567669970269884, 2.9844915497962994], \"yaxis\": \"y13\"}, {\"line\": {\"color\": \"rgba(128, 128, 128, 1.0)\", \"dash\": \"solid\", \"shape\": \"linear\", \"width\": 1.3}, \"marker\": {\"size\": 2, \"symbol\": \"circle\"}, \"mode\": \"markers\", \"name\": \"D\", \"text\": \"\", \"type\": \"scatter\", \"x\": [-0.9091481202776661, 0.06780882273199226, -0.37426163102207805, -0.0893408716584356, 0.3785809932478647, -0.1674663523925086, -1.8900779795166602, -0.3424626483864567, 0.16169535711160646, 0.0478377990035949, -0.05481689229587556, 0.5533515341116935, 1.813873713624411, 0.4496238708250704, -0.7669842546794466, -0.5878357083218064, 0.2371579630564443, -0.53799999065927, -1.928307767514013, 0.778863457823434, -0.4660622969181952, 0.21413796571596228, 0.18163665667639722, -0.11279316160530298, -0.10135968035407887, 1.1556132702741724, -1.4199345211591043, -1.1980119673035385, -0.403043648643454, -0.18535180459067813, -0.590798397804791, -0.3527904046359064, 0.0521331226621967, 1.532901799474751, 0.5802094194992679, -0.010870242447072558, 0.4642532142674884, -0.9660326232658625, 1.9556195439245811, -0.05408068932375628, 0.18235044092284422, -0.1051075040381056, 0.16635592876305297, -1.6885493863487944, 0.6763009103052485, -2.10897816221814, 0.4405099968628592, 0.6263658596754582, 1.9604723414870466, 1.06194614575976, 0.6400773508424474, -0.5500867822309106, 0.8307100882811101, 0.0344633537188449, -1.330900477021943, 2.4910631328577386, -1.7059464862818212, 0.5955627767535996, 0.07872829056054018, -0.7658543204305447, -1.0595414654093238, -0.4404871361336019, -0.4303288990356177, 1.4977893567786902, -1.8584560116454625, 0.28782599809848924, -0.5654122593952702, 1.051391369391621, -0.9569865241042446, 0.6768422848156005, -0.4150103635543724, 1.9936289538054037, 0.6034494063737481, -0.5042530167988375, -1.7769618298699321, 0.2973685224675162, 0.6357589463328186, -0.9239470626522018, 0.389154509412879, -0.8314898251629631, 1.1306355458935795, -0.13371758037286724, -0.9233531684251245, -1.482427845223228, -0.06425504201663151, 1.8131487525802705, -1.3458155732931503, 0.7107488739846166, 0.5952788770646874, -0.18688980536139707, 0.364839931718773, 0.3702635516581097, -1.4292990764432627, -0.5328116959402388, 0.11373726774497099, 1.1744561982317403, 0.9043388870333897, -0.5964606635103178, 0.8775321308476934, 0.4960320670502967], \"xaxis\": \"x14\", \"y\": [-1.236960009175287, 1.5957056827372886, -1.0816516780323115, 2.200052015079462, 0.5143247019771605, -1.298901901880776, 0.17313645065214056, 0.9674163566203784, -0.22153004406279606, -0.27206989956303956, 0.3143012040259115, -0.569531152898254, 0.08126478029389282, 0.8559542227430773, -1.0175763939410853, -0.10680840976940756, 0.04184890394958401, -0.18633903942760885, -0.442701902721548, 0.25069835235750826, -0.15772123842472408, 0.6055264194695906, -0.5231474640327842, -1.1483991602933603, -1.4315196534480366, -0.29110580637466676, -0.6148183294126481, 1.0357269388691175, 1.4325122264680905, 0.047996524705700795, 0.5257544940853995, 0.5007092040776967, -1.0133788494833593, -0.17140111283027717, -1.6650623212197295, -0.38565297522022907, -1.0631154036221937, 0.8936736895735256, 0.6975017214985157, -0.6144869389303735, -2.1181687484974923, -0.6536309034282014, -0.48014587964671623, -1.945695231225604, -0.04551853151221338, -2.3961519073548403, 1.5957981977390046, -0.3235433792385381, -1.0793595624540027, 0.5839007832341924, 1.0199613700952719, -0.3074901790252907, 0.41799459014333507, -0.552158231869279, 1.310697439208428, -2.6075287898130743, -1.8854654673649944, 0.5002128868990016, -0.657663363118006, 1.3178004735068567, 0.3457488508580863, -0.04376132072741204, -2.8980843373751073, 1.5859570858211414, 0.07085088888886118, -0.061026509238509115, 1.3615710585152017, -0.6397894357080812, -0.43859315104324653, 0.8751237172338803, -0.31378903090234406, 0.1980565609095691, -0.9598547525201483, 0.03672553453537836, 1.7192074964219954, 1.0986428237582062, 0.0025096167788204336, -1.181223803979235, -0.20377850730036687, -0.29447410738980206, -0.2878050343115418, -0.5626726711840615, 2.1779338559988553, -1.0356971241275936, 0.2652045833527526, -1.8230465662038575, -0.012118397896673763, -0.48752840176514556, 0.3373036379938806, 3.2348155942028587, -0.3686666049825805, -0.23124159952112106, 1.722082627228278, 0.8029339991881422, -0.422344772622117, -0.6850380502239866, 0.8691707591440322, 0.14220099266924224, -0.4567669970269884, 2.9844915497962994], \"yaxis\": \"y14\"}, {\"line\": {\"color\": \"rgba(128, 128, 128, 1.0)\", \"dash\": \"solid\", \"shape\": \"linear\", \"width\": 1.3}, \"marker\": {\"size\": 2, \"symbol\": \"circle\"}, \"mode\": \"markers\", \"name\": \"D\", \"text\": \"\", \"type\": \"scatter\", \"x\": [-1.197603887322099, -0.14967919671293892, 0.5444082636142232, -0.07152960472442545, -0.11760235423160066, -0.7152903793804544, 0.4005045046255291, 1.3518039524512873, -1.1243483736276993, -0.5009909117196343, -0.6356525293413666, 0.2956388077628931, -0.7524320015200916, -1.0529801411888347, 0.7071044525469407, -0.9284437462526892, -1.164603065805729, -0.6421343978188939, -0.8947566955109193, 0.452194461157883, -1.670887483463763, 1.0002966776604, 1.8493638173924913, -1.652593256858235, 0.5956196697561125, 1.7477319863139726, -0.5083851338373848, 0.07323737775396946, -0.5543647956471862, -0.7280928908030394, 0.929444705638144, -1.1237235236519836, 1.364897098191059, 0.5478777880307599, -0.07518856217547684, -0.3973916275118296, -0.2522469404046494, -0.8371763884555629, -0.007728306192208445, 1.037248310474221, 2.0671129544998172, 1.706815112917324, -0.08261281371724254, 0.20644873959937096, 0.6924770531326767, -1.5827261161381425, -0.7763239958108433, -0.3503803723749217, -1.9302490373390493, 1.1641087222396087, 0.5011120254621527, -0.5765128729674301, -0.572909190354357, 0.7960288033317842, -0.4016600353267202, 0.14155162583316797, 0.538711537931317, 0.09717978563857158, -0.15855920678036223, 0.3817610314473487, -0.06345160415242983, -0.8949898403245102, -0.5922689806323262, 0.059167966149032476, -0.9025951845322313, 0.5561210474233387, 0.18971421226487797, 1.527466279236679, 1.1553110119046823, -0.05142100171334006, -0.11104848011462413, 0.45975838916078526, -1.0837658721120444, 0.2603074791735487, 0.2271357768750185, -0.6143912633154864, -0.19682027933217464, -0.0755922482911257, 2.3624936077255865, 1.061218366771381, -0.09187194218598727, 1.5566403723088795, -0.5662785101994151, 0.0871672917737875, -1.3130377206401151, -0.01629282610072284, -1.7130840368279885, -1.295689318319282, 2.5175579928428995, 1.377240242721176, -1.034680562490194, 0.6531272679255921, -0.6879084568105988, -0.46116366918317875, -1.457596574037775, 0.08248908322072915, -1.5267858011457618, 0.7764265294878716, -1.0063240827148245, -1.5337039944830495], \"xaxis\": \"x15\", \"y\": [-1.236960009175287, 1.5957056827372886, -1.0816516780323115, 2.200052015079462, 0.5143247019771605, -1.298901901880776, 0.17313645065214056, 0.9674163566203784, -0.22153004406279606, -0.27206989956303956, 0.3143012040259115, -0.569531152898254, 0.08126478029389282, 0.8559542227430773, -1.0175763939410853, -0.10680840976940756, 0.04184890394958401, -0.18633903942760885, -0.442701902721548, 0.25069835235750826, -0.15772123842472408, 0.6055264194695906, -0.5231474640327842, -1.1483991602933603, -1.4315196534480366, -0.29110580637466676, -0.6148183294126481, 1.0357269388691175, 1.4325122264680905, 0.047996524705700795, 0.5257544940853995, 0.5007092040776967, -1.0133788494833593, -0.17140111283027717, -1.6650623212197295, -0.38565297522022907, -1.0631154036221937, 0.8936736895735256, 0.6975017214985157, -0.6144869389303735, -2.1181687484974923, -0.6536309034282014, -0.48014587964671623, -1.945695231225604, -0.04551853151221338, -2.3961519073548403, 1.5957981977390046, -0.3235433792385381, -1.0793595624540027, 0.5839007832341924, 1.0199613700952719, -0.3074901790252907, 0.41799459014333507, -0.552158231869279, 1.310697439208428, -2.6075287898130743, -1.8854654673649944, 0.5002128868990016, -0.657663363118006, 1.3178004735068567, 0.3457488508580863, -0.04376132072741204, -2.8980843373751073, 1.5859570858211414, 0.07085088888886118, -0.061026509238509115, 1.3615710585152017, -0.6397894357080812, -0.43859315104324653, 0.8751237172338803, -0.31378903090234406, 0.1980565609095691, -0.9598547525201483, 0.03672553453537836, 1.7192074964219954, 1.0986428237582062, 0.0025096167788204336, -1.181223803979235, -0.20377850730036687, -0.29447410738980206, -0.2878050343115418, -0.5626726711840615, 2.1779338559988553, -1.0356971241275936, 0.2652045833527526, -1.8230465662038575, -0.012118397896673763, -0.48752840176514556, 0.3373036379938806, 3.2348155942028587, -0.3686666049825805, -0.23124159952112106, 1.722082627228278, 0.8029339991881422, -0.422344772622117, -0.6850380502239866, 0.8691707591440322, 0.14220099266924224, -0.4567669970269884, 2.9844915497962994], \"yaxis\": \"y15\"}, {\"histfunc\": \"count\", \"histnorm\": \"\", \"marker\": {\"color\": \"rgba(128, 0, 128, 1.0)\", \"line\": {\"color\": \"#4D5663\", \"width\": 1.3}}, \"name\": \"D\", \"nbinsx\": 10, \"opacity\": 0.8, \"orientation\": \"v\", \"type\": \"histogram\", \"x\": [-1.236960009175287, 1.5957056827372886, -1.0816516780323115, 2.200052015079462, 0.5143247019771605, -1.298901901880776, 0.17313645065214056, 0.9674163566203784, -0.22153004406279606, -0.27206989956303956, 0.3143012040259115, -0.569531152898254, 0.08126478029389282, 0.8559542227430773, -1.0175763939410853, -0.10680840976940756, 0.04184890394958401, -0.18633903942760885, -0.442701902721548, 0.25069835235750826, -0.15772123842472408, 0.6055264194695906, -0.5231474640327842, -1.1483991602933603, -1.4315196534480366, -0.29110580637466676, -0.6148183294126481, 1.0357269388691175, 1.4325122264680905, 0.047996524705700795, 0.5257544940853995, 0.5007092040776967, -1.0133788494833593, -0.17140111283027717, -1.6650623212197295, -0.38565297522022907, -1.0631154036221937, 0.8936736895735256, 0.6975017214985157, -0.6144869389303735, -2.1181687484974923, -0.6536309034282014, -0.48014587964671623, -1.945695231225604, -0.04551853151221338, -2.3961519073548403, 1.5957981977390046, -0.3235433792385381, -1.0793595624540027, 0.5839007832341924, 1.0199613700952719, -0.3074901790252907, 0.41799459014333507, -0.552158231869279, 1.310697439208428, -2.6075287898130743, -1.8854654673649944, 0.5002128868990016, -0.657663363118006, 1.3178004735068567, 0.3457488508580863, -0.04376132072741204, -2.8980843373751073, 1.5859570858211414, 0.07085088888886118, -0.061026509238509115, 1.3615710585152017, -0.6397894357080812, -0.43859315104324653, 0.8751237172338803, -0.31378903090234406, 0.1980565609095691, -0.9598547525201483, 0.03672553453537836, 1.7192074964219954, 1.0986428237582062, 0.0025096167788204336, -1.181223803979235, -0.20377850730036687, -0.29447410738980206, -0.2878050343115418, -0.5626726711840615, 2.1779338559988553, -1.0356971241275936, 0.2652045833527526, -1.8230465662038575, -0.012118397896673763, -0.48752840176514556, 0.3373036379938806, 3.2348155942028587, -0.3686666049825805, -0.23124159952112106, 1.722082627228278, 0.8029339991881422, -0.422344772622117, -0.6850380502239866, 0.8691707591440322, 0.14220099266924224, -0.4567669970269884, 2.9844915497962994], \"xaxis\": \"x16\", \"yaxis\": \"y16\"}],\n",
       "                        {\"bargap\": 0.02, \"legend\": {\"bgcolor\": \"#F5F6F9\", \"font\": {\"color\": \"#4D5663\"}}, \"paper_bgcolor\": \"#F5F6F9\", \"plot_bgcolor\": \"#F5F6F9\", \"showlegend\": false, \"template\": {\"data\": {\"bar\": [{\"error_x\": {\"color\": \"#2a3f5f\"}, \"error_y\": {\"color\": \"#2a3f5f\"}, \"marker\": {\"line\": {\"color\": \"#E5ECF6\", \"width\": 0.5}}, \"type\": \"bar\"}], \"barpolar\": [{\"marker\": {\"line\": {\"color\": \"#E5ECF6\", \"width\": 0.5}}, \"type\": \"barpolar\"}], \"carpet\": [{\"aaxis\": {\"endlinecolor\": \"#2a3f5f\", \"gridcolor\": \"white\", \"linecolor\": \"white\", \"minorgridcolor\": \"white\", \"startlinecolor\": \"#2a3f5f\"}, \"baxis\": {\"endlinecolor\": \"#2a3f5f\", \"gridcolor\": \"white\", \"linecolor\": \"white\", \"minorgridcolor\": \"white\", \"startlinecolor\": \"#2a3f5f\"}, \"type\": \"carpet\"}], \"choropleth\": [{\"colorbar\": {\"outlinewidth\": 0, \"ticks\": \"\"}, \"type\": \"choropleth\"}], \"contour\": [{\"colorbar\": {\"outlinewidth\": 0, \"ticks\": \"\"}, \"colorscale\": [[0.0, \"#0d0887\"], [0.1111111111111111, \"#46039f\"], [0.2222222222222222, \"#7201a8\"], [0.3333333333333333, \"#9c179e\"], [0.4444444444444444, \"#bd3786\"], [0.5555555555555556, \"#d8576b\"], [0.6666666666666666, \"#ed7953\"], [0.7777777777777778, \"#fb9f3a\"], [0.8888888888888888, \"#fdca26\"], [1.0, \"#f0f921\"]], \"type\": \"contour\"}], \"contourcarpet\": [{\"colorbar\": {\"outlinewidth\": 0, \"ticks\": \"\"}, \"type\": \"contourcarpet\"}], \"heatmap\": [{\"colorbar\": {\"outlinewidth\": 0, \"ticks\": \"\"}, \"colorscale\": [[0.0, \"#0d0887\"], [0.1111111111111111, \"#46039f\"], [0.2222222222222222, \"#7201a8\"], [0.3333333333333333, \"#9c179e\"], [0.4444444444444444, \"#bd3786\"], [0.5555555555555556, \"#d8576b\"], [0.6666666666666666, \"#ed7953\"], [0.7777777777777778, \"#fb9f3a\"], [0.8888888888888888, \"#fdca26\"], [1.0, \"#f0f921\"]], \"type\": \"heatmap\"}], \"heatmapgl\": [{\"colorbar\": {\"outlinewidth\": 0, \"ticks\": \"\"}, \"colorscale\": [[0.0, \"#0d0887\"], [0.1111111111111111, \"#46039f\"], [0.2222222222222222, \"#7201a8\"], [0.3333333333333333, \"#9c179e\"], [0.4444444444444444, \"#bd3786\"], [0.5555555555555556, \"#d8576b\"], [0.6666666666666666, \"#ed7953\"], [0.7777777777777778, \"#fb9f3a\"], [0.8888888888888888, \"#fdca26\"], [1.0, \"#f0f921\"]], \"type\": \"heatmapgl\"}], \"histogram\": [{\"marker\": {\"colorbar\": {\"outlinewidth\": 0, \"ticks\": \"\"}}, \"type\": \"histogram\"}], \"histogram2d\": [{\"colorbar\": {\"outlinewidth\": 0, \"ticks\": \"\"}, \"colorscale\": [[0.0, \"#0d0887\"], [0.1111111111111111, \"#46039f\"], [0.2222222222222222, \"#7201a8\"], [0.3333333333333333, \"#9c179e\"], [0.4444444444444444, \"#bd3786\"], [0.5555555555555556, \"#d8576b\"], [0.6666666666666666, \"#ed7953\"], [0.7777777777777778, \"#fb9f3a\"], [0.8888888888888888, \"#fdca26\"], [1.0, \"#f0f921\"]], \"type\": \"histogram2d\"}], \"histogram2dcontour\": [{\"colorbar\": {\"outlinewidth\": 0, \"ticks\": \"\"}, \"colorscale\": [[0.0, \"#0d0887\"], [0.1111111111111111, \"#46039f\"], [0.2222222222222222, \"#7201a8\"], [0.3333333333333333, \"#9c179e\"], [0.4444444444444444, \"#bd3786\"], [0.5555555555555556, \"#d8576b\"], [0.6666666666666666, \"#ed7953\"], [0.7777777777777778, \"#fb9f3a\"], [0.8888888888888888, \"#fdca26\"], [1.0, \"#f0f921\"]], \"type\": \"histogram2dcontour\"}], \"mesh3d\": [{\"colorbar\": {\"outlinewidth\": 0, \"ticks\": \"\"}, \"type\": \"mesh3d\"}], \"parcoords\": [{\"line\": {\"colorbar\": {\"outlinewidth\": 0, \"ticks\": \"\"}}, \"type\": \"parcoords\"}], \"pie\": [{\"automargin\": true, \"type\": \"pie\"}], \"scatter\": [{\"marker\": {\"colorbar\": {\"outlinewidth\": 0, \"ticks\": \"\"}}, \"type\": \"scatter\"}], \"scatter3d\": [{\"line\": {\"colorbar\": {\"outlinewidth\": 0, \"ticks\": \"\"}}, \"marker\": {\"colorbar\": {\"outlinewidth\": 0, \"ticks\": \"\"}}, \"type\": \"scatter3d\"}], \"scattercarpet\": [{\"marker\": {\"colorbar\": {\"outlinewidth\": 0, \"ticks\": \"\"}}, \"type\": \"scattercarpet\"}], \"scattergeo\": [{\"marker\": {\"colorbar\": {\"outlinewidth\": 0, \"ticks\": \"\"}}, \"type\": \"scattergeo\"}], \"scattergl\": [{\"marker\": {\"colorbar\": {\"outlinewidth\": 0, \"ticks\": \"\"}}, \"type\": \"scattergl\"}], \"scattermapbox\": [{\"marker\": {\"colorbar\": {\"outlinewidth\": 0, \"ticks\": \"\"}}, \"type\": \"scattermapbox\"}], \"scatterpolar\": [{\"marker\": {\"colorbar\": {\"outlinewidth\": 0, \"ticks\": \"\"}}, \"type\": \"scatterpolar\"}], \"scatterpolargl\": [{\"marker\": {\"colorbar\": {\"outlinewidth\": 0, \"ticks\": \"\"}}, \"type\": \"scatterpolargl\"}], \"scatterternary\": [{\"marker\": {\"colorbar\": {\"outlinewidth\": 0, \"ticks\": \"\"}}, \"type\": \"scatterternary\"}], \"surface\": [{\"colorbar\": {\"outlinewidth\": 0, \"ticks\": \"\"}, \"colorscale\": [[0.0, \"#0d0887\"], [0.1111111111111111, \"#46039f\"], [0.2222222222222222, \"#7201a8\"], [0.3333333333333333, \"#9c179e\"], [0.4444444444444444, \"#bd3786\"], [0.5555555555555556, \"#d8576b\"], [0.6666666666666666, \"#ed7953\"], [0.7777777777777778, \"#fb9f3a\"], [0.8888888888888888, \"#fdca26\"], [1.0, \"#f0f921\"]], \"type\": \"surface\"}], \"table\": [{\"cells\": {\"fill\": {\"color\": \"#EBF0F8\"}, \"line\": {\"color\": \"white\"}}, \"header\": {\"fill\": {\"color\": \"#C8D4E3\"}, \"line\": {\"color\": \"white\"}}, \"type\": \"table\"}]}, \"layout\": {\"annotationdefaults\": {\"arrowcolor\": \"#2a3f5f\", \"arrowhead\": 0, \"arrowwidth\": 1}, \"coloraxis\": {\"colorbar\": {\"outlinewidth\": 0, \"ticks\": \"\"}}, \"colorscale\": {\"diverging\": [[0, \"#8e0152\"], [0.1, \"#c51b7d\"], [0.2, \"#de77ae\"], [0.3, \"#f1b6da\"], [0.4, \"#fde0ef\"], [0.5, \"#f7f7f7\"], [0.6, \"#e6f5d0\"], [0.7, \"#b8e186\"], [0.8, \"#7fbc41\"], [0.9, \"#4d9221\"], [1, \"#276419\"]], \"sequential\": [[0.0, \"#0d0887\"], [0.1111111111111111, \"#46039f\"], [0.2222222222222222, \"#7201a8\"], [0.3333333333333333, \"#9c179e\"], [0.4444444444444444, \"#bd3786\"], [0.5555555555555556, \"#d8576b\"], [0.6666666666666666, \"#ed7953\"], [0.7777777777777778, \"#fb9f3a\"], [0.8888888888888888, \"#fdca26\"], [1.0, \"#f0f921\"]], \"sequentialminus\": [[0.0, \"#0d0887\"], [0.1111111111111111, \"#46039f\"], [0.2222222222222222, \"#7201a8\"], [0.3333333333333333, \"#9c179e\"], [0.4444444444444444, \"#bd3786\"], [0.5555555555555556, \"#d8576b\"], [0.6666666666666666, \"#ed7953\"], [0.7777777777777778, \"#fb9f3a\"], [0.8888888888888888, \"#fdca26\"], [1.0, \"#f0f921\"]]}, \"colorway\": [\"#636efa\", \"#EF553B\", \"#00cc96\", \"#ab63fa\", \"#FFA15A\", \"#19d3f3\", \"#FF6692\", \"#B6E880\", \"#FF97FF\", \"#FECB52\"], \"font\": {\"color\": \"#2a3f5f\"}, \"geo\": {\"bgcolor\": \"white\", \"lakecolor\": \"white\", \"landcolor\": \"#E5ECF6\", \"showlakes\": true, \"showland\": true, \"subunitcolor\": \"white\"}, \"hoverlabel\": {\"align\": \"left\"}, \"hovermode\": \"closest\", \"mapbox\": {\"style\": \"light\"}, \"paper_bgcolor\": \"white\", \"plot_bgcolor\": \"#E5ECF6\", \"polar\": {\"angularaxis\": {\"gridcolor\": \"white\", \"linecolor\": \"white\", \"ticks\": \"\"}, \"bgcolor\": \"#E5ECF6\", \"radialaxis\": {\"gridcolor\": \"white\", \"linecolor\": \"white\", \"ticks\": \"\"}}, \"scene\": {\"xaxis\": {\"backgroundcolor\": \"#E5ECF6\", \"gridcolor\": \"white\", \"gridwidth\": 2, \"linecolor\": \"white\", \"showbackground\": true, \"ticks\": \"\", \"zerolinecolor\": \"white\"}, \"yaxis\": {\"backgroundcolor\": \"#E5ECF6\", \"gridcolor\": \"white\", \"gridwidth\": 2, \"linecolor\": \"white\", \"showbackground\": true, \"ticks\": \"\", \"zerolinecolor\": \"white\"}, \"zaxis\": {\"backgroundcolor\": \"#E5ECF6\", \"gridcolor\": \"white\", \"gridwidth\": 2, \"linecolor\": \"white\", \"showbackground\": true, \"ticks\": \"\", \"zerolinecolor\": \"white\"}}, \"shapedefaults\": {\"line\": {\"color\": \"#2a3f5f\"}}, \"ternary\": {\"aaxis\": {\"gridcolor\": \"white\", \"linecolor\": \"white\", \"ticks\": \"\"}, \"baxis\": {\"gridcolor\": \"white\", \"linecolor\": \"white\", \"ticks\": \"\"}, \"bgcolor\": \"#E5ECF6\", \"caxis\": {\"gridcolor\": \"white\", \"linecolor\": \"white\", \"ticks\": \"\"}}, \"title\": {\"x\": 0.05}, \"xaxis\": {\"automargin\": true, \"gridcolor\": \"white\", \"linecolor\": \"white\", \"ticks\": \"\", \"title\": {\"standoff\": 15}, \"zerolinecolor\": \"white\", \"zerolinewidth\": 2}, \"yaxis\": {\"automargin\": true, \"gridcolor\": \"white\", \"linecolor\": \"white\", \"ticks\": \"\", \"title\": {\"standoff\": 15}, \"zerolinecolor\": \"white\", \"zerolinewidth\": 2}}}, \"title\": {\"font\": {\"color\": \"#4D5663\"}}, \"xaxis\": {\"anchor\": \"y\", \"domain\": [0.0, 0.2125], \"gridcolor\": \"#E1E5ED\", \"showgrid\": false, \"tickfont\": {\"color\": \"#4D5663\"}, \"title\": {\"font\": {\"color\": \"#4D5663\"}, \"text\": \"\"}, \"zerolinecolor\": \"#E1E5ED\"}, \"xaxis10\": {\"anchor\": \"y10\", \"domain\": [0.2625, 0.475], \"gridcolor\": \"#E1E5ED\", \"showgrid\": false, \"tickfont\": {\"color\": \"#4D5663\"}, \"title\": {\"font\": {\"color\": \"#4D5663\"}, \"text\": \"\"}, \"zerolinecolor\": \"#E1E5ED\"}, \"xaxis11\": {\"anchor\": \"y11\", \"domain\": [0.525, 0.7375], \"gridcolor\": \"#E1E5ED\", \"showgrid\": false, \"tickfont\": {\"color\": \"#4D5663\"}, \"title\": {\"font\": {\"color\": \"#4D5663\"}, \"text\": \"\"}, \"zerolinecolor\": \"#E1E5ED\"}, \"xaxis12\": {\"anchor\": \"y12\", \"domain\": [0.7875, 1.0], \"gridcolor\": \"#E1E5ED\", \"showgrid\": false, \"tickfont\": {\"color\": \"#4D5663\"}, \"title\": {\"font\": {\"color\": \"#4D5663\"}, \"text\": \"\"}, \"zerolinecolor\": \"#E1E5ED\"}, \"xaxis13\": {\"anchor\": \"y13\", \"domain\": [0.0, 0.2125], \"gridcolor\": \"#E1E5ED\", \"showgrid\": false, \"tickfont\": {\"color\": \"#4D5663\"}, \"title\": {\"font\": {\"color\": \"#4D5663\"}, \"text\": \"\"}, \"zerolinecolor\": \"#E1E5ED\"}, \"xaxis14\": {\"anchor\": \"y14\", \"domain\": [0.2625, 0.475], \"gridcolor\": \"#E1E5ED\", \"showgrid\": false, \"tickfont\": {\"color\": \"#4D5663\"}, \"title\": {\"font\": {\"color\": \"#4D5663\"}, \"text\": \"\"}, \"zerolinecolor\": \"#E1E5ED\"}, \"xaxis15\": {\"anchor\": \"y15\", \"domain\": [0.525, 0.7375], \"gridcolor\": \"#E1E5ED\", \"showgrid\": false, \"tickfont\": {\"color\": \"#4D5663\"}, \"title\": {\"font\": {\"color\": \"#4D5663\"}, \"text\": \"\"}, \"zerolinecolor\": \"#E1E5ED\"}, \"xaxis16\": {\"anchor\": \"y16\", \"domain\": [0.7875, 1.0], \"gridcolor\": \"#E1E5ED\", \"showgrid\": false, \"tickfont\": {\"color\": \"#4D5663\"}, \"title\": {\"font\": {\"color\": \"#4D5663\"}, \"text\": \"\"}, \"zerolinecolor\": \"#E1E5ED\"}, \"xaxis2\": {\"anchor\": \"y2\", \"domain\": [0.2625, 0.475], \"gridcolor\": \"#E1E5ED\", \"showgrid\": false, \"tickfont\": {\"color\": \"#4D5663\"}, \"title\": {\"font\": {\"color\": \"#4D5663\"}, \"text\": \"\"}, \"zerolinecolor\": \"#E1E5ED\"}, \"xaxis3\": {\"anchor\": \"y3\", \"domain\": [0.525, 0.7375], \"gridcolor\": \"#E1E5ED\", \"showgrid\": false, \"tickfont\": {\"color\": \"#4D5663\"}, \"title\": {\"font\": {\"color\": \"#4D5663\"}, \"text\": \"\"}, \"zerolinecolor\": \"#E1E5ED\"}, \"xaxis4\": {\"anchor\": \"y4\", \"domain\": [0.7875, 1.0], \"gridcolor\": \"#E1E5ED\", \"showgrid\": false, \"tickfont\": {\"color\": \"#4D5663\"}, \"title\": {\"font\": {\"color\": \"#4D5663\"}, \"text\": \"\"}, \"zerolinecolor\": \"#E1E5ED\"}, \"xaxis5\": {\"anchor\": \"y5\", \"domain\": [0.0, 0.2125], \"gridcolor\": \"#E1E5ED\", \"showgrid\": false, \"tickfont\": {\"color\": \"#4D5663\"}, \"title\": {\"font\": {\"color\": \"#4D5663\"}, \"text\": \"\"}, \"zerolinecolor\": \"#E1E5ED\"}, \"xaxis6\": {\"anchor\": \"y6\", \"domain\": [0.2625, 0.475], \"gridcolor\": \"#E1E5ED\", \"showgrid\": false, \"tickfont\": {\"color\": \"#4D5663\"}, \"title\": {\"font\": {\"color\": \"#4D5663\"}, \"text\": \"\"}, \"zerolinecolor\": \"#E1E5ED\"}, \"xaxis7\": {\"anchor\": \"y7\", \"domain\": [0.525, 0.7375], \"gridcolor\": \"#E1E5ED\", \"showgrid\": false, \"tickfont\": {\"color\": \"#4D5663\"}, \"title\": {\"font\": {\"color\": \"#4D5663\"}, \"text\": \"\"}, \"zerolinecolor\": \"#E1E5ED\"}, \"xaxis8\": {\"anchor\": \"y8\", \"domain\": [0.7875, 1.0], \"gridcolor\": \"#E1E5ED\", \"showgrid\": false, \"tickfont\": {\"color\": \"#4D5663\"}, \"title\": {\"font\": {\"color\": \"#4D5663\"}, \"text\": \"\"}, \"zerolinecolor\": \"#E1E5ED\"}, \"xaxis9\": {\"anchor\": \"y9\", \"domain\": [0.0, 0.2125], \"gridcolor\": \"#E1E5ED\", \"showgrid\": false, \"tickfont\": {\"color\": \"#4D5663\"}, \"title\": {\"font\": {\"color\": \"#4D5663\"}, \"text\": \"\"}, \"zerolinecolor\": \"#E1E5ED\"}, \"yaxis\": {\"anchor\": \"x\", \"domain\": [0.8025, 1.0], \"gridcolor\": \"#E1E5ED\", \"showgrid\": false, \"tickfont\": {\"color\": \"#4D5663\"}, \"title\": {\"font\": {\"color\": \"#4D5663\"}, \"text\": \"\"}, \"zerolinecolor\": \"#E1E5ED\"}, \"yaxis10\": {\"anchor\": \"x10\", \"domain\": [0.2675, 0.465], \"gridcolor\": \"#E1E5ED\", \"showgrid\": false, \"tickfont\": {\"color\": \"#4D5663\"}, \"title\": {\"font\": {\"color\": \"#4D5663\"}, \"text\": \"\"}, \"zerolinecolor\": \"#E1E5ED\"}, \"yaxis11\": {\"anchor\": \"x11\", \"domain\": [0.2675, 0.465], \"gridcolor\": \"#E1E5ED\", \"showgrid\": false, \"tickfont\": {\"color\": \"#4D5663\"}, \"title\": {\"font\": {\"color\": \"#4D5663\"}, \"text\": \"\"}, \"zerolinecolor\": \"#E1E5ED\"}, \"yaxis12\": {\"anchor\": \"x12\", \"domain\": [0.2675, 0.465], \"gridcolor\": \"#E1E5ED\", \"showgrid\": false, \"tickfont\": {\"color\": \"#4D5663\"}, \"title\": {\"font\": {\"color\": \"#4D5663\"}, \"text\": \"\"}, \"zerolinecolor\": \"#E1E5ED\"}, \"yaxis13\": {\"anchor\": \"x13\", \"domain\": [0.0, 0.1975], \"gridcolor\": \"#E1E5ED\", \"showgrid\": false, \"tickfont\": {\"color\": \"#4D5663\"}, \"title\": {\"font\": {\"color\": \"#4D5663\"}, \"text\": \"\"}, \"zerolinecolor\": \"#E1E5ED\"}, \"yaxis14\": {\"anchor\": \"x14\", \"domain\": [0.0, 0.1975], \"gridcolor\": \"#E1E5ED\", \"showgrid\": false, \"tickfont\": {\"color\": \"#4D5663\"}, \"title\": {\"font\": {\"color\": \"#4D5663\"}, \"text\": \"\"}, \"zerolinecolor\": \"#E1E5ED\"}, \"yaxis15\": {\"anchor\": \"x15\", \"domain\": [0.0, 0.1975], \"gridcolor\": \"#E1E5ED\", \"showgrid\": false, \"tickfont\": {\"color\": \"#4D5663\"}, \"title\": {\"font\": {\"color\": \"#4D5663\"}, \"text\": \"\"}, \"zerolinecolor\": \"#E1E5ED\"}, \"yaxis16\": {\"anchor\": \"x16\", \"domain\": [0.0, 0.1975], \"gridcolor\": \"#E1E5ED\", \"showgrid\": false, \"tickfont\": {\"color\": \"#4D5663\"}, \"title\": {\"font\": {\"color\": \"#4D5663\"}, \"text\": \"\"}, \"zerolinecolor\": \"#E1E5ED\"}, \"yaxis2\": {\"anchor\": \"x2\", \"domain\": [0.8025, 1.0], \"gridcolor\": \"#E1E5ED\", \"showgrid\": false, \"tickfont\": {\"color\": \"#4D5663\"}, \"title\": {\"font\": {\"color\": \"#4D5663\"}, \"text\": \"\"}, \"zerolinecolor\": \"#E1E5ED\"}, \"yaxis3\": {\"anchor\": \"x3\", \"domain\": [0.8025, 1.0], \"gridcolor\": \"#E1E5ED\", \"showgrid\": false, \"tickfont\": {\"color\": \"#4D5663\"}, \"title\": {\"font\": {\"color\": \"#4D5663\"}, \"text\": \"\"}, \"zerolinecolor\": \"#E1E5ED\"}, \"yaxis4\": {\"anchor\": \"x4\", \"domain\": [0.8025, 1.0], \"gridcolor\": \"#E1E5ED\", \"showgrid\": false, \"tickfont\": {\"color\": \"#4D5663\"}, \"title\": {\"font\": {\"color\": \"#4D5663\"}, \"text\": \"\"}, \"zerolinecolor\": \"#E1E5ED\"}, \"yaxis5\": {\"anchor\": \"x5\", \"domain\": [0.535, 0.7325], \"gridcolor\": \"#E1E5ED\", \"showgrid\": false, \"tickfont\": {\"color\": \"#4D5663\"}, \"title\": {\"font\": {\"color\": \"#4D5663\"}, \"text\": \"\"}, \"zerolinecolor\": \"#E1E5ED\"}, \"yaxis6\": {\"anchor\": \"x6\", \"domain\": [0.535, 0.7325], \"gridcolor\": \"#E1E5ED\", \"showgrid\": false, \"tickfont\": {\"color\": \"#4D5663\"}, \"title\": {\"font\": {\"color\": \"#4D5663\"}, \"text\": \"\"}, \"zerolinecolor\": \"#E1E5ED\"}, \"yaxis7\": {\"anchor\": \"x7\", \"domain\": [0.535, 0.7325], \"gridcolor\": \"#E1E5ED\", \"showgrid\": false, \"tickfont\": {\"color\": \"#4D5663\"}, \"title\": {\"font\": {\"color\": \"#4D5663\"}, \"text\": \"\"}, \"zerolinecolor\": \"#E1E5ED\"}, \"yaxis8\": {\"anchor\": \"x8\", \"domain\": [0.535, 0.7325], \"gridcolor\": \"#E1E5ED\", \"showgrid\": false, \"tickfont\": {\"color\": \"#4D5663\"}, \"title\": {\"font\": {\"color\": \"#4D5663\"}, \"text\": \"\"}, \"zerolinecolor\": \"#E1E5ED\"}, \"yaxis9\": {\"anchor\": \"x9\", \"domain\": [0.2675, 0.465], \"gridcolor\": \"#E1E5ED\", \"showgrid\": false, \"tickfont\": {\"color\": \"#4D5663\"}, \"title\": {\"font\": {\"color\": \"#4D5663\"}, \"text\": \"\"}, \"zerolinecolor\": \"#E1E5ED\"}},\n",
       "                        {\"showLink\": true, \"linkText\": \"Export to plot.ly\", \"plotlyServerURL\": \"https://plot.ly\", \"responsive\": true}\n",
       "                    ).then(function(){\n",
       "                            \n",
       "var gd = document.getElementById('425cfb46-6b9a-4cbf-9246-02b66cc30e22');\n",
       "var x = new MutationObserver(function (mutations, observer) {{\n",
       "        var display = window.getComputedStyle(gd).display;\n",
       "        if (!display || display === 'none') {{\n",
       "            console.log([gd, 'removed!']);\n",
       "            Plotly.purge(gd);\n",
       "            observer.disconnect();\n",
       "        }}\n",
       "}});\n",
       "\n",
       "// Listen for the removal of the full notebook cells\n",
       "var notebookContainer = gd.closest('#notebook-container');\n",
       "if (notebookContainer) {{\n",
       "    x.observe(notebookContainer, {childList: true});\n",
       "}}\n",
       "\n",
       "// Listen for the clearing of the current output cell\n",
       "var outputEl = gd.closest('.output');\n",
       "if (outputEl) {{\n",
       "    x.observe(outputEl, {childList: true});\n",
       "}}\n",
       "\n",
       "                        })\n",
       "                };\n",
       "                });\n",
       "            </script>\n",
       "        </div>"
      ]
     },
     "metadata": {},
     "output_type": "display_data"
    }
   ],
   "source": [
    "df.scatter_matrix() #use this with cae with large data"
   ]
  },
  {
   "cell_type": "code",
   "execution_count": null,
   "metadata": {},
   "outputs": [],
   "source": []
  }
 ],
 "metadata": {
  "colab": {
   "name": "pyplot_cufflinks.ipynb",
   "provenance": []
  },
  "kernelspec": {
   "display_name": "Python 3",
   "language": "python",
   "name": "python3"
  },
  "language_info": {
   "codemirror_mode": {
    "name": "ipython",
    "version": 3
   },
   "file_extension": ".py",
   "mimetype": "text/x-python",
   "name": "python",
   "nbconvert_exporter": "python",
   "pygments_lexer": "ipython3",
   "version": "3.7.4"
  }
 },
 "nbformat": 4,
 "nbformat_minor": 1
}
